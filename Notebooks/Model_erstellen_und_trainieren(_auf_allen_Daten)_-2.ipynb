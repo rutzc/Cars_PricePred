{
 "cells": [
  {
   "cell_type": "markdown",
   "metadata": {
    "id": "si1gOb87cYM5"
   },
   "source": [
    "# Model erstellen und trainieren"
   ]
  },
  {
   "cell_type": "markdown",
   "metadata": {
    "id": "dgK6OlTFhcx9"
   },
   "source": [
    "# 1) Libraries importieren"
   ]
  },
  {
   "cell_type": "code",
   "execution_count": 1,
   "metadata": {
    "id": "nPXkIj8kcVXu"
   },
   "outputs": [],
   "source": [
    "# Libraries importieren\n",
    "import pandas as pd\n",
    "import numpy as np\n",
    "import matplotlib.pyplot as plt\n",
    "import seaborn as sns"
   ]
  },
  {
   "cell_type": "markdown",
   "metadata": {
    "id": "H3NuIRqecf1x"
   },
   "source": [
    "# 2) Daten einlesen"
   ]
  },
  {
   "cell_type": "code",
   "execution_count": 2,
   "metadata": {
    "colab": {
     "base_uri": "https://localhost:8080/"
    },
    "id": "ppUJB3ACckh4",
    "outputId": "1a4e62ee-924c-4058-aa35-1bf2dab1f320"
   },
   "outputs": [
    {
     "name": "stdout",
     "output_type": "stream",
     "text": [
      "<class 'pandas.core.frame.DataFrame'>\n",
      "RangeIndex: 69798 entries, 0 to 69797\n",
      "Data columns (total 11 columns):\n",
      " #   Column                Non-Null Count  Dtype  \n",
      "---  ------                --------------  -----  \n",
      " 0   body_type             69798 non-null  object \n",
      " 1   fuel_type             69798 non-null  object \n",
      " 2   horsepower            69798 non-null  float64\n",
      " 3   make_name             69798 non-null  object \n",
      " 4   mileage               69798 non-null  float64\n",
      " 5   model_name            69798 non-null  object \n",
      " 6   price                 69798 non-null  float64\n",
      " 7   wheel_system_display  69798 non-null  object \n",
      " 8   average_fuel_economy  69798 non-null  float64\n",
      " 9   manual                69798 non-null  int64  \n",
      " 10  age                   69798 non-null  int64  \n",
      "dtypes: float64(4), int64(2), object(5)\n",
      "memory usage: 5.9+ MB\n"
     ]
    }
   ],
   "source": [
    "# Daten importieren\n",
    "df_clean = pd.read_csv(\"/Users/allegratrepte/Desktop/clean_data.csv\")\n",
    "\n",
    "# Daten inspizieren\n",
    "df_clean.info()"
   ]
  },
  {
   "cell_type": "markdown",
   "metadata": {
    "id": "XrPJZpajE_dg"
   },
   "source": [
    "# 4) Dummy-Variablen erstellen"
   ]
  },
  {
   "cell_type": "code",
   "execution_count": 3,
   "metadata": {
    "id": "LiQDydd8E_FD"
   },
   "outputs": [],
   "source": [
    "df_dummies = pd.get_dummies(df_clean, drop_first=True, dtype=float)"
   ]
  },
  {
   "cell_type": "code",
   "execution_count": 4,
   "metadata": {
    "colab": {
     "base_uri": "https://localhost:8080/",
     "height": 273
    },
    "id": "gE-rjyB9FJtL",
    "outputId": "201641a6-0d53-4a43-b07c-e7eb009bb7b5"
   },
   "outputs": [
    {
     "data": {
      "text/html": [
       "<div>\n",
       "<style scoped>\n",
       "    .dataframe tbody tr th:only-of-type {\n",
       "        vertical-align: middle;\n",
       "    }\n",
       "\n",
       "    .dataframe tbody tr th {\n",
       "        vertical-align: top;\n",
       "    }\n",
       "\n",
       "    .dataframe thead th {\n",
       "        text-align: right;\n",
       "    }\n",
       "</style>\n",
       "<table border=\"1\" class=\"dataframe\">\n",
       "  <thead>\n",
       "    <tr style=\"text-align: right;\">\n",
       "      <th></th>\n",
       "      <th>horsepower</th>\n",
       "      <th>mileage</th>\n",
       "      <th>price</th>\n",
       "      <th>average_fuel_economy</th>\n",
       "      <th>manual</th>\n",
       "      <th>age</th>\n",
       "      <th>body_type_Coupe</th>\n",
       "      <th>body_type_Hatchback</th>\n",
       "      <th>body_type_Minivan</th>\n",
       "      <th>body_type_Pickup Truck</th>\n",
       "      <th>...</th>\n",
       "      <th>model_name_iA</th>\n",
       "      <th>model_name_iM</th>\n",
       "      <th>model_name_iQ</th>\n",
       "      <th>model_name_tC</th>\n",
       "      <th>model_name_xA</th>\n",
       "      <th>model_name_xD</th>\n",
       "      <th>wheel_system_display_All-Wheel Drive</th>\n",
       "      <th>wheel_system_display_Four-Wheel Drive</th>\n",
       "      <th>wheel_system_display_Front-Wheel Drive</th>\n",
       "      <th>wheel_system_display_Rear-Wheel Drive</th>\n",
       "    </tr>\n",
       "  </thead>\n",
       "  <tbody>\n",
       "    <tr>\n",
       "      <th>0</th>\n",
       "      <td>184.0</td>\n",
       "      <td>25794.0</td>\n",
       "      <td>13000.0</td>\n",
       "      <td>29.5</td>\n",
       "      <td>0</td>\n",
       "      <td>4</td>\n",
       "      <td>0.0</td>\n",
       "      <td>0.0</td>\n",
       "      <td>0.0</td>\n",
       "      <td>0.0</td>\n",
       "      <td>...</td>\n",
       "      <td>0.0</td>\n",
       "      <td>0.0</td>\n",
       "      <td>0.0</td>\n",
       "      <td>0.0</td>\n",
       "      <td>0.0</td>\n",
       "      <td>0.0</td>\n",
       "      <td>0.0</td>\n",
       "      <td>0.0</td>\n",
       "      <td>1.0</td>\n",
       "      <td>0.0</td>\n",
       "    </tr>\n",
       "    <tr>\n",
       "      <th>1</th>\n",
       "      <td>295.0</td>\n",
       "      <td>15732.0</td>\n",
       "      <td>27300.0</td>\n",
       "      <td>21.5</td>\n",
       "      <td>0</td>\n",
       "      <td>2</td>\n",
       "      <td>0.0</td>\n",
       "      <td>0.0</td>\n",
       "      <td>0.0</td>\n",
       "      <td>0.0</td>\n",
       "      <td>...</td>\n",
       "      <td>0.0</td>\n",
       "      <td>0.0</td>\n",
       "      <td>0.0</td>\n",
       "      <td>0.0</td>\n",
       "      <td>0.0</td>\n",
       "      <td>0.0</td>\n",
       "      <td>1.0</td>\n",
       "      <td>0.0</td>\n",
       "      <td>0.0</td>\n",
       "      <td>0.0</td>\n",
       "    </tr>\n",
       "    <tr>\n",
       "      <th>2</th>\n",
       "      <td>138.0</td>\n",
       "      <td>4580.0</td>\n",
       "      <td>15724.0</td>\n",
       "      <td>29.0</td>\n",
       "      <td>0</td>\n",
       "      <td>2</td>\n",
       "      <td>0.0</td>\n",
       "      <td>0.0</td>\n",
       "      <td>0.0</td>\n",
       "      <td>0.0</td>\n",
       "      <td>...</td>\n",
       "      <td>0.0</td>\n",
       "      <td>0.0</td>\n",
       "      <td>0.0</td>\n",
       "      <td>0.0</td>\n",
       "      <td>0.0</td>\n",
       "      <td>0.0</td>\n",
       "      <td>0.0</td>\n",
       "      <td>0.0</td>\n",
       "      <td>1.0</td>\n",
       "      <td>0.0</td>\n",
       "    </tr>\n",
       "    <tr>\n",
       "      <th>3</th>\n",
       "      <td>180.0</td>\n",
       "      <td>25122.0</td>\n",
       "      <td>21000.0</td>\n",
       "      <td>24.0</td>\n",
       "      <td>0</td>\n",
       "      <td>2</td>\n",
       "      <td>0.0</td>\n",
       "      <td>0.0</td>\n",
       "      <td>0.0</td>\n",
       "      <td>0.0</td>\n",
       "      <td>...</td>\n",
       "      <td>0.0</td>\n",
       "      <td>0.0</td>\n",
       "      <td>0.0</td>\n",
       "      <td>0.0</td>\n",
       "      <td>0.0</td>\n",
       "      <td>0.0</td>\n",
       "      <td>0.0</td>\n",
       "      <td>1.0</td>\n",
       "      <td>0.0</td>\n",
       "      <td>0.0</td>\n",
       "    </tr>\n",
       "    <tr>\n",
       "      <th>4</th>\n",
       "      <td>241.0</td>\n",
       "      <td>61161.0</td>\n",
       "      <td>17300.0</td>\n",
       "      <td>20.5</td>\n",
       "      <td>0</td>\n",
       "      <td>6</td>\n",
       "      <td>0.0</td>\n",
       "      <td>0.0</td>\n",
       "      <td>0.0</td>\n",
       "      <td>0.0</td>\n",
       "      <td>...</td>\n",
       "      <td>0.0</td>\n",
       "      <td>0.0</td>\n",
       "      <td>0.0</td>\n",
       "      <td>0.0</td>\n",
       "      <td>0.0</td>\n",
       "      <td>0.0</td>\n",
       "      <td>0.0</td>\n",
       "      <td>1.0</td>\n",
       "      <td>0.0</td>\n",
       "      <td>0.0</td>\n",
       "    </tr>\n",
       "  </tbody>\n",
       "</table>\n",
       "<p>5 rows × 744 columns</p>\n",
       "</div>"
      ],
      "text/plain": [
       "   horsepower  mileage    price  average_fuel_economy  manual  age  \\\n",
       "0       184.0  25794.0  13000.0                  29.5       0    4   \n",
       "1       295.0  15732.0  27300.0                  21.5       0    2   \n",
       "2       138.0   4580.0  15724.0                  29.0       0    2   \n",
       "3       180.0  25122.0  21000.0                  24.0       0    2   \n",
       "4       241.0  61161.0  17300.0                  20.5       0    6   \n",
       "\n",
       "   body_type_Coupe  body_type_Hatchback  body_type_Minivan  \\\n",
       "0              0.0                  0.0                0.0   \n",
       "1              0.0                  0.0                0.0   \n",
       "2              0.0                  0.0                0.0   \n",
       "3              0.0                  0.0                0.0   \n",
       "4              0.0                  0.0                0.0   \n",
       "\n",
       "   body_type_Pickup Truck  ...  model_name_iA  model_name_iM  model_name_iQ  \\\n",
       "0                     0.0  ...            0.0            0.0            0.0   \n",
       "1                     0.0  ...            0.0            0.0            0.0   \n",
       "2                     0.0  ...            0.0            0.0            0.0   \n",
       "3                     0.0  ...            0.0            0.0            0.0   \n",
       "4                     0.0  ...            0.0            0.0            0.0   \n",
       "\n",
       "   model_name_tC  model_name_xA  model_name_xD  \\\n",
       "0            0.0            0.0            0.0   \n",
       "1            0.0            0.0            0.0   \n",
       "2            0.0            0.0            0.0   \n",
       "3            0.0            0.0            0.0   \n",
       "4            0.0            0.0            0.0   \n",
       "\n",
       "   wheel_system_display_All-Wheel Drive  \\\n",
       "0                                   0.0   \n",
       "1                                   1.0   \n",
       "2                                   0.0   \n",
       "3                                   0.0   \n",
       "4                                   0.0   \n",
       "\n",
       "   wheel_system_display_Four-Wheel Drive  \\\n",
       "0                                    0.0   \n",
       "1                                    0.0   \n",
       "2                                    0.0   \n",
       "3                                    1.0   \n",
       "4                                    1.0   \n",
       "\n",
       "   wheel_system_display_Front-Wheel Drive  \\\n",
       "0                                     1.0   \n",
       "1                                     0.0   \n",
       "2                                     1.0   \n",
       "3                                     0.0   \n",
       "4                                     0.0   \n",
       "\n",
       "   wheel_system_display_Rear-Wheel Drive  \n",
       "0                                    0.0  \n",
       "1                                    0.0  \n",
       "2                                    0.0  \n",
       "3                                    0.0  \n",
       "4                                    0.0  \n",
       "\n",
       "[5 rows x 744 columns]"
      ]
     },
     "execution_count": 4,
     "metadata": {},
     "output_type": "execute_result"
    }
   ],
   "source": [
    "df_dummies.head()"
   ]
  },
  {
   "cell_type": "code",
   "execution_count": 5,
   "metadata": {
    "colab": {
     "base_uri": "https://localhost:8080/"
    },
    "id": "_8i-BUhGYLmD",
    "outputId": "8d040d15-ade0-4cc6-9830-44029775463b"
   },
   "outputs": [
    {
     "name": "stdout",
     "output_type": "stream",
     "text": [
      "<class 'pandas.core.frame.DataFrame'>\n",
      "RangeIndex: 69798 entries, 0 to 69797\n",
      "Columns: 744 entries, horsepower to wheel_system_display_Rear-Wheel Drive\n",
      "dtypes: float64(742), int64(2)\n",
      "memory usage: 396.2 MB\n"
     ]
    }
   ],
   "source": [
    "df_dummies.info()"
   ]
  },
  {
   "cell_type": "markdown",
   "metadata": {
    "id": "0-Os07MOZhA8"
   },
   "source": [
    "# 6) Daten für Training und Testing erstellen"
   ]
  },
  {
   "cell_type": "markdown",
   "metadata": {
    "id": "9wIsh0qiblkW"
   },
   "source": [
    " X und y definieren"
   ]
  },
  {
   "cell_type": "code",
   "execution_count": 6,
   "metadata": {
    "id": "58bp_S6vZTvV"
   },
   "outputs": [],
   "source": [
    "X = df_dummies.drop([\"price\"], axis=1)\n",
    "y = df_dummies[\"price\"]"
   ]
  },
  {
   "cell_type": "markdown",
   "metadata": {
    "id": "5aypfpkebpH-"
   },
   "source": [
    "Training und Testdaten splitten"
   ]
  },
  {
   "cell_type": "code",
   "execution_count": 7,
   "metadata": {
    "id": "gfvKx6o_bA3a"
   },
   "outputs": [],
   "source": [
    "from sklearn.model_selection import train_test_split\n",
    "\n",
    "X_train, X_test, y_train, y_test = train_test_split(X, y, test_size=0.3, random_state=42)"
   ]
  },
  {
   "cell_type": "markdown",
   "metadata": {
    "id": "D_iQoZ5HH-4L"
   },
   "source": [
    "# 7) Modell Auswahl"
   ]
  },
  {
   "cell_type": "markdown",
   "metadata": {
    "id": "BppwQEMvHgUW"
   },
   "source": [
    "## 7.1  Modell 1 - Lineare Regression"
   ]
  },
  {
   "cell_type": "markdown",
   "metadata": {
    "id": "kmNMlftZAhOh"
   },
   "source": [
    "7.1.1 Ohne CrossValidation"
   ]
  },
  {
   "cell_type": "code",
   "execution_count": 8,
   "metadata": {
    "colab": {
     "base_uri": "https://localhost:8080/"
    },
    "id": "RUamnTAOTRe8",
    "outputId": "a9fa02ea-94c9-4c07-f932-6a3b33e9bd99"
   },
   "outputs": [
    {
     "name": "stdout",
     "output_type": "stream",
     "text": [
      "MSE Train: 28328899.510255106\n",
      "MAE Train: 3820.674987357192\n",
      "RMSE Train: 5322.489972771683\n",
      "R²-Wert Train: 0.8552735236403478\n",
      "MAPE Train: 0.19559723031829077\n",
      "___________________\n",
      "MSE: 1.443551315359794e+17\n",
      "MAE: 9548446.542870991\n",
      "RMSE: 379940957.96054864\n",
      "R²-Wert: -733154787.6512549\n",
      "MAPE: 1222.2843581223776\n"
     ]
    }
   ],
   "source": [
    "# Imports\n",
    "from sklearn.linear_model import LinearRegression\n",
    "from sklearn.metrics import mean_squared_error, r2_score, mean_absolute_error, mean_absolute_percentage_error\n",
    "import numpy as np\n",
    "\n",
    "# Modell erstellen und trainieren\n",
    "lin_reg = LinearRegression()\n",
    "lin_reg.fit(X_train, y_train)\n",
    "\n",
    "# Prediction\n",
    "y_pred = lin_reg.predict(X_test)\n",
    "\n",
    "\n",
    "#Vorhersagen auf dem Trainingsset machen\n",
    "y_pred_train = lin_reg.predict(X_train)\n",
    "\n",
    "mse_train = mean_squared_error(y_train, y_pred_train)\n",
    "mae_train = mean_absolute_error(y_train, y_pred_train)\n",
    "r2_train = r2_score(y_train, y_pred_train)\n",
    "mape_train = mean_absolute_percentage_error(y_train, y_pred_train)\n",
    "\n",
    "print(\"MSE Train:\", mse_train)\n",
    "print(\"MAE Train:\", mae_train)\n",
    "print(\"RMSE Train:\", np.sqrt(mse_train))\n",
    "print(\"R²-Wert Train:\", r2_train)\n",
    "print(\"MAPE Train:\", mape_train)\n",
    "\n",
    "\n",
    "# Modellevaluierung auf den Test Daten\n",
    "\n",
    "#Vorhersagen auf dem Testset machen\n",
    "y_pred = lin_reg.predict(X_test)\n",
    "\n",
    "mse = mean_squared_error(y_test, y_pred)\n",
    "mae = mean_absolute_error(y_test, y_pred)\n",
    "r2 = r2_score(y_test, y_pred)\n",
    "mape = mean_absolute_percentage_error(y_test, y_pred)\n",
    "\n",
    "print(\"___________________\")\n",
    "\n",
    "print(\"MSE:\", mse)\n",
    "print(\"MAE:\", mae)\n",
    "print(\"RMSE:\", np.sqrt(mse))\n",
    "print(\"R²-Wert:\", r2)\n",
    "print(\"MAPE:\", mape)\n"
   ]
  },
  {
   "cell_type": "markdown",
   "metadata": {},
   "source": [
    "Die Mean Absolute Percentage Error (MAPE) misst die Genauigkeit einer Vorhersage, indem sie den durchschnittlichen absoluten Fehler als Prozentsatz der tatsächlichen Werte berechnet. Sie zeigt, wie weit die Vorhersagen im Durchschnitt von den tatsächlichen Werten abweichen, relativ zu den tatsächlichen Werten. Dadurch ermöglicht MAPE einen einfachen Vergleich der Vorhersagegenauigkeit über verschiedene Datensätze hinweg, unabhängig von der Skalierung der Daten.\n",
    "\n",
    "Quelle: https://chatgpt.com/share/a9cfb871-f4a2-46e0-9bdd-7d844967597a "
   ]
  },
  {
   "cell_type": "markdown",
   "metadata": {
    "id": "qxwy5OJitzDa"
   },
   "source": [
    "7.1.2 Lineare Regression mit CrossValidation"
   ]
  },
  {
   "cell_type": "markdown",
   "metadata": {
    "id": "FFzY4snFxhOb"
   },
   "source": [
    "Das macht irgendwie keinen Sinn: ??"
   ]
  },
  {
   "cell_type": "code",
   "execution_count": 9,
   "metadata": {
    "colab": {
     "base_uri": "https://localhost:8080/"
    },
    "id": "Qc95yzt9t3uw",
    "outputId": "d7016a66-1296-41dc-c707-526f1a492818"
   },
   "outputs": [
    {
     "name": "stdout",
     "output_type": "stream",
     "text": [
      "Cross-Validation R^2 Scores:  [-2.24582128e+07 -6.01441760e+08 -3.43515744e+06 -1.11395497e+06\n",
      " -5.66553809e+08]\n",
      "Durchschnittlicher R^2 Score:  -239000578.74805745\n",
      "Standardabweichung der R^2 Scores:  282002282.95532537\n",
      "MSE Train: 28328899.510255106\n",
      "MAE Train: 3820.674987357192\n",
      "RMSE Train: 5322.489972771683\n",
      "R²-Wert Train: 0.8552735236403478\n",
      "MAPE Train: 0.19559723031829077\n",
      "___________________\n",
      "MSE: 1.443551315359794e+17\n",
      "MAE: 9548446.542870991\n",
      "RMSE: 379940957.96054864\n",
      "R²-Wert: -733154787.6512549\n",
      "MAPE: 1222.2843581223776\n"
     ]
    }
   ],
   "source": [
    "import numpy as np\n",
    "from sklearn.linear_model import LinearRegression\n",
    "from sklearn.model_selection import cross_val_score, train_test_split\n",
    "from sklearn.datasets import make_regression\n",
    "from sklearn.metrics import mean_squared_error, mean_absolute_error, r2_score\n",
    "\n",
    "\n",
    "\n",
    "# Modell erstellen\n",
    "lin_reg = LinearRegression()\n",
    "\n",
    "# Cross-Validation anwenden\n",
    "# Hier verwenden wir 5-fache Cross-Validation und den R^2 Score als Bewertungsmetrik\n",
    "cv_scores = cross_val_score(lin_reg, X_train, y_train, cv=5, scoring='r2')\n",
    "print(\"Cross-Validation R^2 Scores: \", cv_scores)\n",
    "print(\"Durchschnittlicher R^2 Score: \", np.mean(cv_scores))\n",
    "print(\"Standardabweichung der R^2 Scores: \", np.std(cv_scores))\n",
    "\n",
    "# Modell auf dem Trainingsdatensatz trainieren\n",
    "lin_reg.fit(X_train, y_train)\n",
    "\n",
    "#Vorhersagen auf dem Trainingsset machen\n",
    "y_pred_train = lin_reg.predict(X_train)\n",
    "\n",
    "mse_train = mean_squared_error(y_train, y_pred_train)\n",
    "mae_train = mean_absolute_error(y_train, y_pred_train)\n",
    "r2_train = r2_score(y_train, y_pred_train)\n",
    "mape_train = mean_absolute_percentage_error(y_train, y_pred_train)\n",
    "\n",
    "print(\"MSE Train:\", mse_train)\n",
    "print(\"MAE Train:\", mae_train)\n",
    "print(\"RMSE Train:\", np.sqrt(mse_train))\n",
    "print(\"R²-Wert Train:\", r2_train)\n",
    "print(\"MAPE Train:\", mape_train)\n",
    "\n",
    "\n",
    "# Modellevaluierung auf den Test Daten\n",
    "\n",
    "#Vorhersagen auf dem Testset machen\n",
    "y_pred = lin_reg.predict(X_test)\n",
    "\n",
    "mse = mean_squared_error(y_test, y_pred)\n",
    "mae = mean_absolute_error(y_test, y_pred)\n",
    "r2 = r2_score(y_test, y_pred)\n",
    "mape = mean_absolute_percentage_error(y_test, y_pred)\n",
    "\n",
    "print(\"___________________\")\n",
    "\n",
    "print(\"MSE:\", mse)\n",
    "print(\"MAE:\", mae)\n",
    "print(\"RMSE:\", np.sqrt(mse))\n",
    "print(\"R²-Wert:\", r2)\n",
    "print(\"MAPE:\", mape)\n"
   ]
  },
  {
   "cell_type": "markdown",
   "metadata": {
    "id": "1BxVV3y3x4tk"
   },
   "source": [
    "Quelle: https://chatgpt.com/share/45ad46bc-c945-4c74-8aa2-deadc4f621b9"
   ]
  },
  {
   "cell_type": "markdown",
   "metadata": {
    "id": "Qu9RH6RUeUPV"
   },
   "source": [
    "## 7.2) Decision Tree Regressor"
   ]
  },
  {
   "cell_type": "markdown",
   "metadata": {
    "id": "smIPHaNMAtDp"
   },
   "source": [
    "7.2.1 Ohne CrossValdation"
   ]
  },
  {
   "cell_type": "code",
   "execution_count": 10,
   "metadata": {
    "colab": {
     "base_uri": "https://localhost:8080/"
    },
    "id": "iCO9PA2ieos-",
    "outputId": "57d0408e-deeb-4be1-b6cc-005d2726b2af"
   },
   "outputs": [
    {
     "name": "stdout",
     "output_type": "stream",
     "text": [
      "MSE Train: 4570015.718991546\n",
      "MAE Train: 892.1108191003916\n",
      "RMSE Train: 2137.759509157086\n",
      "R²-Wert Train: 0.9766527368393382\n",
      "MAPE Train: 0.026414838809876526\n",
      "___________________\n",
      "MSE: 21388439.54460423\n",
      "MAE: 3163.9208235249157\n",
      "RMSE: 4624.763728516758\n",
      "R²-Wert: 0.8913718084902574\n",
      "MAPE: 0.12980205052142674\n"
     ]
    }
   ],
   "source": [
    "# Imports\n",
    "from sklearn.tree import DecisionTreeRegressor\n",
    "# Notwendige Importe\n",
    "from sklearn.tree import DecisionTreeRegressor\n",
    "from sklearn.metrics import mean_squared_error, mean_absolute_error, r2_score\n",
    "import numpy as np\n",
    "\n",
    "# Decision Tree Regressor erstellen\n",
    "tree_model = DecisionTreeRegressor(random_state=42)\n",
    "\n",
    "# Modell trainieren\n",
    "tree_model.fit(X_train, y_train)\n",
    "\n",
    "\n",
    "# Modellevaluierung auf den Trainings Daten\n",
    "\n",
    "#Vorhersagen auf dem Trainingsset machen\n",
    "y_pred_train = tree_model.predict(X_train)\n",
    "\n",
    "mse_train = mean_squared_error(y_train, y_pred_train)\n",
    "mae_train = mean_absolute_error(y_train, y_pred_train)\n",
    "r2_train = r2_score(y_train, y_pred_train)\n",
    "mape_train = mean_absolute_percentage_error(y_train, y_pred_train)\n",
    "\n",
    "print(\"MSE Train:\", mse_train)\n",
    "print(\"MAE Train:\", mae_train)\n",
    "print(\"RMSE Train:\", np.sqrt(mse_train))\n",
    "print(\"R²-Wert Train:\", r2_train)\n",
    "print(\"MAPE Train:\", mape_train)\n",
    "\n",
    "\n",
    "# Modellevaluierung auf den Test Daten\n",
    "\n",
    "#Vorhersagen auf dem Testset machen\n",
    "y_pred = tree_model.predict(X_test)\n",
    "\n",
    "mse = mean_squared_error(y_test, y_pred)\n",
    "mae = mean_absolute_error(y_test, y_pred)\n",
    "r2 = r2_score(y_test, y_pred)\n",
    "mape = mean_absolute_percentage_error(y_test, y_pred)\n",
    "\n",
    "print(\"___________________\")\n",
    "\n",
    "print(\"MSE:\", mse)\n",
    "print(\"MAE:\", mae)\n",
    "print(\"RMSE:\", np.sqrt(mse))\n",
    "print(\"R²-Wert:\", r2)\n",
    "print(\"MAPE:\", mape)"
   ]
  },
  {
   "cell_type": "markdown",
   "metadata": {
    "id": "ztxxoTe2Av2H"
   },
   "source": [
    "Noch löschnen eventuell: 7.2.2 Mit Crossvalidation: Variante (ChatGPT Vorschlag)"
   ]
  },
  {
   "cell_type": "code",
   "execution_count": 11,
   "metadata": {
    "colab": {
     "base_uri": "https://localhost:8080/"
    },
    "id": "sTQ_ggVsBTNl",
    "outputId": "ee2d2044-8100-436c-8f12-661e8a06ed5b"
   },
   "outputs": [
    {
     "name": "stdout",
     "output_type": "stream",
     "text": [
      "Cross-Validation MSE: 21252685.77627711\n",
      "Cross-Validation MAE: 3159.2481806813457\n",
      "Cross-Validation RMSE: 4610.063532780987\n",
      "Cross-Validation R²-Wert: 0.8914015997553569\n"
     ]
    }
   ],
   "source": [
    "# Notwendige Importe\n",
    "from sklearn.tree import DecisionTreeRegressor\n",
    "from sklearn.metrics import mean_squared_error, mean_absolute_error, r2_score\n",
    "from sklearn.model_selection import cross_val_score, KFold\n",
    "import numpy as np\n",
    "\n",
    "# Decision Tree Regressor erstellen\n",
    "tree_model = DecisionTreeRegressor(random_state=42)\n",
    "\n",
    "# Cross-Validation Setup\n",
    "kf = KFold(n_splits=5, shuffle=True, random_state=42)  # 5-Fold Cross-Validation\n",
    "\n",
    "# Cross-Validation Scores\n",
    "mse_scores = -cross_val_score(tree_model, X_train, y_train, cv=kf, scoring='neg_mean_squared_error')\n",
    "mae_scores = -cross_val_score(tree_model, X_train, y_train, cv=kf, scoring='neg_mean_absolute_error')\n",
    "r2_scores = cross_val_score(tree_model, X_train, y_train, cv=kf, scoring='r2')\n",
    "\n",
    "# Mittelwerte der Scores\n",
    "mean_mse = mse_scores.mean()\n",
    "mean_mae = mae_scores.mean()\n",
    "mean_rmse = np.sqrt(mean_mse)\n",
    "mean_r2 = r2_scores.mean()\n",
    "\n",
    "print(\"Cross-Validation MSE:\", mean_mse)\n",
    "print(\"Cross-Validation MAE:\", mean_mae)\n",
    "print(\"Cross-Validation RMSE:\", mean_rmse)\n",
    "print(\"Cross-Validation R²-Wert:\", mean_r2)"
   ]
  },
  {
   "cell_type": "markdown",
   "metadata": {
    "id": "uEVS_qBX0Fwi"
   },
   "source": [
    "Anderer: ChatGPT Vorschlag: https://chatgpt.com/share/a0dac765-c550-4949-8887-a07e0b21a0f0"
   ]
  },
  {
   "cell_type": "markdown",
   "metadata": {
    "id": "3hMxkZbThfX3"
   },
   "source": [
    "7.2.3 Mit CrossValidation: Variante Vorlesung"
   ]
  },
  {
   "cell_type": "code",
   "execution_count": 12,
   "metadata": {
    "colab": {
     "base_uri": "https://localhost:8080/",
     "height": 775
    },
    "id": "7yxIHDa7vUFu",
    "outputId": "f1cc7155-9d0f-4276-ae78-7f3f7f96e9af"
   },
   "outputs": [
    {
     "name": "stdout",
     "output_type": "stream",
     "text": [
      "MSE Train: 13117654.676177952\n",
      "MAE Train: 2484.904276477114\n",
      "RMSE Train: 3621.83029367445\n",
      "R²-Wert Train: 0.9329846209275197\n",
      "MAPE Train: 0.09983002221841651\n",
      "___________________\n",
      "MSE: 18684683.20614332\n",
      "MAE: 2944.9475296701344\n",
      "RMSE: 4322.578305380172\n",
      "R²-Wert: 0.9051037201015515\n",
      "MAPE: 0.1208133394688803\n"
     ]
    }
   ],
   "source": [
    "from sklearn.model_selection import GridSearchCV\n",
    "from sklearn.tree import DecisionTreeRegressor\n",
    "from sklearn.metrics import mean_squared_error, mean_absolute_error, r2_score\n",
    "import numpy as np\n",
    "\n",
    "# Parameter für GridSearchCV\n",
    "parameters = {\n",
    "    'max_depth': [1, 30],\n",
    "    'min_samples_leaf': [1, 10, 20, 30, 50, 100],\n",
    "}\n",
    "\n",
    "# DecisionTreeRegressor-Modell mit gültigem Kriterium initialisieren\n",
    "tree_model = DecisionTreeRegressor(criterion=\"squared_error\", random_state=1)\n",
    "tree_model_CV = GridSearchCV(tree_model, parameters, cv=5)\n",
    "\n",
    "# Trainieren Sie das Modell mit den Trainingsdaten\n",
    "tree_model_CV.fit(X_train, y_train)\n",
    "\n",
    "\n",
    "#Vorhersagen auf dem Trainingsset machen\n",
    "y_pred_train = tree_model_CV.predict(X_train)\n",
    "\n",
    "mse_train = mean_squared_error(y_train, y_pred_train)\n",
    "mae_train = mean_absolute_error(y_train, y_pred_train)\n",
    "r2_train = r2_score(y_train, y_pred_train)\n",
    "mape_train = mean_absolute_percentage_error(y_train, y_pred_train)\n",
    "\n",
    "print(\"MSE Train:\", mse_train)\n",
    "print(\"MAE Train:\", mae_train)\n",
    "print(\"RMSE Train:\", np.sqrt(mse_train))\n",
    "print(\"R²-Wert Train:\", r2_train)\n",
    "print(\"MAPE Train:\", mape_train)\n",
    "\n",
    "\n",
    "# Modellevaluierung auf den Test Daten\n",
    "\n",
    "#Vorhersagen auf dem Testset machen\n",
    "y_pred = tree_model_CV.predict(X_test)\n",
    "\n",
    "mse = mean_squared_error(y_test, y_pred)\n",
    "mae = mean_absolute_error(y_test, y_pred)\n",
    "r2 = r2_score(y_test, y_pred)\n",
    "mape = mean_absolute_percentage_error(y_test, y_pred)\n",
    "\n",
    "print(\"___________________\")\n",
    "\n",
    "print(\"MSE:\", mse)\n",
    "print(\"MAE:\", mae)\n",
    "print(\"RMSE:\", np.sqrt(mse))\n",
    "print(\"R²-Wert:\", r2)\n",
    "print(\"MAPE:\", mape)\n",
    "\n",
    "\n"
   ]
  },
  {
   "cell_type": "markdown",
   "metadata": {
    "id": "QchpvV0phIWo"
   },
   "source": [
    "## 7.3) Random Forest Regressor"
   ]
  },
  {
   "cell_type": "code",
   "execution_count": 13,
   "metadata": {
    "colab": {
     "base_uri": "https://localhost:8080/"
    },
    "id": "H1DdbVpfhedQ",
    "outputId": "0f5c8465-fe3d-4ef0-896d-9432f548824f"
   },
   "outputs": [
    {
     "name": "stdout",
     "output_type": "stream",
     "text": [
      "MSE Train: 5778766.312023349\n",
      "MAE Train: 1482.4931942546452\n",
      "RMSE Train: 2403.906469067245\n",
      "R²-Wert Train: 0.9704774805762488\n",
      "MAPE Train: 0.05422443576281316\n",
      "___________________\n",
      "MSE: 15675809.47545541\n",
      "MAE: 2701.1468394560166\n",
      "RMSE: 3959.268805657859\n",
      "R²-Wert: 0.9203852702662644\n",
      "MAPE: 0.10754129026290545\n"
     ]
    }
   ],
   "source": [
    "# Imports\n",
    "from sklearn.ensemble import RandomForestRegressor\n",
    "\n",
    "# Random Forest Regressor erstellen\n",
    "forest_model = RandomForestRegressor(n_estimators=100, random_state=42)\n",
    "\n",
    "# Modell trainieren\n",
    "forest_model.fit(X_train, y_train)\n",
    "\n",
    "#EVALUIERUNG\n",
    "\n",
    "#Vorhersagen auf dem Trainingsset machen\n",
    "y_pred_train = forest_model.predict(X_train)\n",
    "\n",
    "mse_train = mean_squared_error(y_train, y_pred_train)\n",
    "mae_train = mean_absolute_error(y_train, y_pred_train)\n",
    "r2_train = r2_score(y_train, y_pred_train)\n",
    "mape_train = mean_absolute_percentage_error(y_train, y_pred_train)\n",
    "\n",
    "print(\"MSE Train:\", mse_train)\n",
    "print(\"MAE Train:\", mae_train)\n",
    "print(\"RMSE Train:\", np.sqrt(mse_train))\n",
    "print(\"R²-Wert Train:\", r2_train)\n",
    "print(\"MAPE Train:\", mape_train)\n",
    "\n",
    "\n",
    "# Modellevaluierung auf den Test Daten\n",
    "\n",
    "#Vorhersagen auf dem Testset machen\n",
    "y_pred = forest_model.predict(X_test)\n",
    "\n",
    "mse = mean_squared_error(y_test, y_pred)\n",
    "mae = mean_absolute_error(y_test, y_pred)\n",
    "r2 = r2_score(y_test, y_pred)\n",
    "mape = mean_absolute_percentage_error(y_test, y_pred)\n",
    "\n",
    "print(\"___________________\")\n",
    "\n",
    "print(\"MSE:\", mse)\n",
    "print(\"MAE:\", mae)\n",
    "print(\"RMSE:\", np.sqrt(mse))\n",
    "print(\"R²-Wert:\", r2)\n",
    "print(\"MAPE:\", mape)\n",
    "\n",
    "\n",
    "\n"
   ]
  },
  {
   "cell_type": "markdown",
   "metadata": {
    "id": "gE__bb8hD-P8"
   },
   "source": [
    "Modell Exportieren"
   ]
  },
  {
   "cell_type": "code",
   "execution_count": 14,
   "metadata": {
    "colab": {
     "base_uri": "https://localhost:8080/"
    },
    "id": "abTgN92wD94Z",
    "outputId": "3e7e5c8f-1d8a-43ee-c4d2-53bfe1c87b42"
   },
   "outputs": [
    {
     "name": "stdout",
     "output_type": "stream",
     "text": [
      "Das Modell wurde erfolgreich in der Datei '/Users/allegratrepte/Desktop/new_model.sav' gespeichert.\n"
     ]
    }
   ],
   "source": [
    "import pickle\n",
    "\n",
    "# Dateipfad in Google Drive\n",
    "filename = '/Users/allegratrepte/Desktop/new_model.sav'\n",
    "\n",
    "# Modell exportieren\n",
    "pickle.dump(forest_model, open(filename, 'wb'))\n",
    "\n",
    "print(f\"Das Modell wurde erfolgreich in der Datei '{filename}' gespeichert.\")\n"
   ]
  },
  {
   "cell_type": "code",
   "execution_count": 15,
   "metadata": {
    "colab": {
     "base_uri": "https://localhost:8080/"
    },
    "id": "0x2BngFqJiB3",
    "outputId": "41f2310a-3e26-4a25-b6c1-470eb9493d54"
   },
   "outputs": [
    {
     "data": {
      "text/plain": [
       "2701.1468394560166"
      ]
     },
     "execution_count": 15,
     "metadata": {},
     "output_type": "execute_result"
    }
   ],
   "source": [
    "mae = mean_absolute_error(y_test, y_pred)\n",
    "mae"
   ]
  },
  {
   "cell_type": "markdown",
   "metadata": {
    "id": "xz6RjtRTC5_L"
   },
   "source": [
    "Modell mit CrossValidation und Hyperparamentern"
   ]
  },
  {
   "cell_type": "markdown",
   "metadata": {},
   "source": [
    "Noch löschen:"
   ]
  },
  {
   "cell_type": "code",
   "execution_count": 16,
   "metadata": {
    "id": "huhKs6b8S_r0"
   },
   "outputs": [],
   "source": [
    "from sklearn.model_selection import train_test_split\n",
    "\n",
    "##X_train, X_test, y_train, y_test = train_test_split(X, y, test_size=0.7, random_state=42, shuffle=True)"
   ]
  },
  {
   "cell_type": "code",
   "execution_count": null,
   "metadata": {
    "colab": {
     "base_uri": "https://localhost:8080/",
     "height": 365
    },
    "id": "dD9jL2M_C_1i",
    "outputId": "4ae4d6e5-d564-4078-ca8f-bccc2ac0faf2"
   },
   "outputs": [],
   "source": [
    "# Notwendige Importe\n",
    "from sklearn.ensemble import RandomForestRegressor\n",
    "from sklearn.model_selection import KFold, GridSearchCV\n",
    "from sklearn.metrics import mean_squared_error, mean_absolute_error, r2_score\n",
    "import numpy as np\n",
    "\n",
    "# Parameterbereich definieren\n",
    "parameters = {\n",
    "    'n_estimators': [100],\n",
    "    'max_depth': [1],\n",
    "    'min_samples_split': [ 10],\n",
    "    'min_samples_leaf': [10,100],\n",
    "}\n",
    "\n",
    "# Konfiguriere den KFold-Generator für Kreuzvalidierung\n",
    "kf = KFold(n_splits=5, shuffle=True, random_state=42)\n",
    "\n",
    "# Erstelle das GridSearchCV-Objekt\n",
    "grid_search = GridSearchCV(RandomForestRegressor(random_state=42), parameters, cv= 5)\n",
    "\n",
    "# Trainiere das Modell mit Grid-Search\n",
    "grid_search.fit(X_train, y_train)\n",
    "\n",
    "# Beste Hyperparameter\n",
    "print(\"Beste Hyperparameter:\", grid_search.best_params_)\n",
    "\n",
    "# Trainiere das finale Modell mit den besten Hyperparametern\n",
    "best_forest_model = grid_search.best_estimator_\n",
    "\n",
    "#EVALUATION\n",
    "\n",
    "#Vorhersagen auf dem Trainingsset machen\n",
    "y_pred_train = best_forest_model.predict(X_train)\n",
    "\n",
    "mse_train = mean_squared_error(y_train, y_pred_train)\n",
    "mae_train = mean_absolute_error(y_train, y_pred_train)\n",
    "r2_train = r2_score(y_train, y_pred_train)\n",
    "mape_train = mean_absolute_percentage_error(y_train, y_pred_train)\n",
    "\n",
    "print(\"MSE Train:\", mse_train)\n",
    "print(\"MAE Train:\", mae_train)\n",
    "print(\"RMSE Train:\", np.sqrt(mse_train))\n",
    "print(\"R²-Wert Train:\", r2_train)\n",
    "print(\"MAPE Train:\", mape_train)\n",
    "\n",
    "\n",
    "# Modellevaluierung auf den Test Daten\n",
    "\n",
    "#Vorhersagen auf dem Testset machen\n",
    "y_pred = best_forest_model.predict(X_test)\n",
    "\n",
    "mse = mean_squared_error(y_test, y_pred)\n",
    "mae = mean_absolute_error(y_test, y_pred)\n",
    "r2 = r2_score(y_test, y_pred)\n",
    "mape = mean_absolute_percentage_error(y_test, y_pred)\n",
    "\n",
    "print(\"___________________\")\n",
    "\n",
    "print(\"MSE:\", mse)\n",
    "print(\"MAE:\", mae)\n",
    "print(\"RMSE:\", np.sqrt(mse))\n",
    "print(\"R²-Wert:\", r2)\n",
    "print(\"MAPE:\", mape)\n",
    "\n"
   ]
  },
  {
   "cell_type": "markdown",
   "metadata": {
    "id": "mwmstns3h5b1"
   },
   "source": [
    "## 10) Modell 4 - Gradient Boosting Regressor"
   ]
  },
  {
   "cell_type": "code",
   "execution_count": 18,
   "metadata": {
    "colab": {
     "base_uri": "https://localhost:8080/"
    },
    "id": "9shgwUt0h-O_",
    "outputId": "f0c13308-47e0-4a4e-da5a-c5be9dc97a3e"
   },
   "outputs": [
    {
     "name": "stdout",
     "output_type": "stream",
     "text": [
      "MSE Train: 22529953.310120787\n",
      "MAE Train: 3382.2748925057226\n",
      "RMSE Train: 4746.572796252132\n",
      "R²-Wert Train: 0.8848991379301235\n",
      "MAPE Train: 0.13908377355748117\n",
      "___________________\n",
      "MSE: 23353135.797304146\n",
      "MAE: 3445.6320052584156\n",
      "RMSE: 4832.508230443498\n",
      "R²-Wert: 0.8813934554481065\n",
      "MAPE: 0.14122276385120555\n"
     ]
    }
   ],
   "source": [
    "#Import\n",
    "from sklearn.ensemble import GradientBoostingRegressor\n",
    "\n",
    "# Gradient Boosting Regressor erstellen\n",
    "gb_model = GradientBoostingRegressor(n_estimators=100, learning_rate=0.1, max_depth=3, random_state=42)\n",
    "\n",
    "# Modell trainieren\n",
    "gb_model.fit(X_train, y_train)\n",
    "\n",
    "\n",
    "#EVALUATION\n",
    "\n",
    "#Vorhersagen auf dem Trainingsset machen\n",
    "y_pred_train = gb_model.predict(X_train)\n",
    "\n",
    "mse_train = mean_squared_error(y_train, y_pred_train)\n",
    "mae_train = mean_absolute_error(y_train, y_pred_train)\n",
    "r2_train = r2_score(y_train, y_pred_train)\n",
    "mape_train = mean_absolute_percentage_error(y_train, y_pred_train)\n",
    "\n",
    "print(\"MSE Train:\", mse_train)\n",
    "print(\"MAE Train:\", mae_train)\n",
    "print(\"RMSE Train:\", np.sqrt(mse_train))\n",
    "print(\"R²-Wert Train:\", r2_train)\n",
    "print(\"MAPE Train:\", mape_train)\n",
    "\n",
    "\n",
    "# Modellevaluierung auf den Test Daten\n",
    "\n",
    "#Vorhersagen auf dem Testset machen\n",
    "y_pred = gb_model.predict(X_test)\n",
    "\n",
    "mse = mean_squared_error(y_test, y_pred)\n",
    "mae = mean_absolute_error(y_test, y_pred)\n",
    "r2 = r2_score(y_test, y_pred)\n",
    "mape = mean_absolute_percentage_error(y_test, y_pred)\n",
    "\n",
    "print(\"___________________\")\n",
    "\n",
    "print(\"MSE:\", mse)\n",
    "print(\"MAE:\", mae)\n",
    "print(\"RMSE:\", np.sqrt(mse))\n",
    "print(\"R²-Wert:\", r2)\n",
    "print(\"MAPE:\", mape)"
   ]
  },
  {
   "cell_type": "markdown",
   "metadata": {
    "id": "qDsH_ZDcUtce"
   },
   "source": [
    "Mit CrossValidation und Hyperparametern"
   ]
  },
  {
   "cell_type": "code",
   "execution_count": 19,
   "metadata": {
    "colab": {
     "base_uri": "https://localhost:8080/",
     "height": 400
    },
    "id": "Q8YOrz2uUtCF",
    "outputId": "a7f84de5-bd4a-42c2-cbd3-8f7ace4cb733"
   },
   "outputs": [
    {
     "name": "stdout",
     "output_type": "stream",
     "text": [
      "Fitting 5 folds for each of 27 candidates, totalling 135 fits\n",
      "Beste Hyperparameter: {'learning_rate': 0.2, 'max_depth': 5, 'n_estimators': 300}\n",
      "MSE Train: 11315652.460905135\n",
      "MAE Train: 2411.571766370248\n",
      "RMSE Train: 3363.874620271263\n",
      "R²-Wert Train: 0.9421906767756938\n",
      "MAPE Train: 0.0980257787679142\n",
      "___________________\n",
      "MSE: 13488030.8564886\n",
      "MAE: 2597.9225179983273\n",
      "RMSE: 3672.6054588654906\n",
      "R²-Wert: 0.9314966201291861\n",
      "MAPE: 0.10464618778283413\n"
     ]
    }
   ],
   "source": [
    "# Notwendige Importe\n",
    "from sklearn.ensemble import GradientBoostingRegressor\n",
    "from sklearn.model_selection import KFold, GridSearchCV\n",
    "from sklearn.metrics import mean_squared_error, mean_absolute_error, r2_score\n",
    "import numpy as np\n",
    "\n",
    "# Parameterbereich definieren\n",
    "param_grid = {\n",
    "    'n_estimators': [100, 200, 300],\n",
    "    'learning_rate': [0.05, 0.1, 0.2],\n",
    "    'max_depth': [3, 4, 5]\n",
    "}\n",
    "\n",
    "# Konfiguriere den KFold-Generator für Kreuzvalidierung\n",
    "kf = KFold(n_splits=5, shuffle=True, random_state=42)\n",
    "\n",
    "# Erstelle das GridSearchCV-Objekt\n",
    "grid_search = GridSearchCV(GradientBoostingRegressor(random_state=42), param_grid, cv=kf, scoring='neg_mean_squared_error', verbose=1)\n",
    "\n",
    "# Trainiere das Modell mit Grid-Search\n",
    "grid_search.fit(X_train, y_train)\n",
    "\n",
    "# Beste Hyperparameter\n",
    "print(\"Beste Hyperparameter:\", grid_search.best_params_)\n",
    "\n",
    "# Trainiere das finale Modell mit den besten Hyperparametern\n",
    "best_gb_model = grid_search.best_estimator_\n",
    "\n",
    "#EVALUATION\n",
    "\n",
    "#Vorhersagen auf dem Trainingsset machen\n",
    "y_pred_train = best_gb_model.predict(X_train)\n",
    "\n",
    "mse_train = mean_squared_error(y_train, y_pred_train)\n",
    "mae_train = mean_absolute_error(y_train, y_pred_train)\n",
    "r2_train = r2_score(y_train, y_pred_train)\n",
    "mape_train = mean_absolute_percentage_error(y_train, y_pred_train)\n",
    "\n",
    "print(\"MSE Train:\", mse_train)\n",
    "print(\"MAE Train:\", mae_train)\n",
    "print(\"RMSE Train:\", np.sqrt(mse_train))\n",
    "print(\"R²-Wert Train:\", r2_train)\n",
    "print(\"MAPE Train:\", mape_train)\n",
    "\n",
    "\n",
    "# Modellevaluierung auf den Test Daten\n",
    "\n",
    "#Vorhersagen auf dem Testset machen\n",
    "y_pred = best_gb_model.predict(X_test)\n",
    "\n",
    "mse = mean_squared_error(y_test, y_pred)\n",
    "mae = mean_absolute_error(y_test, y_pred)\n",
    "r2 = r2_score(y_test, y_pred)\n",
    "mape = mean_absolute_percentage_error(y_test, y_pred)\n",
    "\n",
    "print(\"___________________\")\n",
    "\n",
    "print(\"MSE:\", mse)\n",
    "print(\"MAE:\", mae)\n",
    "print(\"RMSE:\", np.sqrt(mse))\n",
    "print(\"R²-Wert:\", r2)\n",
    "print(\"MAPE:\", mape)"
   ]
  },
  {
   "cell_type": "markdown",
   "metadata": {
    "id": "rBL_Hy83Bn3D"
   },
   "source": [
    "Quelle CrossValidation: https://chatgpt.com/share/6fcf8984-041d-4b38-8beb-e93c2e32ccd0"
   ]
  },
  {
   "cell_type": "markdown",
   "metadata": {
    "id": "tS93cGjM7vvh"
   },
   "source": [
    "## Notizen die noch gelöscht werden"
   ]
  },
  {
   "cell_type": "code",
   "execution_count": 20,
   "metadata": {
    "id": "gMQtSfvU18vk"
   },
   "outputs": [
    {
     "name": "stdout",
     "output_type": "stream",
     "text": [
      "Fitting 5 folds for each of 27 candidates, totalling 135 fits\n"
     ]
    },
    {
     "data": {
      "text/html": [
       "<style>#sk-container-id-1 {color: black;background-color: white;}#sk-container-id-1 pre{padding: 0;}#sk-container-id-1 div.sk-toggleable {background-color: white;}#sk-container-id-1 label.sk-toggleable__label {cursor: pointer;display: block;width: 100%;margin-bottom: 0;padding: 0.3em;box-sizing: border-box;text-align: center;}#sk-container-id-1 label.sk-toggleable__label-arrow:before {content: \"▸\";float: left;margin-right: 0.25em;color: #696969;}#sk-container-id-1 label.sk-toggleable__label-arrow:hover:before {color: black;}#sk-container-id-1 div.sk-estimator:hover label.sk-toggleable__label-arrow:before {color: black;}#sk-container-id-1 div.sk-toggleable__content {max-height: 0;max-width: 0;overflow: hidden;text-align: left;background-color: #f0f8ff;}#sk-container-id-1 div.sk-toggleable__content pre {margin: 0.2em;color: black;border-radius: 0.25em;background-color: #f0f8ff;}#sk-container-id-1 input.sk-toggleable__control:checked~div.sk-toggleable__content {max-height: 200px;max-width: 100%;overflow: auto;}#sk-container-id-1 input.sk-toggleable__control:checked~label.sk-toggleable__label-arrow:before {content: \"▾\";}#sk-container-id-1 div.sk-estimator input.sk-toggleable__control:checked~label.sk-toggleable__label {background-color: #d4ebff;}#sk-container-id-1 div.sk-label input.sk-toggleable__control:checked~label.sk-toggleable__label {background-color: #d4ebff;}#sk-container-id-1 input.sk-hidden--visually {border: 0;clip: rect(1px 1px 1px 1px);clip: rect(1px, 1px, 1px, 1px);height: 1px;margin: -1px;overflow: hidden;padding: 0;position: absolute;width: 1px;}#sk-container-id-1 div.sk-estimator {font-family: monospace;background-color: #f0f8ff;border: 1px dotted black;border-radius: 0.25em;box-sizing: border-box;margin-bottom: 0.5em;}#sk-container-id-1 div.sk-estimator:hover {background-color: #d4ebff;}#sk-container-id-1 div.sk-parallel-item::after {content: \"\";width: 100%;border-bottom: 1px solid gray;flex-grow: 1;}#sk-container-id-1 div.sk-label:hover label.sk-toggleable__label {background-color: #d4ebff;}#sk-container-id-1 div.sk-serial::before {content: \"\";position: absolute;border-left: 1px solid gray;box-sizing: border-box;top: 0;bottom: 0;left: 50%;z-index: 0;}#sk-container-id-1 div.sk-serial {display: flex;flex-direction: column;align-items: center;background-color: white;padding-right: 0.2em;padding-left: 0.2em;position: relative;}#sk-container-id-1 div.sk-item {position: relative;z-index: 1;}#sk-container-id-1 div.sk-parallel {display: flex;align-items: stretch;justify-content: center;background-color: white;position: relative;}#sk-container-id-1 div.sk-item::before, #sk-container-id-1 div.sk-parallel-item::before {content: \"\";position: absolute;border-left: 1px solid gray;box-sizing: border-box;top: 0;bottom: 0;left: 50%;z-index: -1;}#sk-container-id-1 div.sk-parallel-item {display: flex;flex-direction: column;z-index: 1;position: relative;background-color: white;}#sk-container-id-1 div.sk-parallel-item:first-child::after {align-self: flex-end;width: 50%;}#sk-container-id-1 div.sk-parallel-item:last-child::after {align-self: flex-start;width: 50%;}#sk-container-id-1 div.sk-parallel-item:only-child::after {width: 0;}#sk-container-id-1 div.sk-dashed-wrapped {border: 1px dashed gray;margin: 0 0.4em 0.5em 0.4em;box-sizing: border-box;padding-bottom: 0.4em;background-color: white;}#sk-container-id-1 div.sk-label label {font-family: monospace;font-weight: bold;display: inline-block;line-height: 1.2em;}#sk-container-id-1 div.sk-label-container {text-align: center;}#sk-container-id-1 div.sk-container {/* jupyter's `normalize.less` sets `[hidden] { display: none; }` but bootstrap.min.css set `[hidden] { display: none !important; }` so we also need the `!important` here to be able to override the default hidden behavior on the sphinx rendered scikit-learn.org. See: https://github.com/scikit-learn/scikit-learn/issues/21755 */display: inline-block !important;position: relative;}#sk-container-id-1 div.sk-text-repr-fallback {display: none;}</style><div id=\"sk-container-id-1\" class=\"sk-top-container\"><div class=\"sk-text-repr-fallback\"><pre>GridSearchCV(cv=KFold(n_splits=5, random_state=42, shuffle=True),\n",
       "             estimator=GradientBoostingRegressor(random_state=42),\n",
       "             param_grid={&#x27;learning_rate&#x27;: [0.05, 0.1, 0.2],\n",
       "                         &#x27;max_depth&#x27;: [3, 4, 5],\n",
       "                         &#x27;n_estimators&#x27;: [100, 200, 300]},\n",
       "             scoring=&#x27;neg_mean_squared_error&#x27;, verbose=1)</pre><b>In a Jupyter environment, please rerun this cell to show the HTML representation or trust the notebook. <br />On GitHub, the HTML representation is unable to render, please try loading this page with nbviewer.org.</b></div><div class=\"sk-container\" hidden><div class=\"sk-item sk-dashed-wrapped\"><div class=\"sk-label-container\"><div class=\"sk-label sk-toggleable\"><input class=\"sk-toggleable__control sk-hidden--visually\" id=\"sk-estimator-id-1\" type=\"checkbox\" ><label for=\"sk-estimator-id-1\" class=\"sk-toggleable__label sk-toggleable__label-arrow\">GridSearchCV</label><div class=\"sk-toggleable__content\"><pre>GridSearchCV(cv=KFold(n_splits=5, random_state=42, shuffle=True),\n",
       "             estimator=GradientBoostingRegressor(random_state=42),\n",
       "             param_grid={&#x27;learning_rate&#x27;: [0.05, 0.1, 0.2],\n",
       "                         &#x27;max_depth&#x27;: [3, 4, 5],\n",
       "                         &#x27;n_estimators&#x27;: [100, 200, 300]},\n",
       "             scoring=&#x27;neg_mean_squared_error&#x27;, verbose=1)</pre></div></div></div><div class=\"sk-parallel\"><div class=\"sk-parallel-item\"><div class=\"sk-item\"><div class=\"sk-label-container\"><div class=\"sk-label sk-toggleable\"><input class=\"sk-toggleable__control sk-hidden--visually\" id=\"sk-estimator-id-2\" type=\"checkbox\" ><label for=\"sk-estimator-id-2\" class=\"sk-toggleable__label sk-toggleable__label-arrow\">estimator: GradientBoostingRegressor</label><div class=\"sk-toggleable__content\"><pre>GradientBoostingRegressor(random_state=42)</pre></div></div></div><div class=\"sk-serial\"><div class=\"sk-item\"><div class=\"sk-estimator sk-toggleable\"><input class=\"sk-toggleable__control sk-hidden--visually\" id=\"sk-estimator-id-3\" type=\"checkbox\" ><label for=\"sk-estimator-id-3\" class=\"sk-toggleable__label sk-toggleable__label-arrow\">GradientBoostingRegressor</label><div class=\"sk-toggleable__content\"><pre>GradientBoostingRegressor(random_state=42)</pre></div></div></div></div></div></div></div></div></div></div>"
      ],
      "text/plain": [
       "GridSearchCV(cv=KFold(n_splits=5, random_state=42, shuffle=True),\n",
       "             estimator=GradientBoostingRegressor(random_state=42),\n",
       "             param_grid={'learning_rate': [0.05, 0.1, 0.2],\n",
       "                         'max_depth': [3, 4, 5],\n",
       "                         'n_estimators': [100, 200, 300]},\n",
       "             scoring='neg_mean_squared_error', verbose=1)"
      ]
     },
     "execution_count": 20,
     "metadata": {},
     "output_type": "execute_result"
    }
   ],
   "source": [
    "# Libraries\n",
    "from sklearn.model_selection import KFold\n",
    "# Notwendige Importe\n",
    "from sklearn.ensemble import GradientBoostingRegressor\n",
    "from sklearn.model_selection import KFold, GridSearchCV\n",
    "from sklearn.metrics import mean_squared_error, mean_absolute_error, r2_score\n",
    "import numpy as np\n",
    "\n",
    "# Parameterbereich definieren\n",
    "param_grid = {\n",
    "    'n_estimators': [100, 200, 300],\n",
    "    'learning_rate': [0.05, 0.1, 0.2],\n",
    "    'max_depth': [3, 4, 5]\n",
    "}\n",
    "\n",
    "# Konfiguriere den KFold-Generator für Kreuzvalidierung\n",
    "kf = KFold(n_splits=5, shuffle=True, random_state=42)\n",
    "\n",
    "# Erstelle das GridSearchCV-Objekt\n",
    "grid_search = GridSearchCV(GradientBoostingRegressor(random_state=42), param_grid, cv=kf, scoring='neg_mean_squared_error', verbose=1)\n",
    "\n",
    "# Trainiere das Modell mit Grid-Search\n",
    "grid_search.fit(X_train, y_train)"
   ]
  },
  {
   "cell_type": "code",
   "execution_count": null,
   "metadata": {
    "id": "8OilDTXZ7gC8"
   },
   "outputs": [
    {
     "name": "stdout",
     "output_type": "stream",
     "text": [
      "Fitting 5 folds for each of 27 candidates, totalling 135 fits\n"
     ]
    }
   ],
   "source": [
    "# Libraries\n",
    "from sklearn.model_selection import GridSearchCV, KFold\n",
    "\n",
    "# Parameterbereich definieren\n",
    "param_grid = {\n",
    "    'n_estimators': [100, 200, 300],\n",
    "    'learning_rate': [0.05, 0.1, 0.2],\n",
    "    'max_depth': [3, 4, 5]\n",
    "}\n",
    "\n",
    "# Konfiguriere den KFold-Generator für Kreuzvalidierung\n",
    "kf = KFold(n_splits=5, shuffle=True, random_state=42)\n",
    "\n",
    "# Erstelle das GridSearchCV-Objekt\n",
    "grid_search = GridSearchCV(GradientBoostingRegressor(random_state=42), param_grid, cv=kf, scoring='neg_mean_squared_error', verbose=1)\n",
    "\n",
    "# Trainiere das Modell mit Grid-Search\n",
    "grid_search.fit(X_train, y_train)"
   ]
  },
  {
   "cell_type": "code",
   "execution_count": null,
   "metadata": {
    "id": "xcJ15eYB8DC8"
   },
   "outputs": [],
   "source": [
    "# Konfiguriere den KFold-Generator für Kreuzvalidierung\n",
    "kf = KFold(n_splits=5, shuffle=True, random_state=42)\n",
    "\n",
    "# Erstelle das GridSearchCV-Objekt\n",
    "grid_search = GridSearchCV(GradientBoostingRegressor(random_state=42), param_grid, cv=kf, scoring='neg_mean_squared_error', verbose=1)\n",
    "\n",
    "# Trainiere das Modell mit Grid-Search\n",
    "grid_search.fit(X_train, y_train)"
   ]
  },
  {
   "cell_type": "markdown",
   "metadata": {
    "id": "fALveTBKzzd0"
   },
   "source": [
    "## 12) Das beste Modell auswählen und auf den ganzen Daten trainieren"
   ]
  },
  {
   "cell_type": "code",
   "execution_count": null,
   "metadata": {},
   "outputs": [],
   "source": []
  }
 ],
 "metadata": {
  "colab": {
   "provenance": []
  },
  "kernelspec": {
   "display_name": "Python 3 (ipykernel)",
   "language": "python",
   "name": "python3"
  },
  "language_info": {
   "codemirror_mode": {
    "name": "ipython",
    "version": 3
   },
   "file_extension": ".py",
   "mimetype": "text/x-python",
   "name": "python",
   "nbconvert_exporter": "python",
   "pygments_lexer": "ipython3",
   "version": "3.11.5"
  }
 },
 "nbformat": 4,
 "nbformat_minor": 1
}
