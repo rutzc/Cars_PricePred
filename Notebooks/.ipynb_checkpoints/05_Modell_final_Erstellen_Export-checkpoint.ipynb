{
 "cells": [
  {
   "cell_type": "markdown",
   "id": "3a7f030a-13ae-4435-94ec-dd48fdd17bc9",
   "metadata": {},
   "source": [
    "# 05_Finales Modell trainieren und exportieren\n",
    "In Notebook 04_Modelle_evaluieren wurde das beste Modell und die besten Hyperparameter evaluiert. Ergebnis: **Gradient Boosting Regressor**.\n",
    "In diesem Notebook wird das Modell auf die gesamten vorliegenden Daten trainiert und dann für die App exportiert."
   ]
  },
  {
   "cell_type": "markdown",
   "id": "b07f6886-6ad8-422c-b529-2c1a9b38b460",
   "metadata": {},
   "source": [
    "## 1) Libraries importieren"
   ]
  },
  {
   "cell_type": "code",
   "execution_count": 32,
   "id": "5e9304f9-062e-426a-99f9-bd6802367321",
   "metadata": {
    "tags": []
   },
   "outputs": [],
   "source": [
    "# Libraries importieren\n",
    "import pandas as pd\n",
    "import numpy as np"
   ]
  },
  {
   "cell_type": "markdown",
   "id": "03e14bce-67f7-4ba7-97f1-eab3464590f1",
   "metadata": {},
   "source": [
    "## 2) Daten einlesen"
   ]
  },
  {
   "cell_type": "code",
   "execution_count": 35,
   "id": "8d8c515e-927a-459b-a551-211270aaff2a",
   "metadata": {
    "tags": []
   },
   "outputs": [
    {
     "name": "stdout",
     "output_type": "stream",
     "text": [
      "<class 'pandas.core.frame.DataFrame'>\n",
      "RangeIndex: 70864 entries, 0 to 70863\n",
      "Data columns (total 11 columns):\n",
      " #   Column                Non-Null Count  Dtype  \n",
      "---  ------                --------------  -----  \n",
      " 0   body_type             70864 non-null  object \n",
      " 1   fuel_type             70864 non-null  object \n",
      " 2   horsepower            70864 non-null  float64\n",
      " 3   make_name             70864 non-null  object \n",
      " 4   mileage               70864 non-null  float64\n",
      " 5   model_name            70864 non-null  object \n",
      " 6   price                 70864 non-null  float64\n",
      " 7   wheel_system_display  70864 non-null  object \n",
      " 8   average_fuel_economy  70864 non-null  float64\n",
      " 9   age                   70864 non-null  int64  \n",
      " 10  manual                70864 non-null  int64  \n",
      "dtypes: float64(4), int64(2), object(5)\n",
      "memory usage: 5.9+ MB\n"
     ]
    }
   ],
   "source": [
    "# Daten importieren\n",
    "df_clean = pd.read_csv(\"../Data/clean_data.csv\")\n",
    "\n",
    "# Daten inspizieren\n",
    "df_clean.info()"
   ]
  },
  {
   "cell_type": "markdown",
   "id": "c74dd66c-d0b5-489b-a7ac-d797734b69f9",
   "metadata": {},
   "source": [
    "## 3) Dummy-Variablen erstellen"
   ]
  },
  {
   "cell_type": "code",
   "execution_count": 38,
   "id": "b64446eb-91bf-4d0a-8be8-2348e8b274ab",
   "metadata": {
    "tags": []
   },
   "outputs": [],
   "source": [
    "# Dummies in neuem Dataset speichern\n",
    "df_dummies = pd.get_dummies(df_clean, drop_first=True, dtype=float)"
   ]
  },
  {
   "cell_type": "code",
   "execution_count": 39,
   "id": "a396ad50-0af7-4107-a0aa-0375fb86636d",
   "metadata": {
    "tags": []
   },
   "outputs": [
    {
     "name": "stdout",
     "output_type": "stream",
     "text": [
      "<class 'pandas.core.frame.DataFrame'>\n",
      "RangeIndex: 70864 entries, 0 to 70863\n",
      "Columns: 778 entries, horsepower to wheel_system_display_Rear-Wheel Drive\n",
      "dtypes: float64(776), int64(2)\n",
      "memory usage: 420.6 MB\n"
     ]
    }
   ],
   "source": [
    "# Info\n",
    "df_dummies.info()"
   ]
  },
  {
   "cell_type": "markdown",
   "id": "51accdbf-d13e-4771-8ae1-ae0cf0beeff8",
   "metadata": {
    "tags": []
   },
   "source": [
    "## 4) X und y definieren"
   ]
  },
  {
   "cell_type": "code",
   "execution_count": 43,
   "id": "dfa04a59-d834-4810-8689-3959bb01aebc",
   "metadata": {
    "tags": []
   },
   "outputs": [],
   "source": [
    "# X und y definieren\n",
    "X = df_dummies.drop([\"price\"], axis=1)\n",
    "y = df_dummies[\"price\"]"
   ]
  },
  {
   "cell_type": "markdown",
   "id": "e02e1c9f-7a3a-45de-a819-b9d0120c0916",
   "metadata": {},
   "source": [
    "## 5) Gradient Boosting Regressor trainieren"
   ]
  },
  {
   "cell_type": "code",
   "execution_count": 65,
   "id": "e64addce-e8f5-4c7a-a8f0-e2ade2dfc5a0",
   "metadata": {
    "tags": []
   },
   "outputs": [],
   "source": [
    "# Imports\n",
    "from sklearn.ensemble import GradientBoostingRegressor\n",
    "from sklearn.metrics import mean_absolute_percentage_error, mean_squared_error, mean_absolute_error, r2_score"
   ]
  },
  {
   "cell_type": "code",
   "execution_count": 51,
   "id": "ed497bea-7cb8-48c6-9c40-52ab3fa5518b",
   "metadata": {
    "tags": []
   },
   "outputs": [],
   "source": [
    "# Best Parameters aus Notebook 04\n",
    "best_params = {'learning_rate': 0.1, 'max_depth': 5, 'n_estimators': 300}"
   ]
  },
  {
   "cell_type": "code",
   "execution_count": 54,
   "id": "d38397a1-ca45-4621-bf82-7a9049d9876c",
   "metadata": {
    "tags": []
   },
   "outputs": [
    {
     "data": {
      "text/html": [
       "<style>#sk-container-id-1 {color: black;background-color: white;}#sk-container-id-1 pre{padding: 0;}#sk-container-id-1 div.sk-toggleable {background-color: white;}#sk-container-id-1 label.sk-toggleable__label {cursor: pointer;display: block;width: 100%;margin-bottom: 0;padding: 0.3em;box-sizing: border-box;text-align: center;}#sk-container-id-1 label.sk-toggleable__label-arrow:before {content: \"▸\";float: left;margin-right: 0.25em;color: #696969;}#sk-container-id-1 label.sk-toggleable__label-arrow:hover:before {color: black;}#sk-container-id-1 div.sk-estimator:hover label.sk-toggleable__label-arrow:before {color: black;}#sk-container-id-1 div.sk-toggleable__content {max-height: 0;max-width: 0;overflow: hidden;text-align: left;background-color: #f0f8ff;}#sk-container-id-1 div.sk-toggleable__content pre {margin: 0.2em;color: black;border-radius: 0.25em;background-color: #f0f8ff;}#sk-container-id-1 input.sk-toggleable__control:checked~div.sk-toggleable__content {max-height: 200px;max-width: 100%;overflow: auto;}#sk-container-id-1 input.sk-toggleable__control:checked~label.sk-toggleable__label-arrow:before {content: \"▾\";}#sk-container-id-1 div.sk-estimator input.sk-toggleable__control:checked~label.sk-toggleable__label {background-color: #d4ebff;}#sk-container-id-1 div.sk-label input.sk-toggleable__control:checked~label.sk-toggleable__label {background-color: #d4ebff;}#sk-container-id-1 input.sk-hidden--visually {border: 0;clip: rect(1px 1px 1px 1px);clip: rect(1px, 1px, 1px, 1px);height: 1px;margin: -1px;overflow: hidden;padding: 0;position: absolute;width: 1px;}#sk-container-id-1 div.sk-estimator {font-family: monospace;background-color: #f0f8ff;border: 1px dotted black;border-radius: 0.25em;box-sizing: border-box;margin-bottom: 0.5em;}#sk-container-id-1 div.sk-estimator:hover {background-color: #d4ebff;}#sk-container-id-1 div.sk-parallel-item::after {content: \"\";width: 100%;border-bottom: 1px solid gray;flex-grow: 1;}#sk-container-id-1 div.sk-label:hover label.sk-toggleable__label {background-color: #d4ebff;}#sk-container-id-1 div.sk-serial::before {content: \"\";position: absolute;border-left: 1px solid gray;box-sizing: border-box;top: 0;bottom: 0;left: 50%;z-index: 0;}#sk-container-id-1 div.sk-serial {display: flex;flex-direction: column;align-items: center;background-color: white;padding-right: 0.2em;padding-left: 0.2em;position: relative;}#sk-container-id-1 div.sk-item {position: relative;z-index: 1;}#sk-container-id-1 div.sk-parallel {display: flex;align-items: stretch;justify-content: center;background-color: white;position: relative;}#sk-container-id-1 div.sk-item::before, #sk-container-id-1 div.sk-parallel-item::before {content: \"\";position: absolute;border-left: 1px solid gray;box-sizing: border-box;top: 0;bottom: 0;left: 50%;z-index: -1;}#sk-container-id-1 div.sk-parallel-item {display: flex;flex-direction: column;z-index: 1;position: relative;background-color: white;}#sk-container-id-1 div.sk-parallel-item:first-child::after {align-self: flex-end;width: 50%;}#sk-container-id-1 div.sk-parallel-item:last-child::after {align-self: flex-start;width: 50%;}#sk-container-id-1 div.sk-parallel-item:only-child::after {width: 0;}#sk-container-id-1 div.sk-dashed-wrapped {border: 1px dashed gray;margin: 0 0.4em 0.5em 0.4em;box-sizing: border-box;padding-bottom: 0.4em;background-color: white;}#sk-container-id-1 div.sk-label label {font-family: monospace;font-weight: bold;display: inline-block;line-height: 1.2em;}#sk-container-id-1 div.sk-label-container {text-align: center;}#sk-container-id-1 div.sk-container {/* jupyter's `normalize.less` sets `[hidden] { display: none; }` but bootstrap.min.css set `[hidden] { display: none !important; }` so we also need the `!important` here to be able to override the default hidden behavior on the sphinx rendered scikit-learn.org. See: https://github.com/scikit-learn/scikit-learn/issues/21755 */display: inline-block !important;position: relative;}#sk-container-id-1 div.sk-text-repr-fallback {display: none;}</style><div id=\"sk-container-id-1\" class=\"sk-top-container\"><div class=\"sk-text-repr-fallback\"><pre>GradientBoostingRegressor(max_depth=5, n_estimators=300, random_state=42)</pre><b>In a Jupyter environment, please rerun this cell to show the HTML representation or trust the notebook. <br />On GitHub, the HTML representation is unable to render, please try loading this page with nbviewer.org.</b></div><div class=\"sk-container\" hidden><div class=\"sk-item\"><div class=\"sk-estimator sk-toggleable\"><input class=\"sk-toggleable__control sk-hidden--visually\" id=\"sk-estimator-id-1\" type=\"checkbox\" checked><label for=\"sk-estimator-id-1\" class=\"sk-toggleable__label sk-toggleable__label-arrow\">GradientBoostingRegressor</label><div class=\"sk-toggleable__content\"><pre>GradientBoostingRegressor(max_depth=5, n_estimators=300, random_state=42)</pre></div></div></div></div></div>"
      ],
      "text/plain": [
       "GradientBoostingRegressor(max_depth=5, n_estimators=300, random_state=42)"
      ]
     },
     "execution_count": 54,
     "metadata": {},
     "output_type": "execute_result"
    }
   ],
   "source": [
    "# Gradient Boosting Regressor erstellen mit best_params\n",
    "final_model = GradientBoostingRegressor(random_state=42, **best_params)\n",
    "final_model.fit(X, y)"
   ]
  },
  {
   "cell_type": "code",
   "execution_count": 67,
   "id": "bdf38b74-3305-484b-aa71-472ea9c1faae",
   "metadata": {
    "tags": []
   },
   "outputs": [
    {
     "name": "stdout",
     "output_type": "stream",
     "text": [
      "Evaluation auf Testdaten\n",
      "R²-Wert: 0.9326413496868102\n",
      "RMSE: 3637.0943694767147\n",
      "MAE: 2620.297393018736\n",
      "MAPE: 0.10730085527890702\n"
     ]
    }
   ],
   "source": [
    "# Modellevaluation auf Testdaten\n",
    "\n",
    "# Vorhersagen auf dem Testset machen\n",
    "y_pred = final_model.predict(X)\n",
    "\n",
    "# Evaluationsmetrics berechnen\n",
    "r2 = r2_score(y, y_pred)\n",
    "mse = mean_squared_error(y, y_pred)\n",
    "mae = mean_absolute_error(y, y_pred)\n",
    "mape = mean_absolute_percentage_error(y, y_pred)\n",
    "\n",
    "# Prints\n",
    "print(\"Evaluation auf Testdaten\")\n",
    "print(\"R²-Wert:\", r2)\n",
    "print(\"RMSE:\", np.sqrt(mse))\n",
    "print(\"MAE:\", mae)\n",
    "print(\"MAPE:\", mape)"
   ]
  },
  {
   "cell_type": "markdown",
   "id": "4ed739e9-39a3-45bb-b2e5-d7cb96dcc1ff",
   "metadata": {},
   "source": [
    "## 6) Modell für App exportieren\n",
    "Finales Modell mithilfe von pickle exportieren für Verwendung in App"
   ]
  },
  {
   "cell_type": "code",
   "execution_count": 70,
   "id": "8cec831b-e78a-40dd-8e58-19f350363ee9",
   "metadata": {
    "tags": []
   },
   "outputs": [
    {
     "name": "stdout",
     "output_type": "stream",
     "text": [
      "Das Modell wurde erfolgreich in der Datei '../App/model.sav' gespeichert.\n"
     ]
    }
   ],
   "source": [
    "import pickle\n",
    "\n",
    "# Dateipfad \n",
    "filename = '../App/model.sav'\n",
    "\n",
    "# Modell exportieren\n",
    "pickle.dump(final_model, open(filename, 'wb'))\n",
    "\n",
    "print(f\"Das Modell wurde erfolgreich in der Datei '{filename}' gespeichert.\")"
   ]
  }
 ],
 "metadata": {
  "kernelspec": {
   "display_name": "Python 3 (ipykernel)",
   "language": "python",
   "name": "python3"
  },
  "language_info": {
   "codemirror_mode": {
    "name": "ipython",
    "version": 3
   },
   "file_extension": ".py",
   "mimetype": "text/x-python",
   "name": "python",
   "nbconvert_exporter": "python",
   "pygments_lexer": "ipython3",
   "version": "3.11.7"
  }
 },
 "nbformat": 4,
 "nbformat_minor": 5
}
