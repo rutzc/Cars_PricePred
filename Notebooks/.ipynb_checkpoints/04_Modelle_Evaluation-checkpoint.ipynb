{
 "cells": [
  {
   "cell_type": "markdown",
   "id": "01e9f2cd-0436-4a8b-99b0-d8f7a05cc834",
   "metadata": {},
   "source": [
    "# 04_Modelle erstellen, trainieren, evaluieren\n",
    "In diesem Notebook werden verschiedene Modelle erstellt, trainiert und evaluiert, um die Vorhersage des Preises zu optimieren.\n",
    "\n",
    "Folgende ML-Modelle werden dabei berücksichtigt:\n",
    "- Lineare Regression\n",
    "- Decision Tree Regressor\n",
    "- Random Forest Regressor\n",
    "- Gradient Boosting Regressor"
   ]
  },
  {
   "cell_type": "markdown",
   "id": "bb2a8176-06fa-415a-bcfe-501b0d8137a3",
   "metadata": {},
   "source": [
    "## 1) Libraries importieren"
   ]
  },
  {
   "cell_type": "code",
   "execution_count": 5,
   "id": "d3237f67-909b-4371-add2-cd22bc0743e1",
   "metadata": {
    "tags": []
   },
   "outputs": [],
   "source": [
    "# Libraries importieren\n",
    "import pandas as pd\n",
    "import numpy as np\n",
    "import matplotlib.pyplot as plt\n",
    "import seaborn as sns"
   ]
  },
  {
   "cell_type": "markdown",
   "id": "18cf885f-0235-4246-8b39-7a8df3fd3836",
   "metadata": {},
   "source": [
    "## 2) Daten einlesen"
   ]
  },
  {
   "cell_type": "code",
   "execution_count": 7,
   "id": "4aa0704e-d920-45fa-a99e-24ebe44615f7",
   "metadata": {
    "tags": []
   },
   "outputs": [
    {
     "name": "stdout",
     "output_type": "stream",
     "text": [
      "<class 'pandas.core.frame.DataFrame'>\n",
      "RangeIndex: 70864 entries, 0 to 70863\n",
      "Data columns (total 11 columns):\n",
      " #   Column                Non-Null Count  Dtype  \n",
      "---  ------                --------------  -----  \n",
      " 0   body_type             70864 non-null  object \n",
      " 1   fuel_type             70864 non-null  object \n",
      " 2   horsepower            70864 non-null  float64\n",
      " 3   make_name             70864 non-null  object \n",
      " 4   mileage               70864 non-null  float64\n",
      " 5   model_name            70864 non-null  object \n",
      " 6   price                 70864 non-null  float64\n",
      " 7   wheel_system_display  70864 non-null  object \n",
      " 8   average_fuel_economy  70864 non-null  float64\n",
      " 9   age                   70864 non-null  int64  \n",
      " 10  manual                70864 non-null  int64  \n",
      "dtypes: float64(4), int64(2), object(5)\n",
      "memory usage: 5.9+ MB\n"
     ]
    }
   ],
   "source": [
    "# Daten importieren\n",
    "df_clean = pd.read_csv(\"../Data/clean_data.csv\")\n",
    "\n",
    "# Daten inspizieren\n",
    "df_clean.info()"
   ]
  },
  {
   "cell_type": "markdown",
   "id": "6a427fae-c40f-4cae-ad69-5f509b11f8cc",
   "metadata": {},
   "source": [
    "## 3) Dummy-Variablen erstellen\n",
    "Für das Training werden Dummy-Variablen erstellt."
   ]
  },
  {
   "cell_type": "code",
   "execution_count": 10,
   "id": "8f3cb307-3e6e-4289-9f7f-503d6030ea90",
   "metadata": {
    "tags": []
   },
   "outputs": [],
   "source": [
    "# Dummies in neuem Dataset speichern\n",
    "df_dummies = pd.get_dummies(df_clean, drop_first=True, dtype=float)"
   ]
  },
  {
   "cell_type": "code",
   "execution_count": 11,
   "id": "2867ae73-8f1d-4e58-865e-0995237bcd33",
   "metadata": {
    "tags": []
   },
   "outputs": [
    {
     "data": {
      "text/html": [
       "<div>\n",
       "<style scoped>\n",
       "    .dataframe tbody tr th:only-of-type {\n",
       "        vertical-align: middle;\n",
       "    }\n",
       "\n",
       "    .dataframe tbody tr th {\n",
       "        vertical-align: top;\n",
       "    }\n",
       "\n",
       "    .dataframe thead th {\n",
       "        text-align: right;\n",
       "    }\n",
       "</style>\n",
       "<table border=\"1\" class=\"dataframe\">\n",
       "  <thead>\n",
       "    <tr style=\"text-align: right;\">\n",
       "      <th></th>\n",
       "      <th>horsepower</th>\n",
       "      <th>mileage</th>\n",
       "      <th>price</th>\n",
       "      <th>average_fuel_economy</th>\n",
       "      <th>age</th>\n",
       "      <th>manual</th>\n",
       "      <th>body_type_Coupe</th>\n",
       "      <th>body_type_Hatchback</th>\n",
       "      <th>body_type_Minivan</th>\n",
       "      <th>body_type_Pickup Truck</th>\n",
       "      <th>...</th>\n",
       "      <th>model_name_iM</th>\n",
       "      <th>model_name_iQ</th>\n",
       "      <th>model_name_tC</th>\n",
       "      <th>model_name_xA</th>\n",
       "      <th>model_name_xB</th>\n",
       "      <th>model_name_xD</th>\n",
       "      <th>wheel_system_display_All-Wheel Drive</th>\n",
       "      <th>wheel_system_display_Four-Wheel Drive</th>\n",
       "      <th>wheel_system_display_Front-Wheel Drive</th>\n",
       "      <th>wheel_system_display_Rear-Wheel Drive</th>\n",
       "    </tr>\n",
       "  </thead>\n",
       "  <tbody>\n",
       "    <tr>\n",
       "      <th>0</th>\n",
       "      <td>184.0</td>\n",
       "      <td>25794.0</td>\n",
       "      <td>13000.0</td>\n",
       "      <td>29.5</td>\n",
       "      <td>4</td>\n",
       "      <td>0</td>\n",
       "      <td>0.0</td>\n",
       "      <td>0.0</td>\n",
       "      <td>0.0</td>\n",
       "      <td>0.0</td>\n",
       "      <td>...</td>\n",
       "      <td>0.0</td>\n",
       "      <td>0.0</td>\n",
       "      <td>0.0</td>\n",
       "      <td>0.0</td>\n",
       "      <td>0.0</td>\n",
       "      <td>0.0</td>\n",
       "      <td>0.0</td>\n",
       "      <td>0.0</td>\n",
       "      <td>1.0</td>\n",
       "      <td>0.0</td>\n",
       "    </tr>\n",
       "    <tr>\n",
       "      <th>1</th>\n",
       "      <td>295.0</td>\n",
       "      <td>15732.0</td>\n",
       "      <td>27300.0</td>\n",
       "      <td>21.5</td>\n",
       "      <td>2</td>\n",
       "      <td>0</td>\n",
       "      <td>0.0</td>\n",
       "      <td>0.0</td>\n",
       "      <td>0.0</td>\n",
       "      <td>0.0</td>\n",
       "      <td>...</td>\n",
       "      <td>0.0</td>\n",
       "      <td>0.0</td>\n",
       "      <td>0.0</td>\n",
       "      <td>0.0</td>\n",
       "      <td>0.0</td>\n",
       "      <td>0.0</td>\n",
       "      <td>1.0</td>\n",
       "      <td>0.0</td>\n",
       "      <td>0.0</td>\n",
       "      <td>0.0</td>\n",
       "    </tr>\n",
       "    <tr>\n",
       "      <th>2</th>\n",
       "      <td>138.0</td>\n",
       "      <td>4580.0</td>\n",
       "      <td>15724.0</td>\n",
       "      <td>29.0</td>\n",
       "      <td>2</td>\n",
       "      <td>0</td>\n",
       "      <td>0.0</td>\n",
       "      <td>0.0</td>\n",
       "      <td>0.0</td>\n",
       "      <td>0.0</td>\n",
       "      <td>...</td>\n",
       "      <td>0.0</td>\n",
       "      <td>0.0</td>\n",
       "      <td>0.0</td>\n",
       "      <td>0.0</td>\n",
       "      <td>0.0</td>\n",
       "      <td>0.0</td>\n",
       "      <td>0.0</td>\n",
       "      <td>0.0</td>\n",
       "      <td>1.0</td>\n",
       "      <td>0.0</td>\n",
       "    </tr>\n",
       "    <tr>\n",
       "      <th>3</th>\n",
       "      <td>180.0</td>\n",
       "      <td>25122.0</td>\n",
       "      <td>21000.0</td>\n",
       "      <td>24.0</td>\n",
       "      <td>2</td>\n",
       "      <td>0</td>\n",
       "      <td>0.0</td>\n",
       "      <td>0.0</td>\n",
       "      <td>0.0</td>\n",
       "      <td>0.0</td>\n",
       "      <td>...</td>\n",
       "      <td>0.0</td>\n",
       "      <td>0.0</td>\n",
       "      <td>0.0</td>\n",
       "      <td>0.0</td>\n",
       "      <td>0.0</td>\n",
       "      <td>0.0</td>\n",
       "      <td>0.0</td>\n",
       "      <td>1.0</td>\n",
       "      <td>0.0</td>\n",
       "      <td>0.0</td>\n",
       "    </tr>\n",
       "    <tr>\n",
       "      <th>4</th>\n",
       "      <td>241.0</td>\n",
       "      <td>61161.0</td>\n",
       "      <td>17300.0</td>\n",
       "      <td>20.5</td>\n",
       "      <td>6</td>\n",
       "      <td>0</td>\n",
       "      <td>0.0</td>\n",
       "      <td>0.0</td>\n",
       "      <td>0.0</td>\n",
       "      <td>0.0</td>\n",
       "      <td>...</td>\n",
       "      <td>0.0</td>\n",
       "      <td>0.0</td>\n",
       "      <td>0.0</td>\n",
       "      <td>0.0</td>\n",
       "      <td>0.0</td>\n",
       "      <td>0.0</td>\n",
       "      <td>0.0</td>\n",
       "      <td>1.0</td>\n",
       "      <td>0.0</td>\n",
       "      <td>0.0</td>\n",
       "    </tr>\n",
       "  </tbody>\n",
       "</table>\n",
       "<p>5 rows × 778 columns</p>\n",
       "</div>"
      ],
      "text/plain": [
       "   horsepower  mileage    price  average_fuel_economy  age  manual  \\\n",
       "0       184.0  25794.0  13000.0                  29.5    4       0   \n",
       "1       295.0  15732.0  27300.0                  21.5    2       0   \n",
       "2       138.0   4580.0  15724.0                  29.0    2       0   \n",
       "3       180.0  25122.0  21000.0                  24.0    2       0   \n",
       "4       241.0  61161.0  17300.0                  20.5    6       0   \n",
       "\n",
       "   body_type_Coupe  body_type_Hatchback  body_type_Minivan  \\\n",
       "0              0.0                  0.0                0.0   \n",
       "1              0.0                  0.0                0.0   \n",
       "2              0.0                  0.0                0.0   \n",
       "3              0.0                  0.0                0.0   \n",
       "4              0.0                  0.0                0.0   \n",
       "\n",
       "   body_type_Pickup Truck  ...  model_name_iM  model_name_iQ  model_name_tC  \\\n",
       "0                     0.0  ...            0.0            0.0            0.0   \n",
       "1                     0.0  ...            0.0            0.0            0.0   \n",
       "2                     0.0  ...            0.0            0.0            0.0   \n",
       "3                     0.0  ...            0.0            0.0            0.0   \n",
       "4                     0.0  ...            0.0            0.0            0.0   \n",
       "\n",
       "   model_name_xA  model_name_xB  model_name_xD  \\\n",
       "0            0.0            0.0            0.0   \n",
       "1            0.0            0.0            0.0   \n",
       "2            0.0            0.0            0.0   \n",
       "3            0.0            0.0            0.0   \n",
       "4            0.0            0.0            0.0   \n",
       "\n",
       "   wheel_system_display_All-Wheel Drive  \\\n",
       "0                                   0.0   \n",
       "1                                   1.0   \n",
       "2                                   0.0   \n",
       "3                                   0.0   \n",
       "4                                   0.0   \n",
       "\n",
       "   wheel_system_display_Four-Wheel Drive  \\\n",
       "0                                    0.0   \n",
       "1                                    0.0   \n",
       "2                                    0.0   \n",
       "3                                    1.0   \n",
       "4                                    1.0   \n",
       "\n",
       "   wheel_system_display_Front-Wheel Drive  \\\n",
       "0                                     1.0   \n",
       "1                                     0.0   \n",
       "2                                     1.0   \n",
       "3                                     0.0   \n",
       "4                                     0.0   \n",
       "\n",
       "   wheel_system_display_Rear-Wheel Drive  \n",
       "0                                    0.0  \n",
       "1                                    0.0  \n",
       "2                                    0.0  \n",
       "3                                    0.0  \n",
       "4                                    0.0  \n",
       "\n",
       "[5 rows x 778 columns]"
      ]
     },
     "execution_count": 11,
     "metadata": {},
     "output_type": "execute_result"
    }
   ],
   "source": [
    "# Dummies anschauen\n",
    "df_dummies.head()"
   ]
  },
  {
   "cell_type": "code",
   "execution_count": 12,
   "id": "91aea0f3-7766-4272-beb5-530a29ff16c0",
   "metadata": {
    "tags": []
   },
   "outputs": [
    {
     "name": "stdout",
     "output_type": "stream",
     "text": [
      "<class 'pandas.core.frame.DataFrame'>\n",
      "RangeIndex: 70864 entries, 0 to 70863\n",
      "Columns: 778 entries, horsepower to wheel_system_display_Rear-Wheel Drive\n",
      "dtypes: float64(776), int64(2)\n",
      "memory usage: 420.6 MB\n"
     ]
    }
   ],
   "source": [
    "# Info\n",
    "df_dummies.info()"
   ]
  },
  {
   "cell_type": "markdown",
   "id": "11eb54d0-7ba7-4149-97d8-8c0b07fb7181",
   "metadata": {
    "tags": []
   },
   "source": [
    "## 4) Trainings- und Testingdatensätze erstllen "
   ]
  },
  {
   "cell_type": "code",
   "execution_count": 16,
   "id": "55e65431-96c3-4ecc-8483-727868ad32e6",
   "metadata": {
    "tags": []
   },
   "outputs": [],
   "source": [
    "# X und y definieren\n",
    "X = df_dummies.drop([\"price\"], axis=1)\n",
    "y = df_dummies[\"price\"]"
   ]
  },
  {
   "cell_type": "code",
   "execution_count": 22,
   "id": "2e239afd-a909-4525-95cc-1331165aa372",
   "metadata": {
    "tags": []
   },
   "outputs": [],
   "source": [
    "# Imports\n",
    "from sklearn.model_selection import train_test_split\n",
    "\n",
    "# Train-Test-Split (70%-30%)\n",
    "X_train, X_test, y_train, y_test = train_test_split(X, y, test_size=0.3, random_state=42)"
   ]
  },
  {
   "cell_type": "markdown",
   "id": "e442a3c6-9f32-429c-b9ec-4f92d997cc52",
   "metadata": {},
   "source": [
    "## 5) Modelle trainieren und evaluieren\n",
    "Für die Evaluation werden folgende Metrics verwendet:\n",
    "- R²\n",
    "- Root Mean Squared Error (RMSE)\n",
    "- Mean Absolute Error (MAE)\n",
    "- Mean Absolute Percentage Error (MAPE)\n",
    "\n",
    "Die Mean Absolute Percentage Error (MAPE) misst die Genauigkeit einer Vorhersage, indem sie den durchschnittlichen absoluten Fehler als Prozentsatz der tatsächlichen Werte berechnet. Sie zeigt, wie weit die Vorhersagen im Durchschnitt von den tatsächlichen Werten abweichen, relativ zu den tatsächlichen Werten. Dadurch ermöglicht MAPE einen einfachen Vergleich der Vorhersagegenauigkeit über verschiedene Datensätze hinweg, unabhängig von der Skalierung der Daten.\n",
    "\n",
    "Quelle: https://chatgpt.com/share/a9cfb871-f4a2-46e0-9bdd-7d844967597a "
   ]
  },
  {
   "cell_type": "markdown",
   "id": "2a082547-e8a3-41c0-9945-cafa34eaa964",
   "metadata": {
    "jp-MarkdownHeadingCollapsed": true,
    "tags": []
   },
   "source": [
    "### 5.1) Modelle ohne Cross-Validation und Hyperparameter Tuning"
   ]
  },
  {
   "cell_type": "markdown",
   "id": "8b2ae794-3e8c-43ca-ba00-d5f148071da9",
   "metadata": {
    "tags": []
   },
   "source": [
    "#### 5.1.1) Modell 1 - Lineare Regression"
   ]
  },
  {
   "cell_type": "code",
   "execution_count": 27,
   "id": "eecdc699-a140-458e-8882-7e2c0e29c9ea",
   "metadata": {
    "tags": []
   },
   "outputs": [],
   "source": [
    "# Imports\n",
    "from sklearn.linear_model import LinearRegression\n",
    "from sklearn.metrics import mean_squared_error, r2_score, mean_absolute_error, mean_absolute_percentage_error"
   ]
  },
  {
   "cell_type": "code",
   "execution_count": 29,
   "id": "d87e9ee1-3afb-4a1b-b052-0a62a207c151",
   "metadata": {
    "tags": []
   },
   "outputs": [
    {
     "data": {
      "text/html": [
       "<style>#sk-container-id-1 {color: black;background-color: white;}#sk-container-id-1 pre{padding: 0;}#sk-container-id-1 div.sk-toggleable {background-color: white;}#sk-container-id-1 label.sk-toggleable__label {cursor: pointer;display: block;width: 100%;margin-bottom: 0;padding: 0.3em;box-sizing: border-box;text-align: center;}#sk-container-id-1 label.sk-toggleable__label-arrow:before {content: \"▸\";float: left;margin-right: 0.25em;color: #696969;}#sk-container-id-1 label.sk-toggleable__label-arrow:hover:before {color: black;}#sk-container-id-1 div.sk-estimator:hover label.sk-toggleable__label-arrow:before {color: black;}#sk-container-id-1 div.sk-toggleable__content {max-height: 0;max-width: 0;overflow: hidden;text-align: left;background-color: #f0f8ff;}#sk-container-id-1 div.sk-toggleable__content pre {margin: 0.2em;color: black;border-radius: 0.25em;background-color: #f0f8ff;}#sk-container-id-1 input.sk-toggleable__control:checked~div.sk-toggleable__content {max-height: 200px;max-width: 100%;overflow: auto;}#sk-container-id-1 input.sk-toggleable__control:checked~label.sk-toggleable__label-arrow:before {content: \"▾\";}#sk-container-id-1 div.sk-estimator input.sk-toggleable__control:checked~label.sk-toggleable__label {background-color: #d4ebff;}#sk-container-id-1 div.sk-label input.sk-toggleable__control:checked~label.sk-toggleable__label {background-color: #d4ebff;}#sk-container-id-1 input.sk-hidden--visually {border: 0;clip: rect(1px 1px 1px 1px);clip: rect(1px, 1px, 1px, 1px);height: 1px;margin: -1px;overflow: hidden;padding: 0;position: absolute;width: 1px;}#sk-container-id-1 div.sk-estimator {font-family: monospace;background-color: #f0f8ff;border: 1px dotted black;border-radius: 0.25em;box-sizing: border-box;margin-bottom: 0.5em;}#sk-container-id-1 div.sk-estimator:hover {background-color: #d4ebff;}#sk-container-id-1 div.sk-parallel-item::after {content: \"\";width: 100%;border-bottom: 1px solid gray;flex-grow: 1;}#sk-container-id-1 div.sk-label:hover label.sk-toggleable__label {background-color: #d4ebff;}#sk-container-id-1 div.sk-serial::before {content: \"\";position: absolute;border-left: 1px solid gray;box-sizing: border-box;top: 0;bottom: 0;left: 50%;z-index: 0;}#sk-container-id-1 div.sk-serial {display: flex;flex-direction: column;align-items: center;background-color: white;padding-right: 0.2em;padding-left: 0.2em;position: relative;}#sk-container-id-1 div.sk-item {position: relative;z-index: 1;}#sk-container-id-1 div.sk-parallel {display: flex;align-items: stretch;justify-content: center;background-color: white;position: relative;}#sk-container-id-1 div.sk-item::before, #sk-container-id-1 div.sk-parallel-item::before {content: \"\";position: absolute;border-left: 1px solid gray;box-sizing: border-box;top: 0;bottom: 0;left: 50%;z-index: -1;}#sk-container-id-1 div.sk-parallel-item {display: flex;flex-direction: column;z-index: 1;position: relative;background-color: white;}#sk-container-id-1 div.sk-parallel-item:first-child::after {align-self: flex-end;width: 50%;}#sk-container-id-1 div.sk-parallel-item:last-child::after {align-self: flex-start;width: 50%;}#sk-container-id-1 div.sk-parallel-item:only-child::after {width: 0;}#sk-container-id-1 div.sk-dashed-wrapped {border: 1px dashed gray;margin: 0 0.4em 0.5em 0.4em;box-sizing: border-box;padding-bottom: 0.4em;background-color: white;}#sk-container-id-1 div.sk-label label {font-family: monospace;font-weight: bold;display: inline-block;line-height: 1.2em;}#sk-container-id-1 div.sk-label-container {text-align: center;}#sk-container-id-1 div.sk-container {/* jupyter's `normalize.less` sets `[hidden] { display: none; }` but bootstrap.min.css set `[hidden] { display: none !important; }` so we also need the `!important` here to be able to override the default hidden behavior on the sphinx rendered scikit-learn.org. See: https://github.com/scikit-learn/scikit-learn/issues/21755 */display: inline-block !important;position: relative;}#sk-container-id-1 div.sk-text-repr-fallback {display: none;}</style><div id=\"sk-container-id-1\" class=\"sk-top-container\"><div class=\"sk-text-repr-fallback\"><pre>LinearRegression()</pre><b>In a Jupyter environment, please rerun this cell to show the HTML representation or trust the notebook. <br />On GitHub, the HTML representation is unable to render, please try loading this page with nbviewer.org.</b></div><div class=\"sk-container\" hidden><div class=\"sk-item\"><div class=\"sk-estimator sk-toggleable\"><input class=\"sk-toggleable__control sk-hidden--visually\" id=\"sk-estimator-id-1\" type=\"checkbox\" checked><label for=\"sk-estimator-id-1\" class=\"sk-toggleable__label sk-toggleable__label-arrow\">LinearRegression</label><div class=\"sk-toggleable__content\"><pre>LinearRegression()</pre></div></div></div></div></div>"
      ],
      "text/plain": [
       "LinearRegression()"
      ]
     },
     "execution_count": 29,
     "metadata": {},
     "output_type": "execute_result"
    }
   ],
   "source": [
    "# Modell erstellen und trainieren\n",
    "lin_reg = LinearRegression()\n",
    "lin_reg.fit(X_train, y_train)"
   ]
  },
  {
   "cell_type": "code",
   "execution_count": 30,
   "id": "2e90ef2b-e7cf-43fc-a503-53ad34113871",
   "metadata": {
    "tags": []
   },
   "outputs": [
    {
     "name": "stdout",
     "output_type": "stream",
     "text": [
      "Evaluation auf Trainingsdaten\n",
      "R²-Wert Train: 0.8574655332608325\n",
      "RMSE Train: 5292.151389923104\n",
      "MAE Train: 3803.962116131524\n",
      "MAPE Train: 0.1963417252414145\n"
     ]
    }
   ],
   "source": [
    "# Modellevaluation auf Trainingsdaten\n",
    "\n",
    "# Vorhersagen auf dem Trainingsset machen\n",
    "y_pred_train = lin_reg.predict(X_train)\n",
    "\n",
    "# Evaluationsmetrics berechnen\n",
    "r2_train = r2_score(y_train, y_pred_train)\n",
    "mse_train = mean_squared_error(y_train, y_pred_train)\n",
    "mae_train = mean_absolute_error(y_train, y_pred_train)\n",
    "mape_train = mean_absolute_percentage_error(y_train, y_pred_train)\n",
    "\n",
    "# Prints\n",
    "print(\"Evaluation auf Trainingsdaten\")\n",
    "print(\"R²-Wert Train:\", r2_train)\n",
    "print(\"RMSE Train:\", np.sqrt(mse_train))\n",
    "print(\"MAE Train:\", mae_train)\n",
    "print(\"MAPE Train:\", mape_train)"
   ]
  },
  {
   "cell_type": "code",
   "execution_count": 31,
   "id": "bebed855-17c5-4e6f-a5fa-ece94ce49c9d",
   "metadata": {
    "tags": []
   },
   "outputs": [
    {
     "name": "stdout",
     "output_type": "stream",
     "text": [
      "Evaluation auf Testdaten\n",
      "R²-Wert: -317471031.2697887\n",
      "RMSE: 249539758.2805892\n",
      "MAE: 7431265.498945915\n",
      "MAPE: 492.2760081181507\n"
     ]
    }
   ],
   "source": [
    "# Modellevaluation auf Testdaten\n",
    "\n",
    "# Vorhersagen auf dem Testset machen\n",
    "y_pred = lin_reg.predict(X_test)\n",
    "\n",
    "# Evaluationsmetrics berechnen\n",
    "r2 = r2_score(y_test, y_pred)\n",
    "mse = mean_squared_error(y_test, y_pred)\n",
    "mae = mean_absolute_error(y_test, y_pred)\n",
    "mape = mean_absolute_percentage_error(y_test, y_pred)\n",
    "\n",
    "# Prints\n",
    "print(\"Evaluation auf Testdaten\")\n",
    "print(\"R²-Wert:\", r2)\n",
    "print(\"RMSE:\", np.sqrt(mse))\n",
    "print(\"MAE:\", mae)\n",
    "print(\"MAPE:\", mape)"
   ]
  },
  {
   "cell_type": "markdown",
   "id": "4312438a-f7b0-4b9f-a2c8-6cda5c434ebf",
   "metadata": {
    "tags": []
   },
   "source": [
    "Zusammenfassung Evaluation (Testdaten)\n",
    "\n",
    "|Model|R²-Wert|RMSE|MAE|MAPE|\n",
    "|--|--|--|--|--|\n",
    "|Linear Regression (ohne CV und HT)|-317471031|249539758|7431265|492|\n"
   ]
  },
  {
   "cell_type": "markdown",
   "id": "651e4ff2-899b-4302-8ca8-f796b34f9b93",
   "metadata": {
    "tags": []
   },
   "source": [
    "#### 5.1.2) Modell 2 - Decision Tree Regressor"
   ]
  },
  {
   "cell_type": "code",
   "execution_count": 99,
   "id": "0c7e5c11-0df2-425e-b177-5693c9c13372",
   "metadata": {
    "tags": []
   },
   "outputs": [],
   "source": [
    "# Imports\n",
    "from sklearn.tree import DecisionTreeRegressor\n",
    "from sklearn.metrics import mean_squared_error, mean_absolute_error, r2_score"
   ]
  },
  {
   "cell_type": "code",
   "execution_count": 101,
   "id": "c7cef331-227e-4802-9860-b20eb2710b70",
   "metadata": {
    "tags": []
   },
   "outputs": [
    {
     "data": {
      "text/html": [
       "<style>#sk-container-id-5 {color: black;background-color: white;}#sk-container-id-5 pre{padding: 0;}#sk-container-id-5 div.sk-toggleable {background-color: white;}#sk-container-id-5 label.sk-toggleable__label {cursor: pointer;display: block;width: 100%;margin-bottom: 0;padding: 0.3em;box-sizing: border-box;text-align: center;}#sk-container-id-5 label.sk-toggleable__label-arrow:before {content: \"▸\";float: left;margin-right: 0.25em;color: #696969;}#sk-container-id-5 label.sk-toggleable__label-arrow:hover:before {color: black;}#sk-container-id-5 div.sk-estimator:hover label.sk-toggleable__label-arrow:before {color: black;}#sk-container-id-5 div.sk-toggleable__content {max-height: 0;max-width: 0;overflow: hidden;text-align: left;background-color: #f0f8ff;}#sk-container-id-5 div.sk-toggleable__content pre {margin: 0.2em;color: black;border-radius: 0.25em;background-color: #f0f8ff;}#sk-container-id-5 input.sk-toggleable__control:checked~div.sk-toggleable__content {max-height: 200px;max-width: 100%;overflow: auto;}#sk-container-id-5 input.sk-toggleable__control:checked~label.sk-toggleable__label-arrow:before {content: \"▾\";}#sk-container-id-5 div.sk-estimator input.sk-toggleable__control:checked~label.sk-toggleable__label {background-color: #d4ebff;}#sk-container-id-5 div.sk-label input.sk-toggleable__control:checked~label.sk-toggleable__label {background-color: #d4ebff;}#sk-container-id-5 input.sk-hidden--visually {border: 0;clip: rect(1px 1px 1px 1px);clip: rect(1px, 1px, 1px, 1px);height: 1px;margin: -1px;overflow: hidden;padding: 0;position: absolute;width: 1px;}#sk-container-id-5 div.sk-estimator {font-family: monospace;background-color: #f0f8ff;border: 1px dotted black;border-radius: 0.25em;box-sizing: border-box;margin-bottom: 0.5em;}#sk-container-id-5 div.sk-estimator:hover {background-color: #d4ebff;}#sk-container-id-5 div.sk-parallel-item::after {content: \"\";width: 100%;border-bottom: 1px solid gray;flex-grow: 1;}#sk-container-id-5 div.sk-label:hover label.sk-toggleable__label {background-color: #d4ebff;}#sk-container-id-5 div.sk-serial::before {content: \"\";position: absolute;border-left: 1px solid gray;box-sizing: border-box;top: 0;bottom: 0;left: 50%;z-index: 0;}#sk-container-id-5 div.sk-serial {display: flex;flex-direction: column;align-items: center;background-color: white;padding-right: 0.2em;padding-left: 0.2em;position: relative;}#sk-container-id-5 div.sk-item {position: relative;z-index: 1;}#sk-container-id-5 div.sk-parallel {display: flex;align-items: stretch;justify-content: center;background-color: white;position: relative;}#sk-container-id-5 div.sk-item::before, #sk-container-id-5 div.sk-parallel-item::before {content: \"\";position: absolute;border-left: 1px solid gray;box-sizing: border-box;top: 0;bottom: 0;left: 50%;z-index: -1;}#sk-container-id-5 div.sk-parallel-item {display: flex;flex-direction: column;z-index: 1;position: relative;background-color: white;}#sk-container-id-5 div.sk-parallel-item:first-child::after {align-self: flex-end;width: 50%;}#sk-container-id-5 div.sk-parallel-item:last-child::after {align-self: flex-start;width: 50%;}#sk-container-id-5 div.sk-parallel-item:only-child::after {width: 0;}#sk-container-id-5 div.sk-dashed-wrapped {border: 1px dashed gray;margin: 0 0.4em 0.5em 0.4em;box-sizing: border-box;padding-bottom: 0.4em;background-color: white;}#sk-container-id-5 div.sk-label label {font-family: monospace;font-weight: bold;display: inline-block;line-height: 1.2em;}#sk-container-id-5 div.sk-label-container {text-align: center;}#sk-container-id-5 div.sk-container {/* jupyter's `normalize.less` sets `[hidden] { display: none; }` but bootstrap.min.css set `[hidden] { display: none !important; }` so we also need the `!important` here to be able to override the default hidden behavior on the sphinx rendered scikit-learn.org. See: https://github.com/scikit-learn/scikit-learn/issues/21755 */display: inline-block !important;position: relative;}#sk-container-id-5 div.sk-text-repr-fallback {display: none;}</style><div id=\"sk-container-id-5\" class=\"sk-top-container\"><div class=\"sk-text-repr-fallback\"><pre>DecisionTreeRegressor(random_state=42)</pre><b>In a Jupyter environment, please rerun this cell to show the HTML representation or trust the notebook. <br />On GitHub, the HTML representation is unable to render, please try loading this page with nbviewer.org.</b></div><div class=\"sk-container\" hidden><div class=\"sk-item\"><div class=\"sk-estimator sk-toggleable\"><input class=\"sk-toggleable__control sk-hidden--visually\" id=\"sk-estimator-id-5\" type=\"checkbox\" checked><label for=\"sk-estimator-id-5\" class=\"sk-toggleable__label sk-toggleable__label-arrow\">DecisionTreeRegressor</label><div class=\"sk-toggleable__content\"><pre>DecisionTreeRegressor(random_state=42)</pre></div></div></div></div></div>"
      ],
      "text/plain": [
       "DecisionTreeRegressor(random_state=42)"
      ]
     },
     "execution_count": 101,
     "metadata": {},
     "output_type": "execute_result"
    }
   ],
   "source": [
    "# Decision Tree Regressor erstellen und trainieren\n",
    "tree_model = DecisionTreeRegressor(random_state=42)\n",
    "tree_model.fit(X_train, y_train)"
   ]
  },
  {
   "cell_type": "code",
   "execution_count": 103,
   "id": "d5c7743d-f83b-4154-a9d0-da88e77d6d51",
   "metadata": {
    "tags": []
   },
   "outputs": [
    {
     "name": "stdout",
     "output_type": "stream",
     "text": [
      "Evaluation auf Trainingsdaten\n",
      "R²-Wert Train: 0.9772843466196811\n",
      "RMSE Train: 2112.685872867819\n",
      "MAE Train: 876.2072994503895\n",
      "MAPE Train: 0.025877191966123557\n"
     ]
    }
   ],
   "source": [
    "# Modellevaluation auf Trainingsdaten\n",
    "\n",
    "# Vorhersagen auf dem Trainingsset machen\n",
    "y_pred_train = tree_model.predict(X_train)\n",
    "\n",
    "# Evaluationsmetrics berechnen\n",
    "r2_train = r2_score(y_train, y_pred_train)\n",
    "mse_train = mean_squared_error(y_train, y_pred_train)\n",
    "mae_train = mean_absolute_error(y_train, y_pred_train)\n",
    "mape_train = mean_absolute_percentage_error(y_train, y_pred_train)\n",
    "\n",
    "# Prints\n",
    "print(\"Evaluation auf Trainingsdaten\")\n",
    "print(\"R²-Wert Train:\", r2_train)\n",
    "print(\"RMSE Train:\", np.sqrt(mse_train))\n",
    "print(\"MAE Train:\", mae_train)\n",
    "print(\"MAPE Train:\", mape_train)"
   ]
  },
  {
   "cell_type": "code",
   "execution_count": 105,
   "id": "a107aae7-38ad-442d-8cb3-238a5184ea9c",
   "metadata": {
    "tags": []
   },
   "outputs": [
    {
     "name": "stdout",
     "output_type": "stream",
     "text": [
      "Evaluation auf Testdaten\n",
      "R²-Wert: 0.8917067686700525\n",
      "RMSE: 4608.805222597829\n",
      "MAE: 3136.216084030679\n",
      "MAPE: 0.1284502053299045\n"
     ]
    }
   ],
   "source": [
    "# Modellevaluation auf Testdaten\n",
    "\n",
    "# Vorhersagen auf dem Testset machen\n",
    "y_pred = tree_model.predict(X_test)\n",
    "\n",
    "# Evaluationsmetrics berechnen\n",
    "r2 = r2_score(y_test, y_pred)\n",
    "mse = mean_squared_error(y_test, y_pred)\n",
    "mae = mean_absolute_error(y_test, y_pred)\n",
    "mape = mean_absolute_percentage_error(y_test, y_pred)\n",
    "\n",
    "# Prints\n",
    "print(\"Evaluation auf Testdaten\")\n",
    "print(\"R²-Wert:\", r2)\n",
    "print(\"RMSE:\", np.sqrt(mse))\n",
    "print(\"MAE:\", mae)\n",
    "print(\"MAPE:\", mape)"
   ]
  },
  {
   "cell_type": "markdown",
   "id": "6941fc27-a660-41e3-a07b-3c1267a81d70",
   "metadata": {
    "tags": []
   },
   "source": [
    "Zusammenfassung Evaluation (Testdaten)\n",
    "\n",
    "|Model|R²-Wert|RMSE|MAE|MAPE|\n",
    "|--|--|--|--|--|\n",
    "|Linear Regression (ohne CV und HT)|-317471031|249539758|7431265|492|\n",
    "|Decision Tree Regressor (ohne CV und HT)|0.8917|4609|3136|0.1285|"
   ]
  },
  {
   "cell_type": "markdown",
   "id": "45af2fd7-c6c5-4baa-93f2-6ac66f15d3f2",
   "metadata": {
    "tags": []
   },
   "source": [
    "#### 5.1.3) Modell 3 - Random Forest Regressor"
   ]
  },
  {
   "cell_type": "code",
   "execution_count": 41,
   "id": "4222e74e-ecec-423c-8f02-6b6bdf79d67e",
   "metadata": {
    "tags": []
   },
   "outputs": [],
   "source": [
    "# Imports\n",
    "from sklearn.ensemble import RandomForestRegressor\n",
    "from sklearn.metrics import mean_squared_error, mean_absolute_error, r2_score"
   ]
  },
  {
   "cell_type": "code",
   "execution_count": 43,
   "id": "5d844fb9-68d8-46b8-bcb1-43492f70056f",
   "metadata": {
    "tags": []
   },
   "outputs": [
    {
     "data": {
      "text/html": [
       "<style>#sk-container-id-3 {color: black;background-color: white;}#sk-container-id-3 pre{padding: 0;}#sk-container-id-3 div.sk-toggleable {background-color: white;}#sk-container-id-3 label.sk-toggleable__label {cursor: pointer;display: block;width: 100%;margin-bottom: 0;padding: 0.3em;box-sizing: border-box;text-align: center;}#sk-container-id-3 label.sk-toggleable__label-arrow:before {content: \"▸\";float: left;margin-right: 0.25em;color: #696969;}#sk-container-id-3 label.sk-toggleable__label-arrow:hover:before {color: black;}#sk-container-id-3 div.sk-estimator:hover label.sk-toggleable__label-arrow:before {color: black;}#sk-container-id-3 div.sk-toggleable__content {max-height: 0;max-width: 0;overflow: hidden;text-align: left;background-color: #f0f8ff;}#sk-container-id-3 div.sk-toggleable__content pre {margin: 0.2em;color: black;border-radius: 0.25em;background-color: #f0f8ff;}#sk-container-id-3 input.sk-toggleable__control:checked~div.sk-toggleable__content {max-height: 200px;max-width: 100%;overflow: auto;}#sk-container-id-3 input.sk-toggleable__control:checked~label.sk-toggleable__label-arrow:before {content: \"▾\";}#sk-container-id-3 div.sk-estimator input.sk-toggleable__control:checked~label.sk-toggleable__label {background-color: #d4ebff;}#sk-container-id-3 div.sk-label input.sk-toggleable__control:checked~label.sk-toggleable__label {background-color: #d4ebff;}#sk-container-id-3 input.sk-hidden--visually {border: 0;clip: rect(1px 1px 1px 1px);clip: rect(1px, 1px, 1px, 1px);height: 1px;margin: -1px;overflow: hidden;padding: 0;position: absolute;width: 1px;}#sk-container-id-3 div.sk-estimator {font-family: monospace;background-color: #f0f8ff;border: 1px dotted black;border-radius: 0.25em;box-sizing: border-box;margin-bottom: 0.5em;}#sk-container-id-3 div.sk-estimator:hover {background-color: #d4ebff;}#sk-container-id-3 div.sk-parallel-item::after {content: \"\";width: 100%;border-bottom: 1px solid gray;flex-grow: 1;}#sk-container-id-3 div.sk-label:hover label.sk-toggleable__label {background-color: #d4ebff;}#sk-container-id-3 div.sk-serial::before {content: \"\";position: absolute;border-left: 1px solid gray;box-sizing: border-box;top: 0;bottom: 0;left: 50%;z-index: 0;}#sk-container-id-3 div.sk-serial {display: flex;flex-direction: column;align-items: center;background-color: white;padding-right: 0.2em;padding-left: 0.2em;position: relative;}#sk-container-id-3 div.sk-item {position: relative;z-index: 1;}#sk-container-id-3 div.sk-parallel {display: flex;align-items: stretch;justify-content: center;background-color: white;position: relative;}#sk-container-id-3 div.sk-item::before, #sk-container-id-3 div.sk-parallel-item::before {content: \"\";position: absolute;border-left: 1px solid gray;box-sizing: border-box;top: 0;bottom: 0;left: 50%;z-index: -1;}#sk-container-id-3 div.sk-parallel-item {display: flex;flex-direction: column;z-index: 1;position: relative;background-color: white;}#sk-container-id-3 div.sk-parallel-item:first-child::after {align-self: flex-end;width: 50%;}#sk-container-id-3 div.sk-parallel-item:last-child::after {align-self: flex-start;width: 50%;}#sk-container-id-3 div.sk-parallel-item:only-child::after {width: 0;}#sk-container-id-3 div.sk-dashed-wrapped {border: 1px dashed gray;margin: 0 0.4em 0.5em 0.4em;box-sizing: border-box;padding-bottom: 0.4em;background-color: white;}#sk-container-id-3 div.sk-label label {font-family: monospace;font-weight: bold;display: inline-block;line-height: 1.2em;}#sk-container-id-3 div.sk-label-container {text-align: center;}#sk-container-id-3 div.sk-container {/* jupyter's `normalize.less` sets `[hidden] { display: none; }` but bootstrap.min.css set `[hidden] { display: none !important; }` so we also need the `!important` here to be able to override the default hidden behavior on the sphinx rendered scikit-learn.org. See: https://github.com/scikit-learn/scikit-learn/issues/21755 */display: inline-block !important;position: relative;}#sk-container-id-3 div.sk-text-repr-fallback {display: none;}</style><div id=\"sk-container-id-3\" class=\"sk-top-container\"><div class=\"sk-text-repr-fallback\"><pre>RandomForestRegressor(random_state=42)</pre><b>In a Jupyter environment, please rerun this cell to show the HTML representation or trust the notebook. <br />On GitHub, the HTML representation is unable to render, please try loading this page with nbviewer.org.</b></div><div class=\"sk-container\" hidden><div class=\"sk-item\"><div class=\"sk-estimator sk-toggleable\"><input class=\"sk-toggleable__control sk-hidden--visually\" id=\"sk-estimator-id-3\" type=\"checkbox\" checked><label for=\"sk-estimator-id-3\" class=\"sk-toggleable__label sk-toggleable__label-arrow\">RandomForestRegressor</label><div class=\"sk-toggleable__content\"><pre>RandomForestRegressor(random_state=42)</pre></div></div></div></div></div>"
      ],
      "text/plain": [
       "RandomForestRegressor(random_state=42)"
      ]
     },
     "execution_count": 43,
     "metadata": {},
     "output_type": "execute_result"
    }
   ],
   "source": [
    "# Random Forest Regressor erstellen (n_estimators=100) und trainieren\n",
    "forest_model = RandomForestRegressor(n_estimators=100, random_state=42)\n",
    "forest_model.fit(X_train, y_train)"
   ]
  },
  {
   "cell_type": "code",
   "execution_count": 50,
   "id": "4769b810-dad0-4372-a25c-fd366d7c0f17",
   "metadata": {
    "tags": []
   },
   "outputs": [
    {
     "name": "stdout",
     "output_type": "stream",
     "text": [
      "Evaluation auf Trainingsdaten\n",
      "R²-Wert Train: 0.9709970043985188\n",
      "RMSE Train: 2387.22712257198\n",
      "MAE Train: 1474.5640531867305\n",
      "MAPE Train: 0.054278848777977985\n"
     ]
    }
   ],
   "source": [
    "# Modellevaluation auf Trainingsdaten\n",
    "\n",
    "# Vorhersagen auf dem Trainingsset machen\n",
    "y_pred_train = forest_model.predict(X_train)\n",
    "\n",
    "# Evaluationsmetrics berechnen\n",
    "r2_train = r2_score(y_train, y_pred_train)\n",
    "mse_train = mean_squared_error(y_train, y_pred_train)\n",
    "mae_train = mean_absolute_error(y_train, y_pred_train)\n",
    "mape_train = mean_absolute_percentage_error(y_train, y_pred_train)\n",
    "\n",
    "# Prints\n",
    "print(\"Evaluation auf Trainingsdaten\")\n",
    "print(\"R²-Wert Train:\", r2_train)\n",
    "print(\"RMSE Train:\", np.sqrt(mse_train))\n",
    "print(\"MAE Train:\", mae_train)\n",
    "print(\"MAPE Train:\", mape_train)"
   ]
  },
  {
   "cell_type": "code",
   "execution_count": 51,
   "id": "0d449477-2d8d-463a-b8bf-d4c8f1f04ac2",
   "metadata": {
    "tags": []
   },
   "outputs": [
    {
     "name": "stdout",
     "output_type": "stream",
     "text": [
      "Evaluation auf Testdaten\n",
      "R²-Wert: 0.9225251505194979\n",
      "RMSE: 3898.235467994862\n",
      "MAE: 2667.0212807479406\n",
      "MAPE: 0.10687002602434235\n"
     ]
    }
   ],
   "source": [
    "# Modellevaluation auf Testdaten\n",
    "\n",
    "# Vorhersagen auf dem Testset machen\n",
    "y_pred = forest_model.predict(X_test)\n",
    "\n",
    "# Evaluationsmetrics berechnen\n",
    "r2 = r2_score(y_test, y_pred)\n",
    "mse = mean_squared_error(y_test, y_pred)\n",
    "mae = mean_absolute_error(y_test, y_pred)\n",
    "mape = mean_absolute_percentage_error(y_test, y_pred)\n",
    "\n",
    "# Prints\n",
    "print(\"Evaluation auf Testdaten\")\n",
    "print(\"R²-Wert:\", r2)\n",
    "print(\"RMSE:\", np.sqrt(mse))\n",
    "print(\"MAE:\", mae)\n",
    "print(\"MAPE:\", mape)"
   ]
  },
  {
   "cell_type": "markdown",
   "id": "45403fee-d687-4a9f-91c3-78f722120590",
   "metadata": {
    "tags": []
   },
   "source": [
    "Zusammenfassung Evaluation (Testdaten)\n",
    "\n",
    "|Model|R²-Wert|RMSE|MAE|MAPE|\n",
    "|--|--|--|--|--|\n",
    "|Linear Regression (ohne CV und HT)|-317471031|249539758|7431265|492|\n",
    "|Decision Tree Regressor (ohne CV und HT)|0.8917|4609|3136|0.1285|\n",
    "|Random Forest Regressor (ohne CV und HT)|0.9225|3898|2667|0.1069|"
   ]
  },
  {
   "cell_type": "markdown",
   "id": "9efa7b81-e1e9-4ade-a791-85e87114877c",
   "metadata": {
    "tags": []
   },
   "source": [
    "#### 5.1.4) Modell 4 - Gradient Boosting Regressor"
   ]
  },
  {
   "cell_type": "code",
   "execution_count": 54,
   "id": "73f2e8a7-fae2-46e9-baf0-47afbe3c27e5",
   "metadata": {
    "tags": []
   },
   "outputs": [],
   "source": [
    "# Imports\n",
    "from sklearn.ensemble import GradientBoostingRegressor\n",
    "from sklearn.metrics import mean_squared_error, mean_absolute_error, r2_score"
   ]
  },
  {
   "cell_type": "code",
   "execution_count": 55,
   "id": "300afbce-57a1-476d-9a90-9b4cfd5edba5",
   "metadata": {
    "tags": []
   },
   "outputs": [
    {
     "data": {
      "text/html": [
       "<style>#sk-container-id-4 {color: black;background-color: white;}#sk-container-id-4 pre{padding: 0;}#sk-container-id-4 div.sk-toggleable {background-color: white;}#sk-container-id-4 label.sk-toggleable__label {cursor: pointer;display: block;width: 100%;margin-bottom: 0;padding: 0.3em;box-sizing: border-box;text-align: center;}#sk-container-id-4 label.sk-toggleable__label-arrow:before {content: \"▸\";float: left;margin-right: 0.25em;color: #696969;}#sk-container-id-4 label.sk-toggleable__label-arrow:hover:before {color: black;}#sk-container-id-4 div.sk-estimator:hover label.sk-toggleable__label-arrow:before {color: black;}#sk-container-id-4 div.sk-toggleable__content {max-height: 0;max-width: 0;overflow: hidden;text-align: left;background-color: #f0f8ff;}#sk-container-id-4 div.sk-toggleable__content pre {margin: 0.2em;color: black;border-radius: 0.25em;background-color: #f0f8ff;}#sk-container-id-4 input.sk-toggleable__control:checked~div.sk-toggleable__content {max-height: 200px;max-width: 100%;overflow: auto;}#sk-container-id-4 input.sk-toggleable__control:checked~label.sk-toggleable__label-arrow:before {content: \"▾\";}#sk-container-id-4 div.sk-estimator input.sk-toggleable__control:checked~label.sk-toggleable__label {background-color: #d4ebff;}#sk-container-id-4 div.sk-label input.sk-toggleable__control:checked~label.sk-toggleable__label {background-color: #d4ebff;}#sk-container-id-4 input.sk-hidden--visually {border: 0;clip: rect(1px 1px 1px 1px);clip: rect(1px, 1px, 1px, 1px);height: 1px;margin: -1px;overflow: hidden;padding: 0;position: absolute;width: 1px;}#sk-container-id-4 div.sk-estimator {font-family: monospace;background-color: #f0f8ff;border: 1px dotted black;border-radius: 0.25em;box-sizing: border-box;margin-bottom: 0.5em;}#sk-container-id-4 div.sk-estimator:hover {background-color: #d4ebff;}#sk-container-id-4 div.sk-parallel-item::after {content: \"\";width: 100%;border-bottom: 1px solid gray;flex-grow: 1;}#sk-container-id-4 div.sk-label:hover label.sk-toggleable__label {background-color: #d4ebff;}#sk-container-id-4 div.sk-serial::before {content: \"\";position: absolute;border-left: 1px solid gray;box-sizing: border-box;top: 0;bottom: 0;left: 50%;z-index: 0;}#sk-container-id-4 div.sk-serial {display: flex;flex-direction: column;align-items: center;background-color: white;padding-right: 0.2em;padding-left: 0.2em;position: relative;}#sk-container-id-4 div.sk-item {position: relative;z-index: 1;}#sk-container-id-4 div.sk-parallel {display: flex;align-items: stretch;justify-content: center;background-color: white;position: relative;}#sk-container-id-4 div.sk-item::before, #sk-container-id-4 div.sk-parallel-item::before {content: \"\";position: absolute;border-left: 1px solid gray;box-sizing: border-box;top: 0;bottom: 0;left: 50%;z-index: -1;}#sk-container-id-4 div.sk-parallel-item {display: flex;flex-direction: column;z-index: 1;position: relative;background-color: white;}#sk-container-id-4 div.sk-parallel-item:first-child::after {align-self: flex-end;width: 50%;}#sk-container-id-4 div.sk-parallel-item:last-child::after {align-self: flex-start;width: 50%;}#sk-container-id-4 div.sk-parallel-item:only-child::after {width: 0;}#sk-container-id-4 div.sk-dashed-wrapped {border: 1px dashed gray;margin: 0 0.4em 0.5em 0.4em;box-sizing: border-box;padding-bottom: 0.4em;background-color: white;}#sk-container-id-4 div.sk-label label {font-family: monospace;font-weight: bold;display: inline-block;line-height: 1.2em;}#sk-container-id-4 div.sk-label-container {text-align: center;}#sk-container-id-4 div.sk-container {/* jupyter's `normalize.less` sets `[hidden] { display: none; }` but bootstrap.min.css set `[hidden] { display: none !important; }` so we also need the `!important` here to be able to override the default hidden behavior on the sphinx rendered scikit-learn.org. See: https://github.com/scikit-learn/scikit-learn/issues/21755 */display: inline-block !important;position: relative;}#sk-container-id-4 div.sk-text-repr-fallback {display: none;}</style><div id=\"sk-container-id-4\" class=\"sk-top-container\"><div class=\"sk-text-repr-fallback\"><pre>GradientBoostingRegressor(random_state=42)</pre><b>In a Jupyter environment, please rerun this cell to show the HTML representation or trust the notebook. <br />On GitHub, the HTML representation is unable to render, please try loading this page with nbviewer.org.</b></div><div class=\"sk-container\" hidden><div class=\"sk-item\"><div class=\"sk-estimator sk-toggleable\"><input class=\"sk-toggleable__control sk-hidden--visually\" id=\"sk-estimator-id-4\" type=\"checkbox\" checked><label for=\"sk-estimator-id-4\" class=\"sk-toggleable__label sk-toggleable__label-arrow\">GradientBoostingRegressor</label><div class=\"sk-toggleable__content\"><pre>GradientBoostingRegressor(random_state=42)</pre></div></div></div></div></div>"
      ],
      "text/plain": [
       "GradientBoostingRegressor(random_state=42)"
      ]
     },
     "execution_count": 55,
     "metadata": {},
     "output_type": "execute_result"
    }
   ],
   "source": [
    "# Gradient Boosting Regressor erstellen (n_estimators=100 und learning_rate=0.1, max_depth=3) und trainieren\n",
    "gb_model = GradientBoostingRegressor(n_estimators=100, learning_rate=0.1, max_depth=3, random_state=42)\n",
    "gb_model.fit(X_train, y_train)"
   ]
  },
  {
   "cell_type": "code",
   "execution_count": 56,
   "id": "d0f05aa9-5f29-46f9-80fd-a11c760baaa0",
   "metadata": {
    "tags": []
   },
   "outputs": [
    {
     "name": "stdout",
     "output_type": "stream",
     "text": [
      "Evaluation auf Trainingsdaten\n",
      "R²-Wert Train: 0.8848022076401431\n",
      "RMSE Train: 4757.670816737391\n",
      "MAE Train: 3400.4058375417803\n",
      "MAPE Train: 0.14125615670258718\n"
     ]
    }
   ],
   "source": [
    "# Modellevaluation auf Trainingsdaten\n",
    "\n",
    "# Vorhersagen auf dem Trainingsset machen\n",
    "y_pred_train = gb_model.predict(X_train)\n",
    "\n",
    "# Evaluationsmetrics berechnen\n",
    "r2_train = r2_score(y_train, y_pred_train)\n",
    "mse_train = mean_squared_error(y_train, y_pred_train)\n",
    "mae_train = mean_absolute_error(y_train, y_pred_train)\n",
    "mape_train = mean_absolute_percentage_error(y_train, y_pred_train)\n",
    "\n",
    "# Prints\n",
    "print(\"Evaluation auf Trainingsdaten\")\n",
    "print(\"R²-Wert Train:\", r2_train)\n",
    "print(\"RMSE Train:\", np.sqrt(mse_train))\n",
    "print(\"MAE Train:\", mae_train)\n",
    "print(\"MAPE Train:\", mape_train)"
   ]
  },
  {
   "cell_type": "code",
   "execution_count": 57,
   "id": "7f6a4660-34cc-4242-8593-282ab67f0287",
   "metadata": {
    "tags": []
   },
   "outputs": [
    {
     "name": "stdout",
     "output_type": "stream",
     "text": [
      "Evaluation auf Testdaten\n",
      "R²-Wert: 0.8809888273508041\n",
      "RMSE: 4831.495342523516\n",
      "MAE: 3422.319535952205\n",
      "MAPE: 0.1412198301727322\n"
     ]
    }
   ],
   "source": [
    "# Modellevaluation auf Testdaten\n",
    "\n",
    "# Vorhersagen auf dem Testset machen\n",
    "y_pred = gb_model.predict(X_test)\n",
    "\n",
    "# Evaluationsmetrics berechnen\n",
    "r2 = r2_score(y_test, y_pred)\n",
    "mse = mean_squared_error(y_test, y_pred)\n",
    "mae = mean_absolute_error(y_test, y_pred)\n",
    "mape = mean_absolute_percentage_error(y_test, y_pred)\n",
    "\n",
    "# Prints\n",
    "print(\"Evaluation auf Testdaten\")\n",
    "print(\"R²-Wert:\", r2)\n",
    "print(\"RMSE:\", np.sqrt(mse))\n",
    "print(\"MAE:\", mae)\n",
    "print(\"MAPE:\", mape)"
   ]
  },
  {
   "cell_type": "markdown",
   "id": "011a6f85-de4b-403f-9896-9d53621bcafd",
   "metadata": {
    "tags": []
   },
   "source": [
    "Zusammenfassung Evaluation (Testdaten)\n",
    "\n",
    "|Model|R²-Wert|RMSE|MAE|MAPE|\n",
    "|--|--|--|--|--|\n",
    "|Linear Regression (ohne CV und HT)|-317471031|249539758|7431265|492|\n",
    "|Decision Tree Regressor (ohne CV und HT)|0.8917|4609|3136|0.1285|\n",
    "|Random Forest Regressor (ohne CV und HT)|0.9225|3898|2667|0.1069|\n",
    "|Gradient Boosting Regressor (ohne CV und HT)|0.8810|4831|3422|0.1412|"
   ]
  },
  {
   "cell_type": "markdown",
   "id": "920447ef-0185-48b7-b5d7-01dc12039ec6",
   "metadata": {
    "jp-MarkdownHeadingCollapsed": true,
    "tags": []
   },
   "source": [
    "### 5.2) Modellevaluation mit Cross-Validation\n",
    "\n",
    "Die Kreuzvalidierungswerte bieten eine zuverlässige Schätzung der Modellleistung, indem sie das Modell in mehreren Durchläufen auf unterschiedlichen Teilmengen des Trainingsdatensatzes testen, was hilft, die Generalisierbarkeit des Modells auf neue, unbekannte Daten zu beurteilen. Sie ermöglichen es auch, die Modellstabilität zu überprüfen, da signifikante Schwankungen in den Scores auf potenzielle Probleme wie Über- oder Unteranpassung hinweisen können. (Quelle: ChatGPT: https://chatgpt.com/share/8fac80cf-2967-467d-92f2-04f7c1b0efcb)\n",
    "\n",
    "\n",
    "Quellen Code: \n",
    "- https://scikit-learn.org/stable/modules/generated/sklearn.model_selection.cross_val_score.html\n",
    "- https://stackoverflow.com/questions/60761775/should-cross-validation-score-be-performed-on-original-or-split-data\n",
    "- https://chatgpt.com/share/8fac80cf-2967-467d-92f2-04f7c1b0efcb"
   ]
  },
  {
   "cell_type": "code",
   "execution_count": 107,
   "id": "241af34c-00e9-4d75-b40b-4509c796e184",
   "metadata": {
    "tags": []
   },
   "outputs": [],
   "source": [
    "# Imports\n",
    "from sklearn.model_selection import KFold, cross_val_score\n",
    "\n",
    "# Anuahl Folds\n",
    "kf = KFold(n_splits=5, shuffle=True, random_state=42)"
   ]
  },
  {
   "cell_type": "code",
   "execution_count": 109,
   "id": "79448a65-26f5-4b3a-ad82-2ece96709064",
   "metadata": {
    "tags": []
   },
   "outputs": [
    {
     "name": "stdout",
     "output_type": "stream",
     "text": [
      "MSE Scores für jedes Fold: [3.14920867e+07 6.72356115e+14 2.88804814e+07 9.51051474e+19\n",
      " 3.31743805e+07]\n",
      "Durchschnittlicher MSE: 1.902116394748101e+19\n"
     ]
    }
   ],
   "source": [
    "# Scoring für Lineare Regression\n",
    "scores_linreg = cross_val_score(lin_reg, X_test, y_test, cv=kf, scoring=\"neg_mean_squared_error\")\n",
    "\n",
    "# Print Scores\n",
    "print(\"MSE Scores für jedes Fold:\", -scores_linreg)\n",
    "print(\"Durchschnittlicher MSE:\", -scores_linreg.mean())"
   ]
  },
  {
   "cell_type": "code",
   "execution_count": 67,
   "id": "1bac117f-7945-4f2c-a83c-2ab01d5dec3a",
   "metadata": {
    "tags": []
   },
   "outputs": [
    {
     "name": "stdout",
     "output_type": "stream",
     "text": [
      "Scores für jedes Fold: [0.87498009 0.87084851 0.8706902  0.8575702  0.87287157]\n",
      "Durchschnittliche Genauigkeit: 0.8693921160202519\n",
      "Standardabweichung Genauigkiet: 0.006113849465043129\n"
     ]
    }
   ],
   "source": [
    "# Scoring für Decision Tree Regressor\n",
    "scores_dtr = cross_val_score(tree_model, X_test, y_test, cv=kf)\n",
    "\n",
    "# Print Scores\n",
    "print(\"Scores für jedes Fold:\", scores_dtr)\n",
    "print(\"Durchschnittliche Genauigkeit:\", scores_dtr.mean())\n",
    "print(\"Standardabweichung Genauigkiet:\", scores_dtr.std())"
   ]
  },
  {
   "cell_type": "code",
   "execution_count": 68,
   "id": "bfc02298-cb18-4b66-9f75-7c735e44bc3f",
   "metadata": {
    "tags": []
   },
   "outputs": [
    {
     "name": "stdout",
     "output_type": "stream",
     "text": [
      "Scores für jedes Fold: [0.90755192 0.91093104 0.91382217 0.90082554 0.9103387 ]\n",
      "Durchschnittliche Genauigkeit: 0.9086938761722625\n",
      "Standardabweichung Genauigkiet: 0.0044096382431423956\n"
     ]
    }
   ],
   "source": [
    "# Scoring für Random Forest Regressor\n",
    "scores_rfr = cross_val_score(forest_model, X_test, y_test, cv=kf)\n",
    "\n",
    "# Print Scores\n",
    "print(\"Scores für jedes Fold:\", scores_rfr)\n",
    "print(\"Durchschnittliche Genauigkeit:\", scores_rfr.mean())\n",
    "print(\"Standardabweichung Genauigkiet:\", scores_rfr.std())"
   ]
  },
  {
   "cell_type": "code",
   "execution_count": 69,
   "id": "807e92ec-0b3e-472f-a236-77460266fd4f",
   "metadata": {
    "tags": []
   },
   "outputs": [
    {
     "name": "stdout",
     "output_type": "stream",
     "text": [
      "Scores für jedes Fold: [0.87757894 0.88081707 0.88645172 0.86379119 0.87920133]\n",
      "Durchschnittliche Genauigkeit: 0.8775680509497021\n",
      "Standardabweichung Genauigkiet: 0.0075092649741962956\n"
     ]
    }
   ],
   "source": [
    "# Scoring für Gradient Boosting Regressor\n",
    "scores_gbr = cross_val_score(gb_model, X_test, y_test, cv=kf)\n",
    "\n",
    "# Print Scores\n",
    "print(\"Scores für jedes Fold:\", scores_gbr)\n",
    "print(\"Durchschnittliche Genauigkeit:\", scores_gbr.mean())\n",
    "print(\"Standardabweichung Genauigkiet:\", scores_gbr.std())"
   ]
  },
  {
   "cell_type": "markdown",
   "id": "4bc21c2f-f081-4c50-beda-62592754d9f5",
   "metadata": {},
   "source": [
    "### 5.3) Crossvalidation und Hyperparametertuning"
   ]
  },
  {
   "cell_type": "markdown",
   "id": "1bbf74d2-3e39-4337-8549-ed12204f0acb",
   "metadata": {},
   "source": [
    "#### 5.3.1) Kleineres Datenset erstellen für Hyperparametertuning aufgrund der Laufzeit\n",
    "Da die Modelle mit Crossvalidation und Hyperaparametertuning sehr lange gebraucht haben, um durchzulaufen oder gar nicht durchgelaufen sind/gecrashed sind, haben wir das Dataset in einem ersten Schritt verringert, um die besten Hyperparameter zu finden und die Modelle mit allen Daten anschliessend mit diesen Parametern zu trainieren."
   ]
  },
  {
   "cell_type": "code",
   "execution_count": 139,
   "id": "4f04ba01-5b4c-4a13-a626-0b696b9b2fd9",
   "metadata": {
    "tags": []
   },
   "outputs": [],
   "source": [
    "# Sample-Dataset erstellen\n",
    "df_sample = df_dummies.sample(n=1000, random_state=1) "
   ]
  },
  {
   "cell_type": "code",
   "execution_count": 145,
   "id": "40c695d5-0176-4394-a70b-4bd3fc8a8a84",
   "metadata": {
    "tags": []
   },
   "outputs": [],
   "source": [
    "# X und y definieren\n",
    "X_sample = df_sample.drop([\"price\"], axis=1)\n",
    "y_sample = df_sample[\"price\"]"
   ]
  },
  {
   "cell_type": "code",
   "execution_count": 147,
   "id": "9367be1e-d605-4064-bec6-36dae375d8e1",
   "metadata": {
    "tags": []
   },
   "outputs": [],
   "source": [
    "# Train-Test-Split (70%-30%)\n",
    "X_train_sample, X_test_sample, y_train_sample, y_test_sample = train_test_split(X_sample, y_sample, test_size=0.3, random_state=42)"
   ]
  },
  {
   "cell_type": "code",
   "execution_count": 149,
   "id": "940b3c50-b9a8-4c35-bb53-e76912fad3d5",
   "metadata": {
    "tags": []
   },
   "outputs": [],
   "source": [
    "# Imports\n",
    "from sklearn.model_selection import GridSearchCV"
   ]
  },
  {
   "cell_type": "code",
   "execution_count": 151,
   "id": "55c2c87c-10ec-4178-ac14-2053080ad354",
   "metadata": {
    "tags": []
   },
   "outputs": [],
   "source": [
    "# Parameter-Grid (Quelle: ChatGPT: https://chatgpt.com/share/8fac80cf-2967-467d-92f2-04f7c1b0efcb\n",
    "param_grid_decision_tree = {\n",
    "    'max_depth': [None, 10, 20, 30, 40, 50],\n",
    "    'min_samples_split': [2, 10, 20],\n",
    "    'min_samples_leaf': [1, 2, 4],\n",
    "}"
   ]
  },
  {
   "cell_type": "code",
   "execution_count": 127,
   "id": "eab77a92-8ab4-42c3-8633-385e898bbba0",
   "metadata": {
    "tags": []
   },
   "outputs": [],
   "source": [
    "# DecisionTreeRegressor-Modell mit CV erstellen\n",
    "\n",
    "\n",
    "# DecisionTreeRegressor-Modell mit gültigem Kriterium initialisieren\n",
    "tree_model = DecisionTreeRegressor(criterion=\"squared_error\", random_state=1)\n",
    "tree_model_CV = GridSearchCV(tree_model, parameters, cv=5)\n",
    "\n",
    "# Trainieren Sie das Modell mit den Trainingsdaten\n",
    "tree_model_CV.fit(X_train, y_train)\n",
    "\n",
    "tree_CV = GridSearchCV(DecisionTreeRegressor(random_state=1),param_grid_decision_tree, cv=5)"
   ]
  },
  {
   "cell_type": "code",
   "execution_count": 129,
   "id": "1ce1ba1a-8d8e-4367-9760-3332c75baf06",
   "metadata": {
    "tags": []
   },
   "outputs": [
    {
     "data": {
      "text/plain": [
       "{'max_depth': 40, 'min_samples_leaf': 2, 'min_samples_split': 20}"
      ]
     },
     "execution_count": 129,
     "metadata": {},
     "output_type": "execute_result"
    }
   ],
   "source": [
    "# Training\n",
    "tree_CV.fit(X_train, y_train)\n",
    "\n",
    "tree_CV.best_params_"
   ]
  },
  {
   "cell_type": "code",
   "execution_count": 359,
   "id": "51d78eb4-1d7a-4cdd-b241-3d7f4bed35f7",
   "metadata": {
    "tags": []
   },
   "outputs": [
    {
     "name": "stdout",
     "output_type": "stream",
     "text": [
      "Evaluation auf Trainingsdaten\n",
      "R²-Wert Train: 0.8574655332608325\n",
      "RMSE Train: 5292.151389923104\n",
      "MAE Train: 3803.962116131524\n",
      "MAPE Train: 0.1963417252414145\n"
     ]
    }
   ],
   "source": [
    "# Modellevaluation auf Trainingsdaten\n",
    "\n",
    "# Vorhersagen auf dem Trainingsset machen\n",
    "y_pred_train = tree_CV.predict(X_train)\n",
    "\n",
    "# Evaluationsmetrics berechnen\n",
    "r2_train = r2_score(y_train, y_pred_train)\n",
    "mse_train = mean_squared_error(y_train, y_pred_train)\n",
    "mae_train = mean_absolute_error(y_train, y_pred_train)\n",
    "mape_train = mean_absolute_percentage_error(y_train, y_pred_train)\n",
    "\n",
    "# Prints\n",
    "print(\"Evaluation auf Trainingsdaten\")\n",
    "print(\"R²-Wert Train:\", r2_train)\n",
    "print(\"RMSE Train:\", np.sqrt(mse_train))\n",
    "print(\"MAE Train:\", mae_train)\n",
    "print(\"MAPE Train:\", mape_train)"
   ]
  },
  {
   "cell_type": "code",
   "execution_count": 360,
   "id": "7fb3f763-0a25-4161-9f31-6ae7f6063e37",
   "metadata": {
    "tags": []
   },
   "outputs": [
    {
     "name": "stdout",
     "output_type": "stream",
     "text": [
      "Evaluation auf Testdaten\n",
      "R²-Wert: -317471031.2697887\n",
      "RMSE: 249539758.2805892\n",
      "MAE: 7431265.498945915\n",
      "MAPE: 492.2760081181507\n"
     ]
    }
   ],
   "source": [
    "# Modellevaluation auf Testdaten\n",
    "\n",
    "# Vorhersagen auf dem Testset machen\n",
    "y_pred = lin_reg.predict(X_test)\n",
    "\n",
    "# Evaluationsmetrics berechnen\n",
    "r2 = r2_score(y_test, y_pred)\n",
    "mse = mean_squared_error(y_test, y_pred)\n",
    "mae = mean_absolute_error(y_test, y_pred)\n",
    "mape = mean_absolute_percentage_error(y_test, y_pred)\n",
    "\n",
    "# Prints\n",
    "print(\"Evaluation auf Testdaten\")\n",
    "print(\"R²-Wert:\", r2)\n",
    "print(\"RMSE:\", np.sqrt(mse))\n",
    "print(\"MAE:\", mae)\n",
    "print(\"MAPE:\", mape)"
   ]
  },
  {
   "cell_type": "markdown",
   "id": "6c5fbd83-e2ad-473a-b993-0352d35e51b4",
   "metadata": {
    "tags": []
   },
   "source": [
    "Zusammenfassung Evaluation (Testdaten)\n",
    "\n",
    "|Model|R²-Wert|RMSE|MAE|MAPE|\n",
    "|--|--|--|--|--|\n",
    "|Linear Regression (ohne CV und HT)|-317471031|249539758|7431265|492|\n"
   ]
  },
  {
   "cell_type": "markdown",
   "id": "c6dafeaa-a312-413f-aeb3-c33fa454216c",
   "metadata": {
    "jp-MarkdownHeadingCollapsed": true,
    "tags": []
   },
   "source": [
    "#### 5.1.2) Modell 2 - Decision Tree Regressor"
   ]
  },
  {
   "cell_type": "code",
   "execution_count": 365,
   "id": "74bebce4-3372-4dbc-a48d-77db648060ad",
   "metadata": {
    "tags": []
   },
   "outputs": [],
   "source": [
    "# Imports\n",
    "from sklearn.tree import DecisionTreeRegressor\n",
    "from sklearn.metrics import mean_squared_error, mean_absolute_error, r2_score"
   ]
  },
  {
   "cell_type": "code",
   "execution_count": 367,
   "id": "288fc5bf-c241-4351-b264-7751c93a2bde",
   "metadata": {
    "tags": []
   },
   "outputs": [
    {
     "data": {
      "text/html": [
       "<style>#sk-container-id-16 {color: black;background-color: white;}#sk-container-id-16 pre{padding: 0;}#sk-container-id-16 div.sk-toggleable {background-color: white;}#sk-container-id-16 label.sk-toggleable__label {cursor: pointer;display: block;width: 100%;margin-bottom: 0;padding: 0.3em;box-sizing: border-box;text-align: center;}#sk-container-id-16 label.sk-toggleable__label-arrow:before {content: \"▸\";float: left;margin-right: 0.25em;color: #696969;}#sk-container-id-16 label.sk-toggleable__label-arrow:hover:before {color: black;}#sk-container-id-16 div.sk-estimator:hover label.sk-toggleable__label-arrow:before {color: black;}#sk-container-id-16 div.sk-toggleable__content {max-height: 0;max-width: 0;overflow: hidden;text-align: left;background-color: #f0f8ff;}#sk-container-id-16 div.sk-toggleable__content pre {margin: 0.2em;color: black;border-radius: 0.25em;background-color: #f0f8ff;}#sk-container-id-16 input.sk-toggleable__control:checked~div.sk-toggleable__content {max-height: 200px;max-width: 100%;overflow: auto;}#sk-container-id-16 input.sk-toggleable__control:checked~label.sk-toggleable__label-arrow:before {content: \"▾\";}#sk-container-id-16 div.sk-estimator input.sk-toggleable__control:checked~label.sk-toggleable__label {background-color: #d4ebff;}#sk-container-id-16 div.sk-label input.sk-toggleable__control:checked~label.sk-toggleable__label {background-color: #d4ebff;}#sk-container-id-16 input.sk-hidden--visually {border: 0;clip: rect(1px 1px 1px 1px);clip: rect(1px, 1px, 1px, 1px);height: 1px;margin: -1px;overflow: hidden;padding: 0;position: absolute;width: 1px;}#sk-container-id-16 div.sk-estimator {font-family: monospace;background-color: #f0f8ff;border: 1px dotted black;border-radius: 0.25em;box-sizing: border-box;margin-bottom: 0.5em;}#sk-container-id-16 div.sk-estimator:hover {background-color: #d4ebff;}#sk-container-id-16 div.sk-parallel-item::after {content: \"\";width: 100%;border-bottom: 1px solid gray;flex-grow: 1;}#sk-container-id-16 div.sk-label:hover label.sk-toggleable__label {background-color: #d4ebff;}#sk-container-id-16 div.sk-serial::before {content: \"\";position: absolute;border-left: 1px solid gray;box-sizing: border-box;top: 0;bottom: 0;left: 50%;z-index: 0;}#sk-container-id-16 div.sk-serial {display: flex;flex-direction: column;align-items: center;background-color: white;padding-right: 0.2em;padding-left: 0.2em;position: relative;}#sk-container-id-16 div.sk-item {position: relative;z-index: 1;}#sk-container-id-16 div.sk-parallel {display: flex;align-items: stretch;justify-content: center;background-color: white;position: relative;}#sk-container-id-16 div.sk-item::before, #sk-container-id-16 div.sk-parallel-item::before {content: \"\";position: absolute;border-left: 1px solid gray;box-sizing: border-box;top: 0;bottom: 0;left: 50%;z-index: -1;}#sk-container-id-16 div.sk-parallel-item {display: flex;flex-direction: column;z-index: 1;position: relative;background-color: white;}#sk-container-id-16 div.sk-parallel-item:first-child::after {align-self: flex-end;width: 50%;}#sk-container-id-16 div.sk-parallel-item:last-child::after {align-self: flex-start;width: 50%;}#sk-container-id-16 div.sk-parallel-item:only-child::after {width: 0;}#sk-container-id-16 div.sk-dashed-wrapped {border: 1px dashed gray;margin: 0 0.4em 0.5em 0.4em;box-sizing: border-box;padding-bottom: 0.4em;background-color: white;}#sk-container-id-16 div.sk-label label {font-family: monospace;font-weight: bold;display: inline-block;line-height: 1.2em;}#sk-container-id-16 div.sk-label-container {text-align: center;}#sk-container-id-16 div.sk-container {/* jupyter's `normalize.less` sets `[hidden] { display: none; }` but bootstrap.min.css set `[hidden] { display: none !important; }` so we also need the `!important` here to be able to override the default hidden behavior on the sphinx rendered scikit-learn.org. See: https://github.com/scikit-learn/scikit-learn/issues/21755 */display: inline-block !important;position: relative;}#sk-container-id-16 div.sk-text-repr-fallback {display: none;}</style><div id=\"sk-container-id-16\" class=\"sk-top-container\"><div class=\"sk-text-repr-fallback\"><pre>DecisionTreeRegressor(random_state=42)</pre><b>In a Jupyter environment, please rerun this cell to show the HTML representation or trust the notebook. <br />On GitHub, the HTML representation is unable to render, please try loading this page with nbviewer.org.</b></div><div class=\"sk-container\" hidden><div class=\"sk-item\"><div class=\"sk-estimator sk-toggleable\"><input class=\"sk-toggleable__control sk-hidden--visually\" id=\"sk-estimator-id-16\" type=\"checkbox\" checked><label for=\"sk-estimator-id-16\" class=\"sk-toggleable__label sk-toggleable__label-arrow\">DecisionTreeRegressor</label><div class=\"sk-toggleable__content\"><pre>DecisionTreeRegressor(random_state=42)</pre></div></div></div></div></div>"
      ],
      "text/plain": [
       "DecisionTreeRegressor(random_state=42)"
      ]
     },
     "execution_count": 367,
     "metadata": {},
     "output_type": "execute_result"
    }
   ],
   "source": [
    "# Decision Tree Regressor erstellen und trainieren\n",
    "tree_model = DecisionTreeRegressor(random_state=42)\n",
    "tree_model.fit(X_train, y_train)"
   ]
  },
  {
   "cell_type": "code",
   "execution_count": 368,
   "id": "d32a6ea3-4dda-4eda-a9a5-af4729f64a4f",
   "metadata": {
    "tags": []
   },
   "outputs": [
    {
     "name": "stdout",
     "output_type": "stream",
     "text": [
      "Evaluation auf Trainingsdaten\n",
      "R²-Wert Train: 0.9772843466196811\n",
      "RMSE Train: 2112.685872867819\n",
      "MAE Train: 876.2072994503895\n",
      "MAPE Train: 0.025877191966123557\n"
     ]
    }
   ],
   "source": [
    "# Modellevaluation auf Trainingsdaten\n",
    "\n",
    "# Vorhersagen auf dem Trainingsset machen\n",
    "y_pred_train = tree_model.predict(X_train)\n",
    "\n",
    "# Evaluationsmetrics berechnen\n",
    "r2_train = r2_score(y_train, y_pred_train)\n",
    "mse_train = mean_squared_error(y_train, y_pred_train)\n",
    "mae_train = mean_absolute_error(y_train, y_pred_train)\n",
    "mape_train = mean_absolute_percentage_error(y_train, y_pred_train)\n",
    "\n",
    "# Prints\n",
    "print(\"Evaluation auf Trainingsdaten\")\n",
    "print(\"R²-Wert Train:\", r2_train)\n",
    "print(\"RMSE Train:\", np.sqrt(mse_train))\n",
    "print(\"MAE Train:\", mae_train)\n",
    "print(\"MAPE Train:\", mape_train)"
   ]
  },
  {
   "cell_type": "code",
   "execution_count": 369,
   "id": "e113642d-bc71-4549-9905-444c958caea4",
   "metadata": {
    "tags": []
   },
   "outputs": [
    {
     "name": "stdout",
     "output_type": "stream",
     "text": [
      "Evaluation auf Testdaten\n",
      "R²-Wert: 0.8917067686700525\n",
      "RMSE: 4608.805222597829\n",
      "MAE: 3136.216084030679\n",
      "MAPE: 0.1284502053299045\n"
     ]
    }
   ],
   "source": [
    "# Modellevaluation auf Testdaten\n",
    "\n",
    "# Vorhersagen auf dem Testset machen\n",
    "y_pred = tree_model.predict(X_test)\n",
    "\n",
    "# Evaluationsmetrics berechnen\n",
    "r2 = r2_score(y_test, y_pred)\n",
    "mse = mean_squared_error(y_test, y_pred)\n",
    "mae = mean_absolute_error(y_test, y_pred)\n",
    "mape = mean_absolute_percentage_error(y_test, y_pred)\n",
    "\n",
    "# Prints\n",
    "print(\"Evaluation auf Testdaten\")\n",
    "print(\"R²-Wert:\", r2)\n",
    "print(\"RMSE:\", np.sqrt(mse))\n",
    "print(\"MAE:\", mae)\n",
    "print(\"MAPE:\", mape)"
   ]
  },
  {
   "cell_type": "markdown",
   "id": "369d11a4-3b6a-45f0-b03e-92ef8d2a2788",
   "metadata": {
    "tags": []
   },
   "source": [
    "Zusammenfassung Evaluation (Testdaten)\n",
    "\n",
    "|Model|R²-Wert|RMSE|MAE|MAPE|\n",
    "|--|--|--|--|--|\n",
    "|Linear Regression (ohne CV und HT)|-317471031|249539758|7431265|492|\n",
    "|Decision Tree Regressor (ohne CV und HT)|0.8917|4609|3136|0.1285|"
   ]
  },
  {
   "cell_type": "markdown",
   "id": "edbe86f8-ddc0-49a9-b920-145926432bb8",
   "metadata": {
    "jp-MarkdownHeadingCollapsed": true,
    "tags": []
   },
   "source": [
    "#### 5.1.3) Modell 3 - Random Forest Regressor"
   ]
  },
  {
   "cell_type": "code",
   "execution_count": 348,
   "id": "f96d1b76-2b6f-4baa-b673-3cec68f8f40e",
   "metadata": {
    "tags": []
   },
   "outputs": [],
   "source": [
    "# Imports\n",
    "from sklearn.ensemble import RandomForestRegressor\n",
    "from sklearn.metrics import mean_squared_error, mean_absolute_error, r2_score"
   ]
  },
  {
   "cell_type": "code",
   "execution_count": 350,
   "id": "32e38436-0cbb-4361-8644-bee82e416531",
   "metadata": {
    "tags": []
   },
   "outputs": [
    {
     "data": {
      "text/html": [
       "<style>#sk-container-id-14 {color: black;background-color: white;}#sk-container-id-14 pre{padding: 0;}#sk-container-id-14 div.sk-toggleable {background-color: white;}#sk-container-id-14 label.sk-toggleable__label {cursor: pointer;display: block;width: 100%;margin-bottom: 0;padding: 0.3em;box-sizing: border-box;text-align: center;}#sk-container-id-14 label.sk-toggleable__label-arrow:before {content: \"▸\";float: left;margin-right: 0.25em;color: #696969;}#sk-container-id-14 label.sk-toggleable__label-arrow:hover:before {color: black;}#sk-container-id-14 div.sk-estimator:hover label.sk-toggleable__label-arrow:before {color: black;}#sk-container-id-14 div.sk-toggleable__content {max-height: 0;max-width: 0;overflow: hidden;text-align: left;background-color: #f0f8ff;}#sk-container-id-14 div.sk-toggleable__content pre {margin: 0.2em;color: black;border-radius: 0.25em;background-color: #f0f8ff;}#sk-container-id-14 input.sk-toggleable__control:checked~div.sk-toggleable__content {max-height: 200px;max-width: 100%;overflow: auto;}#sk-container-id-14 input.sk-toggleable__control:checked~label.sk-toggleable__label-arrow:before {content: \"▾\";}#sk-container-id-14 div.sk-estimator input.sk-toggleable__control:checked~label.sk-toggleable__label {background-color: #d4ebff;}#sk-container-id-14 div.sk-label input.sk-toggleable__control:checked~label.sk-toggleable__label {background-color: #d4ebff;}#sk-container-id-14 input.sk-hidden--visually {border: 0;clip: rect(1px 1px 1px 1px);clip: rect(1px, 1px, 1px, 1px);height: 1px;margin: -1px;overflow: hidden;padding: 0;position: absolute;width: 1px;}#sk-container-id-14 div.sk-estimator {font-family: monospace;background-color: #f0f8ff;border: 1px dotted black;border-radius: 0.25em;box-sizing: border-box;margin-bottom: 0.5em;}#sk-container-id-14 div.sk-estimator:hover {background-color: #d4ebff;}#sk-container-id-14 div.sk-parallel-item::after {content: \"\";width: 100%;border-bottom: 1px solid gray;flex-grow: 1;}#sk-container-id-14 div.sk-label:hover label.sk-toggleable__label {background-color: #d4ebff;}#sk-container-id-14 div.sk-serial::before {content: \"\";position: absolute;border-left: 1px solid gray;box-sizing: border-box;top: 0;bottom: 0;left: 50%;z-index: 0;}#sk-container-id-14 div.sk-serial {display: flex;flex-direction: column;align-items: center;background-color: white;padding-right: 0.2em;padding-left: 0.2em;position: relative;}#sk-container-id-14 div.sk-item {position: relative;z-index: 1;}#sk-container-id-14 div.sk-parallel {display: flex;align-items: stretch;justify-content: center;background-color: white;position: relative;}#sk-container-id-14 div.sk-item::before, #sk-container-id-14 div.sk-parallel-item::before {content: \"\";position: absolute;border-left: 1px solid gray;box-sizing: border-box;top: 0;bottom: 0;left: 50%;z-index: -1;}#sk-container-id-14 div.sk-parallel-item {display: flex;flex-direction: column;z-index: 1;position: relative;background-color: white;}#sk-container-id-14 div.sk-parallel-item:first-child::after {align-self: flex-end;width: 50%;}#sk-container-id-14 div.sk-parallel-item:last-child::after {align-self: flex-start;width: 50%;}#sk-container-id-14 div.sk-parallel-item:only-child::after {width: 0;}#sk-container-id-14 div.sk-dashed-wrapped {border: 1px dashed gray;margin: 0 0.4em 0.5em 0.4em;box-sizing: border-box;padding-bottom: 0.4em;background-color: white;}#sk-container-id-14 div.sk-label label {font-family: monospace;font-weight: bold;display: inline-block;line-height: 1.2em;}#sk-container-id-14 div.sk-label-container {text-align: center;}#sk-container-id-14 div.sk-container {/* jupyter's `normalize.less` sets `[hidden] { display: none; }` but bootstrap.min.css set `[hidden] { display: none !important; }` so we also need the `!important` here to be able to override the default hidden behavior on the sphinx rendered scikit-learn.org. See: https://github.com/scikit-learn/scikit-learn/issues/21755 */display: inline-block !important;position: relative;}#sk-container-id-14 div.sk-text-repr-fallback {display: none;}</style><div id=\"sk-container-id-14\" class=\"sk-top-container\"><div class=\"sk-text-repr-fallback\"><pre>RandomForestRegressor(random_state=42)</pre><b>In a Jupyter environment, please rerun this cell to show the HTML representation or trust the notebook. <br />On GitHub, the HTML representation is unable to render, please try loading this page with nbviewer.org.</b></div><div class=\"sk-container\" hidden><div class=\"sk-item\"><div class=\"sk-estimator sk-toggleable\"><input class=\"sk-toggleable__control sk-hidden--visually\" id=\"sk-estimator-id-14\" type=\"checkbox\" checked><label for=\"sk-estimator-id-14\" class=\"sk-toggleable__label sk-toggleable__label-arrow\">RandomForestRegressor</label><div class=\"sk-toggleable__content\"><pre>RandomForestRegressor(random_state=42)</pre></div></div></div></div></div>"
      ],
      "text/plain": [
       "RandomForestRegressor(random_state=42)"
      ]
     },
     "execution_count": 350,
     "metadata": {},
     "output_type": "execute_result"
    }
   ],
   "source": [
    "# Random Forest Regressor erstellen (n_estimators=100) und trainieren\n",
    "forest_model = RandomForestRegressor(n_estimators=100, random_state=42)\n",
    "forest_model.fit(X_train, y_train)"
   ]
  },
  {
   "cell_type": "code",
   "execution_count": 351,
   "id": "50e3385d-ffde-4fac-8a1f-cd111c6624e8",
   "metadata": {
    "tags": []
   },
   "outputs": [
    {
     "name": "stdout",
     "output_type": "stream",
     "text": [
      "Evaluation auf Trainingsdaten\n",
      "R²-Wert Train: 0.9709970043985188\n",
      "RMSE Train: 2387.22712257198\n",
      "MAE Train: 1474.5640531867305\n",
      "MAPE Train: 0.054278848777977985\n"
     ]
    }
   ],
   "source": [
    "# Modellevaluation auf Trainingsdaten\n",
    "\n",
    "# Vorhersagen auf dem Trainingsset machen\n",
    "y_pred_train = forest_model.predict(X_train)\n",
    "\n",
    "# Evaluationsmetrics berechnen\n",
    "r2_train = r2_score(y_train, y_pred_train)\n",
    "mse_train = mean_squared_error(y_train, y_pred_train)\n",
    "mae_train = mean_absolute_error(y_train, y_pred_train)\n",
    "mape_train = mean_absolute_percentage_error(y_train, y_pred_train)\n",
    "\n",
    "# Prints\n",
    "print(\"Evaluation auf Trainingsdaten\")\n",
    "print(\"R²-Wert Train:\", r2_train)\n",
    "print(\"RMSE Train:\", np.sqrt(mse_train))\n",
    "print(\"MAE Train:\", mae_train)\n",
    "print(\"MAPE Train:\", mape_train)"
   ]
  },
  {
   "cell_type": "code",
   "execution_count": 352,
   "id": "3c767f47-0a53-4ad2-b0a2-1132af00ed52",
   "metadata": {
    "tags": []
   },
   "outputs": [
    {
     "name": "stdout",
     "output_type": "stream",
     "text": [
      "Evaluation auf Testdaten\n",
      "R²-Wert: 0.9225251505194979\n",
      "RMSE: 3898.235467994862\n",
      "MAE: 2667.0212807479406\n",
      "MAPE: 0.10687002602434235\n"
     ]
    }
   ],
   "source": [
    "# Modellevaluation auf Testdaten\n",
    "\n",
    "# Vorhersagen auf dem Testset machen\n",
    "y_pred = forest_model.predict(X_test)\n",
    "\n",
    "# Evaluationsmetrics berechnen\n",
    "r2 = r2_score(y_test, y_pred)\n",
    "mse = mean_squared_error(y_test, y_pred)\n",
    "mae = mean_absolute_error(y_test, y_pred)\n",
    "mape = mean_absolute_percentage_error(y_test, y_pred)\n",
    "\n",
    "# Prints\n",
    "print(\"Evaluation auf Testdaten\")\n",
    "print(\"R²-Wert:\", r2)\n",
    "print(\"RMSE:\", np.sqrt(mse))\n",
    "print(\"MAE:\", mae)\n",
    "print(\"MAPE:\", mape)"
   ]
  },
  {
   "cell_type": "markdown",
   "id": "6e2adff3-f250-44de-a553-267240c3cecb",
   "metadata": {
    "tags": []
   },
   "source": [
    "Zusammenfassung Evaluation (Testdaten)\n",
    "\n",
    "|Model|R²-Wert|RMSE|MAE|MAPE|\n",
    "|--|--|--|--|--|\n",
    "|Linear Regression (ohne CV und HT)|-317471031|249539758|7431265|492|\n",
    "|Decision Tree Regressor (ohne CV und HT)|0.8917|4609|3136|0.1285|\n",
    "|Random Forest Regressor (ohne CV und HT)|0.9225|3898|2667|0.1069|"
   ]
  },
  {
   "cell_type": "markdown",
   "id": "9c0a5751-445f-45ff-aa9c-21a036d660e4",
   "metadata": {
    "jp-MarkdownHeadingCollapsed": true,
    "tags": []
   },
   "source": [
    "#### 5.1.4) Modell 4 - Gradient Boosting Regressor"
   ]
  },
  {
   "cell_type": "code",
   "execution_count": 382,
   "id": "58876394-6521-475a-b334-1d7649f18efd",
   "metadata": {
    "tags": []
   },
   "outputs": [],
   "source": [
    "# Imports\n",
    "from sklearn.ensemble import GradientBoostingRegressor\n",
    "from sklearn.metrics import mean_squared_error, mean_absolute_error, r2_score"
   ]
  },
  {
   "cell_type": "code",
   "execution_count": 384,
   "id": "c569b691-0c13-421d-a5bb-1faf19b71ae7",
   "metadata": {
    "tags": []
   },
   "outputs": [
    {
     "data": {
      "text/html": [
       "<style>#sk-container-id-17 {color: black;background-color: white;}#sk-container-id-17 pre{padding: 0;}#sk-container-id-17 div.sk-toggleable {background-color: white;}#sk-container-id-17 label.sk-toggleable__label {cursor: pointer;display: block;width: 100%;margin-bottom: 0;padding: 0.3em;box-sizing: border-box;text-align: center;}#sk-container-id-17 label.sk-toggleable__label-arrow:before {content: \"▸\";float: left;margin-right: 0.25em;color: #696969;}#sk-container-id-17 label.sk-toggleable__label-arrow:hover:before {color: black;}#sk-container-id-17 div.sk-estimator:hover label.sk-toggleable__label-arrow:before {color: black;}#sk-container-id-17 div.sk-toggleable__content {max-height: 0;max-width: 0;overflow: hidden;text-align: left;background-color: #f0f8ff;}#sk-container-id-17 div.sk-toggleable__content pre {margin: 0.2em;color: black;border-radius: 0.25em;background-color: #f0f8ff;}#sk-container-id-17 input.sk-toggleable__control:checked~div.sk-toggleable__content {max-height: 200px;max-width: 100%;overflow: auto;}#sk-container-id-17 input.sk-toggleable__control:checked~label.sk-toggleable__label-arrow:before {content: \"▾\";}#sk-container-id-17 div.sk-estimator input.sk-toggleable__control:checked~label.sk-toggleable__label {background-color: #d4ebff;}#sk-container-id-17 div.sk-label input.sk-toggleable__control:checked~label.sk-toggleable__label {background-color: #d4ebff;}#sk-container-id-17 input.sk-hidden--visually {border: 0;clip: rect(1px 1px 1px 1px);clip: rect(1px, 1px, 1px, 1px);height: 1px;margin: -1px;overflow: hidden;padding: 0;position: absolute;width: 1px;}#sk-container-id-17 div.sk-estimator {font-family: monospace;background-color: #f0f8ff;border: 1px dotted black;border-radius: 0.25em;box-sizing: border-box;margin-bottom: 0.5em;}#sk-container-id-17 div.sk-estimator:hover {background-color: #d4ebff;}#sk-container-id-17 div.sk-parallel-item::after {content: \"\";width: 100%;border-bottom: 1px solid gray;flex-grow: 1;}#sk-container-id-17 div.sk-label:hover label.sk-toggleable__label {background-color: #d4ebff;}#sk-container-id-17 div.sk-serial::before {content: \"\";position: absolute;border-left: 1px solid gray;box-sizing: border-box;top: 0;bottom: 0;left: 50%;z-index: 0;}#sk-container-id-17 div.sk-serial {display: flex;flex-direction: column;align-items: center;background-color: white;padding-right: 0.2em;padding-left: 0.2em;position: relative;}#sk-container-id-17 div.sk-item {position: relative;z-index: 1;}#sk-container-id-17 div.sk-parallel {display: flex;align-items: stretch;justify-content: center;background-color: white;position: relative;}#sk-container-id-17 div.sk-item::before, #sk-container-id-17 div.sk-parallel-item::before {content: \"\";position: absolute;border-left: 1px solid gray;box-sizing: border-box;top: 0;bottom: 0;left: 50%;z-index: -1;}#sk-container-id-17 div.sk-parallel-item {display: flex;flex-direction: column;z-index: 1;position: relative;background-color: white;}#sk-container-id-17 div.sk-parallel-item:first-child::after {align-self: flex-end;width: 50%;}#sk-container-id-17 div.sk-parallel-item:last-child::after {align-self: flex-start;width: 50%;}#sk-container-id-17 div.sk-parallel-item:only-child::after {width: 0;}#sk-container-id-17 div.sk-dashed-wrapped {border: 1px dashed gray;margin: 0 0.4em 0.5em 0.4em;box-sizing: border-box;padding-bottom: 0.4em;background-color: white;}#sk-container-id-17 div.sk-label label {font-family: monospace;font-weight: bold;display: inline-block;line-height: 1.2em;}#sk-container-id-17 div.sk-label-container {text-align: center;}#sk-container-id-17 div.sk-container {/* jupyter's `normalize.less` sets `[hidden] { display: none; }` but bootstrap.min.css set `[hidden] { display: none !important; }` so we also need the `!important` here to be able to override the default hidden behavior on the sphinx rendered scikit-learn.org. See: https://github.com/scikit-learn/scikit-learn/issues/21755 */display: inline-block !important;position: relative;}#sk-container-id-17 div.sk-text-repr-fallback {display: none;}</style><div id=\"sk-container-id-17\" class=\"sk-top-container\"><div class=\"sk-text-repr-fallback\"><pre>GradientBoostingRegressor(random_state=42)</pre><b>In a Jupyter environment, please rerun this cell to show the HTML representation or trust the notebook. <br />On GitHub, the HTML representation is unable to render, please try loading this page with nbviewer.org.</b></div><div class=\"sk-container\" hidden><div class=\"sk-item\"><div class=\"sk-estimator sk-toggleable\"><input class=\"sk-toggleable__control sk-hidden--visually\" id=\"sk-estimator-id-17\" type=\"checkbox\" checked><label for=\"sk-estimator-id-17\" class=\"sk-toggleable__label sk-toggleable__label-arrow\">GradientBoostingRegressor</label><div class=\"sk-toggleable__content\"><pre>GradientBoostingRegressor(random_state=42)</pre></div></div></div></div></div>"
      ],
      "text/plain": [
       "GradientBoostingRegressor(random_state=42)"
      ]
     },
     "execution_count": 384,
     "metadata": {},
     "output_type": "execute_result"
    }
   ],
   "source": [
    "# Gradient Boosting Regressor erstellen (n_estimators=100 und learning_rate=0.1, max_depth=3) und trainieren\n",
    "gb_model = GradientBoostingRegressor(n_estimators=100, learning_rate=0.1, max_depth=3, random_state=42)\n",
    "gb_model.fit(X_train, y_train)"
   ]
  },
  {
   "cell_type": "code",
   "execution_count": 385,
   "id": "fd876276-fcc8-4cd7-b699-83d63ce6c317",
   "metadata": {
    "tags": []
   },
   "outputs": [
    {
     "name": "stdout",
     "output_type": "stream",
     "text": [
      "Evaluation auf Trainingsdaten\n",
      "R²-Wert Train: 0.8848022076401431\n",
      "RMSE Train: 4757.670816737391\n",
      "MAE Train: 3400.4058375417803\n",
      "MAPE Train: 0.14125615670258718\n"
     ]
    }
   ],
   "source": [
    "# Modellevaluation auf Trainingsdaten\n",
    "\n",
    "# Vorhersagen auf dem Trainingsset machen\n",
    "y_pred_train = gb_model.predict(X_train)\n",
    "\n",
    "# Evaluationsmetrics berechnen\n",
    "r2_train = r2_score(y_train, y_pred_train)\n",
    "mse_train = mean_squared_error(y_train, y_pred_train)\n",
    "mae_train = mean_absolute_error(y_train, y_pred_train)\n",
    "mape_train = mean_absolute_percentage_error(y_train, y_pred_train)\n",
    "\n",
    "# Prints\n",
    "print(\"Evaluation auf Trainingsdaten\")\n",
    "print(\"R²-Wert Train:\", r2_train)\n",
    "print(\"RMSE Train:\", np.sqrt(mse_train))\n",
    "print(\"MAE Train:\", mae_train)\n",
    "print(\"MAPE Train:\", mape_train)"
   ]
  },
  {
   "cell_type": "code",
   "execution_count": 386,
   "id": "180c5c23-10c9-40c0-a374-b69d79cf501d",
   "metadata": {
    "tags": []
   },
   "outputs": [
    {
     "name": "stdout",
     "output_type": "stream",
     "text": [
      "Evaluation auf Testdaten\n",
      "R²-Wert: 0.8809888273508041\n",
      "RMSE: 4831.495342523516\n",
      "MAE: 3422.319535952205\n",
      "MAPE: 0.1412198301727322\n"
     ]
    }
   ],
   "source": [
    "# Modellevaluation auf Testdaten\n",
    "\n",
    "# Vorhersagen auf dem Testset machen\n",
    "y_pred = gb_model.predict(X_test)\n",
    "\n",
    "# Evaluationsmetrics berechnen\n",
    "r2 = r2_score(y_test, y_pred)\n",
    "mse = mean_squared_error(y_test, y_pred)\n",
    "mae = mean_absolute_error(y_test, y_pred)\n",
    "mape = mean_absolute_percentage_error(y_test, y_pred)\n",
    "\n",
    "# Prints\n",
    "print(\"Evaluation auf Testdaten\")\n",
    "print(\"R²-Wert:\", r2)\n",
    "print(\"RMSE:\", np.sqrt(mse))\n",
    "print(\"MAE:\", mae)\n",
    "print(\"MAPE:\", mape)"
   ]
  },
  {
   "cell_type": "markdown",
   "id": "d1807b0d-a43e-4370-af01-3d369b66bc36",
   "metadata": {
    "tags": []
   },
   "source": [
    "Zusammenfassung Evaluation (Testdaten)\n",
    "\n",
    "|Model|R²-Wert|RMSE|MAE|MAPE|\n",
    "|--|--|--|--|--|\n",
    "|Linear Regression (ohne CV und HT)|-317471031|249539758|7431265|492|\n",
    "|Decision Tree Regressor (ohne CV und HT)|0.8917|4609|3136|0.1285|\n",
    "|Random Forest Regressor (ohne CV und HT)|0.9225|3898|2667|0.1069|\n",
    "|Gradient Boosting Regressor (ohne CV und HT)|0.8810|4831|3422|0.1412|"
   ]
  },
  {
   "cell_type": "markdown",
   "id": "1c2b3163-7b02-4cc8-83ed-60bfc4dcaeef",
   "metadata": {},
   "source": []
  }
 ],
 "metadata": {
  "kernelspec": {
   "display_name": "Python 3 (ipykernel)",
   "language": "python",
   "name": "python3"
  },
  "language_info": {
   "codemirror_mode": {
    "name": "ipython",
    "version": 3
   },
   "file_extension": ".py",
   "mimetype": "text/x-python",
   "name": "python",
   "nbconvert_exporter": "python",
   "pygments_lexer": "ipython3",
   "version": "3.11.7"
  }
 },
 "nbformat": 4,
 "nbformat_minor": 5
}
