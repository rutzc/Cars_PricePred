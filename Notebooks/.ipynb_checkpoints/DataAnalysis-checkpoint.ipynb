{
 "cells": [
  {
   "cell_type": "markdown",
   "metadata": {
    "id": "si1gOb87cYM5"
   },
   "source": [
    "# Capstone Projekt - Wiederverkaufswert von Gebrauchtwagen vorhersagen"
   ]
  },
  {
   "cell_type": "markdown",
   "metadata": {},
   "source": [
    "## Erstes Ausprobieren und Analysieren der Daten"
   ]
  },
  {
   "cell_type": "markdown",
   "metadata": {
    "id": "dgK6OlTFhcx9"
   },
   "source": [
    "### 1) Libraries importieren"
   ]
  },
  {
   "cell_type": "code",
   "execution_count": 43,
   "metadata": {
    "id": "nPXkIj8kcVXu"
   },
   "outputs": [],
   "source": [
    "# Libraries importieren\n",
    "import pandas as pd\n",
    "import numpy as np\n",
    "import matplotlib.pyplot as plt\n",
    "import seaborn as sns"
   ]
  },
  {
   "cell_type": "markdown",
   "metadata": {
    "id": "H3NuIRqecf1x"
   },
   "source": [
    "### 2) Daten einlesen und einen ersten Überblick bekommen"
   ]
  },
  {
   "cell_type": "raw",
   "metadata": {},
   "source": [
    "Wir haben den Datensatz im Vorab aus Kaggle verkleinert, sodass er leichter für uns einzulesen ist."
   ]
  },
  {
   "cell_type": "code",
   "execution_count": 44,
   "metadata": {
    "colab": {
     "base_uri": "https://localhost:8080/",
     "height": 414
    },
    "id": "ppUJB3ACckh4",
    "outputId": "41b5acf4-2be0-4543-a204-b4155a520db0"
   },
   "outputs": [
    {
     "name": "stderr",
     "output_type": "stream",
     "text": [
      "/var/folders/t0/c2fxt23510b0pbbwwvprk99c0000gn/T/ipykernel_12087/3670687703.py:2: DtypeWarning: Columns (12) have mixed types. Specify dtype option on import or set low_memory=False.\n",
      "  df = pd.read_csv(\"/Users/allegratrepte/Desktop/sample_data_100k.csv\")\n"
     ]
    },
    {
     "data": {
      "text/html": [
       "<div>\n",
       "<style scoped>\n",
       "    .dataframe tbody tr th:only-of-type {\n",
       "        vertical-align: middle;\n",
       "    }\n",
       "\n",
       "    .dataframe tbody tr th {\n",
       "        vertical-align: top;\n",
       "    }\n",
       "\n",
       "    .dataframe thead th {\n",
       "        text-align: right;\n",
       "    }\n",
       "</style>\n",
       "<table border=\"1\" class=\"dataframe\">\n",
       "  <thead>\n",
       "    <tr style=\"text-align: right;\">\n",
       "      <th></th>\n",
       "      <th>Unnamed: 0</th>\n",
       "      <th>vin</th>\n",
       "      <th>back_legroom</th>\n",
       "      <th>bed</th>\n",
       "      <th>bed_height</th>\n",
       "      <th>bed_length</th>\n",
       "      <th>body_type</th>\n",
       "      <th>cabin</th>\n",
       "      <th>city</th>\n",
       "      <th>city_fuel_economy</th>\n",
       "      <th>...</th>\n",
       "      <th>transmission</th>\n",
       "      <th>transmission_display</th>\n",
       "      <th>trimId</th>\n",
       "      <th>trim_name</th>\n",
       "      <th>vehicle_damage_category</th>\n",
       "      <th>wheel_system</th>\n",
       "      <th>wheel_system_display</th>\n",
       "      <th>wheelbase</th>\n",
       "      <th>width</th>\n",
       "      <th>year</th>\n",
       "    </tr>\n",
       "  </thead>\n",
       "  <tbody>\n",
       "    <tr>\n",
       "      <th>0</th>\n",
       "      <td>0</td>\n",
       "      <td>SALYK2FV7LA250497</td>\n",
       "      <td>37.1 in</td>\n",
       "      <td>NaN</td>\n",
       "      <td>NaN</td>\n",
       "      <td>NaN</td>\n",
       "      <td>SUV / Crossover</td>\n",
       "      <td>NaN</td>\n",
       "      <td>San Juan</td>\n",
       "      <td>NaN</td>\n",
       "      <td>...</td>\n",
       "      <td>A</td>\n",
       "      <td>8-Speed Automatic Overdrive</td>\n",
       "      <td>t85617</td>\n",
       "      <td>P340 R-Dynamic S AWD</td>\n",
       "      <td>NaN</td>\n",
       "      <td>AWD</td>\n",
       "      <td>All-Wheel Drive</td>\n",
       "      <td>113.1 in</td>\n",
       "      <td>84.4 in</td>\n",
       "      <td>2020</td>\n",
       "    </tr>\n",
       "    <tr>\n",
       "      <th>1</th>\n",
       "      <td>1</td>\n",
       "      <td>1C3CCCAB3GN124951</td>\n",
       "      <td>37.6 in</td>\n",
       "      <td>NaN</td>\n",
       "      <td>NaN</td>\n",
       "      <td>NaN</td>\n",
       "      <td>Sedan</td>\n",
       "      <td>NaN</td>\n",
       "      <td>Bronx</td>\n",
       "      <td>23.0</td>\n",
       "      <td>...</td>\n",
       "      <td>A</td>\n",
       "      <td>9-Speed Automatic</td>\n",
       "      <td>t58595</td>\n",
       "      <td>Limited Sedan FWD</td>\n",
       "      <td>NaN</td>\n",
       "      <td>FWD</td>\n",
       "      <td>Front-Wheel Drive</td>\n",
       "      <td>108 in</td>\n",
       "      <td>73.6 in</td>\n",
       "      <td>2016</td>\n",
       "    </tr>\n",
       "    <tr>\n",
       "      <th>2</th>\n",
       "      <td>2</td>\n",
       "      <td>ZACNJBC11KPK05419</td>\n",
       "      <td>35.1 in</td>\n",
       "      <td>NaN</td>\n",
       "      <td>NaN</td>\n",
       "      <td>NaN</td>\n",
       "      <td>SUV / Crossover</td>\n",
       "      <td>NaN</td>\n",
       "      <td>Bayamon</td>\n",
       "      <td>NaN</td>\n",
       "      <td>...</td>\n",
       "      <td>A</td>\n",
       "      <td>9-Speed Automatic Overdrive</td>\n",
       "      <td>t83346</td>\n",
       "      <td>Trailhawk 4WD</td>\n",
       "      <td>NaN</td>\n",
       "      <td>4WD</td>\n",
       "      <td>Four-Wheel Drive</td>\n",
       "      <td>101.2 in</td>\n",
       "      <td>79.6 in</td>\n",
       "      <td>2019</td>\n",
       "    </tr>\n",
       "    <tr>\n",
       "      <th>3</th>\n",
       "      <td>3</td>\n",
       "      <td>1C4RDJDG2JC150071</td>\n",
       "      <td>38.6 in</td>\n",
       "      <td>NaN</td>\n",
       "      <td>NaN</td>\n",
       "      <td>NaN</td>\n",
       "      <td>SUV / Crossover</td>\n",
       "      <td>NaN</td>\n",
       "      <td>Bronx</td>\n",
       "      <td>18.0</td>\n",
       "      <td>...</td>\n",
       "      <td>A</td>\n",
       "      <td>8-Speed Automatic</td>\n",
       "      <td>t75321</td>\n",
       "      <td>GT AWD</td>\n",
       "      <td>NaN</td>\n",
       "      <td>AWD</td>\n",
       "      <td>All-Wheel Drive</td>\n",
       "      <td>119.8 in</td>\n",
       "      <td>85.5 in</td>\n",
       "      <td>2018</td>\n",
       "    </tr>\n",
       "    <tr>\n",
       "      <th>4</th>\n",
       "      <td>4</td>\n",
       "      <td>2GNALBEK2G6249104</td>\n",
       "      <td>39.9 in</td>\n",
       "      <td>NaN</td>\n",
       "      <td>NaN</td>\n",
       "      <td>NaN</td>\n",
       "      <td>SUV / Crossover</td>\n",
       "      <td>NaN</td>\n",
       "      <td>Bay Shore</td>\n",
       "      <td>NaN</td>\n",
       "      <td>...</td>\n",
       "      <td>A</td>\n",
       "      <td>6-Speed Automatic Overdrive</td>\n",
       "      <td>t58666</td>\n",
       "      <td>LT FWD</td>\n",
       "      <td>NaN</td>\n",
       "      <td>FWD</td>\n",
       "      <td>Front-Wheel Drive</td>\n",
       "      <td>112.5 in</td>\n",
       "      <td>72.5 in</td>\n",
       "      <td>2016</td>\n",
       "    </tr>\n",
       "  </tbody>\n",
       "</table>\n",
       "<p>5 rows × 67 columns</p>\n",
       "</div>"
      ],
      "text/plain": [
       "   Unnamed: 0                vin back_legroom  bed bed_height bed_length  \\\n",
       "0           0  SALYK2FV7LA250497      37.1 in  NaN        NaN        NaN   \n",
       "1           1  1C3CCCAB3GN124951      37.6 in  NaN        NaN        NaN   \n",
       "2           2  ZACNJBC11KPK05419      35.1 in  NaN        NaN        NaN   \n",
       "3           3  1C4RDJDG2JC150071      38.6 in  NaN        NaN        NaN   \n",
       "4           4  2GNALBEK2G6249104      39.9 in  NaN        NaN        NaN   \n",
       "\n",
       "         body_type cabin       city  city_fuel_economy  ...  transmission  \\\n",
       "0  SUV / Crossover   NaN   San Juan                NaN  ...             A   \n",
       "1            Sedan   NaN      Bronx               23.0  ...             A   \n",
       "2  SUV / Crossover   NaN    Bayamon                NaN  ...             A   \n",
       "3  SUV / Crossover   NaN      Bronx               18.0  ...             A   \n",
       "4  SUV / Crossover   NaN  Bay Shore                NaN  ...             A   \n",
       "\n",
       "          transmission_display  trimId             trim_name  \\\n",
       "0  8-Speed Automatic Overdrive  t85617  P340 R-Dynamic S AWD   \n",
       "1            9-Speed Automatic  t58595     Limited Sedan FWD   \n",
       "2  9-Speed Automatic Overdrive  t83346         Trailhawk 4WD   \n",
       "3            8-Speed Automatic  t75321                GT AWD   \n",
       "4  6-Speed Automatic Overdrive  t58666                LT FWD   \n",
       "\n",
       "  vehicle_damage_category  wheel_system wheel_system_display wheelbase  \\\n",
       "0                     NaN           AWD      All-Wheel Drive  113.1 in   \n",
       "1                     NaN           FWD    Front-Wheel Drive    108 in   \n",
       "2                     NaN           4WD     Four-Wheel Drive  101.2 in   \n",
       "3                     NaN           AWD      All-Wheel Drive  119.8 in   \n",
       "4                     NaN           FWD    Front-Wheel Drive  112.5 in   \n",
       "\n",
       "     width  year  \n",
       "0  84.4 in  2020  \n",
       "1  73.6 in  2016  \n",
       "2  79.6 in  2019  \n",
       "3  85.5 in  2018  \n",
       "4  72.5 in  2016  \n",
       "\n",
       "[5 rows x 67 columns]"
      ]
     },
     "execution_count": 44,
     "metadata": {},
     "output_type": "execute_result"
    }
   ],
   "source": [
    "# Daten importieren\n",
    "df = pd.read_csv(\"/Users/allegratrepte/Desktop/sample_data_100k.csv\")\n",
    "\n",
    "# Daten inspizieren\n",
    "df.head()"
   ]
  },
  {
   "cell_type": "code",
   "execution_count": 45,
   "metadata": {
    "colab": {
     "base_uri": "https://localhost:8080/"
    },
    "id": "3Nw-VeSxh1es",
    "outputId": "f272d171-559e-4908-9c0c-65fed41c62ab"
   },
   "outputs": [
    {
     "name": "stdout",
     "output_type": "stream",
     "text": [
      "<class 'pandas.core.frame.DataFrame'>\n",
      "RangeIndex: 100040 entries, 0 to 100039\n",
      "Data columns (total 67 columns):\n",
      " #   Column                   Non-Null Count   Dtype  \n",
      "---  ------                   --------------   -----  \n",
      " 0   Unnamed: 0               100040 non-null  int64  \n",
      " 1   vin                      100040 non-null  object \n",
      " 2   back_legroom             94722 non-null   object \n",
      " 3   bed                      659 non-null     object \n",
      " 4   bed_height               14110 non-null   object \n",
      " 5   bed_length               14110 non-null   object \n",
      " 6   body_type                99607 non-null   object \n",
      " 7   cabin                    2058 non-null    object \n",
      " 8   city                     100040 non-null  object \n",
      " 9   city_fuel_economy        83760 non-null   float64\n",
      " 10  combine_fuel_economy     0 non-null       float64\n",
      " 11  daysonmarket             100040 non-null  int64  \n",
      " 12  dealer_zip               100040 non-null  object \n",
      " 13  description              97428 non-null   object \n",
      " 14  engine_cylinders         96726 non-null   object \n",
      " 15  engine_displacement      94274 non-null   float64\n",
      " 16  engine_type              96726 non-null   object \n",
      " 17  exterior_color           98260 non-null   object \n",
      " 18  fleet                    52414 non-null   object \n",
      " 19  frame_damaged            52414 non-null   object \n",
      " 20  franchise_dealer         100040 non-null  bool   \n",
      " 21  franchise_make           80849 non-null   object \n",
      " 22  front_legroom            94722 non-null   object \n",
      " 23  fuel_tank_volume         94722 non-null   object \n",
      " 24  fuel_type                97324 non-null   object \n",
      " 25  has_accidents            52414 non-null   object \n",
      " 26  height                   94722 non-null   object \n",
      " 27  highway_fuel_economy     83760 non-null   float64\n",
      " 28  horsepower               94274 non-null   float64\n",
      " 29  interior_color           87150 non-null   object \n",
      " 30  isCab                    52414 non-null   object \n",
      " 31  is_certified             0 non-null       float64\n",
      " 32  is_cpo                   6117 non-null    object \n",
      " 33  is_new                   100040 non-null  bool   \n",
      " 34  is_oemcpo                4556 non-null    object \n",
      " 35  latitude                 100040 non-null  float64\n",
      " 36  length                   94722 non-null   object \n",
      " 37  listed_date              100040 non-null  object \n",
      " 38  listing_color            100040 non-null  object \n",
      " 39  listing_id               100040 non-null  int64  \n",
      " 40  longitude                100040 non-null  float64\n",
      " 41  main_picture_url         87579 non-null   object \n",
      " 42  major_options            93381 non-null   object \n",
      " 43  make_name                100040 non-null  object \n",
      " 44  maximum_seating          94722 non-null   object \n",
      " 45  mileage                  95199 non-null   float64\n",
      " 46  model_name               100040 non-null  object \n",
      " 47  owner_count              49316 non-null   float64\n",
      " 48  power                    83915 non-null   object \n",
      " 49  price                    100040 non-null  float64\n",
      " 50  salvage                  52414 non-null   object \n",
      " 51  savings_amount           100040 non-null  int64  \n",
      " 52  seller_rating            98636 non-null   float64\n",
      " 53  sp_id                    100035 non-null  float64\n",
      " 54  sp_name                  100040 non-null  object \n",
      " 55  theft_title              52414 non-null   object \n",
      " 56  torque                   82663 non-null   object \n",
      " 57  transmission             97824 non-null   object \n",
      " 58  transmission_display     97824 non-null   object \n",
      " 59  trimId                   96164 non-null   object \n",
      " 60  trim_name                96155 non-null   object \n",
      " 61  vehicle_damage_category  0 non-null       float64\n",
      " 62  wheel_system             95121 non-null   object \n",
      " 63  wheel_system_display     95121 non-null   object \n",
      " 64  wheelbase                94722 non-null   object \n",
      " 65  width                    94722 non-null   object \n",
      " 66  year                     100040 non-null  int64  \n",
      "dtypes: bool(2), float64(14), int64(5), object(46)\n",
      "memory usage: 49.8+ MB\n"
     ]
    }
   ],
   "source": [
    "df.info()"
   ]
  },
  {
   "cell_type": "markdown",
   "metadata": {
    "id": "qB1CSjoHinzj"
   },
   "source": [
    "### 3) Analyse und Vertrautmachen mit einzelnen Variablen und Zusammenhängen"
   ]
  },
  {
   "cell_type": "markdown",
   "metadata": {},
   "source": [
    "Zusätzlich zu unserer Analyse in Tableau, schauen wir uns auch hier sinnvolle Features noch etwas genauer an und beginnen damit die Daten an manchen Stellen bereits zu bereinigen, sodass wir passende Analysen mit diesen Daten durchführen können."
   ]
  },
  {
   "cell_type": "markdown",
   "metadata": {
    "id": "NKPuVpJiFzWb"
   },
   "source": [
    "##### Duplikate ausschliessen (falls vorhanden)"
   ]
  },
  {
   "cell_type": "code",
   "execution_count": 46,
   "metadata": {
    "colab": {
     "base_uri": "https://localhost:8080/"
    },
    "id": "HL2WrJ4oFywG",
    "outputId": "f6d8f755-96ed-4aec-9070-4615581e4b42"
   },
   "outputs": [
    {
     "name": "stdout",
     "output_type": "stream",
     "text": [
      "Anzahl der Duplikate: 0\n"
     ]
    }
   ],
   "source": [
    "duplicate_rows = df.duplicated()\n",
    "print(\"Anzahl der Duplikate:\", duplicate_rows.sum())"
   ]
  },
  {
   "cell_type": "markdown",
   "metadata": {
    "id": "GPYLQcbmyTKl"
   },
   "source": [
    "#### Preis"
   ]
  },
  {
   "cell_type": "code",
   "execution_count": 47,
   "metadata": {
    "colab": {
     "base_uri": "https://localhost:8080/"
    },
    "id": "PvGmLRkTylrn",
    "outputId": "5b283822-b389-4147-b4fc-0aa7ad80830d"
   },
   "outputs": [
    {
     "data": {
      "text/plain": [
       "count    1.000400e+05\n",
       "mean     2.990942e+04\n",
       "std      1.982676e+04\n",
       "min      2.990000e+02\n",
       "25%      1.841075e+04\n",
       "50%      2.639000e+04\n",
       "75%      3.815900e+04\n",
       "max      1.599500e+06\n",
       "Name: price, dtype: float64"
      ]
     },
     "execution_count": 47,
     "metadata": {},
     "output_type": "execute_result"
    }
   ],
   "source": [
    "# Statistische Zusammenfassung\n",
    "df['price'].describe()"
   ]
  },
  {
   "cell_type": "code",
   "execution_count": 48,
   "metadata": {
    "colab": {
     "base_uri": "https://localhost:8080/",
     "height": 563
    },
    "id": "WflgXr1Jxrzm",
    "outputId": "84ab3c27-6bf9-4ab2-fad2-0ac36123d3df",
    "scrolled": true
   },
   "outputs": [
    {
     "name": "stderr",
     "output_type": "stream",
     "text": [
      "/Users/allegratrepte/anaconda3/lib/python3.11/site-packages/seaborn/_oldcore.py:1119: FutureWarning: use_inf_as_na option is deprecated and will be removed in a future version. Convert inf values to NaN before operating instead.\n",
      "  with pd.option_context('mode.use_inf_as_na', True):\n"
     ]
    },
    {
     "data": {
      "image/png": "[encoded data removed]",
      "text/plain": [
       "<Figure size 1000x600 with 1 Axes>"
      ]
     },
     "metadata": {},
     "output_type": "display_data"
    }
   ],
   "source": [
    "# Histogramm der Preise\n",
    "plt.figure(figsize=(10, 6))\n",
    "sns.histplot(df['price'], kde=True, bins=30, color='blue')\n",
    "plt.title('Histogramm der Preisverteilung')\n",
    "plt.xlabel('Preis')\n",
    "plt.ylabel('Häufigkeit')\n",
    "plt.grid(True)\n",
    "plt.show()"
   ]
  },
  {
   "cell_type": "markdown",
   "metadata": {},
   "source": [
    "#### Analyse: Variablen Preis, Mileage & Modelname"
   ]
  },
  {
   "cell_type": "code",
   "execution_count": 49,
   "metadata": {
    "colab": {
     "base_uri": "https://localhost:8080/",
     "height": 411
    },
    "id": "2QCIUA6jzH44",
    "outputId": "e3617244-7aba-4c04-a714-f7dc7b20c2a9"
   },
   "outputs": [
    {
     "data": {
      "text/html": [
       "<div>\n",
       "<style scoped>\n",
       "    .dataframe tbody tr th:only-of-type {\n",
       "        vertical-align: middle;\n",
       "    }\n",
       "\n",
       "    .dataframe tbody tr th {\n",
       "        vertical-align: top;\n",
       "    }\n",
       "\n",
       "    .dataframe thead th {\n",
       "        text-align: right;\n",
       "    }\n",
       "</style>\n",
       "<table border=\"1\" class=\"dataframe\">\n",
       "  <thead>\n",
       "    <tr style=\"text-align: right;\">\n",
       "      <th></th>\n",
       "      <th>price</th>\n",
       "      <th>make_name</th>\n",
       "      <th>model_name</th>\n",
       "    </tr>\n",
       "  </thead>\n",
       "  <tbody>\n",
       "    <tr>\n",
       "      <th>70623</th>\n",
       "      <td>1599500.0</td>\n",
       "      <td>Dodge</td>\n",
       "      <td>Grand Caravan</td>\n",
       "    </tr>\n",
       "    <tr>\n",
       "      <th>93107</th>\n",
       "      <td>1385900.0</td>\n",
       "      <td>Porsche</td>\n",
       "      <td>918 Spyder</td>\n",
       "    </tr>\n",
       "    <tr>\n",
       "      <th>95229</th>\n",
       "      <td>919263.0</td>\n",
       "      <td>Aston Martin</td>\n",
       "      <td>Vanquish</td>\n",
       "    </tr>\n",
       "    <tr>\n",
       "      <th>566</th>\n",
       "      <td>859000.0</td>\n",
       "      <td>Mercedes-Benz</td>\n",
       "      <td>SLR McLaren</td>\n",
       "    </tr>\n",
       "    <tr>\n",
       "      <th>97901</th>\n",
       "      <td>699900.0</td>\n",
       "      <td>Land Rover</td>\n",
       "      <td>LR3</td>\n",
       "    </tr>\n",
       "    <tr>\n",
       "      <th>...</th>\n",
       "      <td>...</td>\n",
       "      <td>...</td>\n",
       "      <td>...</td>\n",
       "    </tr>\n",
       "    <tr>\n",
       "      <th>26436</th>\n",
       "      <td>495.0</td>\n",
       "      <td>Suzuki</td>\n",
       "      <td>Aerio</td>\n",
       "    </tr>\n",
       "    <tr>\n",
       "      <th>65933</th>\n",
       "      <td>389.0</td>\n",
       "      <td>Dodge</td>\n",
       "      <td>Grand Caravan</td>\n",
       "    </tr>\n",
       "    <tr>\n",
       "      <th>65061</th>\n",
       "      <td>300.0</td>\n",
       "      <td>Honda</td>\n",
       "      <td>Accord</td>\n",
       "    </tr>\n",
       "    <tr>\n",
       "      <th>65057</th>\n",
       "      <td>300.0</td>\n",
       "      <td>Chrysler</td>\n",
       "      <td>PT Cruiser</td>\n",
       "    </tr>\n",
       "    <tr>\n",
       "      <th>58762</th>\n",
       "      <td>299.0</td>\n",
       "      <td>Pontiac</td>\n",
       "      <td>Vibe</td>\n",
       "    </tr>\n",
       "  </tbody>\n",
       "</table>\n",
       "<p>100040 rows × 3 columns</p>\n",
       "</div>"
      ],
      "text/plain": [
       "           price      make_name     model_name\n",
       "70623  1599500.0          Dodge  Grand Caravan\n",
       "93107  1385900.0        Porsche     918 Spyder\n",
       "95229   919263.0   Aston Martin       Vanquish\n",
       "566     859000.0  Mercedes-Benz    SLR McLaren\n",
       "97901   699900.0     Land Rover            LR3\n",
       "...          ...            ...            ...\n",
       "26436      495.0         Suzuki          Aerio\n",
       "65933      389.0          Dodge  Grand Caravan\n",
       "65061      300.0          Honda         Accord\n",
       "65057      300.0       Chrysler     PT Cruiser\n",
       "58762      299.0        Pontiac           Vibe\n",
       "\n",
       "[100040 rows x 3 columns]"
      ]
     },
     "execution_count": 49,
     "metadata": {},
     "output_type": "execute_result"
    }
   ],
   "source": [
    "df[[\"price\", \"make_name\", \"model_name\"]].sort_values(by='price', ascending=False)"
   ]
  },
  {
   "cell_type": "markdown",
   "metadata": {},
   "source": [
    "Erkenntniss: Wir müssen beim Preis Outliers entfernen, um Verzerrungen zu vermeiden (Analog Tableau) "
   ]
  },
  {
   "cell_type": "code",
   "execution_count": 50,
   "metadata": {
    "colab": {
     "base_uri": "https://localhost:8080/",
     "height": 717
    },
    "id": "2B66MXFhyujp",
    "outputId": "8b596c1e-de96-40eb-9066-8cee1336c217"
   },
   "outputs": [
    {
     "data": {
      "image/png": "[encoded data removed]",
      "text/plain": [
       "<Figure size 1200x800 with 1 Axes>"
      ]
     },
     "metadata": {},
     "output_type": "display_data"
    }
   ],
   "source": [
    "# Scatterplot erstellen\n",
    "plt.figure(figsize=(12, 8))\n",
    "sns.scatterplot(x='price', y='mileage', data=df, alpha=0.6, edgecolor=None, color='darkblue')\n",
    "plt.title('Scatterplot von Preis vs. Mileage')\n",
    "plt.xlabel('Mileage')\n",
    "plt.ylabel('Price')\n",
    "plt.show()"
   ]
  },
  {
   "cell_type": "code",
   "execution_count": 51,
   "metadata": {
    "colab": {
     "base_uri": "https://localhost:8080/",
     "height": 563
    },
    "id": "PC-coL1aCOGG",
    "outputId": "93d2e179-87a6-4baa-8819-c980350a35fa"
   },
   "outputs": [
    {
     "name": "stderr",
     "output_type": "stream",
     "text": [
      "/Users/allegratrepte/anaconda3/lib/python3.11/site-packages/seaborn/_oldcore.py:1119: FutureWarning: use_inf_as_na option is deprecated and will be removed in a future version. Convert inf values to NaN before operating instead.\n",
      "  with pd.option_context('mode.use_inf_as_na', True):\n"
     ]
    },
    {
     "data": {
      "image/png": "[encoded data removed]",
      "text/plain": [
       "<Figure size 1000x600 with 1 Axes>"
      ]
     },
     "metadata": {},
     "output_type": "display_data"
    }
   ],
   "source": [
    "# Histogramm von Mileage (gefahrene km)\n",
    "plt.figure(figsize=(10, 6))\n",
    "sns.histplot(df['mileage'], kde=True, bins=30, color='blue')\n",
    "plt.title('Histogramm der Mileage')\n",
    "plt.xlabel('Mileage')\n",
    "plt.ylabel('Häufigkeit')\n",
    "plt.grid(True)\n",
    "plt.show()"
   ]
  },
  {
   "cell_type": "code",
   "execution_count": 52,
   "metadata": {
    "colab": {
     "base_uri": "https://localhost:8080/"
    },
    "id": "RtDTexlfCZH3",
    "outputId": "c69b1d9b-1673-429b-9a02-09602bff332e"
   },
   "outputs": [
    {
     "data": {
      "text/plain": [
       "count     95199.000000\n",
       "mean      31014.318806\n",
       "std       45345.965747\n",
       "min           0.000000\n",
       "25%           6.000000\n",
       "50%        7904.000000\n",
       "75%       43514.500000\n",
       "max      399578.000000\n",
       "Name: mileage, dtype: float64"
      ]
     },
     "execution_count": 52,
     "metadata": {},
     "output_type": "execute_result"
    }
   ],
   "source": [
    "df[\"mileage\"].describe()"
   ]
  },
  {
   "cell_type": "markdown",
   "metadata": {
    "id": "_K8MRnPZzp8U"
   },
   "source": [
    "#### Anzahl Null Values Analysieren"
   ]
  },
  {
   "cell_type": "code",
   "execution_count": 53,
   "metadata": {
    "colab": {
     "base_uri": "https://localhost:8080/"
    },
    "id": "fLIKI43LBdT8",
    "outputId": "40643ea4-a952-46a2-8d37-479642285d64"
   },
   "outputs": [
    {
     "data": {
      "text/html": [
       "<div>\n",
       "<style scoped>\n",
       "    .dataframe tbody tr th:only-of-type {\n",
       "        vertical-align: middle;\n",
       "    }\n",
       "\n",
       "    .dataframe tbody tr th {\n",
       "        vertical-align: top;\n",
       "    }\n",
       "\n",
       "    .dataframe thead th {\n",
       "        text-align: right;\n",
       "    }\n",
       "</style>\n",
       "<table border=\"1\" class=\"dataframe\">\n",
       "  <thead>\n",
       "    <tr style=\"text-align: right;\">\n",
       "      <th></th>\n",
       "      <th>Missing Values</th>\n",
       "      <th>Percentage</th>\n",
       "    </tr>\n",
       "  </thead>\n",
       "  <tbody>\n",
       "    <tr>\n",
       "      <th>Unnamed: 0</th>\n",
       "      <td>0</td>\n",
       "      <td>0.000000</td>\n",
       "    </tr>\n",
       "    <tr>\n",
       "      <th>vin</th>\n",
       "      <td>0</td>\n",
       "      <td>0.000000</td>\n",
       "    </tr>\n",
       "    <tr>\n",
       "      <th>back_legroom</th>\n",
       "      <td>5318</td>\n",
       "      <td>5.315874</td>\n",
       "    </tr>\n",
       "    <tr>\n",
       "      <th>bed</th>\n",
       "      <td>99381</td>\n",
       "      <td>99.341263</td>\n",
       "    </tr>\n",
       "    <tr>\n",
       "      <th>bed_height</th>\n",
       "      <td>85930</td>\n",
       "      <td>85.895642</td>\n",
       "    </tr>\n",
       "    <tr>\n",
       "      <th>...</th>\n",
       "      <td>...</td>\n",
       "      <td>...</td>\n",
       "    </tr>\n",
       "    <tr>\n",
       "      <th>wheel_system</th>\n",
       "      <td>4919</td>\n",
       "      <td>4.917033</td>\n",
       "    </tr>\n",
       "    <tr>\n",
       "      <th>wheel_system_display</th>\n",
       "      <td>4919</td>\n",
       "      <td>4.917033</td>\n",
       "    </tr>\n",
       "    <tr>\n",
       "      <th>wheelbase</th>\n",
       "      <td>5318</td>\n",
       "      <td>5.315874</td>\n",
       "    </tr>\n",
       "    <tr>\n",
       "      <th>width</th>\n",
       "      <td>5318</td>\n",
       "      <td>5.315874</td>\n",
       "    </tr>\n",
       "    <tr>\n",
       "      <th>year</th>\n",
       "      <td>0</td>\n",
       "      <td>0.000000</td>\n",
       "    </tr>\n",
       "  </tbody>\n",
       "</table>\n",
       "<p>67 rows × 2 columns</p>\n",
       "</div>"
      ],
      "text/plain": [
       "                      Missing Values  Percentage\n",
       "Unnamed: 0                         0    0.000000\n",
       "vin                                0    0.000000\n",
       "back_legroom                    5318    5.315874\n",
       "bed                            99381   99.341263\n",
       "bed_height                     85930   85.895642\n",
       "...                              ...         ...\n",
       "wheel_system                    4919    4.917033\n",
       "wheel_system_display            4919    4.917033\n",
       "wheelbase                       5318    5.315874\n",
       "width                           5318    5.315874\n",
       "year                               0    0.000000\n",
       "\n",
       "[67 rows x 2 columns]"
      ]
     },
     "execution_count": 53,
     "metadata": {},
     "output_type": "execute_result"
    }
   ],
   "source": [
    "# Missing values per column\n",
    "missing_values = df.isnull().sum()\n",
    "\n",
    "# Percentage of missing values per column\n",
    "missing_percentage = (missing_values / len(df)) * 100\n",
    "\n",
    "# Display missing values and percentages\n",
    "missing_info = pd.DataFrame({'Missing Values': missing_values, 'Percentage': missing_percentage})\n",
    "missing_info"
   ]
  },
  {
   "cell_type": "markdown",
   "metadata": {},
   "source": [
    "##### Betrachten diverser Variablen, um einen besseren Überblcik zu bekommen"
   ]
  },
  {
   "cell_type": "code",
   "execution_count": 54,
   "metadata": {
    "colab": {
     "base_uri": "https://localhost:8080/"
    },
    "id": "QJVW3rCxBz-S",
    "outputId": "85db4a27-baab-4b47-d0df-0ba4ce5ffef0"
   },
   "outputs": [
    {
     "name": "stdout",
     "output_type": "stream",
     "text": [
      "<class 'pandas.core.series.Series'>\n",
      "RangeIndex: 100040 entries, 0 to 100039\n",
      "Series name: engine_cylinders\n",
      "Non-Null Count  Dtype \n",
      "--------------  ----- \n",
      "96726 non-null  object\n",
      "dtypes: object(1)\n",
      "memory usage: 781.7+ KB\n",
      "\n",
      "Anzahl gleicher Werte in Spalten engine_cylinders und engine_type: \n"
     ]
    },
    {
     "data": {
      "text/plain": [
       "96726"
      ]
     },
     "execution_count": 54,
     "metadata": {},
     "output_type": "execute_result"
    }
   ],
   "source": [
    "df[\"engine_cylinders\"].info()\n",
    "print(\"\\n\" + \"Anzahl gleicher Werte in Spalten engine_cylinders und engine_type: \")\n",
    "(df[\"engine_cylinders\"] ==  df[\"engine_type\"]).sum()"
   ]
  },
  {
   "cell_type": "code",
   "execution_count": 55,
   "metadata": {
    "colab": {
     "base_uri": "https://localhost:8080/"
    },
    "id": "E9NEM4zOJTVE",
    "outputId": "0dcca07f-f1fe-4f6d-e418-42c70516cec1"
   },
   "outputs": [
    {
     "name": "stdout",
     "output_type": "stream",
     "text": [
      "Nullwerte: 47626\n"
     ]
    },
    {
     "data": {
      "text/plain": [
       "frame_damaged\n",
       "False    51903\n",
       "True       511\n",
       "Name: count, dtype: int64"
      ]
     },
     "execution_count": 55,
     "metadata": {},
     "output_type": "execute_result"
    }
   ],
   "source": [
    "print(\"Nullwerte: \" + str(df[\"frame_damaged\"].isnull().sum()))\n",
    "df[\"frame_damaged\"].value_counts()"
   ]
  },
  {
   "cell_type": "code",
   "execution_count": null,
   "metadata": {
    "colab": {
     "base_uri": "https://localhost:8080/"
    },
    "id": "EYw8HZjBLvfz",
    "outputId": "65a47153-4e82-45ba-8d02-69dd0fcaa7d7"
   },
   "outputs": [
    {
     "data": {
      "text/plain": [
       "is_new\n",
       "False    50651\n",
       "True     48600\n",
       "Name: count, dtype: int64"
      ]
     },
     "execution_count": 218,
     "metadata": {},
     "output_type": "execute_result"
    }
   ],
   "source": [
    "df[\"is_new\"].value_counts()"
   ]
  },
  {
   "cell_type": "code",
   "execution_count": null,
   "metadata": {
    "colab": {
     "base_uri": "https://localhost:8080/"
    },
    "id": "oPuI6VQnNQCC",
    "outputId": "caf1a04c-e181-40e4-de6a-7774b542ff7f"
   },
   "outputs": [
    {
     "data": {
      "text/plain": [
       "0         332 lb-ft @ 3,500 RPM\n",
       "1         262 lb-ft @ 4,250 RPM\n",
       "2         200 lb-ft @ 1,750 RPM\n",
       "3         260 lb-ft @ 4,000 RPM\n",
       "4         172 lb-ft @ 4,900 RPM\n",
       "                  ...          \n",
       "100035                      NaN\n",
       "100036    266 lb-ft @ 2,800 RPM\n",
       "100037    270 lb-ft @ 1,750 RPM\n",
       "100038    318 lb-ft @ 1,750 RPM\n",
       "100039    175 lb-ft @ 4,400 RPM\n",
       "Name: torque, Length: 99251, dtype: object"
      ]
     },
     "execution_count": 219,
     "metadata": {},
     "output_type": "execute_result"
    }
   ],
   "source": [
    "df[\"torque\"]"
   ]
  },
  {
   "cell_type": "code",
   "execution_count": null,
   "metadata": {
    "colab": {
     "base_uri": "https://localhost:8080/"
    },
    "id": "ANZ9R-LmVLIh",
    "outputId": "a7c5d551-03ab-4417-b832-07da6e97e2ef"
   },
   "outputs": [
    {
     "data": {
      "text/plain": [
       "array(['8-Speed Automatic Overdrive', '9-Speed Automatic',\n",
       "       '9-Speed Automatic Overdrive', '8-Speed Automatic',\n",
       "       '6-Speed Automatic Overdrive', '6-Speed Automatic', 'Automatic',\n",
       "       'Continuously Variable Transmission', '6-Speed Manual',\n",
       "       '7-Speed Automatic', '4-Speed Automatic', nan, '5-Speed Automatic',\n",
       "       'Manual', '4-Speed Automatic Overdrive',\n",
       "       '5-Speed Automatic Overdrive', '5-Speed Manual Overdrive',\n",
       "       '1-Speed Automatic', '7-Speed CVT', '5-Speed Manual',\n",
       "       '6-Speed Dual Clutch', '7-Speed Dual Clutch',\n",
       "       '8-Speed Dual Clutch', '7-Speed Automatic Overdrive',\n",
       "       '1-Speed CVT', '6-Speed CVT', '3-Speed Automatic',\n",
       "       '6-Speed Manual Overdrive', '4-Speed Manual', '3-Speed Manual',\n",
       "       '4-Speed CVT', '10-Speed Automatic', '7-Speed Manual',\n",
       "       '8-Speed CVT', '1-Speed Dual Clutch'], dtype=object)"
      ]
     },
     "execution_count": 220,
     "metadata": {},
     "output_type": "execute_result"
    }
   ],
   "source": [
    "df[\"transmission_display\"].unique()"
   ]
  },
  {
   "cell_type": "code",
   "execution_count": null,
   "metadata": {
    "colab": {
     "base_uri": "https://localhost:8080/"
    },
    "id": "l4KBsLuDHwaJ",
    "outputId": "b6fda20e-c23c-4276-f7b0-7f5d56d01177"
   },
   "outputs": [
    {
     "data": {
      "text/plain": [
       "0         P340 R-Dynamic S AWD\n",
       "1            Limited Sedan FWD\n",
       "2                Trailhawk 4WD\n",
       "3                       GT AWD\n",
       "4                       LT FWD\n",
       "                  ...         \n",
       "100035             1.5T LT FWD\n",
       "100036                  LS FWD\n",
       "100037                      SE\n",
       "100038         20d Premium AWD\n",
       "100039           2017.5 SV FWD\n",
       "Name: trim_name, Length: 99251, dtype: object"
      ]
     },
     "execution_count": 221,
     "metadata": {},
     "output_type": "execute_result"
    }
   ],
   "source": [
    "df[\"trim_name\"]"
   ]
  },
  {
   "cell_type": "code",
   "execution_count": null,
   "metadata": {
    "colab": {
     "base_uri": "https://localhost:8080/"
    },
    "id": "pNTr0ygsHymQ",
    "outputId": "01ebe243-6f7f-48d2-ba93-c1c232c58087"
   },
   "outputs": [
    {
     "data": {
      "text/plain": [
       "trim_name\n",
       "SE FWD                               2988\n",
       "S FWD                                1625\n",
       "XLT SuperCrew 4WD                    1389\n",
       "LX FWD                               1283\n",
       "LT FWD                               1260\n",
       "                                     ... \n",
       "2 Dr XL 4WD Extended Cab SB             1\n",
       "T4 Inscription FWD                      1\n",
       "Big Horn Crew Cab LB DRW RWD            1\n",
       "SE 4dr Crew Cab SB with automatic       1\n",
       "Tradesman Crew Cab                      1\n",
       "Name: count, Length: 4021, dtype: int64"
      ]
     },
     "execution_count": 222,
     "metadata": {},
     "output_type": "execute_result"
    }
   ],
   "source": [
    "df[\"trim_name\"].value_counts()"
   ]
  },
  {
   "cell_type": "code",
   "execution_count": null,
   "metadata": {
    "colab": {
     "base_uri": "https://localhost:8080/"
    },
    "id": "Bwow7buCIrUC",
    "outputId": "240e1e77-b4e9-4df0-84d5-5d83956e715e"
   },
   "outputs": [
    {
     "data": {
      "text/plain": [
       "0         113.1 in\n",
       "1           108 in\n",
       "2         101.2 in\n",
       "3         119.8 in\n",
       "4         112.5 in\n",
       "            ...   \n",
       "100035    107.3 in\n",
       "100036    120.9 in\n",
       "100037    112.2 in\n",
       "100038    111.6 in\n",
       "100039    106.5 in\n",
       "Name: wheelbase, Length: 99251, dtype: object"
      ]
     },
     "execution_count": 223,
     "metadata": {},
     "output_type": "execute_result"
    }
   ],
   "source": [
    "df[\"wheelbase\"]"
   ]
  },
  {
   "cell_type": "markdown",
   "metadata": {
    "id": "YenlGrmJi0aV"
   },
   "source": [
    "### Variablen einschliessen aufgrund Überlegungen zu Relevanz ( siehe unsere Überlgeungen im (::)"
   ]
  },
  {
   "cell_type": "code",
   "execution_count": 56,
   "metadata": {
    "id": "0BvJqsHrrule"
   },
   "outputs": [],
   "source": [
    "df_reduced = df[[\"body_type\", \"city_fuel_economy\", \"engine_type\", \"fuel_tank_volume\", \"fuel_type\", \"highway_fuel_economy\", \"horsepower\",\n",
    "                \"make_name\", \"mileage\", \"model_name\", \"price\", \"transmission\", \"wheel_system_display\", \"year\"]]"
   ]
  },
  {
   "cell_type": "code",
   "execution_count": null,
   "metadata": {
    "colab": {
     "base_uri": "https://localhost:8080/"
    },
    "id": "_W0Sav-UVhdD",
    "outputId": "4f2c6c7c-6d21-4ff3-e134-f081bbe935fd"
   },
   "outputs": [
    {
     "name": "stdout",
     "output_type": "stream",
     "text": [
      "<class 'pandas.core.frame.DataFrame'>\n",
      "Index: 99251 entries, 0 to 100039\n",
      "Data columns (total 14 columns):\n",
      " #   Column                Non-Null Count  Dtype  \n",
      "---  ------                --------------  -----  \n",
      " 0   body_type             98834 non-null  object \n",
      " 1   city_fuel_economy     83172 non-null  float64\n",
      " 2   engine_type           96000 non-null  object \n",
      " 3   fuel_tank_volume      94012 non-null  object \n",
      " 4   fuel_type             96583 non-null  object \n",
      " 5   highway_fuel_economy  83172 non-null  float64\n",
      " 6   horsepower            93565 non-null  float64\n",
      " 7   make_name             99251 non-null  object \n",
      " 8   mileage               94460 non-null  float64\n",
      " 9   model_name            99251 non-null  object \n",
      " 10  price                 99251 non-null  float64\n",
      " 11  transmission          97053 non-null  object \n",
      " 12  wheel_system_display  94395 non-null  object \n",
      " 13  year                  99251 non-null  int64  \n",
      "dtypes: float64(5), int64(1), object(8)\n",
      "memory usage: 11.4+ MB\n"
     ]
    }
   ],
   "source": [
    "df_reduced.info()"
   ]
  },
  {
   "cell_type": "code",
   "execution_count": null,
   "metadata": {
    "colab": {
     "base_uri": "https://localhost:8080/",
     "height": 201
    },
    "id": "3gzyRhz4hO1f",
    "outputId": "ca10d3b6-aae1-4db8-b7fd-a2551960d0ec"
   },
   "outputs": [
    {
     "data": {
      "application/vnd.google.colaboratory.intrinsic+json": {
       "summary": "{\n  \"name\": \"df_reduced\",\n  \"rows\": 99251,\n  \"fields\": [\n    {\n      \"column\": \"body_type\",\n      \"properties\": {\n        \"dtype\": \"category\",\n        \"num_unique_values\": 9,\n        \"samples\": [\n          \"Hatchback\",\n          \"Sedan\",\n          \"Minivan\"\n        ],\n        \"semantic_type\": \"\",\n        \"description\": \"\"\n      }\n    },\n    {\n      \"column\": \"city_fuel_economy\",\n      \"properties\": {\n        \"dtype\": \"number\",\n        \"std\": 8.64767647965368,\n        \"min\": 8.0,\n        \"max\": 127.0,\n        \"num_unique_values\": 84,\n        \"samples\": [\n          63.0,\n          23.0,\n          38.0\n        ],\n        \"semantic_type\": \"\",\n        \"description\": \"\"\n      }\n    },\n    {\n      \"column\": \"engine_type\",\n      \"properties\": {\n        \"dtype\": \"category\",\n        \"num_unique_values\": 31,\n        \"samples\": [\n          \"R2\",\n          \"I4 Flex Fuel Vehicle\",\n          \"V8 Hybrid\"\n        ],\n        \"semantic_type\": \"\",\n        \"description\": \"\"\n      }\n    },\n    {\n      \"column\": \"fuel_tank_volume\",\n      \"properties\": {\n        \"dtype\": \"category\",\n        \"num_unique_values\": 156,\n        \"samples\": [\n          \"27.7 gal\",\n          \"16.9 gal\",\n          \"20.6 gal\"\n        ],\n        \"semantic_type\": \"\",\n        \"description\": \"\"\n      }\n    },\n    {\n      \"column\": \"fuel_type\",\n      \"properties\": {\n        \"dtype\": \"category\",\n        \"num_unique_values\": 7,\n        \"samples\": [\n          \"Gasoline\",\n          \"Biodiesel\",\n          \"Electric\"\n        ],\n        \"semantic_type\": \"\",\n        \"description\": \"\"\n      }\n    },\n    {\n      \"column\": \"highway_fuel_economy\",\n      \"properties\": {\n        \"dtype\": \"number\",\n        \"std\": 7.659933280998611,\n        \"min\": 10.0,\n        \"max\": 127.0,\n        \"num_unique_values\": 88,\n        \"samples\": [\n          11.0,\n          36.0,\n          121.0\n        ],\n        \"semantic_type\": \"\",\n        \"description\": \"\"\n      }\n    },\n    {\n      \"column\": \"horsepower\",\n      \"properties\": {\n        \"dtype\": \"number\",\n        \"std\": 87.944200821272,\n        \"min\": 70.0,\n        \"max\": 797.0,\n        \"num_unique_values\": 348,\n        \"samples\": [\n          563.0,\n          160.0,\n          258.0\n        ],\n        \"semantic_type\": \"\",\n        \"description\": \"\"\n      }\n    },\n    {\n      \"column\": \"make_name\",\n      \"properties\": {\n        \"dtype\": \"category\",\n        \"num_unique_values\": 57,\n        \"samples\": [\n          \"Land Rover\",\n          \"Mazda\",\n          \"Genesis\"\n        ],\n        \"semantic_type\": \"\",\n        \"description\": \"\"\n      }\n    },\n    {\n      \"column\": \"mileage\",\n      \"properties\": {\n        \"dtype\": \"number\",\n        \"std\": 45449.67866046018,\n        \"min\": 0.0,\n        \"max\": 399578.0,\n        \"num_unique_values\": 41318,\n        \"samples\": [\n          58468.0,\n          55054.0,\n          22783.0\n        ],\n        \"semantic_type\": \"\",\n        \"description\": \"\"\n      }\n    },\n    {\n      \"column\": \"model_name\",\n      \"properties\": {\n        \"dtype\": \"category\",\n        \"num_unique_values\": 865,\n        \"samples\": [\n          \"X4\",\n          \"280\",\n          \"Grand Vitara\"\n        ],\n        \"semantic_type\": \"\",\n        \"description\": \"\"\n      }\n    },\n    {\n      \"column\": \"price\",\n      \"properties\": {\n        \"dtype\": \"number\",\n        \"std\": 15132.56635924455,\n        \"min\": 299.0,\n        \"max\": 89385.0,\n        \"num_unique_values\": 32747,\n        \"samples\": [\n          36462.0,\n          34264.0,\n          39455.0\n        ],\n        \"semantic_type\": \"\",\n        \"description\": \"\"\n      }\n    },\n    {\n      \"column\": \"transmission\",\n      \"properties\": {\n        \"dtype\": \"category\",\n        \"num_unique_values\": 4,\n        \"samples\": [\n          \"CVT\",\n          \"Dual Clutch\",\n          \"A\"\n        ],\n        \"semantic_type\": \"\",\n        \"description\": \"\"\n      }\n    },\n    {\n      \"column\": \"wheel_system_display\",\n      \"properties\": {\n        \"dtype\": \"category\",\n        \"num_unique_values\": 5,\n        \"samples\": [\n          \"Front-Wheel Drive\",\n          \"4X2\",\n          \"Four-Wheel Drive\"\n        ],\n        \"semantic_type\": \"\",\n        \"description\": \"\"\n      }\n    },\n    {\n      \"column\": \"year\",\n      \"properties\": {\n        \"dtype\": \"number\",\n        \"std\": 4,\n        \"min\": 1923,\n        \"max\": 2021,\n        \"num_unique_values\": 78,\n        \"samples\": [\n          1968,\n          2020,\n          1990\n        ],\n        \"semantic_type\": \"\",\n        \"description\": \"\"\n      }\n    }\n  ]\n}",
       "type": "dataframe",
       "variable_name": "df_reduced"
      },
      "text/html": [
       "\n",
       "  <div id=\"df-40d52128-036f-42a1-bf9b-99cea86e515e\" class=\"colab-df-container\">\n",
       "    <div>\n",
       "<style scoped>\n",
       "    .dataframe tbody tr th:only-of-type {\n",
       "        vertical-align: middle;\n",
       "    }\n",
       "\n",
       "    .dataframe tbody tr th {\n",
       "        vertical-align: top;\n",
       "    }\n",
       "\n",
       "    .dataframe thead th {\n",
       "        text-align: right;\n",
       "    }\n",
       "</style>\n",
       "<table border=\"1\" class=\"dataframe\">\n",
       "  <thead>\n",
       "    <tr style=\"text-align: right;\">\n",
       "      <th></th>\n",
       "      <th>body_type</th>\n",
       "      <th>city_fuel_economy</th>\n",
       "      <th>engine_type</th>\n",
       "      <th>fuel_tank_volume</th>\n",
       "      <th>fuel_type</th>\n",
       "      <th>highway_fuel_economy</th>\n",
       "      <th>horsepower</th>\n",
       "      <th>make_name</th>\n",
       "      <th>mileage</th>\n",
       "      <th>model_name</th>\n",
       "      <th>price</th>\n",
       "      <th>transmission</th>\n",
       "      <th>wheel_system_display</th>\n",
       "      <th>year</th>\n",
       "    </tr>\n",
       "  </thead>\n",
       "  <tbody>\n",
       "    <tr>\n",
       "      <th>0</th>\n",
       "      <td>SUV / Crossover</td>\n",
       "      <td>NaN</td>\n",
       "      <td>V6</td>\n",
       "      <td>16.6 gal</td>\n",
       "      <td>Gasoline</td>\n",
       "      <td>NaN</td>\n",
       "      <td>340.0</td>\n",
       "      <td>Land Rover</td>\n",
       "      <td>88.0</td>\n",
       "      <td>Range Rover Velar</td>\n",
       "      <td>70742.0</td>\n",
       "      <td>A</td>\n",
       "      <td>All-Wheel Drive</td>\n",
       "      <td>2020</td>\n",
       "    </tr>\n",
       "    <tr>\n",
       "      <th>1</th>\n",
       "      <td>Sedan</td>\n",
       "      <td>23.0</td>\n",
       "      <td>I4</td>\n",
       "      <td>15.8 gal</td>\n",
       "      <td>Gasoline</td>\n",
       "      <td>36.0</td>\n",
       "      <td>184.0</td>\n",
       "      <td>Chrysler</td>\n",
       "      <td>25794.0</td>\n",
       "      <td>200</td>\n",
       "      <td>13000.0</td>\n",
       "      <td>A</td>\n",
       "      <td>Front-Wheel Drive</td>\n",
       "      <td>2016</td>\n",
       "    </tr>\n",
       "    <tr>\n",
       "      <th>2</th>\n",
       "      <td>SUV / Crossover</td>\n",
       "      <td>NaN</td>\n",
       "      <td>I4</td>\n",
       "      <td>12.7 gal</td>\n",
       "      <td>Gasoline</td>\n",
       "      <td>NaN</td>\n",
       "      <td>177.0</td>\n",
       "      <td>Jeep</td>\n",
       "      <td>20.0</td>\n",
       "      <td>Renegade</td>\n",
       "      <td>31221.0</td>\n",
       "      <td>A</td>\n",
       "      <td>Four-Wheel Drive</td>\n",
       "      <td>2019</td>\n",
       "    </tr>\n",
       "    <tr>\n",
       "      <th>3</th>\n",
       "      <td>SUV / Crossover</td>\n",
       "      <td>18.0</td>\n",
       "      <td>V6</td>\n",
       "      <td>24.6 gal</td>\n",
       "      <td>Gasoline</td>\n",
       "      <td>25.0</td>\n",
       "      <td>295.0</td>\n",
       "      <td>Dodge</td>\n",
       "      <td>15732.0</td>\n",
       "      <td>Durango</td>\n",
       "      <td>27300.0</td>\n",
       "      <td>A</td>\n",
       "      <td>All-Wheel Drive</td>\n",
       "      <td>2018</td>\n",
       "    </tr>\n",
       "    <tr>\n",
       "      <th>4</th>\n",
       "      <td>SUV / Crossover</td>\n",
       "      <td>NaN</td>\n",
       "      <td>I4</td>\n",
       "      <td>18.8 gal</td>\n",
       "      <td>Gasoline</td>\n",
       "      <td>NaN</td>\n",
       "      <td>182.0</td>\n",
       "      <td>Chevrolet</td>\n",
       "      <td>35363.0</td>\n",
       "      <td>Equinox</td>\n",
       "      <td>13823.0</td>\n",
       "      <td>A</td>\n",
       "      <td>Front-Wheel Drive</td>\n",
       "      <td>2016</td>\n",
       "    </tr>\n",
       "  </tbody>\n",
       "</table>\n",
       "</div>\n",
       "    <div class=\"colab-df-buttons\">\n",
       "\n",
       "  <div class=\"colab-df-container\">\n",
       "    <button class=\"colab-df-convert\" onclick=\"convertToInteractive('df-40d52128-036f-42a1-bf9b-99cea86e515e')\"\n",
       "            title=\"Convert this dataframe to an interactive table.\"\n",
       "            style=\"display:none;\">\n",
       "\n",
       "  <svg xmlns=\"http://www.w3.org/2000/svg\" height=\"24px\" viewBox=\"0 -960 960 960\">\n",
       "    <path d=\"M120-120v-720h720v720H120Zm60-500h600v-160H180v160Zm220 220h160v-160H400v160Zm0 220h160v-160H400v160ZM180-400h160v-160H180v160Zm440 0h160v-160H620v160ZM180-180h160v-160H180v160Zm440 0h160v-160H620v160Z\"/>\n",
       "  </svg>\n",
       "    </button>\n",
       "\n",
       "  <style>\n",
       "    .colab-df-container {\n",
       "      display:flex;\n",
       "      gap: 12px;\n",
       "    }\n",
       "\n",
       "    .colab-df-convert {\n",
       "      background-color: #E8F0FE;\n",
       "      border: none;\n",
       "      border-radius: 50%;\n",
       "      cursor: pointer;\n",
       "      display: none;\n",
       "      fill: #1967D2;\n",
       "      height: 32px;\n",
       "      padding: 0 0 0 0;\n",
       "      width: 32px;\n",
       "    }\n",
       "\n",
       "    .colab-df-convert:hover {\n",
       "      background-color: #E2EBFA;\n",
       "      box-shadow: 0px 1px 2px rgba(60, 64, 67, 0.3), 0px 1px 3px 1px rgba(60, 64, 67, 0.15);\n",
       "      fill: #174EA6;\n",
       "    }\n",
       "\n",
       "    .colab-df-buttons div {\n",
       "      margin-bottom: 4px;\n",
       "    }\n",
       "\n",
       "    [theme=dark] .colab-df-convert {\n",
       "      background-color: #3B4455;\n",
       "      fill: #D2E3FC;\n",
       "    }\n",
       "\n",
       "    [theme=dark] .colab-df-convert:hover {\n",
       "      background-color: #434B5C;\n",
       "      box-shadow: 0px 1px 3px 1px rgba(0, 0, 0, 0.15);\n",
       "      filter: drop-shadow(0px 1px 2px rgba(0, 0, 0, 0.3));\n",
       "      fill: #FFFFFF;\n",
       "    }\n",
       "  </style>\n",
       "\n",
       "    <script>\n",
       "      const buttonEl =\n",
       "        document.querySelector('#df-40d52128-036f-42a1-bf9b-99cea86e515e button.colab-df-convert');\n",
       "      buttonEl.style.display =\n",
       "        google.colab.kernel.accessAllowed ? 'block' : 'none';\n",
       "\n",
       "      async function convertToInteractive(key) {\n",
       "        const element = document.querySelector('#df-40d52128-036f-42a1-bf9b-99cea86e515e');\n",
       "        const dataTable =\n",
       "          await google.colab.kernel.invokeFunction('convertToInteractive',\n",
       "                                                    [key], {});\n",
       "        if (!dataTable) return;\n",
       "\n",
       "        const docLinkHtml = 'Like what you see? Visit the ' +\n",
       "          '<a target=\"_blank\" href=https://colab.research.google.com/notebooks/data_table.ipynb>data table notebook</a>'\n",
       "          + ' to learn more about interactive tables.';\n",
       "        element.innerHTML = '';\n",
       "        dataTable['output_type'] = 'display_data';\n",
       "        await google.colab.output.renderOutput(dataTable, element);\n",
       "        const docLink = document.createElement('div');\n",
       "        docLink.innerHTML = docLinkHtml;\n",
       "        element.appendChild(docLink);\n",
       "      }\n",
       "    </script>\n",
       "  </div>\n",
       "\n",
       "\n",
       "<div id=\"df-836699b6-7a97-45ad-b3c3-891cd079fb5d\">\n",
       "  <button class=\"colab-df-quickchart\" onclick=\"quickchart('df-836699b6-7a97-45ad-b3c3-891cd079fb5d')\"\n",
       "            title=\"Suggest charts\"\n",
       "            style=\"display:none;\">\n",
       "\n",
       "<svg xmlns=\"http://www.w3.org/2000/svg\" height=\"24px\"viewBox=\"0 0 24 24\"\n",
       "     width=\"24px\">\n",
       "    <g>\n",
       "        <path d=\"M19 3H5c-1.1 0-2 .9-2 2v14c0 1.1.9 2 2 2h14c1.1 0 2-.9 2-2V5c0-1.1-.9-2-2-2zM9 17H7v-7h2v7zm4 0h-2V7h2v10zm4 0h-2v-4h2v4z\"/>\n",
       "    </g>\n",
       "</svg>\n",
       "  </button>\n",
       "\n",
       "<style>\n",
       "  .colab-df-quickchart {\n",
       "      --bg-color: #E8F0FE;\n",
       "      --fill-color: #1967D2;\n",
       "      --hover-bg-color: #E2EBFA;\n",
       "      --hover-fill-color: #174EA6;\n",
       "      --disabled-fill-color: #AAA;\n",
       "      --disabled-bg-color: #DDD;\n",
       "  }\n",
       "\n",
       "  [theme=dark] .colab-df-quickchart {\n",
       "      --bg-color: #3B4455;\n",
       "      --fill-color: #D2E3FC;\n",
       "      --hover-bg-color: #434B5C;\n",
       "      --hover-fill-color: #FFFFFF;\n",
       "      --disabled-bg-color: #3B4455;\n",
       "      --disabled-fill-color: #666;\n",
       "  }\n",
       "\n",
       "  .colab-df-quickchart {\n",
       "    background-color: var(--bg-color);\n",
       "    border: none;\n",
       "    border-radius: 50%;\n",
       "    cursor: pointer;\n",
       "    display: none;\n",
       "    fill: var(--fill-color);\n",
       "    height: 32px;\n",
       "    padding: 0;\n",
       "    width: 32px;\n",
       "  }\n",
       "\n",
       "  .colab-df-quickchart:hover {\n",
       "    background-color: var(--hover-bg-color);\n",
       "    box-shadow: 0 1px 2px rgba(60, 64, 67, 0.3), 0 1px 3px 1px rgba(60, 64, 67, 0.15);\n",
       "    fill: var(--button-hover-fill-color);\n",
       "  }\n",
       "\n",
       "  .colab-df-quickchart-complete:disabled,\n",
       "  .colab-df-quickchart-complete:disabled:hover {\n",
       "    background-color: var(--disabled-bg-color);\n",
       "    fill: var(--disabled-fill-color);\n",
       "    box-shadow: none;\n",
       "  }\n",
       "\n",
       "  .colab-df-spinner {\n",
       "    border: 2px solid var(--fill-color);\n",
       "    border-color: transparent;\n",
       "    border-bottom-color: var(--fill-color);\n",
       "    animation:\n",
       "      spin 1s steps(1) infinite;\n",
       "  }\n",
       "\n",
       "  @keyframes spin {\n",
       "    0% {\n",
       "      border-color: transparent;\n",
       "      border-bottom-color: var(--fill-color);\n",
       "      border-left-color: var(--fill-color);\n",
       "    }\n",
       "    20% {\n",
       "      border-color: transparent;\n",
       "      border-left-color: var(--fill-color);\n",
       "      border-top-color: var(--fill-color);\n",
       "    }\n",
       "    30% {\n",
       "      border-color: transparent;\n",
       "      border-left-color: var(--fill-color);\n",
       "      border-top-color: var(--fill-color);\n",
       "      border-right-color: var(--fill-color);\n",
       "    }\n",
       "    40% {\n",
       "      border-color: transparent;\n",
       "      border-right-color: var(--fill-color);\n",
       "      border-top-color: var(--fill-color);\n",
       "    }\n",
       "    60% {\n",
       "      border-color: transparent;\n",
       "      border-right-color: var(--fill-color);\n",
       "    }\n",
       "    80% {\n",
       "      border-color: transparent;\n",
       "      border-right-color: var(--fill-color);\n",
       "      border-bottom-color: var(--fill-color);\n",
       "    }\n",
       "    90% {\n",
       "      border-color: transparent;\n",
       "      border-bottom-color: var(--fill-color);\n",
       "    }\n",
       "  }\n",
       "</style>\n",
       "\n",
       "  <script>\n",
       "    async function quickchart(key) {\n",
       "      const quickchartButtonEl =\n",
       "        document.querySelector('#' + key + ' button');\n",
       "      quickchartButtonEl.disabled = true;  // To prevent multiple clicks.\n",
       "      quickchartButtonEl.classList.add('colab-df-spinner');\n",
       "      try {\n",
       "        const charts = await google.colab.kernel.invokeFunction(\n",
       "            'suggestCharts', [key], {});\n",
       "      } catch (error) {\n",
       "        console.error('Error during call to suggestCharts:', error);\n",
       "      }\n",
       "      quickchartButtonEl.classList.remove('colab-df-spinner');\n",
       "      quickchartButtonEl.classList.add('colab-df-quickchart-complete');\n",
       "    }\n",
       "    (() => {\n",
       "      let quickchartButtonEl =\n",
       "        document.querySelector('#df-836699b6-7a97-45ad-b3c3-891cd079fb5d button');\n",
       "      quickchartButtonEl.style.display =\n",
       "        google.colab.kernel.accessAllowed ? 'block' : 'none';\n",
       "    })();\n",
       "  </script>\n",
       "</div>\n",
       "    </div>\n",
       "  </div>\n"
      ],
      "text/plain": [
       "         body_type  city_fuel_economy engine_type fuel_tank_volume fuel_type  \\\n",
       "0  SUV / Crossover                NaN          V6         16.6 gal  Gasoline   \n",
       "1            Sedan               23.0          I4         15.8 gal  Gasoline   \n",
       "2  SUV / Crossover                NaN          I4         12.7 gal  Gasoline   \n",
       "3  SUV / Crossover               18.0          V6         24.6 gal  Gasoline   \n",
       "4  SUV / Crossover                NaN          I4         18.8 gal  Gasoline   \n",
       "\n",
       "   highway_fuel_economy  horsepower   make_name  mileage         model_name  \\\n",
       "0                   NaN       340.0  Land Rover     88.0  Range Rover Velar   \n",
       "1                  36.0       184.0    Chrysler  25794.0                200   \n",
       "2                   NaN       177.0        Jeep     20.0           Renegade   \n",
       "3                  25.0       295.0       Dodge  15732.0            Durango   \n",
       "4                   NaN       182.0   Chevrolet  35363.0            Equinox   \n",
       "\n",
       "     price transmission wheel_system_display  year  \n",
       "0  70742.0            A      All-Wheel Drive  2020  \n",
       "1  13000.0            A    Front-Wheel Drive  2016  \n",
       "2  31221.0            A     Four-Wheel Drive  2019  \n",
       "3  27300.0            A      All-Wheel Drive  2018  \n",
       "4  13823.0            A    Front-Wheel Drive  2016  "
      ]
     },
     "execution_count": 226,
     "metadata": {},
     "output_type": "execute_result"
    }
   ],
   "source": [
    "df_reduced.head()"
   ]
  },
  {
   "cell_type": "markdown",
   "metadata": {
    "id": "TcNOhhkbGKFh"
   },
   "source": [
    "## 5) Pre-Processing"
   ]
  },
  {
   "cell_type": "markdown",
   "metadata": {
    "id": "kTFTTIvOPdmH"
   },
   "source": [
    "### Nullwerte droppen"
   ]
  },
  {
   "cell_type": "code",
   "execution_count": null,
   "metadata": {
    "id": "6KDeb3-ZGJm8"
   },
   "outputs": [],
   "source": [
    "df_dropna = df_reduced.dropna()"
   ]
  },
  {
   "cell_type": "code",
   "execution_count": null,
   "metadata": {
    "colab": {
     "base_uri": "https://localhost:8080/"
    },
    "id": "1_d43YXZPlVF",
    "outputId": "1aef70c1-cba3-485c-aed4-f08b00e0a905"
   },
   "outputs": [
    {
     "name": "stdout",
     "output_type": "stream",
     "text": [
      "<class 'pandas.core.frame.DataFrame'>\n",
      "Index: 77481 entries, 1 to 100039\n",
      "Data columns (total 14 columns):\n",
      " #   Column                Non-Null Count  Dtype  \n",
      "---  ------                --------------  -----  \n",
      " 0   body_type             77481 non-null  object \n",
      " 1   city_fuel_economy     77481 non-null  float64\n",
      " 2   engine_type           77481 non-null  object \n",
      " 3   fuel_tank_volume      77481 non-null  object \n",
      " 4   fuel_type             77481 non-null  object \n",
      " 5   highway_fuel_economy  77481 non-null  float64\n",
      " 6   horsepower            77481 non-null  float64\n",
      " 7   make_name             77481 non-null  object \n",
      " 8   mileage               77481 non-null  float64\n",
      " 9   model_name            77481 non-null  object \n",
      " 10  price                 77481 non-null  float64\n",
      " 11  transmission          77481 non-null  object \n",
      " 12  wheel_system_display  77481 non-null  object \n",
      " 13  year                  77481 non-null  int64  \n",
      "dtypes: float64(5), int64(1), object(8)\n",
      "memory usage: 8.9+ MB\n"
     ]
    }
   ],
   "source": [
    "df_dropna.info()"
   ]
  },
  {
   "cell_type": "code",
   "execution_count": null,
   "metadata": {
    "id": "SYkITChDSW9W"
   },
   "outputs": [],
   "source": [
    "# Zeilen entfernen, in denen irgendwo '--' vorkommt\n",
    "df_dropna = df_dropna[~df_dropna.isin(['--']).any(axis=1)]"
   ]
  },
  {
   "cell_type": "code",
   "execution_count": null,
   "metadata": {
    "colab": {
     "base_uri": "https://localhost:8080/"
    },
    "id": "QB26mHbqSbjq",
    "outputId": "0b1f21f7-24d2-423a-c298-9b77baa42ccd"
   },
   "outputs": [
    {
     "name": "stdout",
     "output_type": "stream",
     "text": [
      "<class 'pandas.core.frame.DataFrame'>\n",
      "Index: 77458 entries, 1 to 100039\n",
      "Data columns (total 14 columns):\n",
      " #   Column                Non-Null Count  Dtype  \n",
      "---  ------                --------------  -----  \n",
      " 0   body_type             77458 non-null  object \n",
      " 1   city_fuel_economy     77458 non-null  float64\n",
      " 2   engine_type           77458 non-null  object \n",
      " 3   fuel_tank_volume      77458 non-null  object \n",
      " 4   fuel_type             77458 non-null  object \n",
      " 5   highway_fuel_economy  77458 non-null  float64\n",
      " 6   horsepower            77458 non-null  float64\n",
      " 7   make_name             77458 non-null  object \n",
      " 8   mileage               77458 non-null  float64\n",
      " 9   model_name            77458 non-null  object \n",
      " 10  price                 77458 non-null  float64\n",
      " 11  transmission          77458 non-null  object \n",
      " 12  wheel_system_display  77458 non-null  object \n",
      " 13  year                  77458 non-null  int64  \n",
      "dtypes: float64(5), int64(1), object(8)\n",
      "memory usage: 8.9+ MB\n"
     ]
    }
   ],
   "source": [
    "df_dropna.info()"
   ]
  },
  {
   "cell_type": "markdown",
   "metadata": {
    "id": "HaY8J4CChTQD"
   },
   "source": [
    "### Daten entfernen aufgrund Werte, Masseinheiten entfernen, Kategorien zusammenlegen, usw."
   ]
  },
  {
   "cell_type": "markdown",
   "metadata": {
    "id": "TcimnZdM4ihJ"
   },
   "source": [
    "Body_Type"
   ]
  },
  {
   "cell_type": "code",
   "execution_count": null,
   "metadata": {
    "id": "l0IWDv0517JQ"
   },
   "outputs": [],
   "source": [
    "# Neues Dataframe für nächste Cleaning Schritte\n",
    "df_clean = df_dropna"
   ]
  },
  {
   "cell_type": "code",
   "execution_count": null,
   "metadata": {
    "colab": {
     "base_uri": "https://localhost:8080/"
    },
    "id": "F-CZbb3T1cWW",
    "outputId": "9e624473-0c11-4c4e-ce03-8d37381e7845"
   },
   "outputs": [
    {
     "data": {
      "text/plain": [
       "body_type\n",
       "SUV / Crossover    38513\n",
       "Sedan              20786\n",
       "Pickup Truck        9757\n",
       "Minivan             2306\n",
       "Hatchback           2201\n",
       "Coupe               1670\n",
       "Wagon               1086\n",
       "Convertible          581\n",
       "Van                  558\n",
       "Name: count, dtype: int64"
      ]
     },
     "execution_count": 232,
     "metadata": {},
     "output_type": "execute_result"
    }
   ],
   "source": [
    "# Body_Type inspizieren\n",
    "df_clean[\"body_type\"].value_counts()"
   ]
  },
  {
   "cell_type": "code",
   "execution_count": null,
   "metadata": {
    "colab": {
     "base_uri": "https://localhost:8080/"
    },
    "id": "wYkz00Kd1s-_",
    "outputId": "61b2033b-90d9-4619-8ed8-f28cc7af4992"
   },
   "outputs": [
    {
     "data": {
      "text/plain": [
       "body_type\n",
       "SUV / Crossover    38513\n",
       "Sedan              20786\n",
       "Pickup Truck        9757\n",
       "Minivan             2306\n",
       "Hatchback           2201\n",
       "Coupe               1670\n",
       "Convertible          581\n",
       "Van                  558\n",
       "Name: count, dtype: int64"
      ]
     },
     "execution_count": 233,
     "metadata": {},
     "output_type": "execute_result"
    }
   ],
   "source": [
    "# Kategorie \"wagon\" ausschliessen\n",
    "df_clean = df_clean[df_clean[\"body_type\"]!=\"Wagon\"]\n",
    "df_clean[\"body_type\"].value_counts()"
   ]
  },
  {
   "cell_type": "markdown",
   "metadata": {
    "id": "GjKQDJaP4j7r"
   },
   "source": [
    "Fuel_Economy"
   ]
  },
  {
   "cell_type": "code",
   "execution_count": null,
   "metadata": {
    "colab": {
     "base_uri": "https://localhost:8080/"
    },
    "id": "ujFPwdXN4t7i",
    "outputId": "c90b1c4f-8c92-4a1d-e36e-5803484c44ca"
   },
   "outputs": [
    {
     "name": "stdout",
     "output_type": "stream",
     "text": [
      "<class 'pandas.core.frame.DataFrame'>\n",
      "Index: 76372 entries, 1 to 100039\n",
      "Data columns (total 13 columns):\n",
      " #   Column                Non-Null Count  Dtype  \n",
      "---  ------                --------------  -----  \n",
      " 0   body_type             76372 non-null  object \n",
      " 1   engine_type           76372 non-null  object \n",
      " 2   fuel_tank_volume      76372 non-null  object \n",
      " 3   fuel_type             76372 non-null  object \n",
      " 4   horsepower            76372 non-null  float64\n",
      " 5   make_name             76372 non-null  object \n",
      " 6   mileage               76372 non-null  float64\n",
      " 7   model_name            76372 non-null  object \n",
      " 8   price                 76372 non-null  float64\n",
      " 9   transmission          76372 non-null  object \n",
      " 10  wheel_system_display  76372 non-null  object \n",
      " 11  year                  76372 non-null  int64  \n",
      " 12  average_fuel_economy  76372 non-null  float64\n",
      "dtypes: float64(4), int64(1), object(8)\n",
      "memory usage: 8.2+ MB\n"
     ]
    },
    {
     "name": "stderr",
     "output_type": "stream",
     "text": [
      "<ipython-input-234-58f38f39bea2>:2: SettingWithCopyWarning: \n",
      "A value is trying to be set on a copy of a slice from a DataFrame.\n",
      "Try using .loc[row_indexer,col_indexer] = value instead\n",
      "\n",
      "See the caveats in the documentation: https://pandas.pydata.org/pandas-docs/stable/user_guide/indexing.html#returning-a-view-versus-a-copy\n",
      "  df_clean[\"average_fuel_economy\"] = (df[\"city_fuel_economy\"] + df[\"highway_fuel_economy\"]) / 2\n"
     ]
    }
   ],
   "source": [
    "# Neue Spalte mit durchschnittlichem Verbrauch aus city_fuel_economy und highway_fuel_economy\n",
    "df_clean[\"average_fuel_economy\"] = (df[\"city_fuel_economy\"] + df[\"highway_fuel_economy\"]) / 2\n",
    "df_clean = df_clean.drop([\"city_fuel_economy\", \"highway_fuel_economy\"], axis = 1)\n",
    "df_clean.info()"
   ]
  },
  {
   "cell_type": "code",
   "execution_count": null,
   "metadata": {
    "colab": {
     "base_uri": "https://localhost:8080/",
     "height": 563
    },
    "id": "2SA6HZdYGaMc",
    "outputId": "c0d88559-a74b-462e-a06a-b3807fca9e1b"
   },
   "outputs": [
    {
     "data": {
      "image/png": "[encoded data removed]",
      "text/plain": [
       "<Figure size 1000x600 with 1 Axes>"
      ]
     },
     "metadata": {},
     "output_type": "display_data"
    }
   ],
   "source": [
    "# Histogramm des durchschnittlichen Verbrauchs\n",
    "plt.figure(figsize=(10, 6))\n",
    "sns.histplot(df_clean['average_fuel_economy'], kde=True, bins=30, color='blue')\n",
    "plt.title('Histogramm des durchschnittlichen Verbrauchs')\n",
    "plt.xlabel('durchschnittlicher Verbrauch')\n",
    "plt.ylabel('Häufigkeit')\n",
    "plt.grid(True)\n",
    "plt.show()"
   ]
  },
  {
   "cell_type": "markdown",
   "metadata": {
    "id": "uIKUdRYgDszA"
   },
   "source": [
    "Fuel_Type"
   ]
  },
  {
   "cell_type": "code",
   "execution_count": null,
   "metadata": {
    "colab": {
     "base_uri": "https://localhost:8080/"
    },
    "id": "Mk07mzEKDt9Z",
    "outputId": "1a6a22e2-c1c5-496f-8afa-e727ae590303"
   },
   "outputs": [
    {
     "data": {
      "text/plain": [
       "fuel_type\n",
       "Gasoline                  70266\n",
       "Flex Fuel Vehicle          3481\n",
       "Hybrid                     2109\n",
       "Diesel                      397\n",
       "Biodiesel                   117\n",
       "Compressed Natural Gas        2\n",
       "Name: count, dtype: int64"
      ]
     },
     "execution_count": 236,
     "metadata": {},
     "output_type": "execute_result"
    }
   ],
   "source": [
    "df_clean[\"fuel_type\"].value_counts()"
   ]
  },
  {
   "cell_type": "code",
   "execution_count": null,
   "metadata": {
    "colab": {
     "base_uri": "https://localhost:8080/"
    },
    "id": "wuSq2OvXDx7C",
    "outputId": "5e26678a-bcbe-45af-eb41-42443ab1cdc1"
   },
   "outputs": [
    {
     "data": {
      "text/plain": [
       "fuel_type\n",
       "Gasoline             70266\n",
       "Flex Fuel Vehicle     3481\n",
       "Hybrid                2109\n",
       "Diesel                 397\n",
       "Biodiesel              117\n",
       "Name: count, dtype: int64"
      ]
     },
     "execution_count": 237,
     "metadata": {},
     "output_type": "execute_result"
    }
   ],
   "source": [
    "# Kategorie \"Compressed Natural Gas\" ausschliessen\n",
    "df_clean = df_clean[df_clean[\"fuel_type\"]!=\"Compressed Natural Gas\"]\n",
    "df_clean[\"fuel_type\"].value_counts()"
   ]
  },
  {
   "cell_type": "markdown",
   "metadata": {
    "id": "rSQajcqC5sPA"
   },
   "source": [
    "Engine_Type"
   ]
  },
  {
   "cell_type": "code",
   "execution_count": null,
   "metadata": {
    "colab": {
     "base_uri": "https://localhost:8080/"
    },
    "id": "QDg7lufP56S0",
    "outputId": "4730645d-d975-4424-a021-d20d62459e36"
   },
   "outputs": [
    {
     "data": {
      "text/plain": [
       "engine_type\n",
       "I4                       39388\n",
       "V6                       20368\n",
       "V8                        6402\n",
       "I4 Hybrid                 2011\n",
       "V6 Flex Fuel Vehicle      1682\n",
       "H4                        1666\n",
       "V8 Flex Fuel Vehicle      1623\n",
       "I3                        1523\n",
       "I6                         719\n",
       "I6 Diesel                  179\n",
       "I4 Flex Fuel Vehicle       175\n",
       "I4 Diesel                  143\n",
       "I5                         136\n",
       "V6 Biodiesel               117\n",
       "V6 Hybrid                   88\n",
       "V6 Diesel                   75\n",
       "H6                          44\n",
       "V12                         10\n",
       "H4 Hybrid                    5\n",
       "W12                          5\n",
       "V10                          4\n",
       "I6 Hybrid                    3\n",
       "V8 Hybrid                    2\n",
       "R2                           1\n",
       "W12 Flex Fuel Vehicle        1\n",
       "Name: count, dtype: int64"
      ]
     },
     "execution_count": 238,
     "metadata": {},
     "output_type": "execute_result"
    }
   ],
   "source": [
    "df_clean[\"engine_type\"].value_counts()"
   ]
  },
  {
   "cell_type": "code",
   "execution_count": null,
   "metadata": {
    "colab": {
     "base_uri": "https://localhost:8080/"
    },
    "id": "CB9a-tzrDUuS",
    "outputId": "f42d0832-21a1-4d9c-a1c8-2f2e1b9cf1cc"
   },
   "outputs": [
    {
     "data": {
      "text/plain": [
       "engine_type\n",
       "I4     41717\n",
       "V6     22330\n",
       "V8      8027\n",
       "H4      1671\n",
       "I3      1523\n",
       "I6       901\n",
       "I5       136\n",
       "H6        44\n",
       "V12       10\n",
       "W12        6\n",
       "V10        4\n",
       "R2         1\n",
       "Name: count, dtype: int64"
      ]
     },
     "execution_count": 239,
     "metadata": {},
     "output_type": "execute_result"
    }
   ],
   "source": [
    "df_clean[\"engine_type\"] = df_clean[\"engine_type\"].str.replace(' Hybrid', '')\n",
    "df_clean[\"engine_type\"] = df_clean[\"engine_type\"].str.replace(' Flex Fuel Vehicle', '')\n",
    "df_clean[\"engine_type\"] = df_clean[\"engine_type\"].str.replace(' Diesel', '')\n",
    "df_clean[\"engine_type\"] = df_clean[\"engine_type\"].str.replace(' Biodiesel', '')\n",
    "df_clean[\"engine_type\"].value_counts()"
   ]
  },
  {
   "cell_type": "markdown",
   "metadata": {
    "id": "5tJaEj2xDVKz"
   },
   "source": [
    "Fuel_Tank_Volume"
   ]
  },
  {
   "cell_type": "code",
   "execution_count": null,
   "metadata": {
    "colab": {
     "base_uri": "https://localhost:8080/"
    },
    "id": "kk7HOSP6GAq4",
    "outputId": "08ec8d3f-c8b4-4855-eb4f-85b04170548b"
   },
   "outputs": [
    {
     "data": {
      "text/plain": [
       "array(['15.8 gal', '24.6 gal', '14 gal', '15.9 gal', '22 gal', '18.5 gal',\n",
       "       '22.5 gal', '13.2 gal', '25.1 gal', '21.7 gal', '17 gal', '18 gal',\n",
       "       '19 gal', '13.5 gal', '19.4 gal', '14.3 gal', '16.1 gal',\n",
       "       '21.1 gal', '18.8 gal', '15.3 gal', '23 gal', '17.4 gal',\n",
       "       '19.8 gal', '17.2 gal', '19.5 gal', '25 gal', '18.1 gal',\n",
       "       '14.5 gal', '11.9 gal', '19.2 gal', '14.2 gal', '16.4 gal',\n",
       "       '12.4 gal', '9.5 gal', '15.5 gal', '18.6 gal', '16.2 gal',\n",
       "       '13.6 gal', '21 gal', '15.6 gal', '16.5 gal', '20.3 gal',\n",
       "       '14.7 gal', '10.6 gal', '17.5 gal', '26 gal', '12.7 gal', '16 gal',\n",
       "       '14.8 gal', '20 gal', '17.7 gal', '36 gal', '22.4 gal', '26.4 gal',\n",
       "       '21.5 gal', '27.3 gal', '14.9 gal', '17.8 gal', '16.9 gal',\n",
       "       '11 gal', '15.7 gal', '21.8 gal', '13.7 gal', '17.9 gal', '13 gal',\n",
       "       '23.6 gal', '19.1 gal', '14.4 gal', '11.4 gal', '16.6 gal',\n",
       "       '33 gal', '11.3 gal', '22.2 gal', '20.6 gal', '16.3 gal',\n",
       "       '8.9 gal', '12.8 gal', '27.8 gal', '21.9 gal', '32 gal',\n",
       "       '28.3 gal', '15 gal', '15.1 gal', '19.3 gal', '24 gal', '23.3 gal',\n",
       "       '31 gal', '28 gal', '20.1 gal', '18.4 gal', '10.8 gal', '27.7 gal',\n",
       "       '12.2 gal', '17.1 gal', '17.3 gal', '21.6 gal', '11.8 gal',\n",
       "       '10.5 gal', '9.2 gal', '35 gal', '20.5 gal', '7 gal', '23.8 gal',\n",
       "       '9 gal', '23.2 gal', '30 gal', '23.7 gal', '38 gal', '8.7 gal',\n",
       "       '11.6 gal', '11.1 gal', '27 gal', '12 gal', '22.7 gal', '23.5 gal',\n",
       "       '12.6 gal', '20.4 gal', '18.2 gal', '25.4 gal', '39 gal',\n",
       "       '15.4 gal', '9.3 gal', '12.1 gal', '16.8 gal', '27.6 gal',\n",
       "       '33.5 gal', '16.7 gal', '18.3 gal', '21.4 gal', '22.8 gal',\n",
       "       '34 gal', '13.1 gal', '24.5 gal', '31.5 gal', '12.3 gal',\n",
       "       '8.5 gal', '42 gal', '23.9 gal', '28.5 gal'], dtype=object)"
      ]
     },
     "execution_count": 240,
     "metadata": {},
     "output_type": "execute_result"
    }
   ],
   "source": [
    "df_clean[\"fuel_tank_volume\"].unique()"
   ]
  },
  {
   "cell_type": "code",
   "execution_count": 12,
   "metadata": {
    "colab": {
     "base_uri": "https://localhost:8080/"
    },
    "id": "GsdEJ63QjBP-",
    "outputId": "0b03a84c-c774-497e-f49f-7ad74e83388b"
   },
   "outputs": [
    {
     "ename": "NameError",
     "evalue": "name 'df_clean' is not defined",
     "output_type": "error",
     "traceback": [
      "\u001b[0;31m---------------------------------------------------------------------------\u001b[0m",
      "\u001b[0;31mNameError\u001b[0m                                 Traceback (most recent call last)",
      "Cell \u001b[0;32mIn[12], line 2\u001b[0m\n\u001b[1;32m      1\u001b[0m \u001b[38;5;66;03m# Masseinheit mittels str.replace ersetzen\u001b[39;00m\n\u001b[0;32m----> 2\u001b[0m df_clean[\u001b[38;5;124m\"\u001b[39m\u001b[38;5;124mfuel_tank_volume\u001b[39m\u001b[38;5;124m\"\u001b[39m] \u001b[38;5;241m=\u001b[39m df_clean[\u001b[38;5;124m\"\u001b[39m\u001b[38;5;124mfuel_tank_volume\u001b[39m\u001b[38;5;124m\"\u001b[39m]\u001b[38;5;241m.\u001b[39mstr\u001b[38;5;241m.\u001b[39mreplace(\u001b[38;5;124m'\u001b[39m\u001b[38;5;124m gal\u001b[39m\u001b[38;5;124m'\u001b[39m, \u001b[38;5;124m'\u001b[39m\u001b[38;5;124m'\u001b[39m)\n\u001b[1;32m      3\u001b[0m \u001b[38;5;66;03m# In Float umwandeln\u001b[39;00m\n\u001b[1;32m      4\u001b[0m df_clean[\u001b[38;5;124m\"\u001b[39m\u001b[38;5;124mfuel_tank_volume\u001b[39m\u001b[38;5;124m\"\u001b[39m] \u001b[38;5;241m=\u001b[39m df_clean[\u001b[38;5;124m\"\u001b[39m\u001b[38;5;124mfuel_tank_volume\u001b[39m\u001b[38;5;124m\"\u001b[39m]\u001b[38;5;241m.\u001b[39mastype(\u001b[38;5;28mfloat\u001b[39m)\n",
      "\u001b[0;31mNameError\u001b[0m: name 'df_clean' is not defined"
     ]
    }
   ],
   "source": [
    "# Masseinheit mittels str.replace ersetzen\n",
    "df_clean[\"fuel_tank_volume\"] = df_clean[\"fuel_tank_volume\"].str.replace(' gal', '')\n",
    "# In Float umwandeln\n",
    "df_clean[\"fuel_tank_volume\"] = df_clean[\"fuel_tank_volume\"].astype(float)\n",
    "df_clean[\"fuel_tank_volume\"].info()"
   ]
  },
  {
   "cell_type": "markdown",
   "metadata": {
    "id": "kygX_QLlHXvW"
   },
   "source": [
    "##### Transmission umformen"
   ]
  },
  {
   "cell_type": "code",
   "execution_count": 31,
   "metadata": {
    "colab": {
     "base_uri": "https://localhost:8080/"
    },
    "id": "6vv9XC5RHFUY",
    "outputId": "b62fe90c-dd80-430b-9f40-aed62ae419e1"
   },
   "outputs": [
    {
     "ename": "NameError",
     "evalue": "name 'df_clean' is not defined",
     "output_type": "error",
     "traceback": [
      "\u001b[0;31m---------------------------------------------------------------------------\u001b[0m",
      "\u001b[0;31mNameError\u001b[0m                                 Traceback (most recent call last)",
      "Cell \u001b[0;32mIn[31], line 1\u001b[0m\n\u001b[0;32m----> 1\u001b[0m df_clean[\u001b[38;5;124m\"\u001b[39m\u001b[38;5;124mtransmission\u001b[39m\u001b[38;5;124m\"\u001b[39m]\u001b[38;5;241m.\u001b[39mvalue_counts()\n",
      "\u001b[0;31mNameError\u001b[0m: name 'df_clean' is not defined"
     ]
    }
   ],
   "source": [
    "df_clean[\"transmission\"].value_counts()"
   ]
  },
  {
   "cell_type": "code",
   "execution_count": 32,
   "metadata": {
    "colab": {
     "base_uri": "https://localhost:8080/",
     "height": 411
    },
    "id": "6aer5LE_Hc4_",
    "outputId": "6367325d-350e-4039-a581-3dcfd501adad"
   },
   "outputs": [
    {
     "ename": "NameError",
     "evalue": "name 'df_clean' is not defined",
     "output_type": "error",
     "traceback": [
      "\u001b[0;31m---------------------------------------------------------------------------\u001b[0m",
      "\u001b[0;31mNameError\u001b[0m                                 Traceback (most recent call last)",
      "Cell \u001b[0;32mIn[32], line 2\u001b[0m\n\u001b[1;32m      1\u001b[0m \u001b[38;5;66;03m# Umwandeln in eine neue Spalte \"Manual\": 1=Manuell oder 0=nicht manuell (automatisch)\u001b[39;00m\n\u001b[0;32m----> 2\u001b[0m df_clean[\u001b[38;5;124m\"\u001b[39m\u001b[38;5;124mmanual\u001b[39m\u001b[38;5;124m\"\u001b[39m] \u001b[38;5;241m=\u001b[39m df_clean[\u001b[38;5;124m\"\u001b[39m\u001b[38;5;124mtransmission\u001b[39m\u001b[38;5;124m\"\u001b[39m]\u001b[38;5;241m.\u001b[39mapply(\u001b[38;5;28;01mlambda\u001b[39;00m x: \u001b[38;5;241m1\u001b[39m \u001b[38;5;28;01mif\u001b[39;00m x \u001b[38;5;241m==\u001b[39m \u001b[38;5;124m\"\u001b[39m\u001b[38;5;124mM\u001b[39m\u001b[38;5;124m\"\u001b[39m \u001b[38;5;28;01melse\u001b[39;00m \u001b[38;5;241m0\u001b[39m)\n\u001b[1;32m      3\u001b[0m df_clean[[\u001b[38;5;124m\"\u001b[39m\u001b[38;5;124mmanual\u001b[39m\u001b[38;5;124m\"\u001b[39m, \u001b[38;5;124m\"\u001b[39m\u001b[38;5;124mtransmission\u001b[39m\u001b[38;5;124m\"\u001b[39m]]\u001b[38;5;241m.\u001b[39mloc[df_clean[\u001b[38;5;124m\"\u001b[39m\u001b[38;5;124mtransmission\u001b[39m\u001b[38;5;124m\"\u001b[39m]\u001b[38;5;241m==\u001b[39m\u001b[38;5;124m\"\u001b[39m\u001b[38;5;124mA\u001b[39m\u001b[38;5;124m\"\u001b[39m]\n",
      "\u001b[0;31mNameError\u001b[0m: name 'df_clean' is not defined"
     ]
    }
   ],
   "source": [
    "# Umwandeln in eine neue Spalte \"Manual\": 1=Manuell oder 0=nicht manuell (automatisch)\n",
    "df_clean[\"manual\"] = df_clean[\"transmission\"].apply(lambda x: 1 if x == \"M\" else 0)\n",
    "df_clean[[\"manual\", \"transmission\"]].loc[df_clean[\"transmission\"]==\"A\"]"
   ]
  },
  {
   "cell_type": "code",
   "execution_count": null,
   "metadata": {
    "id": "HUyfPHVmNTit"
   },
   "outputs": [],
   "source": [
    "# Spalte \"Transmission\" löschen\n",
    "df_clean = df_clean.drop([\"transmission\"], axis = 1)"
   ]
  },
  {
   "cell_type": "markdown",
   "metadata": {
    "id": "bJs-aZwPNnw4"
   },
   "source": [
    "Übersicht nochmals anschauen"
   ]
  },
  {
   "cell_type": "code",
   "execution_count": null,
   "metadata": {
    "colab": {
     "base_uri": "https://localhost:8080/"
    },
    "id": "2rQ3sJkENnf4",
    "outputId": "e0d2b1dd-c8e3-4b56-ea4b-b5e864852ba4"
   },
   "outputs": [
    {
     "name": "stdout",
     "output_type": "stream",
     "text": [
      "<class 'pandas.core.frame.DataFrame'>\n",
      "Index: 76370 entries, 1 to 100039\n",
      "Data columns (total 13 columns):\n",
      " #   Column                Non-Null Count  Dtype  \n",
      "---  ------                --------------  -----  \n",
      " 0   body_type             76370 non-null  object \n",
      " 1   engine_type           76370 non-null  object \n",
      " 2   fuel_tank_volume      76370 non-null  float64\n",
      " 3   fuel_type             76370 non-null  object \n",
      " 4   horsepower            76370 non-null  float64\n",
      " 5   make_name             76370 non-null  object \n",
      " 6   mileage               76370 non-null  float64\n",
      " 7   model_name            76370 non-null  object \n",
      " 8   price                 76370 non-null  float64\n",
      " 9   wheel_system_display  76370 non-null  object \n",
      " 10  year                  76370 non-null  int64  \n",
      " 11  average_fuel_economy  76370 non-null  float64\n",
      " 12  manual                76370 non-null  int64  \n",
      "dtypes: float64(5), int64(2), object(6)\n",
      "memory usage: 8.2+ MB\n"
     ]
    }
   ],
   "source": [
    "df_clean.info()"
   ]
  },
  {
   "cell_type": "markdown",
   "metadata": {},
   "source": [
    "### Numerische Variablen betrachten"
   ]
  },
  {
   "cell_type": "code",
   "execution_count": 30,
   "metadata": {},
   "outputs": [
    {
     "ename": "KeyError",
     "evalue": "\"['average_fuel_economy', 'manual'] not in index\"",
     "output_type": "error",
     "traceback": [
      "\u001b[0;31m---------------------------------------------------------------------------\u001b[0m",
      "\u001b[0;31mKeyError\u001b[0m                                  Traceback (most recent call last)",
      "Cell \u001b[0;32mIn[30], line 4\u001b[0m\n\u001b[1;32m      1\u001b[0m \u001b[38;5;66;03m# Distribution of numerical variables\u001b[39;00m\n\u001b[1;32m      2\u001b[0m numerical_vars \u001b[38;5;241m=\u001b[39m [\u001b[38;5;124m\"\u001b[39m\u001b[38;5;124mfuel_tank_volume\u001b[39m\u001b[38;5;124m\"\u001b[39m, \u001b[38;5;124m\"\u001b[39m\u001b[38;5;124mhorsepower\u001b[39m\u001b[38;5;124m\"\u001b[39m, \u001b[38;5;124m\"\u001b[39m\u001b[38;5;124mmileage\u001b[39m\u001b[38;5;124m\"\u001b[39m, \u001b[38;5;124m\"\u001b[39m\u001b[38;5;124mprice\u001b[39m\u001b[38;5;124m\"\u001b[39m, \u001b[38;5;124m\"\u001b[39m\u001b[38;5;124myear\u001b[39m\u001b[38;5;124m\"\u001b[39m, \u001b[38;5;124m\"\u001b[39m\u001b[38;5;124maverage_fuel_economy\u001b[39m\u001b[38;5;124m\"\u001b[39m, \u001b[38;5;124m\"\u001b[39m\u001b[38;5;124mmanual\u001b[39m\u001b[38;5;124m\"\u001b[39m]\n\u001b[0;32m----> 4\u001b[0m sns\u001b[38;5;241m.\u001b[39mpairplot(df[numerical_vars])\n\u001b[1;32m      6\u001b[0m plt\u001b[38;5;241m.\u001b[39mshow()\n",
      "File \u001b[0;32m~/anaconda3/lib/python3.11/site-packages/pandas/core/frame.py:3899\u001b[0m, in \u001b[0;36mDataFrame.__getitem__\u001b[0;34m(self, key)\u001b[0m\n\u001b[1;32m   3897\u001b[0m     \u001b[38;5;28;01mif\u001b[39;00m is_iterator(key):\n\u001b[1;32m   3898\u001b[0m         key \u001b[38;5;241m=\u001b[39m \u001b[38;5;28mlist\u001b[39m(key)\n\u001b[0;32m-> 3899\u001b[0m     indexer \u001b[38;5;241m=\u001b[39m \u001b[38;5;28mself\u001b[39m\u001b[38;5;241m.\u001b[39mcolumns\u001b[38;5;241m.\u001b[39m_get_indexer_strict(key, \u001b[38;5;124m\"\u001b[39m\u001b[38;5;124mcolumns\u001b[39m\u001b[38;5;124m\"\u001b[39m)[\u001b[38;5;241m1\u001b[39m]\n\u001b[1;32m   3901\u001b[0m \u001b[38;5;66;03m# take() does not accept boolean indexers\u001b[39;00m\n\u001b[1;32m   3902\u001b[0m \u001b[38;5;28;01mif\u001b[39;00m \u001b[38;5;28mgetattr\u001b[39m(indexer, \u001b[38;5;124m\"\u001b[39m\u001b[38;5;124mdtype\u001b[39m\u001b[38;5;124m\"\u001b[39m, \u001b[38;5;28;01mNone\u001b[39;00m) \u001b[38;5;241m==\u001b[39m \u001b[38;5;28mbool\u001b[39m:\n",
      "File \u001b[0;32m~/anaconda3/lib/python3.11/site-packages/pandas/core/indexes/base.py:6115\u001b[0m, in \u001b[0;36mIndex._get_indexer_strict\u001b[0;34m(self, key, axis_name)\u001b[0m\n\u001b[1;32m   6112\u001b[0m \u001b[38;5;28;01melse\u001b[39;00m:\n\u001b[1;32m   6113\u001b[0m     keyarr, indexer, new_indexer \u001b[38;5;241m=\u001b[39m \u001b[38;5;28mself\u001b[39m\u001b[38;5;241m.\u001b[39m_reindex_non_unique(keyarr)\n\u001b[0;32m-> 6115\u001b[0m \u001b[38;5;28mself\u001b[39m\u001b[38;5;241m.\u001b[39m_raise_if_missing(keyarr, indexer, axis_name)\n\u001b[1;32m   6117\u001b[0m keyarr \u001b[38;5;241m=\u001b[39m \u001b[38;5;28mself\u001b[39m\u001b[38;5;241m.\u001b[39mtake(indexer)\n\u001b[1;32m   6118\u001b[0m \u001b[38;5;28;01mif\u001b[39;00m \u001b[38;5;28misinstance\u001b[39m(key, Index):\n\u001b[1;32m   6119\u001b[0m     \u001b[38;5;66;03m# GH 42790 - Preserve name from an Index\u001b[39;00m\n",
      "File \u001b[0;32m~/anaconda3/lib/python3.11/site-packages/pandas/core/indexes/base.py:6179\u001b[0m, in \u001b[0;36mIndex._raise_if_missing\u001b[0;34m(self, key, indexer, axis_name)\u001b[0m\n\u001b[1;32m   6176\u001b[0m     \u001b[38;5;28;01mraise\u001b[39;00m \u001b[38;5;167;01mKeyError\u001b[39;00m(\u001b[38;5;124mf\u001b[39m\u001b[38;5;124m\"\u001b[39m\u001b[38;5;124mNone of [\u001b[39m\u001b[38;5;132;01m{\u001b[39;00mkey\u001b[38;5;132;01m}\u001b[39;00m\u001b[38;5;124m] are in the [\u001b[39m\u001b[38;5;132;01m{\u001b[39;00maxis_name\u001b[38;5;132;01m}\u001b[39;00m\u001b[38;5;124m]\u001b[39m\u001b[38;5;124m\"\u001b[39m)\n\u001b[1;32m   6178\u001b[0m not_found \u001b[38;5;241m=\u001b[39m \u001b[38;5;28mlist\u001b[39m(ensure_index(key)[missing_mask\u001b[38;5;241m.\u001b[39mnonzero()[\u001b[38;5;241m0\u001b[39m]]\u001b[38;5;241m.\u001b[39munique())\n\u001b[0;32m-> 6179\u001b[0m \u001b[38;5;28;01mraise\u001b[39;00m \u001b[38;5;167;01mKeyError\u001b[39;00m(\u001b[38;5;124mf\u001b[39m\u001b[38;5;124m\"\u001b[39m\u001b[38;5;132;01m{\u001b[39;00mnot_found\u001b[38;5;132;01m}\u001b[39;00m\u001b[38;5;124m not in index\u001b[39m\u001b[38;5;124m\"\u001b[39m)\n",
      "\u001b[0;31mKeyError\u001b[0m: \"['average_fuel_economy', 'manual'] not in index\""
     ]
    }
   ],
   "source": [
    "# Distribution of numerical variables\n",
    "numerical_vars = [\"fuel_tank_volume\", \"horsepower\", \"mileage\", \"price\", \"year\", \"average_fuel_economy\", \"manual\"]\n",
    "\n",
    "sns.pairplot(df[numerical_vars])\n",
    "\n",
    "plt.show()"
   ]
  },
  {
   "cell_type": "markdown",
   "metadata": {},
   "source": [
    "Korrelationsmatrix"
   ]
  },
  {
   "cell_type": "code",
   "execution_count": 29,
   "metadata": {},
   "outputs": [
    {
     "data": {
      "image/png": "[encoded data removed]",
      "text/plain": [
       "<Figure size 1200x800 with 2 Axes>"
      ]
     },
     "metadata": {},
     "output_type": "display_data"
    }
   ],
   "source": [
    "# Correlation matrix of numerical variables\n",
    "\n",
    "plt.figure(figsize = (12, 8))\n",
    "\n",
    "corr_matrix = df[numerical_vars].corr()\n",
    "sns.heatmap(corr_matrix, annot = True, cmap = 'coolwarm', linewidths = 0.5)\n",
    "plt.title('Correlation Matrix')\n",
    "plt.show()"
   ]
  },
  {
   "cell_type": "markdown",
   "metadata": {},
   "source": [
    "### Kategorische Variablen betrachten"
   ]
  },
  {
   "cell_type": "code",
   "execution_count": 28,
   "metadata": {},
   "outputs": [
    {
     "data": {
      "image/png": "[encoded data removed]",
      "text/plain": [
       "<Figure size 1200x800 with 4 Axes>"
      ]
     },
     "metadata": {},
     "output_type": "display_data"
    }
   ],
   "source": [
    "# List of categorical variables\n",
    "categorical_vars = ['body_type', 'fuel_type', 'transmission', 'wheel_system_display']\n",
    "\n",
    "fig, axes = plt.subplots(nrows = 2, ncols = 2, figsize = (12, 8))\n",
    "\n",
    "axes = axes.flatten()\n",
    "\n",
    "# Plot each categorical variable in a subplot\n",
    "for i, var in enumerate(categorical_vars):\n",
    "\n",
    "    sns.countplot(y = df[var], order = df[var].value_counts().index, ax = axes[i])\n",
    "\n",
    "    axes[i].set_title(f'Distribution of {var}')\n",
    "    axes[i].set_xlabel('Count')\n",
    "    axes[i].set_ylabel(var)\n",
    "\n",
    "if len(categorical_vars) < len(axes):\n",
    "    fig.delaxes(axes[-1])\n",
    "\n",
    "plt.tight_layout()\n",
    "plt.show()"
   ]
  }
 ],
 "metadata": {
  "colab": {
   "collapsed_sections": [
    "tS93cGjM7vvh"
   ],
   "provenance": []
  },
  "kernelspec": {
   "display_name": "Python 3 (ipykernel)",
   "language": "python",
   "name": "python3"
  },
  "language_info": {
   "codemirror_mode": {
    "name": "ipython",
    "version": 3
   },
   "file_extension": ".py",
   "mimetype": "text/x-python",
   "name": "python",
   "nbconvert_exporter": "python",
   "pygments_lexer": "ipython3",
   "version": "3.11.5"
  }
 },
 "nbformat": 4,
 "nbformat_minor": 1
}
