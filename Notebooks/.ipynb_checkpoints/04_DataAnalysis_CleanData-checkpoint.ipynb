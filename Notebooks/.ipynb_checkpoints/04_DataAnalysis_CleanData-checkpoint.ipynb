{
 "cells": [
  {
   "cell_type": "markdown",
   "id": "fc48cdf0-1087-4646-9c63-cc593a73e356",
   "metadata": {
    "tags": []
   },
   "source": [
    "### _Capstone Projekt - Wiederverkaufswert von Gebrauchtwagen vorhersagen_"
   ]
  },
  {
   "cell_type": "markdown",
   "id": "1610eeb6-f554-415f-8c6d-9bb0f0603598",
   "metadata": {},
   "source": [
    "# **04_Analyse bereingte Daten**"
   ]
  },
  {
   "cell_type": "markdown",
   "id": "15367e7c-66c0-4e32-8aeb-f27b244cfd05",
   "metadata": {},
   "source": [
    "In diesem Notebook werden die zuvor erstellten bereingten Daten für das bessere Verständnis der inkludierten Variablen und Zusammenhänge in den Daten und als Vorbereitung für das spätere Modell analysiert."
   ]
  },
  {
   "cell_type": "markdown",
   "id": "406d335d-aab0-4fd2-8485-1e4a3cbb9249",
   "metadata": {
    "id": "YenlGrmJi0aV"
   },
   "source": [
    "### Variablen einschliessen aufgrund Überlegungen zu Relevanz (siehe unsere Überlgeungen in schriftlicher Dokumentation)"
   ]
  },
  {
   "cell_type": "code",
   "execution_count": 112,
   "id": "5f07e28a-a3a8-43e2-9100-a30e07dd328b",
   "metadata": {
    "id": "0BvJqsHrrule",
    "tags": []
   },
   "outputs": [],
   "source": [
    "df_reduced = df[[\"body_type\", \"city_fuel_economy\", \"engine_type\", \"fuel_tank_volume\", \"fuel_type\", \"highway_fuel_economy\", \"horsepower\",\n",
    "                \"make_name\", \"mileage\", \"model_name\", \"price\", \"transmission\", \"wheel_system_display\", \"year\"]]"
   ]
  },
  {
   "cell_type": "code",
   "execution_count": null,
   "id": "0a8587af-4c02-4c37-9b4d-c78f5dc2f5af",
   "metadata": {
    "colab": {
     "base_uri": "https://localhost:8080/"
    },
    "id": "_W0Sav-UVhdD",
    "outputId": "4f2c6c7c-6d21-4ff3-e134-f081bbe935fd"
   },
   "outputs": [
    {
     "name": "stdout",
     "output_type": "stream",
     "text": [
      "<class 'pandas.core.frame.DataFrame'>\n",
      "Index: 99251 entries, 0 to 100039\n",
      "Data columns (total 14 columns):\n",
      " #   Column                Non-Null Count  Dtype  \n",
      "---  ------                --------------  -----  \n",
      " 0   body_type             98834 non-null  object \n",
      " 1   city_fuel_economy     83172 non-null  float64\n",
      " 2   engine_type           96000 non-null  object \n",
      " 3   fuel_tank_volume      94012 non-null  object \n",
      " 4   fuel_type             96583 non-null  object \n",
      " 5   highway_fuel_economy  83172 non-null  float64\n",
      " 6   horsepower            93565 non-null  float64\n",
      " 7   make_name             99251 non-null  object \n",
      " 8   mileage               94460 non-null  float64\n",
      " 9   model_name            99251 non-null  object \n",
      " 10  price                 99251 non-null  float64\n",
      " 11  transmission          97053 non-null  object \n",
      " 12  wheel_system_display  94395 non-null  object \n",
      " 13  year                  99251 non-null  int64  \n",
      "dtypes: float64(5), int64(1), object(8)\n",
      "memory usage: 11.4+ MB\n"
     ]
    }
   ],
   "source": [
    "df_reduced.info()"
   ]
  },
  {
   "cell_type": "code",
   "execution_count": null,
   "id": "212be6a0-1cf0-428b-a0a2-a952c2c19b77",
   "metadata": {
    "colab": {
     "base_uri": "https://localhost:8080/",
     "height": 201
    },
    "id": "3gzyRhz4hO1f",
    "outputId": "ca10d3b6-aae1-4db8-b7fd-a2551960d0ec"
   },
   "outputs": [
    {
     "data": {
      "application/vnd.google.colaboratory.intrinsic+json": {
       "summary": "{\n  \"name\": \"df_reduced\",\n  \"rows\": 99251,\n  \"fields\": [\n    {\n      \"column\": \"body_type\",\n      \"properties\": {\n        \"dtype\": \"category\",\n        \"num_unique_values\": 9,\n        \"samples\": [\n          \"Hatchback\",\n          \"Sedan\",\n          \"Minivan\"\n        ],\n        \"semantic_type\": \"\",\n        \"description\": \"\"\n      }\n    },\n    {\n      \"column\": \"city_fuel_economy\",\n      \"properties\": {\n        \"dtype\": \"number\",\n        \"std\": 8.64767647965368,\n        \"min\": 8.0,\n        \"max\": 127.0,\n        \"num_unique_values\": 84,\n        \"samples\": [\n          63.0,\n          23.0,\n          38.0\n        ],\n        \"semantic_type\": \"\",\n        \"description\": \"\"\n      }\n    },\n    {\n      \"column\": \"engine_type\",\n      \"properties\": {\n        \"dtype\": \"category\",\n        \"num_unique_values\": 31,\n        \"samples\": [\n          \"R2\",\n          \"I4 Flex Fuel Vehicle\",\n          \"V8 Hybrid\"\n        ],\n        \"semantic_type\": \"\",\n        \"description\": \"\"\n      }\n    },\n    {\n      \"column\": \"fuel_tank_volume\",\n      \"properties\": {\n        \"dtype\": \"category\",\n        \"num_unique_values\": 156,\n        \"samples\": [\n          \"27.7 gal\",\n          \"16.9 gal\",\n          \"20.6 gal\"\n        ],\n        \"semantic_type\": \"\",\n        \"description\": \"\"\n      }\n    },\n    {\n      \"column\": \"fuel_type\",\n      \"properties\": {\n        \"dtype\": \"category\",\n        \"num_unique_values\": 7,\n        \"samples\": [\n          \"Gasoline\",\n          \"Biodiesel\",\n          \"Electric\"\n        ],\n        \"semantic_type\": \"\",\n        \"description\": \"\"\n      }\n    },\n    {\n      \"column\": \"highway_fuel_economy\",\n      \"properties\": {\n        \"dtype\": \"number\",\n        \"std\": 7.659933280998611,\n        \"min\": 10.0,\n        \"max\": 127.0,\n        \"num_unique_values\": 88,\n        \"samples\": [\n          11.0,\n          36.0,\n          121.0\n        ],\n        \"semantic_type\": \"\",\n        \"description\": \"\"\n      }\n    },\n    {\n      \"column\": \"horsepower\",\n      \"properties\": {\n        \"dtype\": \"number\",\n        \"std\": 87.944200821272,\n        \"min\": 70.0,\n        \"max\": 797.0,\n        \"num_unique_values\": 348,\n        \"samples\": [\n          563.0,\n          160.0,\n          258.0\n        ],\n        \"semantic_type\": \"\",\n        \"description\": \"\"\n      }\n    },\n    {\n      \"column\": \"make_name\",\n      \"properties\": {\n        \"dtype\": \"category\",\n        \"num_unique_values\": 57,\n        \"samples\": [\n          \"Land Rover\",\n          \"Mazda\",\n          \"Genesis\"\n        ],\n        \"semantic_type\": \"\",\n        \"description\": \"\"\n      }\n    },\n    {\n      \"column\": \"mileage\",\n      \"properties\": {\n        \"dtype\": \"number\",\n        \"std\": 45449.67866046018,\n        \"min\": 0.0,\n        \"max\": 399578.0,\n        \"num_unique_values\": 41318,\n        \"samples\": [\n          58468.0,\n          55054.0,\n          22783.0\n        ],\n        \"semantic_type\": \"\",\n        \"description\": \"\"\n      }\n    },\n    {\n      \"column\": \"model_name\",\n      \"properties\": {\n        \"dtype\": \"category\",\n        \"num_unique_values\": 865,\n        \"samples\": [\n          \"X4\",\n          \"280\",\n          \"Grand Vitara\"\n        ],\n        \"semantic_type\": \"\",\n        \"description\": \"\"\n      }\n    },\n    {\n      \"column\": \"price\",\n      \"properties\": {\n        \"dtype\": \"number\",\n        \"std\": 15132.56635924455,\n        \"min\": 299.0,\n        \"max\": 89385.0,\n        \"num_unique_values\": 32747,\n        \"samples\": [\n          36462.0,\n          34264.0,\n          39455.0\n        ],\n        \"semantic_type\": \"\",\n        \"description\": \"\"\n      }\n    },\n    {\n      \"column\": \"transmission\",\n      \"properties\": {\n        \"dtype\": \"category\",\n        \"num_unique_values\": 4,\n        \"samples\": [\n          \"CVT\",\n          \"Dual Clutch\",\n          \"A\"\n        ],\n        \"semantic_type\": \"\",\n        \"description\": \"\"\n      }\n    },\n    {\n      \"column\": \"wheel_system_display\",\n      \"properties\": {\n        \"dtype\": \"category\",\n        \"num_unique_values\": 5,\n        \"samples\": [\n          \"Front-Wheel Drive\",\n          \"4X2\",\n          \"Four-Wheel Drive\"\n        ],\n        \"semantic_type\": \"\",\n        \"description\": \"\"\n      }\n    },\n    {\n      \"column\": \"year\",\n      \"properties\": {\n        \"dtype\": \"number\",\n        \"std\": 4,\n        \"min\": 1923,\n        \"max\": 2021,\n        \"num_unique_values\": 78,\n        \"samples\": [\n          1968,\n          2020,\n          1990\n        ],\n        \"semantic_type\": \"\",\n        \"description\": \"\"\n      }\n    }\n  ]\n}",
       "type": "dataframe",
       "variable_name": "df_reduced"
      },
      "text/html": [
       "\n",
       "  <div id=\"df-40d52128-036f-42a1-bf9b-99cea86e515e\" class=\"colab-df-container\">\n",
       "    <div>\n",
       "<style scoped>\n",
       "    .dataframe tbody tr th:only-of-type {\n",
       "        vertical-align: middle;\n",
       "    }\n",
       "\n",
       "    .dataframe tbody tr th {\n",
       "        vertical-align: top;\n",
       "    }\n",
       "\n",
       "    .dataframe thead th {\n",
       "        text-align: right;\n",
       "    }\n",
       "</style>\n",
       "<table border=\"1\" class=\"dataframe\">\n",
       "  <thead>\n",
       "    <tr style=\"text-align: right;\">\n",
       "      <th></th>\n",
       "      <th>body_type</th>\n",
       "      <th>city_fuel_economy</th>\n",
       "      <th>engine_type</th>\n",
       "      <th>fuel_tank_volume</th>\n",
       "      <th>fuel_type</th>\n",
       "      <th>highway_fuel_economy</th>\n",
       "      <th>horsepower</th>\n",
       "      <th>make_name</th>\n",
       "      <th>mileage</th>\n",
       "      <th>model_name</th>\n",
       "      <th>price</th>\n",
       "      <th>transmission</th>\n",
       "      <th>wheel_system_display</th>\n",
       "      <th>year</th>\n",
       "    </tr>\n",
       "  </thead>\n",
       "  <tbody>\n",
       "    <tr>\n",
       "      <th>0</th>\n",
       "      <td>SUV / Crossover</td>\n",
       "      <td>NaN</td>\n",
       "      <td>V6</td>\n",
       "      <td>16.6 gal</td>\n",
       "      <td>Gasoline</td>\n",
       "      <td>NaN</td>\n",
       "      <td>340.0</td>\n",
       "      <td>Land Rover</td>\n",
       "      <td>88.0</td>\n",
       "      <td>Range Rover Velar</td>\n",
       "      <td>70742.0</td>\n",
       "      <td>A</td>\n",
       "      <td>All-Wheel Drive</td>\n",
       "      <td>2020</td>\n",
       "    </tr>\n",
       "    <tr>\n",
       "      <th>1</th>\n",
       "      <td>Sedan</td>\n",
       "      <td>23.0</td>\n",
       "      <td>I4</td>\n",
       "      <td>15.8 gal</td>\n",
       "      <td>Gasoline</td>\n",
       "      <td>36.0</td>\n",
       "      <td>184.0</td>\n",
       "      <td>Chrysler</td>\n",
       "      <td>25794.0</td>\n",
       "      <td>200</td>\n",
       "      <td>13000.0</td>\n",
       "      <td>A</td>\n",
       "      <td>Front-Wheel Drive</td>\n",
       "      <td>2016</td>\n",
       "    </tr>\n",
       "    <tr>\n",
       "      <th>2</th>\n",
       "      <td>SUV / Crossover</td>\n",
       "      <td>NaN</td>\n",
       "      <td>I4</td>\n",
       "      <td>12.7 gal</td>\n",
       "      <td>Gasoline</td>\n",
       "      <td>NaN</td>\n",
       "      <td>177.0</td>\n",
       "      <td>Jeep</td>\n",
       "      <td>20.0</td>\n",
       "      <td>Renegade</td>\n",
       "      <td>31221.0</td>\n",
       "      <td>A</td>\n",
       "      <td>Four-Wheel Drive</td>\n",
       "      <td>2019</td>\n",
       "    </tr>\n",
       "    <tr>\n",
       "      <th>3</th>\n",
       "      <td>SUV / Crossover</td>\n",
       "      <td>18.0</td>\n",
       "      <td>V6</td>\n",
       "      <td>24.6 gal</td>\n",
       "      <td>Gasoline</td>\n",
       "      <td>25.0</td>\n",
       "      <td>295.0</td>\n",
       "      <td>Dodge</td>\n",
       "      <td>15732.0</td>\n",
       "      <td>Durango</td>\n",
       "      <td>27300.0</td>\n",
       "      <td>A</td>\n",
       "      <td>All-Wheel Drive</td>\n",
       "      <td>2018</td>\n",
       "    </tr>\n",
       "    <tr>\n",
       "      <th>4</th>\n",
       "      <td>SUV / Crossover</td>\n",
       "      <td>NaN</td>\n",
       "      <td>I4</td>\n",
       "      <td>18.8 gal</td>\n",
       "      <td>Gasoline</td>\n",
       "      <td>NaN</td>\n",
       "      <td>182.0</td>\n",
       "      <td>Chevrolet</td>\n",
       "      <td>35363.0</td>\n",
       "      <td>Equinox</td>\n",
       "      <td>13823.0</td>\n",
       "      <td>A</td>\n",
       "      <td>Front-Wheel Drive</td>\n",
       "      <td>2016</td>\n",
       "    </tr>\n",
       "  </tbody>\n",
       "</table>\n",
       "</div>\n",
       "    <div class=\"colab-df-buttons\">\n",
       "\n",
       "  <div class=\"colab-df-container\">\n",
       "    <button class=\"colab-df-convert\" onclick=\"convertToInteractive('df-40d52128-036f-42a1-bf9b-99cea86e515e')\"\n",
       "            title=\"Convert this dataframe to an interactive table.\"\n",
       "            style=\"display:none;\">\n",
       "\n",
       "  <svg xmlns=\"http://www.w3.org/2000/svg\" height=\"24px\" viewBox=\"0 -960 960 960\">\n",
       "    <path d=\"M120-120v-720h720v720H120Zm60-500h600v-160H180v160Zm220 220h160v-160H400v160Zm0 220h160v-160H400v160ZM180-400h160v-160H180v160Zm440 0h160v-160H620v160ZM180-180h160v-160H180v160Zm440 0h160v-160H620v160Z\"/>\n",
       "  </svg>\n",
       "    </button>\n",
       "\n",
       "  <style>\n",
       "    .colab-df-container {\n",
       "      display:flex;\n",
       "      gap: 12px;\n",
       "    }\n",
       "\n",
       "    .colab-df-convert {\n",
       "      background-color: #E8F0FE;\n",
       "      border: none;\n",
       "      border-radius: 50%;\n",
       "      cursor: pointer;\n",
       "      display: none;\n",
       "      fill: #1967D2;\n",
       "      height: 32px;\n",
       "      padding: 0 0 0 0;\n",
       "      width: 32px;\n",
       "    }\n",
       "\n",
       "    .colab-df-convert:hover {\n",
       "      background-color: #E2EBFA;\n",
       "      box-shadow: 0px 1px 2px rgba(60, 64, 67, 0.3), 0px 1px 3px 1px rgba(60, 64, 67, 0.15);\n",
       "      fill: #174EA6;\n",
       "    }\n",
       "\n",
       "    .colab-df-buttons div {\n",
       "      margin-bottom: 4px;\n",
       "    }\n",
       "\n",
       "    [theme=dark] .colab-df-convert {\n",
       "      background-color: #3B4455;\n",
       "      fill: #D2E3FC;\n",
       "    }\n",
       "\n",
       "    [theme=dark] .colab-df-convert:hover {\n",
       "      background-color: #434B5C;\n",
       "      box-shadow: 0px 1px 3px 1px rgba(0, 0, 0, 0.15);\n",
       "      filter: drop-shadow(0px 1px 2px rgba(0, 0, 0, 0.3));\n",
       "      fill: #FFFFFF;\n",
       "    }\n",
       "  </style>\n",
       "\n",
       "    <script>\n",
       "      const buttonEl =\n",
       "        document.querySelector('#df-40d52128-036f-42a1-bf9b-99cea86e515e button.colab-df-convert');\n",
       "      buttonEl.style.display =\n",
       "        google.colab.kernel.accessAllowed ? 'block' : 'none';\n",
       "\n",
       "      async function convertToInteractive(key) {\n",
       "        const element = document.querySelector('#df-40d52128-036f-42a1-bf9b-99cea86e515e');\n",
       "        const dataTable =\n",
       "          await google.colab.kernel.invokeFunction('convertToInteractive',\n",
       "                                                    [key], {});\n",
       "        if (!dataTable) return;\n",
       "\n",
       "        const docLinkHtml = 'Like what you see? Visit the ' +\n",
       "          '<a target=\"_blank\" href=https://colab.research.google.com/notebooks/data_table.ipynb>data table notebook</a>'\n",
       "          + ' to learn more about interactive tables.';\n",
       "        element.innerHTML = '';\n",
       "        dataTable['output_type'] = 'display_data';\n",
       "        await google.colab.output.renderOutput(dataTable, element);\n",
       "        const docLink = document.createElement('div');\n",
       "        docLink.innerHTML = docLinkHtml;\n",
       "        element.appendChild(docLink);\n",
       "      }\n",
       "    </script>\n",
       "  </div>\n",
       "\n",
       "\n",
       "<div id=\"df-836699b6-7a97-45ad-b3c3-891cd079fb5d\">\n",
       "  <button class=\"colab-df-quickchart\" onclick=\"quickchart('df-836699b6-7a97-45ad-b3c3-891cd079fb5d')\"\n",
       "            title=\"Suggest charts\"\n",
       "            style=\"display:none;\">\n",
       "\n",
       "<svg xmlns=\"http://www.w3.org/2000/svg\" height=\"24px\"viewBox=\"0 0 24 24\"\n",
       "     width=\"24px\">\n",
       "    <g>\n",
       "        <path d=\"M19 3H5c-1.1 0-2 .9-2 2v14c0 1.1.9 2 2 2h14c1.1 0 2-.9 2-2V5c0-1.1-.9-2-2-2zM9 17H7v-7h2v7zm4 0h-2V7h2v10zm4 0h-2v-4h2v4z\"/>\n",
       "    </g>\n",
       "</svg>\n",
       "  </button>\n",
       "\n",
       "<style>\n",
       "  .colab-df-quickchart {\n",
       "      --bg-color: #E8F0FE;\n",
       "      --fill-color: #1967D2;\n",
       "      --hover-bg-color: #E2EBFA;\n",
       "      --hover-fill-color: #174EA6;\n",
       "      --disabled-fill-color: #AAA;\n",
       "      --disabled-bg-color: #DDD;\n",
       "  }\n",
       "\n",
       "  [theme=dark] .colab-df-quickchart {\n",
       "      --bg-color: #3B4455;\n",
       "      --fill-color: #D2E3FC;\n",
       "      --hover-bg-color: #434B5C;\n",
       "      --hover-fill-color: #FFFFFF;\n",
       "      --disabled-bg-color: #3B4455;\n",
       "      --disabled-fill-color: #666;\n",
       "  }\n",
       "\n",
       "  .colab-df-quickchart {\n",
       "    background-color: var(--bg-color);\n",
       "    border: none;\n",
       "    border-radius: 50%;\n",
       "    cursor: pointer;\n",
       "    display: none;\n",
       "    fill: var(--fill-color);\n",
       "    height: 32px;\n",
       "    padding: 0;\n",
       "    width: 32px;\n",
       "  }\n",
       "\n",
       "  .colab-df-quickchart:hover {\n",
       "    background-color: var(--hover-bg-color);\n",
       "    box-shadow: 0 1px 2px rgba(60, 64, 67, 0.3), 0 1px 3px 1px rgba(60, 64, 67, 0.15);\n",
       "    fill: var(--button-hover-fill-color);\n",
       "  }\n",
       "\n",
       "  .colab-df-quickchart-complete:disabled,\n",
       "  .colab-df-quickchart-complete:disabled:hover {\n",
       "    background-color: var(--disabled-bg-color);\n",
       "    fill: var(--disabled-fill-color);\n",
       "    box-shadow: none;\n",
       "  }\n",
       "\n",
       "  .colab-df-spinner {\n",
       "    border: 2px solid var(--fill-color);\n",
       "    border-color: transparent;\n",
       "    border-bottom-color: var(--fill-color);\n",
       "    animation:\n",
       "      spin 1s steps(1) infinite;\n",
       "  }\n",
       "\n",
       "  @keyframes spin {\n",
       "    0% {\n",
       "      border-color: transparent;\n",
       "      border-bottom-color: var(--fill-color);\n",
       "      border-left-color: var(--fill-color);\n",
       "    }\n",
       "    20% {\n",
       "      border-color: transparent;\n",
       "      border-left-color: var(--fill-color);\n",
       "      border-top-color: var(--fill-color);\n",
       "    }\n",
       "    30% {\n",
       "      border-color: transparent;\n",
       "      border-left-color: var(--fill-color);\n",
       "      border-top-color: var(--fill-color);\n",
       "      border-right-color: var(--fill-color);\n",
       "    }\n",
       "    40% {\n",
       "      border-color: transparent;\n",
       "      border-right-color: var(--fill-color);\n",
       "      border-top-color: var(--fill-color);\n",
       "    }\n",
       "    60% {\n",
       "      border-color: transparent;\n",
       "      border-right-color: var(--fill-color);\n",
       "    }\n",
       "    80% {\n",
       "      border-color: transparent;\n",
       "      border-right-color: var(--fill-color);\n",
       "      border-bottom-color: var(--fill-color);\n",
       "    }\n",
       "    90% {\n",
       "      border-color: transparent;\n",
       "      border-bottom-color: var(--fill-color);\n",
       "    }\n",
       "  }\n",
       "</style>\n",
       "\n",
       "  <script>\n",
       "    async function quickchart(key) {\n",
       "      const quickchartButtonEl =\n",
       "        document.querySelector('#' + key + ' button');\n",
       "      quickchartButtonEl.disabled = true;  // To prevent multiple clicks.\n",
       "      quickchartButtonEl.classList.add('colab-df-spinner');\n",
       "      try {\n",
       "        const charts = await google.colab.kernel.invokeFunction(\n",
       "            'suggestCharts', [key], {});\n",
       "      } catch (error) {\n",
       "        console.error('Error during call to suggestCharts:', error);\n",
       "      }\n",
       "      quickchartButtonEl.classList.remove('colab-df-spinner');\n",
       "      quickchartButtonEl.classList.add('colab-df-quickchart-complete');\n",
       "    }\n",
       "    (() => {\n",
       "      let quickchartButtonEl =\n",
       "        document.querySelector('#df-836699b6-7a97-45ad-b3c3-891cd079fb5d button');\n",
       "      quickchartButtonEl.style.display =\n",
       "        google.colab.kernel.accessAllowed ? 'block' : 'none';\n",
       "    })();\n",
       "  </script>\n",
       "</div>\n",
       "    </div>\n",
       "  </div>\n"
      ],
      "text/plain": [
       "         body_type  city_fuel_economy engine_type fuel_tank_volume fuel_type  \\\n",
       "0  SUV / Crossover                NaN          V6         16.6 gal  Gasoline   \n",
       "1            Sedan               23.0          I4         15.8 gal  Gasoline   \n",
       "2  SUV / Crossover                NaN          I4         12.7 gal  Gasoline   \n",
       "3  SUV / Crossover               18.0          V6         24.6 gal  Gasoline   \n",
       "4  SUV / Crossover                NaN          I4         18.8 gal  Gasoline   \n",
       "\n",
       "   highway_fuel_economy  horsepower   make_name  mileage         model_name  \\\n",
       "0                   NaN       340.0  Land Rover     88.0  Range Rover Velar   \n",
       "1                  36.0       184.0    Chrysler  25794.0                200   \n",
       "2                   NaN       177.0        Jeep     20.0           Renegade   \n",
       "3                  25.0       295.0       Dodge  15732.0            Durango   \n",
       "4                   NaN       182.0   Chevrolet  35363.0            Equinox   \n",
       "\n",
       "     price transmission wheel_system_display  year  \n",
       "0  70742.0            A      All-Wheel Drive  2020  \n",
       "1  13000.0            A    Front-Wheel Drive  2016  \n",
       "2  31221.0            A     Four-Wheel Drive  2019  \n",
       "3  27300.0            A      All-Wheel Drive  2018  \n",
       "4  13823.0            A    Front-Wheel Drive  2016  "
      ]
     },
     "execution_count": 226,
     "metadata": {},
     "output_type": "execute_result"
    }
   ],
   "source": [
    "df_reduced.head()"
   ]
  },
  {
   "cell_type": "markdown",
   "id": "78ab12fd-8268-4f79-b82f-75ad508bf3f0",
   "metadata": {
    "id": "TcNOhhkbGKFh"
   },
   "source": [
    "## 5) Pre-Processing"
   ]
  },
  {
   "cell_type": "markdown",
   "id": "4d0f534b-7bbe-473f-8d49-147c4009afaa",
   "metadata": {
    "id": "kTFTTIvOPdmH"
   },
   "source": [
    "### Nullwerte droppen"
   ]
  },
  {
   "cell_type": "code",
   "execution_count": null,
   "id": "a066c520-cab9-4587-b923-bf9c40959e1e",
   "metadata": {
    "id": "6KDeb3-ZGJm8"
   },
   "outputs": [],
   "source": [
    "df_dropna = df_reduced.dropna()"
   ]
  },
  {
   "cell_type": "code",
   "execution_count": null,
   "id": "ba2f0f31-4aca-459b-8b02-261011749a81",
   "metadata": {
    "colab": {
     "base_uri": "https://localhost:8080/"
    },
    "id": "1_d43YXZPlVF",
    "outputId": "1aef70c1-cba3-485c-aed4-f08b00e0a905"
   },
   "outputs": [
    {
     "name": "stdout",
     "output_type": "stream",
     "text": [
      "<class 'pandas.core.frame.DataFrame'>\n",
      "Index: 77481 entries, 1 to 100039\n",
      "Data columns (total 14 columns):\n",
      " #   Column                Non-Null Count  Dtype  \n",
      "---  ------                --------------  -----  \n",
      " 0   body_type             77481 non-null  object \n",
      " 1   city_fuel_economy     77481 non-null  float64\n",
      " 2   engine_type           77481 non-null  object \n",
      " 3   fuel_tank_volume      77481 non-null  object \n",
      " 4   fuel_type             77481 non-null  object \n",
      " 5   highway_fuel_economy  77481 non-null  float64\n",
      " 6   horsepower            77481 non-null  float64\n",
      " 7   make_name             77481 non-null  object \n",
      " 8   mileage               77481 non-null  float64\n",
      " 9   model_name            77481 non-null  object \n",
      " 10  price                 77481 non-null  float64\n",
      " 11  transmission          77481 non-null  object \n",
      " 12  wheel_system_display  77481 non-null  object \n",
      " 13  year                  77481 non-null  int64  \n",
      "dtypes: float64(5), int64(1), object(8)\n",
      "memory usage: 8.9+ MB\n"
     ]
    }
   ],
   "source": [
    "df_dropna.info()"
   ]
  },
  {
   "cell_type": "code",
   "execution_count": null,
   "id": "5f4b3177-084e-4c86-965a-9719bb5ab516",
   "metadata": {
    "id": "SYkITChDSW9W"
   },
   "outputs": [],
   "source": [
    "# Zeilen entfernen, in denen irgendwo '--' vorkommt\n",
    "df_dropna = df_dropna[~df_dropna.isin(['--']).any(axis=1)]"
   ]
  },
  {
   "cell_type": "code",
   "execution_count": null,
   "id": "d2579898-6902-435b-90c9-13ad78b20e77",
   "metadata": {
    "colab": {
     "base_uri": "https://localhost:8080/"
    },
    "id": "QB26mHbqSbjq",
    "outputId": "0b1f21f7-24d2-423a-c298-9b77baa42ccd"
   },
   "outputs": [
    {
     "name": "stdout",
     "output_type": "stream",
     "text": [
      "<class 'pandas.core.frame.DataFrame'>\n",
      "Index: 77458 entries, 1 to 100039\n",
      "Data columns (total 14 columns):\n",
      " #   Column                Non-Null Count  Dtype  \n",
      "---  ------                --------------  -----  \n",
      " 0   body_type             77458 non-null  object \n",
      " 1   city_fuel_economy     77458 non-null  float64\n",
      " 2   engine_type           77458 non-null  object \n",
      " 3   fuel_tank_volume      77458 non-null  object \n",
      " 4   fuel_type             77458 non-null  object \n",
      " 5   highway_fuel_economy  77458 non-null  float64\n",
      " 6   horsepower            77458 non-null  float64\n",
      " 7   make_name             77458 non-null  object \n",
      " 8   mileage               77458 non-null  float64\n",
      " 9   model_name            77458 non-null  object \n",
      " 10  price                 77458 non-null  float64\n",
      " 11  transmission          77458 non-null  object \n",
      " 12  wheel_system_display  77458 non-null  object \n",
      " 13  year                  77458 non-null  int64  \n",
      "dtypes: float64(5), int64(1), object(8)\n",
      "memory usage: 8.9+ MB\n"
     ]
    }
   ],
   "source": [
    "df_dropna.info()"
   ]
  },
  {
   "cell_type": "markdown",
   "id": "fdc670a7-d7af-48d5-83ea-166e7b2f1755",
   "metadata": {
    "id": "HaY8J4CChTQD"
   },
   "source": [
    "### Daten entfernen aufgrund Werte, Masseinheiten entfernen, Kategorien zusammenlegen, usw."
   ]
  },
  {
   "cell_type": "markdown",
   "id": "97be5a7c-453d-43a5-a446-961a4fade7e2",
   "metadata": {
    "id": "TcimnZdM4ihJ"
   },
   "source": [
    "Body_Type"
   ]
  },
  {
   "cell_type": "code",
   "execution_count": null,
   "id": "55f55489-0520-4eef-8e89-7fd429faa425",
   "metadata": {
    "id": "l0IWDv0517JQ"
   },
   "outputs": [],
   "source": [
    "# Neues Dataframe für nächste Cleaning Schritte\n",
    "df_clean = df_dropna"
   ]
  },
  {
   "cell_type": "code",
   "execution_count": null,
   "id": "d63a604e-e375-4b97-8bce-946960ebb353",
   "metadata": {
    "colab": {
     "base_uri": "https://localhost:8080/"
    },
    "id": "F-CZbb3T1cWW",
    "outputId": "9e624473-0c11-4c4e-ce03-8d37381e7845"
   },
   "outputs": [
    {
     "data": {
      "text/plain": [
       "body_type\n",
       "SUV / Crossover    38513\n",
       "Sedan              20786\n",
       "Pickup Truck        9757\n",
       "Minivan             2306\n",
       "Hatchback           2201\n",
       "Coupe               1670\n",
       "Wagon               1086\n",
       "Convertible          581\n",
       "Van                  558\n",
       "Name: count, dtype: int64"
      ]
     },
     "execution_count": 232,
     "metadata": {},
     "output_type": "execute_result"
    }
   ],
   "source": [
    "# Body_Type inspizieren\n",
    "df_clean[\"body_type\"].value_counts()"
   ]
  },
  {
   "cell_type": "code",
   "execution_count": null,
   "id": "3e680ba9-9b9a-4bd3-8cd0-fdf0bc998174",
   "metadata": {
    "colab": {
     "base_uri": "https://localhost:8080/"
    },
    "id": "wYkz00Kd1s-_",
    "outputId": "61b2033b-90d9-4619-8ed8-f28cc7af4992"
   },
   "outputs": [
    {
     "data": {
      "text/plain": [
       "body_type\n",
       "SUV / Crossover    38513\n",
       "Sedan              20786\n",
       "Pickup Truck        9757\n",
       "Minivan             2306\n",
       "Hatchback           2201\n",
       "Coupe               1670\n",
       "Convertible          581\n",
       "Van                  558\n",
       "Name: count, dtype: int64"
      ]
     },
     "execution_count": 233,
     "metadata": {},
     "output_type": "execute_result"
    }
   ],
   "source": [
    "# Kategorie \"wagon\" ausschliessen\n",
    "df_clean = df_clean[df_clean[\"body_type\"]!=\"Wagon\"]\n",
    "df_clean[\"body_type\"].value_counts()"
   ]
  },
  {
   "cell_type": "markdown",
   "id": "59f0e890-b30c-4bea-8884-595eb713b84d",
   "metadata": {
    "id": "GjKQDJaP4j7r"
   },
   "source": [
    "Fuel_Economy"
   ]
  },
  {
   "cell_type": "code",
   "execution_count": null,
   "id": "9dc4c0ce-3a24-4bf4-98dd-69f75fed0083",
   "metadata": {
    "colab": {
     "base_uri": "https://localhost:8080/"
    },
    "id": "ujFPwdXN4t7i",
    "outputId": "c90b1c4f-8c92-4a1d-e36e-5803484c44ca"
   },
   "outputs": [
    {
     "name": "stdout",
     "output_type": "stream",
     "text": [
      "<class 'pandas.core.frame.DataFrame'>\n",
      "Index: 76372 entries, 1 to 100039\n",
      "Data columns (total 13 columns):\n",
      " #   Column                Non-Null Count  Dtype  \n",
      "---  ------                --------------  -----  \n",
      " 0   body_type             76372 non-null  object \n",
      " 1   engine_type           76372 non-null  object \n",
      " 2   fuel_tank_volume      76372 non-null  object \n",
      " 3   fuel_type             76372 non-null  object \n",
      " 4   horsepower            76372 non-null  float64\n",
      " 5   make_name             76372 non-null  object \n",
      " 6   mileage               76372 non-null  float64\n",
      " 7   model_name            76372 non-null  object \n",
      " 8   price                 76372 non-null  float64\n",
      " 9   transmission          76372 non-null  object \n",
      " 10  wheel_system_display  76372 non-null  object \n",
      " 11  year                  76372 non-null  int64  \n",
      " 12  average_fuel_economy  76372 non-null  float64\n",
      "dtypes: float64(4), int64(1), object(8)\n",
      "memory usage: 8.2+ MB\n"
     ]
    },
    {
     "name": "stderr",
     "output_type": "stream",
     "text": [
      "<ipython-input-234-58f38f39bea2>:2: SettingWithCopyWarning: \n",
      "A value is trying to be set on a copy of a slice from a DataFrame.\n",
      "Try using .loc[row_indexer,col_indexer] = value instead\n",
      "\n",
      "See the caveats in the documentation: https://pandas.pydata.org/pandas-docs/stable/user_guide/indexing.html#returning-a-view-versus-a-copy\n",
      "  df_clean[\"average_fuel_economy\"] = (df[\"city_fuel_economy\"] + df[\"highway_fuel_economy\"]) / 2\n"
     ]
    }
   ],
   "source": [
    "# Neue Spalte mit durchschnittlichem Verbrauch aus city_fuel_economy und highway_fuel_economy\n",
    "df_clean[\"average_fuel_economy\"] = (df[\"city_fuel_economy\"] + df[\"highway_fuel_economy\"]) / 2\n",
    "df_clean = df_clean.drop([\"city_fuel_economy\", \"highway_fuel_economy\"], axis = 1)\n",
    "df_clean.info()"
   ]
  },
  {
   "cell_type": "code",
   "execution_count": null,
   "id": "f88d8d97-3e59-4a42-b5ba-518bc8a252a6",
   "metadata": {
    "colab": {
     "base_uri": "https://localhost:8080/",
     "height": 563
    },
    "id": "2SA6HZdYGaMc",
    "outputId": "c0d88559-a74b-462e-a06a-b3807fca9e1b"
   },
   "outputs": [
    {
     "data": {
      "image/png": "[encoded data removed]",
      "text/plain": [
       "<Figure size 1000x600 with 1 Axes>"
      ]
     },
     "metadata": {},
     "output_type": "display_data"
    }
   ],
   "source": [
    "# Histogramm des durchschnittlichen Verbrauchs\n",
    "plt.figure(figsize=(10, 6))\n",
    "sns.histplot(df_clean['average_fuel_economy'], kde=True, bins=30, color='blue')\n",
    "plt.title('Histogramm des durchschnittlichen Verbrauchs')\n",
    "plt.xlabel('durchschnittlicher Verbrauch')\n",
    "plt.ylabel('Häufigkeit')\n",
    "plt.grid(True)\n",
    "plt.show()"
   ]
  },
  {
   "cell_type": "markdown",
   "id": "dd30a0d3-cc9f-4afd-bc02-568c28a90198",
   "metadata": {
    "id": "uIKUdRYgDszA"
   },
   "source": [
    "Fuel_Type"
   ]
  },
  {
   "cell_type": "code",
   "execution_count": null,
   "id": "23413107-cf03-4019-a975-247d78204992",
   "metadata": {
    "colab": {
     "base_uri": "https://localhost:8080/"
    },
    "id": "Mk07mzEKDt9Z",
    "outputId": "1a6a22e2-c1c5-496f-8afa-e727ae590303"
   },
   "outputs": [
    {
     "data": {
      "text/plain": [
       "fuel_type\n",
       "Gasoline                  70266\n",
       "Flex Fuel Vehicle          3481\n",
       "Hybrid                     2109\n",
       "Diesel                      397\n",
       "Biodiesel                   117\n",
       "Compressed Natural Gas        2\n",
       "Name: count, dtype: int64"
      ]
     },
     "execution_count": 236,
     "metadata": {},
     "output_type": "execute_result"
    }
   ],
   "source": [
    "df_clean[\"fuel_type\"].value_counts()"
   ]
  },
  {
   "cell_type": "code",
   "execution_count": null,
   "id": "bc640ee6-d49b-4505-88c7-6867124eace4",
   "metadata": {
    "colab": {
     "base_uri": "https://localhost:8080/"
    },
    "id": "wuSq2OvXDx7C",
    "outputId": "5e26678a-bcbe-45af-eb41-42443ab1cdc1"
   },
   "outputs": [
    {
     "data": {
      "text/plain": [
       "fuel_type\n",
       "Gasoline             70266\n",
       "Flex Fuel Vehicle     3481\n",
       "Hybrid                2109\n",
       "Diesel                 397\n",
       "Biodiesel              117\n",
       "Name: count, dtype: int64"
      ]
     },
     "execution_count": 237,
     "metadata": {},
     "output_type": "execute_result"
    }
   ],
   "source": [
    "# Kategorie \"Compressed Natural Gas\" ausschliessen\n",
    "df_clean = df_clean[df_clean[\"fuel_type\"]!=\"Compressed Natural Gas\"]\n",
    "df_clean[\"fuel_type\"].value_counts()"
   ]
  },
  {
   "cell_type": "markdown",
   "id": "eb0a2d63-d4e0-483d-9b68-232b4cc69d90",
   "metadata": {
    "id": "rSQajcqC5sPA"
   },
   "source": [
    "Engine_Type"
   ]
  },
  {
   "cell_type": "code",
   "execution_count": null,
   "id": "4177d881-21e9-49fa-abbb-8d7b3fa9feb4",
   "metadata": {
    "colab": {
     "base_uri": "https://localhost:8080/"
    },
    "id": "QDg7lufP56S0",
    "outputId": "4730645d-d975-4424-a021-d20d62459e36"
   },
   "outputs": [
    {
     "data": {
      "text/plain": [
       "engine_type\n",
       "I4                       39388\n",
       "V6                       20368\n",
       "V8                        6402\n",
       "I4 Hybrid                 2011\n",
       "V6 Flex Fuel Vehicle      1682\n",
       "H4                        1666\n",
       "V8 Flex Fuel Vehicle      1623\n",
       "I3                        1523\n",
       "I6                         719\n",
       "I6 Diesel                  179\n",
       "I4 Flex Fuel Vehicle       175\n",
       "I4 Diesel                  143\n",
       "I5                         136\n",
       "V6 Biodiesel               117\n",
       "V6 Hybrid                   88\n",
       "V6 Diesel                   75\n",
       "H6                          44\n",
       "V12                         10\n",
       "H4 Hybrid                    5\n",
       "W12                          5\n",
       "V10                          4\n",
       "I6 Hybrid                    3\n",
       "V8 Hybrid                    2\n",
       "R2                           1\n",
       "W12 Flex Fuel Vehicle        1\n",
       "Name: count, dtype: int64"
      ]
     },
     "execution_count": 238,
     "metadata": {},
     "output_type": "execute_result"
    }
   ],
   "source": [
    "df_clean[\"engine_type\"].value_counts()"
   ]
  },
  {
   "cell_type": "code",
   "execution_count": null,
   "id": "63b374ff-6294-4489-a547-6bcd2e342ffa",
   "metadata": {
    "colab": {
     "base_uri": "https://localhost:8080/"
    },
    "id": "CB9a-tzrDUuS",
    "outputId": "f42d0832-21a1-4d9c-a1c8-2f2e1b9cf1cc"
   },
   "outputs": [
    {
     "data": {
      "text/plain": [
       "engine_type\n",
       "I4     41717\n",
       "V6     22330\n",
       "V8      8027\n",
       "H4      1671\n",
       "I3      1523\n",
       "I6       901\n",
       "I5       136\n",
       "H6        44\n",
       "V12       10\n",
       "W12        6\n",
       "V10        4\n",
       "R2         1\n",
       "Name: count, dtype: int64"
      ]
     },
     "execution_count": 239,
     "metadata": {},
     "output_type": "execute_result"
    }
   ],
   "source": [
    "df_clean[\"engine_type\"] = df_clean[\"engine_type\"].str.replace(' Hybrid', '')\n",
    "df_clean[\"engine_type\"] = df_clean[\"engine_type\"].str.replace(' Flex Fuel Vehicle', '')\n",
    "df_clean[\"engine_type\"] = df_clean[\"engine_type\"].str.replace(' Diesel', '')\n",
    "df_clean[\"engine_type\"] = df_clean[\"engine_type\"].str.replace(' Biodiesel', '')\n",
    "df_clean[\"engine_type\"].value_counts()"
   ]
  },
  {
   "cell_type": "markdown",
   "id": "364b38e3-a74a-46f6-8e39-9492a44c5943",
   "metadata": {
    "id": "5tJaEj2xDVKz"
   },
   "source": [
    "Fuel_Tank_Volume"
   ]
  },
  {
   "cell_type": "code",
   "execution_count": null,
   "id": "56d2b554-8615-4e01-8df6-8bce1ef6d258",
   "metadata": {
    "colab": {
     "base_uri": "https://localhost:8080/"
    },
    "id": "kk7HOSP6GAq4",
    "outputId": "08ec8d3f-c8b4-4855-eb4f-85b04170548b"
   },
   "outputs": [
    {
     "data": {
      "text/plain": [
       "array(['15.8 gal', '24.6 gal', '14 gal', '15.9 gal', '22 gal', '18.5 gal',\n",
       "       '22.5 gal', '13.2 gal', '25.1 gal', '21.7 gal', '17 gal', '18 gal',\n",
       "       '19 gal', '13.5 gal', '19.4 gal', '14.3 gal', '16.1 gal',\n",
       "       '21.1 gal', '18.8 gal', '15.3 gal', '23 gal', '17.4 gal',\n",
       "       '19.8 gal', '17.2 gal', '19.5 gal', '25 gal', '18.1 gal',\n",
       "       '14.5 gal', '11.9 gal', '19.2 gal', '14.2 gal', '16.4 gal',\n",
       "       '12.4 gal', '9.5 gal', '15.5 gal', '18.6 gal', '16.2 gal',\n",
       "       '13.6 gal', '21 gal', '15.6 gal', '16.5 gal', '20.3 gal',\n",
       "       '14.7 gal', '10.6 gal', '17.5 gal', '26 gal', '12.7 gal', '16 gal',\n",
       "       '14.8 gal', '20 gal', '17.7 gal', '36 gal', '22.4 gal', '26.4 gal',\n",
       "       '21.5 gal', '27.3 gal', '14.9 gal', '17.8 gal', '16.9 gal',\n",
       "       '11 gal', '15.7 gal', '21.8 gal', '13.7 gal', '17.9 gal', '13 gal',\n",
       "       '23.6 gal', '19.1 gal', '14.4 gal', '11.4 gal', '16.6 gal',\n",
       "       '33 gal', '11.3 gal', '22.2 gal', '20.6 gal', '16.3 gal',\n",
       "       '8.9 gal', '12.8 gal', '27.8 gal', '21.9 gal', '32 gal',\n",
       "       '28.3 gal', '15 gal', '15.1 gal', '19.3 gal', '24 gal', '23.3 gal',\n",
       "       '31 gal', '28 gal', '20.1 gal', '18.4 gal', '10.8 gal', '27.7 gal',\n",
       "       '12.2 gal', '17.1 gal', '17.3 gal', '21.6 gal', '11.8 gal',\n",
       "       '10.5 gal', '9.2 gal', '35 gal', '20.5 gal', '7 gal', '23.8 gal',\n",
       "       '9 gal', '23.2 gal', '30 gal', '23.7 gal', '38 gal', '8.7 gal',\n",
       "       '11.6 gal', '11.1 gal', '27 gal', '12 gal', '22.7 gal', '23.5 gal',\n",
       "       '12.6 gal', '20.4 gal', '18.2 gal', '25.4 gal', '39 gal',\n",
       "       '15.4 gal', '9.3 gal', '12.1 gal', '16.8 gal', '27.6 gal',\n",
       "       '33.5 gal', '16.7 gal', '18.3 gal', '21.4 gal', '22.8 gal',\n",
       "       '34 gal', '13.1 gal', '24.5 gal', '31.5 gal', '12.3 gal',\n",
       "       '8.5 gal', '42 gal', '23.9 gal', '28.5 gal'], dtype=object)"
      ]
     },
     "execution_count": 240,
     "metadata": {},
     "output_type": "execute_result"
    }
   ],
   "source": [
    "df_clean[\"fuel_tank_volume\"].unique()"
   ]
  },
  {
   "cell_type": "code",
   "execution_count": 12,
   "id": "6dee9a35-fe84-4ebd-84b3-5894d011222e",
   "metadata": {
    "colab": {
     "base_uri": "https://localhost:8080/"
    },
    "id": "GsdEJ63QjBP-",
    "outputId": "0b03a84c-c774-497e-f49f-7ad74e83388b"
   },
   "outputs": [
    {
     "ename": "NameError",
     "evalue": "name 'df_clean' is not defined",
     "output_type": "error",
     "traceback": [
      "\u001b[0;31m---------------------------------------------------------------------------\u001b[0m",
      "\u001b[0;31mNameError\u001b[0m                                 Traceback (most recent call last)",
      "Cell \u001b[0;32mIn[12], line 2\u001b[0m\n\u001b[1;32m      1\u001b[0m \u001b[38;5;66;03m# Masseinheit mittels str.replace ersetzen\u001b[39;00m\n\u001b[0;32m----> 2\u001b[0m df_clean[\u001b[38;5;124m\"\u001b[39m\u001b[38;5;124mfuel_tank_volume\u001b[39m\u001b[38;5;124m\"\u001b[39m] \u001b[38;5;241m=\u001b[39m df_clean[\u001b[38;5;124m\"\u001b[39m\u001b[38;5;124mfuel_tank_volume\u001b[39m\u001b[38;5;124m\"\u001b[39m]\u001b[38;5;241m.\u001b[39mstr\u001b[38;5;241m.\u001b[39mreplace(\u001b[38;5;124m'\u001b[39m\u001b[38;5;124m gal\u001b[39m\u001b[38;5;124m'\u001b[39m, \u001b[38;5;124m'\u001b[39m\u001b[38;5;124m'\u001b[39m)\n\u001b[1;32m      3\u001b[0m \u001b[38;5;66;03m# In Float umwandeln\u001b[39;00m\n\u001b[1;32m      4\u001b[0m df_clean[\u001b[38;5;124m\"\u001b[39m\u001b[38;5;124mfuel_tank_volume\u001b[39m\u001b[38;5;124m\"\u001b[39m] \u001b[38;5;241m=\u001b[39m df_clean[\u001b[38;5;124m\"\u001b[39m\u001b[38;5;124mfuel_tank_volume\u001b[39m\u001b[38;5;124m\"\u001b[39m]\u001b[38;5;241m.\u001b[39mastype(\u001b[38;5;28mfloat\u001b[39m)\n",
      "\u001b[0;31mNameError\u001b[0m: name 'df_clean' is not defined"
     ]
    }
   ],
   "source": [
    "# Masseinheit mittels str.replace ersetzen\n",
    "df_clean[\"fuel_tank_volume\"] = df_clean[\"fuel_tank_volume\"].str.replace(' gal', '')\n",
    "# In Float umwandeln\n",
    "df_clean[\"fuel_tank_volume\"] = df_clean[\"fuel_tank_volume\"].astype(float)\n",
    "df_clean[\"fuel_tank_volume\"].info()"
   ]
  },
  {
   "cell_type": "markdown",
   "id": "0e6f53c7-5b0d-47db-be55-34410185db7e",
   "metadata": {
    "id": "kygX_QLlHXvW"
   },
   "source": [
    "##### Transmission umformen"
   ]
  },
  {
   "cell_type": "code",
   "execution_count": 31,
   "id": "15ec2d15-f8b3-407e-b6b6-c41998b1182d",
   "metadata": {
    "colab": {
     "base_uri": "https://localhost:8080/"
    },
    "id": "6vv9XC5RHFUY",
    "outputId": "b62fe90c-dd80-430b-9f40-aed62ae419e1"
   },
   "outputs": [
    {
     "ename": "NameError",
     "evalue": "name 'df_clean' is not defined",
     "output_type": "error",
     "traceback": [
      "\u001b[0;31m---------------------------------------------------------------------------\u001b[0m",
      "\u001b[0;31mNameError\u001b[0m                                 Traceback (most recent call last)",
      "Cell \u001b[0;32mIn[31], line 1\u001b[0m\n\u001b[0;32m----> 1\u001b[0m df_clean[\u001b[38;5;124m\"\u001b[39m\u001b[38;5;124mtransmission\u001b[39m\u001b[38;5;124m\"\u001b[39m]\u001b[38;5;241m.\u001b[39mvalue_counts()\n",
      "\u001b[0;31mNameError\u001b[0m: name 'df_clean' is not defined"
     ]
    }
   ],
   "source": [
    "df_clean[\"transmission\"].value_counts()"
   ]
  },
  {
   "cell_type": "code",
   "execution_count": 32,
   "id": "b8657e82-54ac-47a9-87ae-a04cba2cdfdf",
   "metadata": {
    "colab": {
     "base_uri": "https://localhost:8080/",
     "height": 411
    },
    "id": "6aer5LE_Hc4_",
    "outputId": "6367325d-350e-4039-a581-3dcfd501adad"
   },
   "outputs": [
    {
     "ename": "NameError",
     "evalue": "name 'df_clean' is not defined",
     "output_type": "error",
     "traceback": [
      "\u001b[0;31m---------------------------------------------------------------------------\u001b[0m",
      "\u001b[0;31mNameError\u001b[0m                                 Traceback (most recent call last)",
      "Cell \u001b[0;32mIn[32], line 2\u001b[0m\n\u001b[1;32m      1\u001b[0m \u001b[38;5;66;03m# Umwandeln in eine neue Spalte \"Manual\": 1=Manuell oder 0=nicht manuell (automatisch)\u001b[39;00m\n\u001b[0;32m----> 2\u001b[0m df_clean[\u001b[38;5;124m\"\u001b[39m\u001b[38;5;124mmanual\u001b[39m\u001b[38;5;124m\"\u001b[39m] \u001b[38;5;241m=\u001b[39m df_clean[\u001b[38;5;124m\"\u001b[39m\u001b[38;5;124mtransmission\u001b[39m\u001b[38;5;124m\"\u001b[39m]\u001b[38;5;241m.\u001b[39mapply(\u001b[38;5;28;01mlambda\u001b[39;00m x: \u001b[38;5;241m1\u001b[39m \u001b[38;5;28;01mif\u001b[39;00m x \u001b[38;5;241m==\u001b[39m \u001b[38;5;124m\"\u001b[39m\u001b[38;5;124mM\u001b[39m\u001b[38;5;124m\"\u001b[39m \u001b[38;5;28;01melse\u001b[39;00m \u001b[38;5;241m0\u001b[39m)\n\u001b[1;32m      3\u001b[0m df_clean[[\u001b[38;5;124m\"\u001b[39m\u001b[38;5;124mmanual\u001b[39m\u001b[38;5;124m\"\u001b[39m, \u001b[38;5;124m\"\u001b[39m\u001b[38;5;124mtransmission\u001b[39m\u001b[38;5;124m\"\u001b[39m]]\u001b[38;5;241m.\u001b[39mloc[df_clean[\u001b[38;5;124m\"\u001b[39m\u001b[38;5;124mtransmission\u001b[39m\u001b[38;5;124m\"\u001b[39m]\u001b[38;5;241m==\u001b[39m\u001b[38;5;124m\"\u001b[39m\u001b[38;5;124mA\u001b[39m\u001b[38;5;124m\"\u001b[39m]\n",
      "\u001b[0;31mNameError\u001b[0m: name 'df_clean' is not defined"
     ]
    }
   ],
   "source": [
    "# Umwandeln in eine neue Spalte \"Manual\": 1=Manuell oder 0=nicht manuell (automatisch)\n",
    "df_clean[\"manual\"] = df_clean[\"transmission\"].apply(lambda x: 1 if x == \"M\" else 0)\n",
    "df_clean[[\"manual\", \"transmission\"]].loc[df_clean[\"transmission\"]==\"A\"]"
   ]
  },
  {
   "cell_type": "code",
   "execution_count": null,
   "id": "2ee19005-c32c-4b81-b669-af3321e39b0b",
   "metadata": {
    "id": "HUyfPHVmNTit"
   },
   "outputs": [],
   "source": [
    "# Spalte \"Transmission\" löschen\n",
    "df_clean = df_clean.drop([\"transmission\"], axis = 1)"
   ]
  },
  {
   "cell_type": "markdown",
   "id": "a7b899be-9606-479f-a166-d2ddc9b05609",
   "metadata": {
    "id": "bJs-aZwPNnw4"
   },
   "source": [
    "Übersicht nochmals anschauen"
   ]
  },
  {
   "cell_type": "code",
   "execution_count": null,
   "id": "618562aa-e8d6-4dbc-a722-da20ac864d8a",
   "metadata": {
    "colab": {
     "base_uri": "https://localhost:8080/"
    },
    "id": "2rQ3sJkENnf4",
    "outputId": "e0d2b1dd-c8e3-4b56-ea4b-b5e864852ba4"
   },
   "outputs": [
    {
     "name": "stdout",
     "output_type": "stream",
     "text": [
      "<class 'pandas.core.frame.DataFrame'>\n",
      "Index: 76370 entries, 1 to 100039\n",
      "Data columns (total 13 columns):\n",
      " #   Column                Non-Null Count  Dtype  \n",
      "---  ------                --------------  -----  \n",
      " 0   body_type             76370 non-null  object \n",
      " 1   engine_type           76370 non-null  object \n",
      " 2   fuel_tank_volume      76370 non-null  float64\n",
      " 3   fuel_type             76370 non-null  object \n",
      " 4   horsepower            76370 non-null  float64\n",
      " 5   make_name             76370 non-null  object \n",
      " 6   mileage               76370 non-null  float64\n",
      " 7   model_name            76370 non-null  object \n",
      " 8   price                 76370 non-null  float64\n",
      " 9   wheel_system_display  76370 non-null  object \n",
      " 10  year                  76370 non-null  int64  \n",
      " 11  average_fuel_economy  76370 non-null  float64\n",
      " 12  manual                76370 non-null  int64  \n",
      "dtypes: float64(5), int64(2), object(6)\n",
      "memory usage: 8.2+ MB\n"
     ]
    }
   ],
   "source": [
    "df_clean.info()"
   ]
  },
  {
   "cell_type": "markdown",
   "id": "14801859-4102-4f7f-bf35-3bf736b741be",
   "metadata": {},
   "source": [
    "### Numerische Variablen betrachten"
   ]
  },
  {
   "cell_type": "code",
   "execution_count": 30,
   "id": "556a4e99-d9c7-4ba2-8e08-0b5a1b6326f2",
   "metadata": {},
   "outputs": [
    {
     "ename": "KeyError",
     "evalue": "\"['average_fuel_economy', 'manual'] not in index\"",
     "output_type": "error",
     "traceback": [
      "\u001b[0;31m---------------------------------------------------------------------------\u001b[0m",
      "\u001b[0;31mKeyError\u001b[0m                                  Traceback (most recent call last)",
      "Cell \u001b[0;32mIn[30], line 4\u001b[0m\n\u001b[1;32m      1\u001b[0m \u001b[38;5;66;03m# Distribution of numerical variables\u001b[39;00m\n\u001b[1;32m      2\u001b[0m numerical_vars \u001b[38;5;241m=\u001b[39m [\u001b[38;5;124m\"\u001b[39m\u001b[38;5;124mfuel_tank_volume\u001b[39m\u001b[38;5;124m\"\u001b[39m, \u001b[38;5;124m\"\u001b[39m\u001b[38;5;124mhorsepower\u001b[39m\u001b[38;5;124m\"\u001b[39m, \u001b[38;5;124m\"\u001b[39m\u001b[38;5;124mmileage\u001b[39m\u001b[38;5;124m\"\u001b[39m, \u001b[38;5;124m\"\u001b[39m\u001b[38;5;124mprice\u001b[39m\u001b[38;5;124m\"\u001b[39m, \u001b[38;5;124m\"\u001b[39m\u001b[38;5;124myear\u001b[39m\u001b[38;5;124m\"\u001b[39m, \u001b[38;5;124m\"\u001b[39m\u001b[38;5;124maverage_fuel_economy\u001b[39m\u001b[38;5;124m\"\u001b[39m, \u001b[38;5;124m\"\u001b[39m\u001b[38;5;124mmanual\u001b[39m\u001b[38;5;124m\"\u001b[39m]\n\u001b[0;32m----> 4\u001b[0m sns\u001b[38;5;241m.\u001b[39mpairplot(df[numerical_vars])\n\u001b[1;32m      6\u001b[0m plt\u001b[38;5;241m.\u001b[39mshow()\n",
      "File \u001b[0;32m~/anaconda3/lib/python3.11/site-packages/pandas/core/frame.py:3899\u001b[0m, in \u001b[0;36mDataFrame.__getitem__\u001b[0;34m(self, key)\u001b[0m\n\u001b[1;32m   3897\u001b[0m     \u001b[38;5;28;01mif\u001b[39;00m is_iterator(key):\n\u001b[1;32m   3898\u001b[0m         key \u001b[38;5;241m=\u001b[39m \u001b[38;5;28mlist\u001b[39m(key)\n\u001b[0;32m-> 3899\u001b[0m     indexer \u001b[38;5;241m=\u001b[39m \u001b[38;5;28mself\u001b[39m\u001b[38;5;241m.\u001b[39mcolumns\u001b[38;5;241m.\u001b[39m_get_indexer_strict(key, \u001b[38;5;124m\"\u001b[39m\u001b[38;5;124mcolumns\u001b[39m\u001b[38;5;124m\"\u001b[39m)[\u001b[38;5;241m1\u001b[39m]\n\u001b[1;32m   3901\u001b[0m \u001b[38;5;66;03m# take() does not accept boolean indexers\u001b[39;00m\n\u001b[1;32m   3902\u001b[0m \u001b[38;5;28;01mif\u001b[39;00m \u001b[38;5;28mgetattr\u001b[39m(indexer, \u001b[38;5;124m\"\u001b[39m\u001b[38;5;124mdtype\u001b[39m\u001b[38;5;124m\"\u001b[39m, \u001b[38;5;28;01mNone\u001b[39;00m) \u001b[38;5;241m==\u001b[39m \u001b[38;5;28mbool\u001b[39m:\n",
      "File \u001b[0;32m~/anaconda3/lib/python3.11/site-packages/pandas/core/indexes/base.py:6115\u001b[0m, in \u001b[0;36mIndex._get_indexer_strict\u001b[0;34m(self, key, axis_name)\u001b[0m\n\u001b[1;32m   6112\u001b[0m \u001b[38;5;28;01melse\u001b[39;00m:\n\u001b[1;32m   6113\u001b[0m     keyarr, indexer, new_indexer \u001b[38;5;241m=\u001b[39m \u001b[38;5;28mself\u001b[39m\u001b[38;5;241m.\u001b[39m_reindex_non_unique(keyarr)\n\u001b[0;32m-> 6115\u001b[0m \u001b[38;5;28mself\u001b[39m\u001b[38;5;241m.\u001b[39m_raise_if_missing(keyarr, indexer, axis_name)\n\u001b[1;32m   6117\u001b[0m keyarr \u001b[38;5;241m=\u001b[39m \u001b[38;5;28mself\u001b[39m\u001b[38;5;241m.\u001b[39mtake(indexer)\n\u001b[1;32m   6118\u001b[0m \u001b[38;5;28;01mif\u001b[39;00m \u001b[38;5;28misinstance\u001b[39m(key, Index):\n\u001b[1;32m   6119\u001b[0m     \u001b[38;5;66;03m# GH 42790 - Preserve name from an Index\u001b[39;00m\n",
      "File \u001b[0;32m~/anaconda3/lib/python3.11/site-packages/pandas/core/indexes/base.py:6179\u001b[0m, in \u001b[0;36mIndex._raise_if_missing\u001b[0;34m(self, key, indexer, axis_name)\u001b[0m\n\u001b[1;32m   6176\u001b[0m     \u001b[38;5;28;01mraise\u001b[39;00m \u001b[38;5;167;01mKeyError\u001b[39;00m(\u001b[38;5;124mf\u001b[39m\u001b[38;5;124m\"\u001b[39m\u001b[38;5;124mNone of [\u001b[39m\u001b[38;5;132;01m{\u001b[39;00mkey\u001b[38;5;132;01m}\u001b[39;00m\u001b[38;5;124m] are in the [\u001b[39m\u001b[38;5;132;01m{\u001b[39;00maxis_name\u001b[38;5;132;01m}\u001b[39;00m\u001b[38;5;124m]\u001b[39m\u001b[38;5;124m\"\u001b[39m)\n\u001b[1;32m   6178\u001b[0m not_found \u001b[38;5;241m=\u001b[39m \u001b[38;5;28mlist\u001b[39m(ensure_index(key)[missing_mask\u001b[38;5;241m.\u001b[39mnonzero()[\u001b[38;5;241m0\u001b[39m]]\u001b[38;5;241m.\u001b[39munique())\n\u001b[0;32m-> 6179\u001b[0m \u001b[38;5;28;01mraise\u001b[39;00m \u001b[38;5;167;01mKeyError\u001b[39;00m(\u001b[38;5;124mf\u001b[39m\u001b[38;5;124m\"\u001b[39m\u001b[38;5;132;01m{\u001b[39;00mnot_found\u001b[38;5;132;01m}\u001b[39;00m\u001b[38;5;124m not in index\u001b[39m\u001b[38;5;124m\"\u001b[39m)\n",
      "\u001b[0;31mKeyError\u001b[0m: \"['average_fuel_economy', 'manual'] not in index\""
     ]
    }
   ],
   "source": [
    "# Distribution of numerical variables\n",
    "numerical_vars = [\"fuel_tank_volume\", \"horsepower\", \"mileage\", \"price\", \"year\", \"average_fuel_economy\", \"manual\"]\n",
    "\n",
    "sns.pairplot(df[numerical_vars])\n",
    "\n",
    "plt.show()"
   ]
  },
  {
   "cell_type": "markdown",
   "id": "226dc7b6-31c6-4325-a727-9fb40b25b597",
   "metadata": {},
   "source": [
    "Korrelationsmatrix"
   ]
  },
  {
   "cell_type": "code",
   "execution_count": 29,
   "id": "5f79ec13-e461-4afd-b9ef-1b492f02350f",
   "metadata": {},
   "outputs": [
    {
     "data": {
      "image/png": "[encoded data removed]",
      "text/plain": [
       "<Figure size 1200x800 with 2 Axes>"
      ]
     },
     "metadata": {},
     "output_type": "display_data"
    }
   ],
   "source": [
    "# Correlation matrix of numerical variables\n",
    "\n",
    "plt.figure(figsize = (12, 8))\n",
    "\n",
    "corr_matrix = df[numerical_vars].corr()\n",
    "sns.heatmap(corr_matrix, annot = True, cmap = 'coolwarm', linewidths = 0.5)\n",
    "plt.title('Correlation Matrix')\n",
    "plt.show()"
   ]
  },
  {
   "cell_type": "markdown",
   "id": "bce5a291-dacd-4493-8ed0-faac0d431fdf",
   "metadata": {},
   "source": [
    "### Kategorische Variablen betrachten"
   ]
  },
  {
   "cell_type": "code",
   "execution_count": 28,
   "id": "049abbec-3e55-4511-b587-4431745fffb1",
   "metadata": {},
   "outputs": [
    {
     "data": {
      "image/png": "[encoded data removed]",
      "text/plain": [
       "<Figure size 1200x800 with 4 Axes>"
      ]
     },
     "metadata": {},
     "output_type": "display_data"
    }
   ],
   "source": [
    "# List of categorical variables\n",
    "categorical_vars = ['body_type', 'fuel_type', 'transmission', 'wheel_system_display']\n",
    "\n",
    "fig, axes = plt.subplots(nrows = 2, ncols = 2, figsize = (12, 8))\n",
    "\n",
    "axes = axes.flatten()\n",
    "\n",
    "# Plot each categorical variable in a subplot\n",
    "for i, var in enumerate(categorical_vars):\n",
    "\n",
    "    sns.countplot(y = df[var], order = df[var].value_counts().index, ax = axes[i])\n",
    "\n",
    "    axes[i].set_title(f'Distribution of {var}')\n",
    "    axes[i].set_xlabel('Count')\n",
    "    axes[i].set_ylabel(var)\n",
    "\n",
    "if len(categorical_vars) < len(axes):\n",
    "    fig.delaxes(axes[-1])\n",
    "\n",
    "plt.tight_layout()\n",
    "plt.show()"
   ]
  }
 ],
 "metadata": {
  "kernelspec": {
   "display_name": "Python 3 (ipykernel)",
   "language": "python",
   "name": "python3"
  },
  "language_info": {
   "codemirror_mode": {
    "name": "ipython",
    "version": 3
   },
   "file_extension": ".py",
   "mimetype": "text/x-python",
   "name": "python",
   "nbconvert_exporter": "python",
   "pygments_lexer": "ipython3",
   "version": "3.11.7"
  }
 },
 "nbformat": 4,
 "nbformat_minor": 5
}
