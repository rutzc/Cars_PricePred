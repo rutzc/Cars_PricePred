{
 "cells": [
  {
   "cell_type": "markdown",
   "id": "5f6c41f5-5edc-47cd-9870-94dedd0fe7b0",
   "metadata": {
    "tags": []
   },
   "source": [
    "### _Capstone Projekt - Wiederverkaufswert von Gebrauchtwagen vorhersagen_"
   ]
  },
  {
   "cell_type": "markdown",
   "id": "01e9f2cd-0436-4a8b-99b0-d8f7a05cc834",
   "metadata": {},
   "source": [
    "# **04_Modelle erstellen, trainieren, evaluieren**\n",
    "In diesem Notebook werden verschiedene Modelle erstellt, trainiert und evaluiert, um die Vorhersage des Preises zu optimieren.\n",
    "\n",
    "Folgende ML-Modelle werden dabei berücksichtigt:\n",
    "- Lineare Regression\n",
    "- Decision Tree Regressor\n",
    "- Random Forest Regressor\n",
    "- Gradient Boosting Regressor"
   ]
  },
  {
   "cell_type": "markdown",
   "id": "bb2a8176-06fa-415a-bcfe-501b0d8137a3",
   "metadata": {},
   "source": [
    "## 1) Libraries importieren"
   ]
  },
  {
   "cell_type": "code",
   "execution_count": 1,
   "id": "d3237f67-909b-4371-add2-cd22bc0743e1",
   "metadata": {
    "tags": []
   },
   "outputs": [],
   "source": [
    "# Libraries importieren\n",
    "import pandas as pd\n",
    "import numpy as np\n",
    "import matplotlib.pyplot as plt\n",
    "import seaborn as sns"
   ]
  },
  {
   "cell_type": "markdown",
   "id": "18cf885f-0235-4246-8b39-7a8df3fd3836",
   "metadata": {},
   "source": [
    "## 2) Daten einlesen"
   ]
  },
  {
   "cell_type": "code",
   "execution_count": 3,
   "id": "4aa0704e-d920-45fa-a99e-24ebe44615f7",
   "metadata": {
    "tags": []
   },
   "outputs": [
    {
     "name": "stdout",
     "output_type": "stream",
     "text": [
      "<class 'pandas.core.frame.DataFrame'>\n",
      "RangeIndex: 70864 entries, 0 to 70863\n",
      "Data columns (total 11 columns):\n",
      " #   Column                Non-Null Count  Dtype  \n",
      "---  ------                --------------  -----  \n",
      " 0   body_type             70864 non-null  object \n",
      " 1   fuel_type             70864 non-null  object \n",
      " 2   horsepower            70864 non-null  float64\n",
      " 3   make_name             70864 non-null  object \n",
      " 4   mileage               70864 non-null  float64\n",
      " 5   model_name            70864 non-null  object \n",
      " 6   price                 70864 non-null  float64\n",
      " 7   wheel_system_display  70864 non-null  object \n",
      " 8   average_fuel_economy  70864 non-null  float64\n",
      " 9   age                   70864 non-null  int64  \n",
      " 10  manual                70864 non-null  int64  \n",
      "dtypes: float64(4), int64(2), object(5)\n",
      "memory usage: 5.9+ MB\n"
     ]
    }
   ],
   "source": [
    "# Daten importieren\n",
    "df_clean = pd.read_csv(\"../Data/clean_data.csv\")\n",
    "\n",
    "# Daten inspizieren\n",
    "df_clean.info()"
   ]
  },
  {
   "cell_type": "markdown",
   "id": "6a427fae-c40f-4cae-ad69-5f509b11f8cc",
   "metadata": {},
   "source": [
    "## 3) Dummy-Variablen erstellen\n",
    "Für das Training werden Dummy-Variablen erstellt."
   ]
  },
  {
   "cell_type": "code",
   "execution_count": 7,
   "id": "8f3cb307-3e6e-4289-9f7f-503d6030ea90",
   "metadata": {
    "tags": []
   },
   "outputs": [],
   "source": [
    "# Dummies in neuem Dataset speichern\n",
    "df_dummies = pd.get_dummies(df_clean, drop_first=True, dtype=float)"
   ]
  },
  {
   "cell_type": "code",
   "execution_count": 9,
   "id": "2867ae73-8f1d-4e58-865e-0995237bcd33",
   "metadata": {
    "tags": []
   },
   "outputs": [
    {
     "data": {
      "text/html": [
       "<div>\n",
       "<style scoped>\n",
       "    .dataframe tbody tr th:only-of-type {\n",
       "        vertical-align: middle;\n",
       "    }\n",
       "\n",
       "    .dataframe tbody tr th {\n",
       "        vertical-align: top;\n",
       "    }\n",
       "\n",
       "    .dataframe thead th {\n",
       "        text-align: right;\n",
       "    }\n",
       "</style>\n",
       "<table border=\"1\" class=\"dataframe\">\n",
       "  <thead>\n",
       "    <tr style=\"text-align: right;\">\n",
       "      <th></th>\n",
       "      <th>horsepower</th>\n",
       "      <th>mileage</th>\n",
       "      <th>price</th>\n",
       "      <th>average_fuel_economy</th>\n",
       "      <th>age</th>\n",
       "      <th>manual</th>\n",
       "      <th>body_type_Coupe</th>\n",
       "      <th>body_type_Hatchback</th>\n",
       "      <th>body_type_Minivan</th>\n",
       "      <th>body_type_Pickup Truck</th>\n",
       "      <th>...</th>\n",
       "      <th>model_name_iM</th>\n",
       "      <th>model_name_iQ</th>\n",
       "      <th>model_name_tC</th>\n",
       "      <th>model_name_xA</th>\n",
       "      <th>model_name_xB</th>\n",
       "      <th>model_name_xD</th>\n",
       "      <th>wheel_system_display_All-Wheel Drive</th>\n",
       "      <th>wheel_system_display_Four-Wheel Drive</th>\n",
       "      <th>wheel_system_display_Front-Wheel Drive</th>\n",
       "      <th>wheel_system_display_Rear-Wheel Drive</th>\n",
       "    </tr>\n",
       "  </thead>\n",
       "  <tbody>\n",
       "    <tr>\n",
       "      <th>0</th>\n",
       "      <td>184.0</td>\n",
       "      <td>25794.0</td>\n",
       "      <td>13000.0</td>\n",
       "      <td>29.5</td>\n",
       "      <td>4</td>\n",
       "      <td>0</td>\n",
       "      <td>0.0</td>\n",
       "      <td>0.0</td>\n",
       "      <td>0.0</td>\n",
       "      <td>0.0</td>\n",
       "      <td>...</td>\n",
       "      <td>0.0</td>\n",
       "      <td>0.0</td>\n",
       "      <td>0.0</td>\n",
       "      <td>0.0</td>\n",
       "      <td>0.0</td>\n",
       "      <td>0.0</td>\n",
       "      <td>0.0</td>\n",
       "      <td>0.0</td>\n",
       "      <td>1.0</td>\n",
       "      <td>0.0</td>\n",
       "    </tr>\n",
       "    <tr>\n",
       "      <th>1</th>\n",
       "      <td>295.0</td>\n",
       "      <td>15732.0</td>\n",
       "      <td>27300.0</td>\n",
       "      <td>21.5</td>\n",
       "      <td>2</td>\n",
       "      <td>0</td>\n",
       "      <td>0.0</td>\n",
       "      <td>0.0</td>\n",
       "      <td>0.0</td>\n",
       "      <td>0.0</td>\n",
       "      <td>...</td>\n",
       "      <td>0.0</td>\n",
       "      <td>0.0</td>\n",
       "      <td>0.0</td>\n",
       "      <td>0.0</td>\n",
       "      <td>0.0</td>\n",
       "      <td>0.0</td>\n",
       "      <td>1.0</td>\n",
       "      <td>0.0</td>\n",
       "      <td>0.0</td>\n",
       "      <td>0.0</td>\n",
       "    </tr>\n",
       "    <tr>\n",
       "      <th>2</th>\n",
       "      <td>138.0</td>\n",
       "      <td>4580.0</td>\n",
       "      <td>15724.0</td>\n",
       "      <td>29.0</td>\n",
       "      <td>2</td>\n",
       "      <td>0</td>\n",
       "      <td>0.0</td>\n",
       "      <td>0.0</td>\n",
       "      <td>0.0</td>\n",
       "      <td>0.0</td>\n",
       "      <td>...</td>\n",
       "      <td>0.0</td>\n",
       "      <td>0.0</td>\n",
       "      <td>0.0</td>\n",
       "      <td>0.0</td>\n",
       "      <td>0.0</td>\n",
       "      <td>0.0</td>\n",
       "      <td>0.0</td>\n",
       "      <td>0.0</td>\n",
       "      <td>1.0</td>\n",
       "      <td>0.0</td>\n",
       "    </tr>\n",
       "    <tr>\n",
       "      <th>3</th>\n",
       "      <td>180.0</td>\n",
       "      <td>25122.0</td>\n",
       "      <td>21000.0</td>\n",
       "      <td>24.0</td>\n",
       "      <td>2</td>\n",
       "      <td>0</td>\n",
       "      <td>0.0</td>\n",
       "      <td>0.0</td>\n",
       "      <td>0.0</td>\n",
       "      <td>0.0</td>\n",
       "      <td>...</td>\n",
       "      <td>0.0</td>\n",
       "      <td>0.0</td>\n",
       "      <td>0.0</td>\n",
       "      <td>0.0</td>\n",
       "      <td>0.0</td>\n",
       "      <td>0.0</td>\n",
       "      <td>0.0</td>\n",
       "      <td>1.0</td>\n",
       "      <td>0.0</td>\n",
       "      <td>0.0</td>\n",
       "    </tr>\n",
       "    <tr>\n",
       "      <th>4</th>\n",
       "      <td>241.0</td>\n",
       "      <td>61161.0</td>\n",
       "      <td>17300.0</td>\n",
       "      <td>20.5</td>\n",
       "      <td>6</td>\n",
       "      <td>0</td>\n",
       "      <td>0.0</td>\n",
       "      <td>0.0</td>\n",
       "      <td>0.0</td>\n",
       "      <td>0.0</td>\n",
       "      <td>...</td>\n",
       "      <td>0.0</td>\n",
       "      <td>0.0</td>\n",
       "      <td>0.0</td>\n",
       "      <td>0.0</td>\n",
       "      <td>0.0</td>\n",
       "      <td>0.0</td>\n",
       "      <td>0.0</td>\n",
       "      <td>1.0</td>\n",
       "      <td>0.0</td>\n",
       "      <td>0.0</td>\n",
       "    </tr>\n",
       "  </tbody>\n",
       "</table>\n",
       "<p>5 rows × 778 columns</p>\n",
       "</div>"
      ],
      "text/plain": [
       "   horsepower  mileage    price  average_fuel_economy  age  manual  \\\n",
       "0       184.0  25794.0  13000.0                  29.5    4       0   \n",
       "1       295.0  15732.0  27300.0                  21.5    2       0   \n",
       "2       138.0   4580.0  15724.0                  29.0    2       0   \n",
       "3       180.0  25122.0  21000.0                  24.0    2       0   \n",
       "4       241.0  61161.0  17300.0                  20.5    6       0   \n",
       "\n",
       "   body_type_Coupe  body_type_Hatchback  body_type_Minivan  \\\n",
       "0              0.0                  0.0                0.0   \n",
       "1              0.0                  0.0                0.0   \n",
       "2              0.0                  0.0                0.0   \n",
       "3              0.0                  0.0                0.0   \n",
       "4              0.0                  0.0                0.0   \n",
       "\n",
       "   body_type_Pickup Truck  ...  model_name_iM  model_name_iQ  model_name_tC  \\\n",
       "0                     0.0  ...            0.0            0.0            0.0   \n",
       "1                     0.0  ...            0.0            0.0            0.0   \n",
       "2                     0.0  ...            0.0            0.0            0.0   \n",
       "3                     0.0  ...            0.0            0.0            0.0   \n",
       "4                     0.0  ...            0.0            0.0            0.0   \n",
       "\n",
       "   model_name_xA  model_name_xB  model_name_xD  \\\n",
       "0            0.0            0.0            0.0   \n",
       "1            0.0            0.0            0.0   \n",
       "2            0.0            0.0            0.0   \n",
       "3            0.0            0.0            0.0   \n",
       "4            0.0            0.0            0.0   \n",
       "\n",
       "   wheel_system_display_All-Wheel Drive  \\\n",
       "0                                   0.0   \n",
       "1                                   1.0   \n",
       "2                                   0.0   \n",
       "3                                   0.0   \n",
       "4                                   0.0   \n",
       "\n",
       "   wheel_system_display_Four-Wheel Drive  \\\n",
       "0                                    0.0   \n",
       "1                                    0.0   \n",
       "2                                    0.0   \n",
       "3                                    1.0   \n",
       "4                                    1.0   \n",
       "\n",
       "   wheel_system_display_Front-Wheel Drive  \\\n",
       "0                                     1.0   \n",
       "1                                     0.0   \n",
       "2                                     1.0   \n",
       "3                                     0.0   \n",
       "4                                     0.0   \n",
       "\n",
       "   wheel_system_display_Rear-Wheel Drive  \n",
       "0                                    0.0  \n",
       "1                                    0.0  \n",
       "2                                    0.0  \n",
       "3                                    0.0  \n",
       "4                                    0.0  \n",
       "\n",
       "[5 rows x 778 columns]"
      ]
     },
     "execution_count": 9,
     "metadata": {},
     "output_type": "execute_result"
    }
   ],
   "source": [
    "# Dummies anschauen\n",
    "df_dummies.head()"
   ]
  },
  {
   "cell_type": "code",
   "execution_count": 11,
   "id": "91aea0f3-7766-4272-beb5-530a29ff16c0",
   "metadata": {
    "tags": []
   },
   "outputs": [
    {
     "name": "stdout",
     "output_type": "stream",
     "text": [
      "<class 'pandas.core.frame.DataFrame'>\n",
      "RangeIndex: 70864 entries, 0 to 70863\n",
      "Columns: 778 entries, horsepower to wheel_system_display_Rear-Wheel Drive\n",
      "dtypes: float64(776), int64(2)\n",
      "memory usage: 420.6 MB\n"
     ]
    }
   ],
   "source": [
    "# Info\n",
    "df_dummies.info()"
   ]
  },
  {
   "cell_type": "markdown",
   "id": "11eb54d0-7ba7-4149-97d8-8c0b07fb7181",
   "metadata": {
    "tags": []
   },
   "source": [
    "## 4) Trainings- und Testingdatensätze erstllen "
   ]
  },
  {
   "cell_type": "code",
   "execution_count": 14,
   "id": "55e65431-96c3-4ecc-8483-727868ad32e6",
   "metadata": {
    "tags": []
   },
   "outputs": [],
   "source": [
    "# X und y definieren\n",
    "X = df_dummies.drop([\"price\"], axis=1)\n",
    "y = df_dummies[\"price\"]"
   ]
  },
  {
   "cell_type": "code",
   "execution_count": 16,
   "id": "2e239afd-a909-4525-95cc-1331165aa372",
   "metadata": {
    "tags": []
   },
   "outputs": [],
   "source": [
    "# Imports\n",
    "from sklearn.model_selection import train_test_split\n",
    "\n",
    "# Train-Test-Split (70%-30%)\n",
    "X_train, X_test, y_train, y_test = train_test_split(X, y, test_size=0.3, random_state=42)"
   ]
  },
  {
   "cell_type": "markdown",
   "id": "e442a3c6-9f32-429c-b9ec-4f92d997cc52",
   "metadata": {
    "tags": []
   },
   "source": [
    "## 5) Modelle trainieren und evaluieren\n",
    "Für die Evaluation werden folgende Metrics verwendet:\n",
    "- R²\n",
    "- Root Mean Squared Error (RMSE)\n",
    "- Mean Absolute Error (MAE)\n",
    "- Mean Absolute Percentage Error (MAPE)\n",
    "\n",
    "Die Mean Absolute Percentage Error (MAPE) misst die Genauigkeit einer Vorhersage, indem sie den durchschnittlichen absoluten Fehler als Prozentsatz der tatsächlichen Werte berechnet. Sie zeigt, wie weit die Vorhersagen im Durchschnitt von den tatsächlichen Werten abweichen, relativ zu den tatsächlichen Werten. Dadurch ermöglicht MAPE einen einfachen Vergleich der Vorhersagegenauigkeit über verschiedene Datensätze hinweg, unabhängig von der Skalierung der Daten.\n",
    "\n",
    "Quelle: https://chatgpt.com/share/a9cfb871-f4a2-46e0-9bdd-7d844967597a "
   ]
  },
  {
   "cell_type": "markdown",
   "id": "2a082547-e8a3-41c0-9945-cafa34eaa964",
   "metadata": {
    "tags": []
   },
   "source": [
    "### 5.1) Modelle ohne Cross-Validation und Hyperparameter Tuning"
   ]
  },
  {
   "cell_type": "markdown",
   "id": "8b2ae794-3e8c-43ca-ba00-d5f148071da9",
   "metadata": {
    "tags": []
   },
   "source": [
    "#### 5.1.1) Modell 1 - Lineare Regression"
   ]
  },
  {
   "cell_type": "code",
   "execution_count": 21,
   "id": "eecdc699-a140-458e-8882-7e2c0e29c9ea",
   "metadata": {
    "tags": []
   },
   "outputs": [],
   "source": [
    "# Imports\n",
    "from sklearn.linear_model import LinearRegression\n",
    "from sklearn.metrics import mean_squared_error, r2_score, mean_absolute_error, mean_absolute_percentage_error"
   ]
  },
  {
   "cell_type": "code",
   "execution_count": 23,
   "id": "d87e9ee1-3afb-4a1b-b052-0a62a207c151",
   "metadata": {
    "tags": []
   },
   "outputs": [
    {
     "data": {
      "text/html": [
       "<style>#sk-container-id-1 {color: black;background-color: white;}#sk-container-id-1 pre{padding: 0;}#sk-container-id-1 div.sk-toggleable {background-color: white;}#sk-container-id-1 label.sk-toggleable__label {cursor: pointer;display: block;width: 100%;margin-bottom: 0;padding: 0.3em;box-sizing: border-box;text-align: center;}#sk-container-id-1 label.sk-toggleable__label-arrow:before {content: \"▸\";float: left;margin-right: 0.25em;color: #696969;}#sk-container-id-1 label.sk-toggleable__label-arrow:hover:before {color: black;}#sk-container-id-1 div.sk-estimator:hover label.sk-toggleable__label-arrow:before {color: black;}#sk-container-id-1 div.sk-toggleable__content {max-height: 0;max-width: 0;overflow: hidden;text-align: left;background-color: #f0f8ff;}#sk-container-id-1 div.sk-toggleable__content pre {margin: 0.2em;color: black;border-radius: 0.25em;background-color: #f0f8ff;}#sk-container-id-1 input.sk-toggleable__control:checked~div.sk-toggleable__content {max-height: 200px;max-width: 100%;overflow: auto;}#sk-container-id-1 input.sk-toggleable__control:checked~label.sk-toggleable__label-arrow:before {content: \"▾\";}#sk-container-id-1 div.sk-estimator input.sk-toggleable__control:checked~label.sk-toggleable__label {background-color: #d4ebff;}#sk-container-id-1 div.sk-label input.sk-toggleable__control:checked~label.sk-toggleable__label {background-color: #d4ebff;}#sk-container-id-1 input.sk-hidden--visually {border: 0;clip: rect(1px 1px 1px 1px);clip: rect(1px, 1px, 1px, 1px);height: 1px;margin: -1px;overflow: hidden;padding: 0;position: absolute;width: 1px;}#sk-container-id-1 div.sk-estimator {font-family: monospace;background-color: #f0f8ff;border: 1px dotted black;border-radius: 0.25em;box-sizing: border-box;margin-bottom: 0.5em;}#sk-container-id-1 div.sk-estimator:hover {background-color: #d4ebff;}#sk-container-id-1 div.sk-parallel-item::after {content: \"\";width: 100%;border-bottom: 1px solid gray;flex-grow: 1;}#sk-container-id-1 div.sk-label:hover label.sk-toggleable__label {background-color: #d4ebff;}#sk-container-id-1 div.sk-serial::before {content: \"\";position: absolute;border-left: 1px solid gray;box-sizing: border-box;top: 0;bottom: 0;left: 50%;z-index: 0;}#sk-container-id-1 div.sk-serial {display: flex;flex-direction: column;align-items: center;background-color: white;padding-right: 0.2em;padding-left: 0.2em;position: relative;}#sk-container-id-1 div.sk-item {position: relative;z-index: 1;}#sk-container-id-1 div.sk-parallel {display: flex;align-items: stretch;justify-content: center;background-color: white;position: relative;}#sk-container-id-1 div.sk-item::before, #sk-container-id-1 div.sk-parallel-item::before {content: \"\";position: absolute;border-left: 1px solid gray;box-sizing: border-box;top: 0;bottom: 0;left: 50%;z-index: -1;}#sk-container-id-1 div.sk-parallel-item {display: flex;flex-direction: column;z-index: 1;position: relative;background-color: white;}#sk-container-id-1 div.sk-parallel-item:first-child::after {align-self: flex-end;width: 50%;}#sk-container-id-1 div.sk-parallel-item:last-child::after {align-self: flex-start;width: 50%;}#sk-container-id-1 div.sk-parallel-item:only-child::after {width: 0;}#sk-container-id-1 div.sk-dashed-wrapped {border: 1px dashed gray;margin: 0 0.4em 0.5em 0.4em;box-sizing: border-box;padding-bottom: 0.4em;background-color: white;}#sk-container-id-1 div.sk-label label {font-family: monospace;font-weight: bold;display: inline-block;line-height: 1.2em;}#sk-container-id-1 div.sk-label-container {text-align: center;}#sk-container-id-1 div.sk-container {/* jupyter's `normalize.less` sets `[hidden] { display: none; }` but bootstrap.min.css set `[hidden] { display: none !important; }` so we also need the `!important` here to be able to override the default hidden behavior on the sphinx rendered scikit-learn.org. See: https://github.com/scikit-learn/scikit-learn/issues/21755 */display: inline-block !important;position: relative;}#sk-container-id-1 div.sk-text-repr-fallback {display: none;}</style><div id=\"sk-container-id-1\" class=\"sk-top-container\"><div class=\"sk-text-repr-fallback\"><pre>LinearRegression()</pre><b>In a Jupyter environment, please rerun this cell to show the HTML representation or trust the notebook. <br />On GitHub, the HTML representation is unable to render, please try loading this page with nbviewer.org.</b></div><div class=\"sk-container\" hidden><div class=\"sk-item\"><div class=\"sk-estimator sk-toggleable\"><input class=\"sk-toggleable__control sk-hidden--visually\" id=\"sk-estimator-id-1\" type=\"checkbox\" checked><label for=\"sk-estimator-id-1\" class=\"sk-toggleable__label sk-toggleable__label-arrow\">LinearRegression</label><div class=\"sk-toggleable__content\"><pre>LinearRegression()</pre></div></div></div></div></div>"
      ],
      "text/plain": [
       "LinearRegression()"
      ]
     },
     "execution_count": 23,
     "metadata": {},
     "output_type": "execute_result"
    }
   ],
   "source": [
    "# Modell erstellen und trainieren\n",
    "lin_reg = LinearRegression()\n",
    "lin_reg.fit(X_train, y_train)"
   ]
  },
  {
   "cell_type": "code",
   "execution_count": 24,
   "id": "2e90ef2b-e7cf-43fc-a503-53ad34113871",
   "metadata": {
    "tags": []
   },
   "outputs": [
    {
     "name": "stdout",
     "output_type": "stream",
     "text": [
      "Evaluation auf Trainingsdaten\n",
      "R²-Wert Train: 0.8574655332608325\n",
      "RMSE Train: 5292.151389923104\n",
      "MAE Train: 3803.962116131524\n",
      "MAPE Train: 0.1963417252414145\n"
     ]
    }
   ],
   "source": [
    "# Modellevaluation auf Trainingsdaten\n",
    "\n",
    "# Vorhersagen auf dem Trainingsset machen\n",
    "y_pred_train = lin_reg.predict(X_train)\n",
    "\n",
    "# Evaluationsmetrics berechnen\n",
    "r2_train = r2_score(y_train, y_pred_train)\n",
    "mse_train = mean_squared_error(y_train, y_pred_train)\n",
    "mae_train = mean_absolute_error(y_train, y_pred_train)\n",
    "mape_train = mean_absolute_percentage_error(y_train, y_pred_train)\n",
    "\n",
    "# Prints\n",
    "print(\"Evaluation auf Trainingsdaten\")\n",
    "print(\"R²-Wert Train:\", r2_train)\n",
    "print(\"RMSE Train:\", np.sqrt(mse_train))\n",
    "print(\"MAE Train:\", mae_train)\n",
    "print(\"MAPE Train:\", mape_train)"
   ]
  },
  {
   "cell_type": "code",
   "execution_count": 25,
   "id": "bebed855-17c5-4e6f-a5fa-ece94ce49c9d",
   "metadata": {
    "tags": []
   },
   "outputs": [
    {
     "name": "stdout",
     "output_type": "stream",
     "text": [
      "Evaluation auf Testdaten\n",
      "R²-Wert: -317471031.2697887\n",
      "RMSE: 249539758.2805892\n",
      "MAE: 7431265.498945915\n",
      "MAPE: 492.2760081181507\n"
     ]
    }
   ],
   "source": [
    "# Modellevaluation auf Testdaten\n",
    "\n",
    "# Vorhersagen auf dem Testset machen\n",
    "y_pred = lin_reg.predict(X_test)\n",
    "\n",
    "# Evaluationsmetrics berechnen\n",
    "r2 = r2_score(y_test, y_pred)\n",
    "mse = mean_squared_error(y_test, y_pred)\n",
    "mae = mean_absolute_error(y_test, y_pred)\n",
    "mape = mean_absolute_percentage_error(y_test, y_pred)\n",
    "\n",
    "# Prints\n",
    "print(\"Evaluation auf Testdaten\")\n",
    "print(\"R²-Wert:\", r2)\n",
    "print(\"RMSE:\", np.sqrt(mse))\n",
    "print(\"MAE:\", mae)\n",
    "print(\"MAPE:\", mape)"
   ]
  },
  {
   "cell_type": "markdown",
   "id": "4312438a-f7b0-4b9f-a2c8-6cda5c434ebf",
   "metadata": {
    "tags": []
   },
   "source": [
    "Zusammenfassung Evaluation (Testdaten)\n",
    "\n",
    "|Model|R²-Wert|RMSE|MAE|MAPE|\n",
    "|--|--|--|--|--|\n",
    "|Linear Regression (ohne CV und HT)|-317471031|249539758|7431265|492|\n"
   ]
  },
  {
   "cell_type": "markdown",
   "id": "651e4ff2-899b-4302-8ca8-f796b34f9b93",
   "metadata": {
    "tags": []
   },
   "source": [
    "#### 5.1.2) Modell 2 - Decision Tree Regressor"
   ]
  },
  {
   "cell_type": "code",
   "execution_count": 28,
   "id": "0c7e5c11-0df2-425e-b177-5693c9c13372",
   "metadata": {
    "tags": []
   },
   "outputs": [],
   "source": [
    "# Imports\n",
    "from sklearn.tree import DecisionTreeRegressor\n",
    "from sklearn.metrics import mean_squared_error, mean_absolute_error, r2_score"
   ]
  },
  {
   "cell_type": "code",
   "execution_count": 29,
   "id": "c7cef331-227e-4802-9860-b20eb2710b70",
   "metadata": {
    "tags": []
   },
   "outputs": [
    {
     "data": {
      "text/html": [
       "<style>#sk-container-id-2 {color: black;background-color: white;}#sk-container-id-2 pre{padding: 0;}#sk-container-id-2 div.sk-toggleable {background-color: white;}#sk-container-id-2 label.sk-toggleable__label {cursor: pointer;display: block;width: 100%;margin-bottom: 0;padding: 0.3em;box-sizing: border-box;text-align: center;}#sk-container-id-2 label.sk-toggleable__label-arrow:before {content: \"▸\";float: left;margin-right: 0.25em;color: #696969;}#sk-container-id-2 label.sk-toggleable__label-arrow:hover:before {color: black;}#sk-container-id-2 div.sk-estimator:hover label.sk-toggleable__label-arrow:before {color: black;}#sk-container-id-2 div.sk-toggleable__content {max-height: 0;max-width: 0;overflow: hidden;text-align: left;background-color: #f0f8ff;}#sk-container-id-2 div.sk-toggleable__content pre {margin: 0.2em;color: black;border-radius: 0.25em;background-color: #f0f8ff;}#sk-container-id-2 input.sk-toggleable__control:checked~div.sk-toggleable__content {max-height: 200px;max-width: 100%;overflow: auto;}#sk-container-id-2 input.sk-toggleable__control:checked~label.sk-toggleable__label-arrow:before {content: \"▾\";}#sk-container-id-2 div.sk-estimator input.sk-toggleable__control:checked~label.sk-toggleable__label {background-color: #d4ebff;}#sk-container-id-2 div.sk-label input.sk-toggleable__control:checked~label.sk-toggleable__label {background-color: #d4ebff;}#sk-container-id-2 input.sk-hidden--visually {border: 0;clip: rect(1px 1px 1px 1px);clip: rect(1px, 1px, 1px, 1px);height: 1px;margin: -1px;overflow: hidden;padding: 0;position: absolute;width: 1px;}#sk-container-id-2 div.sk-estimator {font-family: monospace;background-color: #f0f8ff;border: 1px dotted black;border-radius: 0.25em;box-sizing: border-box;margin-bottom: 0.5em;}#sk-container-id-2 div.sk-estimator:hover {background-color: #d4ebff;}#sk-container-id-2 div.sk-parallel-item::after {content: \"\";width: 100%;border-bottom: 1px solid gray;flex-grow: 1;}#sk-container-id-2 div.sk-label:hover label.sk-toggleable__label {background-color: #d4ebff;}#sk-container-id-2 div.sk-serial::before {content: \"\";position: absolute;border-left: 1px solid gray;box-sizing: border-box;top: 0;bottom: 0;left: 50%;z-index: 0;}#sk-container-id-2 div.sk-serial {display: flex;flex-direction: column;align-items: center;background-color: white;padding-right: 0.2em;padding-left: 0.2em;position: relative;}#sk-container-id-2 div.sk-item {position: relative;z-index: 1;}#sk-container-id-2 div.sk-parallel {display: flex;align-items: stretch;justify-content: center;background-color: white;position: relative;}#sk-container-id-2 div.sk-item::before, #sk-container-id-2 div.sk-parallel-item::before {content: \"\";position: absolute;border-left: 1px solid gray;box-sizing: border-box;top: 0;bottom: 0;left: 50%;z-index: -1;}#sk-container-id-2 div.sk-parallel-item {display: flex;flex-direction: column;z-index: 1;position: relative;background-color: white;}#sk-container-id-2 div.sk-parallel-item:first-child::after {align-self: flex-end;width: 50%;}#sk-container-id-2 div.sk-parallel-item:last-child::after {align-self: flex-start;width: 50%;}#sk-container-id-2 div.sk-parallel-item:only-child::after {width: 0;}#sk-container-id-2 div.sk-dashed-wrapped {border: 1px dashed gray;margin: 0 0.4em 0.5em 0.4em;box-sizing: border-box;padding-bottom: 0.4em;background-color: white;}#sk-container-id-2 div.sk-label label {font-family: monospace;font-weight: bold;display: inline-block;line-height: 1.2em;}#sk-container-id-2 div.sk-label-container {text-align: center;}#sk-container-id-2 div.sk-container {/* jupyter's `normalize.less` sets `[hidden] { display: none; }` but bootstrap.min.css set `[hidden] { display: none !important; }` so we also need the `!important` here to be able to override the default hidden behavior on the sphinx rendered scikit-learn.org. See: https://github.com/scikit-learn/scikit-learn/issues/21755 */display: inline-block !important;position: relative;}#sk-container-id-2 div.sk-text-repr-fallback {display: none;}</style><div id=\"sk-container-id-2\" class=\"sk-top-container\"><div class=\"sk-text-repr-fallback\"><pre>DecisionTreeRegressor(random_state=42)</pre><b>In a Jupyter environment, please rerun this cell to show the HTML representation or trust the notebook. <br />On GitHub, the HTML representation is unable to render, please try loading this page with nbviewer.org.</b></div><div class=\"sk-container\" hidden><div class=\"sk-item\"><div class=\"sk-estimator sk-toggleable\"><input class=\"sk-toggleable__control sk-hidden--visually\" id=\"sk-estimator-id-2\" type=\"checkbox\" checked><label for=\"sk-estimator-id-2\" class=\"sk-toggleable__label sk-toggleable__label-arrow\">DecisionTreeRegressor</label><div class=\"sk-toggleable__content\"><pre>DecisionTreeRegressor(random_state=42)</pre></div></div></div></div></div>"
      ],
      "text/plain": [
       "DecisionTreeRegressor(random_state=42)"
      ]
     },
     "execution_count": 29,
     "metadata": {},
     "output_type": "execute_result"
    }
   ],
   "source": [
    "# Decision Tree Regressor erstellen und trainieren\n",
    "tree_model = DecisionTreeRegressor(random_state=42)\n",
    "tree_model.fit(X_train, y_train)"
   ]
  },
  {
   "cell_type": "code",
   "execution_count": 31,
   "id": "d5c7743d-f83b-4154-a9d0-da88e77d6d51",
   "metadata": {
    "tags": []
   },
   "outputs": [
    {
     "name": "stdout",
     "output_type": "stream",
     "text": [
      "Evaluation auf Trainingsdaten\n",
      "R²-Wert Train: 0.9772843466196811\n",
      "RMSE Train: 2112.685872867819\n",
      "MAE Train: 876.2072994503895\n",
      "MAPE Train: 0.025877191966123557\n"
     ]
    }
   ],
   "source": [
    "# Modellevaluation auf Trainingsdaten\n",
    "\n",
    "# Vorhersagen auf dem Trainingsset machen\n",
    "y_pred_train = tree_model.predict(X_train)\n",
    "\n",
    "# Evaluationsmetrics berechnen\n",
    "r2_train = r2_score(y_train, y_pred_train)\n",
    "mse_train = mean_squared_error(y_train, y_pred_train)\n",
    "mae_train = mean_absolute_error(y_train, y_pred_train)\n",
    "mape_train = mean_absolute_percentage_error(y_train, y_pred_train)\n",
    "\n",
    "# Prints\n",
    "print(\"Evaluation auf Trainingsdaten\")\n",
    "print(\"R²-Wert Train:\", r2_train)\n",
    "print(\"RMSE Train:\", np.sqrt(mse_train))\n",
    "print(\"MAE Train:\", mae_train)\n",
    "print(\"MAPE Train:\", mape_train)"
   ]
  },
  {
   "cell_type": "code",
   "execution_count": 34,
   "id": "a107aae7-38ad-442d-8cb3-238a5184ea9c",
   "metadata": {
    "tags": []
   },
   "outputs": [
    {
     "name": "stdout",
     "output_type": "stream",
     "text": [
      "Evaluation auf Testdaten\n",
      "R²-Wert: 0.8917067686700525\n",
      "RMSE: 4608.805222597829\n",
      "MAE: 3136.216084030679\n",
      "MAPE: 0.1284502053299045\n"
     ]
    }
   ],
   "source": [
    "# Modellevaluation auf Testdaten\n",
    "\n",
    "# Vorhersagen auf dem Testset machen\n",
    "y_pred = tree_model.predict(X_test)\n",
    "\n",
    "# Evaluationsmetrics berechnen\n",
    "r2 = r2_score(y_test, y_pred)\n",
    "mse = mean_squared_error(y_test, y_pred)\n",
    "mae = mean_absolute_error(y_test, y_pred)\n",
    "mape = mean_absolute_percentage_error(y_test, y_pred)\n",
    "\n",
    "# Prints\n",
    "print(\"Evaluation auf Testdaten\")\n",
    "print(\"R²-Wert:\", r2)\n",
    "print(\"RMSE:\", np.sqrt(mse))\n",
    "print(\"MAE:\", mae)\n",
    "print(\"MAPE:\", mape)"
   ]
  },
  {
   "cell_type": "markdown",
   "id": "6941fc27-a660-41e3-a07b-3c1267a81d70",
   "metadata": {
    "tags": []
   },
   "source": [
    "Zusammenfassung Evaluation (Testdaten)\n",
    "\n",
    "|Model|R²-Wert|RMSE|MAE|MAPE|\n",
    "|--|--|--|--|--|\n",
    "|Linear Regression (ohne CV und HT)|-317471031|249539758|7431265|492|\n",
    "|Decision Tree Regressor (ohne CV und HT)|0.8917|4609|3136|0.1285|"
   ]
  },
  {
   "cell_type": "markdown",
   "id": "45af2fd7-c6c5-4baa-93f2-6ac66f15d3f2",
   "metadata": {
    "tags": []
   },
   "source": [
    "#### 5.1.3) Modell 3 - Random Forest Regressor"
   ]
  },
  {
   "cell_type": "code",
   "execution_count": 38,
   "id": "4222e74e-ecec-423c-8f02-6b6bdf79d67e",
   "metadata": {
    "tags": []
   },
   "outputs": [],
   "source": [
    "# Imports\n",
    "from sklearn.ensemble import RandomForestRegressor\n",
    "from sklearn.metrics import mean_squared_error, mean_absolute_error, r2_score"
   ]
  },
  {
   "cell_type": "code",
   "execution_count": 42,
   "id": "5d844fb9-68d8-46b8-bcb1-43492f70056f",
   "metadata": {
    "tags": []
   },
   "outputs": [
    {
     "data": {
      "text/html": [
       "<style>#sk-container-id-3 {color: black;background-color: white;}#sk-container-id-3 pre{padding: 0;}#sk-container-id-3 div.sk-toggleable {background-color: white;}#sk-container-id-3 label.sk-toggleable__label {cursor: pointer;display: block;width: 100%;margin-bottom: 0;padding: 0.3em;box-sizing: border-box;text-align: center;}#sk-container-id-3 label.sk-toggleable__label-arrow:before {content: \"▸\";float: left;margin-right: 0.25em;color: #696969;}#sk-container-id-3 label.sk-toggleable__label-arrow:hover:before {color: black;}#sk-container-id-3 div.sk-estimator:hover label.sk-toggleable__label-arrow:before {color: black;}#sk-container-id-3 div.sk-toggleable__content {max-height: 0;max-width: 0;overflow: hidden;text-align: left;background-color: #f0f8ff;}#sk-container-id-3 div.sk-toggleable__content pre {margin: 0.2em;color: black;border-radius: 0.25em;background-color: #f0f8ff;}#sk-container-id-3 input.sk-toggleable__control:checked~div.sk-toggleable__content {max-height: 200px;max-width: 100%;overflow: auto;}#sk-container-id-3 input.sk-toggleable__control:checked~label.sk-toggleable__label-arrow:before {content: \"▾\";}#sk-container-id-3 div.sk-estimator input.sk-toggleable__control:checked~label.sk-toggleable__label {background-color: #d4ebff;}#sk-container-id-3 div.sk-label input.sk-toggleable__control:checked~label.sk-toggleable__label {background-color: #d4ebff;}#sk-container-id-3 input.sk-hidden--visually {border: 0;clip: rect(1px 1px 1px 1px);clip: rect(1px, 1px, 1px, 1px);height: 1px;margin: -1px;overflow: hidden;padding: 0;position: absolute;width: 1px;}#sk-container-id-3 div.sk-estimator {font-family: monospace;background-color: #f0f8ff;border: 1px dotted black;border-radius: 0.25em;box-sizing: border-box;margin-bottom: 0.5em;}#sk-container-id-3 div.sk-estimator:hover {background-color: #d4ebff;}#sk-container-id-3 div.sk-parallel-item::after {content: \"\";width: 100%;border-bottom: 1px solid gray;flex-grow: 1;}#sk-container-id-3 div.sk-label:hover label.sk-toggleable__label {background-color: #d4ebff;}#sk-container-id-3 div.sk-serial::before {content: \"\";position: absolute;border-left: 1px solid gray;box-sizing: border-box;top: 0;bottom: 0;left: 50%;z-index: 0;}#sk-container-id-3 div.sk-serial {display: flex;flex-direction: column;align-items: center;background-color: white;padding-right: 0.2em;padding-left: 0.2em;position: relative;}#sk-container-id-3 div.sk-item {position: relative;z-index: 1;}#sk-container-id-3 div.sk-parallel {display: flex;align-items: stretch;justify-content: center;background-color: white;position: relative;}#sk-container-id-3 div.sk-item::before, #sk-container-id-3 div.sk-parallel-item::before {content: \"\";position: absolute;border-left: 1px solid gray;box-sizing: border-box;top: 0;bottom: 0;left: 50%;z-index: -1;}#sk-container-id-3 div.sk-parallel-item {display: flex;flex-direction: column;z-index: 1;position: relative;background-color: white;}#sk-container-id-3 div.sk-parallel-item:first-child::after {align-self: flex-end;width: 50%;}#sk-container-id-3 div.sk-parallel-item:last-child::after {align-self: flex-start;width: 50%;}#sk-container-id-3 div.sk-parallel-item:only-child::after {width: 0;}#sk-container-id-3 div.sk-dashed-wrapped {border: 1px dashed gray;margin: 0 0.4em 0.5em 0.4em;box-sizing: border-box;padding-bottom: 0.4em;background-color: white;}#sk-container-id-3 div.sk-label label {font-family: monospace;font-weight: bold;display: inline-block;line-height: 1.2em;}#sk-container-id-3 div.sk-label-container {text-align: center;}#sk-container-id-3 div.sk-container {/* jupyter's `normalize.less` sets `[hidden] { display: none; }` but bootstrap.min.css set `[hidden] { display: none !important; }` so we also need the `!important` here to be able to override the default hidden behavior on the sphinx rendered scikit-learn.org. See: https://github.com/scikit-learn/scikit-learn/issues/21755 */display: inline-block !important;position: relative;}#sk-container-id-3 div.sk-text-repr-fallback {display: none;}</style><div id=\"sk-container-id-3\" class=\"sk-top-container\"><div class=\"sk-text-repr-fallback\"><pre>RandomForestRegressor(random_state=42)</pre><b>In a Jupyter environment, please rerun this cell to show the HTML representation or trust the notebook. <br />On GitHub, the HTML representation is unable to render, please try loading this page with nbviewer.org.</b></div><div class=\"sk-container\" hidden><div class=\"sk-item\"><div class=\"sk-estimator sk-toggleable\"><input class=\"sk-toggleable__control sk-hidden--visually\" id=\"sk-estimator-id-3\" type=\"checkbox\" checked><label for=\"sk-estimator-id-3\" class=\"sk-toggleable__label sk-toggleable__label-arrow\">RandomForestRegressor</label><div class=\"sk-toggleable__content\"><pre>RandomForestRegressor(random_state=42)</pre></div></div></div></div></div>"
      ],
      "text/plain": [
       "RandomForestRegressor(random_state=42)"
      ]
     },
     "execution_count": 42,
     "metadata": {},
     "output_type": "execute_result"
    }
   ],
   "source": [
    "# Random Forest Regressor erstellen (n_estimators=100) und trainieren\n",
    "forest_model = RandomForestRegressor(n_estimators=100, random_state=42)\n",
    "forest_model.fit(X_train, y_train)"
   ]
  },
  {
   "cell_type": "code",
   "execution_count": 44,
   "id": "4769b810-dad0-4372-a25c-fd366d7c0f17",
   "metadata": {
    "tags": []
   },
   "outputs": [
    {
     "name": "stdout",
     "output_type": "stream",
     "text": [
      "Evaluation auf Trainingsdaten\n",
      "R²-Wert Train: 0.9709970043985188\n",
      "RMSE Train: 2387.22712257198\n",
      "MAE Train: 1474.5640531867305\n",
      "MAPE Train: 0.054278848777977985\n"
     ]
    }
   ],
   "source": [
    "# Modellevaluation auf Trainingsdaten\n",
    "\n",
    "# Vorhersagen auf dem Trainingsset machen\n",
    "y_pred_train = forest_model.predict(X_train)\n",
    "\n",
    "# Evaluationsmetrics berechnen\n",
    "r2_train = r2_score(y_train, y_pred_train)\n",
    "mse_train = mean_squared_error(y_train, y_pred_train)\n",
    "mae_train = mean_absolute_error(y_train, y_pred_train)\n",
    "mape_train = mean_absolute_percentage_error(y_train, y_pred_train)\n",
    "\n",
    "# Prints\n",
    "print(\"Evaluation auf Trainingsdaten\")\n",
    "print(\"R²-Wert Train:\", r2_train)\n",
    "print(\"RMSE Train:\", np.sqrt(mse_train))\n",
    "print(\"MAE Train:\", mae_train)\n",
    "print(\"MAPE Train:\", mape_train)"
   ]
  },
  {
   "cell_type": "code",
   "execution_count": 45,
   "id": "0d449477-2d8d-463a-b8bf-d4c8f1f04ac2",
   "metadata": {
    "tags": []
   },
   "outputs": [
    {
     "name": "stdout",
     "output_type": "stream",
     "text": [
      "Evaluation auf Testdaten\n",
      "R²-Wert: 0.9225251505194979\n",
      "RMSE: 3898.235467994862\n",
      "MAE: 2667.0212807479406\n",
      "MAPE: 0.10687002602434235\n"
     ]
    }
   ],
   "source": [
    "# Modellevaluation auf Testdaten\n",
    "\n",
    "# Vorhersagen auf dem Testset machen\n",
    "y_pred = forest_model.predict(X_test)\n",
    "\n",
    "# Evaluationsmetrics berechnen\n",
    "r2 = r2_score(y_test, y_pred)\n",
    "mse = mean_squared_error(y_test, y_pred)\n",
    "mae = mean_absolute_error(y_test, y_pred)\n",
    "mape = mean_absolute_percentage_error(y_test, y_pred)\n",
    "\n",
    "# Prints\n",
    "print(\"Evaluation auf Testdaten\")\n",
    "print(\"R²-Wert:\", r2)\n",
    "print(\"RMSE:\", np.sqrt(mse))\n",
    "print(\"MAE:\", mae)\n",
    "print(\"MAPE:\", mape)"
   ]
  },
  {
   "cell_type": "markdown",
   "id": "45403fee-d687-4a9f-91c3-78f722120590",
   "metadata": {
    "tags": []
   },
   "source": [
    "Zusammenfassung Evaluation (Testdaten)\n",
    "\n",
    "|Model|R²-Wert|RMSE|MAE|MAPE|\n",
    "|--|--|--|--|--|\n",
    "|Linear Regression (ohne CV und HT)|-317471031|249539758|7431265|492|\n",
    "|Decision Tree Regressor (ohne CV und HT)|0.8917|4609|3136|0.1285|\n",
    "|Random Forest Regressor (ohne CV und HT)|0.9225|3898|2667|0.1069|"
   ]
  },
  {
   "cell_type": "markdown",
   "id": "9efa7b81-e1e9-4ade-a791-85e87114877c",
   "metadata": {
    "tags": []
   },
   "source": [
    "#### 5.1.4) Modell 4 - Gradient Boosting Regressor"
   ]
  },
  {
   "cell_type": "code",
   "execution_count": 48,
   "id": "73f2e8a7-fae2-46e9-baf0-47afbe3c27e5",
   "metadata": {
    "tags": []
   },
   "outputs": [],
   "source": [
    "# Imports\n",
    "from sklearn.ensemble import GradientBoostingRegressor\n",
    "from sklearn.metrics import mean_squared_error, mean_absolute_error, r2_score"
   ]
  },
  {
   "cell_type": "code",
   "execution_count": 49,
   "id": "300afbce-57a1-476d-9a90-9b4cfd5edba5",
   "metadata": {
    "tags": []
   },
   "outputs": [
    {
     "data": {
      "text/html": [
       "<style>#sk-container-id-4 {color: black;background-color: white;}#sk-container-id-4 pre{padding: 0;}#sk-container-id-4 div.sk-toggleable {background-color: white;}#sk-container-id-4 label.sk-toggleable__label {cursor: pointer;display: block;width: 100%;margin-bottom: 0;padding: 0.3em;box-sizing: border-box;text-align: center;}#sk-container-id-4 label.sk-toggleable__label-arrow:before {content: \"▸\";float: left;margin-right: 0.25em;color: #696969;}#sk-container-id-4 label.sk-toggleable__label-arrow:hover:before {color: black;}#sk-container-id-4 div.sk-estimator:hover label.sk-toggleable__label-arrow:before {color: black;}#sk-container-id-4 div.sk-toggleable__content {max-height: 0;max-width: 0;overflow: hidden;text-align: left;background-color: #f0f8ff;}#sk-container-id-4 div.sk-toggleable__content pre {margin: 0.2em;color: black;border-radius: 0.25em;background-color: #f0f8ff;}#sk-container-id-4 input.sk-toggleable__control:checked~div.sk-toggleable__content {max-height: 200px;max-width: 100%;overflow: auto;}#sk-container-id-4 input.sk-toggleable__control:checked~label.sk-toggleable__label-arrow:before {content: \"▾\";}#sk-container-id-4 div.sk-estimator input.sk-toggleable__control:checked~label.sk-toggleable__label {background-color: #d4ebff;}#sk-container-id-4 div.sk-label input.sk-toggleable__control:checked~label.sk-toggleable__label {background-color: #d4ebff;}#sk-container-id-4 input.sk-hidden--visually {border: 0;clip: rect(1px 1px 1px 1px);clip: rect(1px, 1px, 1px, 1px);height: 1px;margin: -1px;overflow: hidden;padding: 0;position: absolute;width: 1px;}#sk-container-id-4 div.sk-estimator {font-family: monospace;background-color: #f0f8ff;border: 1px dotted black;border-radius: 0.25em;box-sizing: border-box;margin-bottom: 0.5em;}#sk-container-id-4 div.sk-estimator:hover {background-color: #d4ebff;}#sk-container-id-4 div.sk-parallel-item::after {content: \"\";width: 100%;border-bottom: 1px solid gray;flex-grow: 1;}#sk-container-id-4 div.sk-label:hover label.sk-toggleable__label {background-color: #d4ebff;}#sk-container-id-4 div.sk-serial::before {content: \"\";position: absolute;border-left: 1px solid gray;box-sizing: border-box;top: 0;bottom: 0;left: 50%;z-index: 0;}#sk-container-id-4 div.sk-serial {display: flex;flex-direction: column;align-items: center;background-color: white;padding-right: 0.2em;padding-left: 0.2em;position: relative;}#sk-container-id-4 div.sk-item {position: relative;z-index: 1;}#sk-container-id-4 div.sk-parallel {display: flex;align-items: stretch;justify-content: center;background-color: white;position: relative;}#sk-container-id-4 div.sk-item::before, #sk-container-id-4 div.sk-parallel-item::before {content: \"\";position: absolute;border-left: 1px solid gray;box-sizing: border-box;top: 0;bottom: 0;left: 50%;z-index: -1;}#sk-container-id-4 div.sk-parallel-item {display: flex;flex-direction: column;z-index: 1;position: relative;background-color: white;}#sk-container-id-4 div.sk-parallel-item:first-child::after {align-self: flex-end;width: 50%;}#sk-container-id-4 div.sk-parallel-item:last-child::after {align-self: flex-start;width: 50%;}#sk-container-id-4 div.sk-parallel-item:only-child::after {width: 0;}#sk-container-id-4 div.sk-dashed-wrapped {border: 1px dashed gray;margin: 0 0.4em 0.5em 0.4em;box-sizing: border-box;padding-bottom: 0.4em;background-color: white;}#sk-container-id-4 div.sk-label label {font-family: monospace;font-weight: bold;display: inline-block;line-height: 1.2em;}#sk-container-id-4 div.sk-label-container {text-align: center;}#sk-container-id-4 div.sk-container {/* jupyter's `normalize.less` sets `[hidden] { display: none; }` but bootstrap.min.css set `[hidden] { display: none !important; }` so we also need the `!important` here to be able to override the default hidden behavior on the sphinx rendered scikit-learn.org. See: https://github.com/scikit-learn/scikit-learn/issues/21755 */display: inline-block !important;position: relative;}#sk-container-id-4 div.sk-text-repr-fallback {display: none;}</style><div id=\"sk-container-id-4\" class=\"sk-top-container\"><div class=\"sk-text-repr-fallback\"><pre>GradientBoostingRegressor(random_state=42)</pre><b>In a Jupyter environment, please rerun this cell to show the HTML representation or trust the notebook. <br />On GitHub, the HTML representation is unable to render, please try loading this page with nbviewer.org.</b></div><div class=\"sk-container\" hidden><div class=\"sk-item\"><div class=\"sk-estimator sk-toggleable\"><input class=\"sk-toggleable__control sk-hidden--visually\" id=\"sk-estimator-id-4\" type=\"checkbox\" checked><label for=\"sk-estimator-id-4\" class=\"sk-toggleable__label sk-toggleable__label-arrow\">GradientBoostingRegressor</label><div class=\"sk-toggleable__content\"><pre>GradientBoostingRegressor(random_state=42)</pre></div></div></div></div></div>"
      ],
      "text/plain": [
       "GradientBoostingRegressor(random_state=42)"
      ]
     },
     "execution_count": 49,
     "metadata": {},
     "output_type": "execute_result"
    }
   ],
   "source": [
    "# Gradient Boosting Regressor erstellen (n_estimators=100 und learning_rate=0.1, max_depth=3) und trainieren\n",
    "gb_model = GradientBoostingRegressor(n_estimators=100, learning_rate=0.1, max_depth=3, random_state=42)\n",
    "gb_model.fit(X_train, y_train)"
   ]
  },
  {
   "cell_type": "code",
   "execution_count": 50,
   "id": "d0f05aa9-5f29-46f9-80fd-a11c760baaa0",
   "metadata": {
    "tags": []
   },
   "outputs": [
    {
     "name": "stdout",
     "output_type": "stream",
     "text": [
      "Evaluation auf Trainingsdaten\n",
      "R²-Wert Train: 0.8848022076401431\n",
      "RMSE Train: 4757.670816737391\n",
      "MAE Train: 3400.4058375417803\n",
      "MAPE Train: 0.14125615670258718\n"
     ]
    }
   ],
   "source": [
    "# Modellevaluation auf Trainingsdaten\n",
    "\n",
    "# Vorhersagen auf dem Trainingsset machen\n",
    "y_pred_train = gb_model.predict(X_train)\n",
    "\n",
    "# Evaluationsmetrics berechnen\n",
    "r2_train = r2_score(y_train, y_pred_train)\n",
    "mse_train = mean_squared_error(y_train, y_pred_train)\n",
    "mae_train = mean_absolute_error(y_train, y_pred_train)\n",
    "mape_train = mean_absolute_percentage_error(y_train, y_pred_train)\n",
    "\n",
    "# Prints\n",
    "print(\"Evaluation auf Trainingsdaten\")\n",
    "print(\"R²-Wert Train:\", r2_train)\n",
    "print(\"RMSE Train:\", np.sqrt(mse_train))\n",
    "print(\"MAE Train:\", mae_train)\n",
    "print(\"MAPE Train:\", mape_train)"
   ]
  },
  {
   "cell_type": "code",
   "execution_count": 51,
   "id": "7f6a4660-34cc-4242-8593-282ab67f0287",
   "metadata": {
    "tags": []
   },
   "outputs": [
    {
     "name": "stdout",
     "output_type": "stream",
     "text": [
      "Evaluation auf Testdaten\n",
      "R²-Wert: 0.8809888273508041\n",
      "RMSE: 4831.495342523516\n",
      "MAE: 3422.319535952205\n",
      "MAPE: 0.1412198301727322\n"
     ]
    }
   ],
   "source": [
    "# Modellevaluation auf Testdaten\n",
    "\n",
    "# Vorhersagen auf dem Testset machen\n",
    "y_pred = gb_model.predict(X_test)\n",
    "\n",
    "# Evaluationsmetrics berechnen\n",
    "r2 = r2_score(y_test, y_pred)\n",
    "mse = mean_squared_error(y_test, y_pred)\n",
    "mae = mean_absolute_error(y_test, y_pred)\n",
    "mape = mean_absolute_percentage_error(y_test, y_pred)\n",
    "\n",
    "# Prints\n",
    "print(\"Evaluation auf Testdaten\")\n",
    "print(\"R²-Wert:\", r2)\n",
    "print(\"RMSE:\", np.sqrt(mse))\n",
    "print(\"MAE:\", mae)\n",
    "print(\"MAPE:\", mape)"
   ]
  },
  {
   "cell_type": "markdown",
   "id": "011a6f85-de4b-403f-9896-9d53621bcafd",
   "metadata": {
    "tags": []
   },
   "source": [
    "Zusammenfassung Evaluation (Testdaten)\n",
    "\n",
    "|Model|R²-Wert|RMSE|MAE|MAPE|\n",
    "|--|--|--|--|--|\n",
    "|Linear Regression (ohne CV und HT)|-317471031|249539758|7431265|492|\n",
    "|Decision Tree Regressor (ohne CV und HT)|0.8917|4609|3136|0.1285|\n",
    "|Random Forest Regressor (ohne CV und HT)|0.9225|3898|2667|0.1069|\n",
    "|Gradient Boosting Regressor (ohne CV und HT)|0.8810|4831|3422|0.1412|"
   ]
  },
  {
   "cell_type": "markdown",
   "id": "920447ef-0185-48b7-b5d7-01dc12039ec6",
   "metadata": {
    "tags": []
   },
   "source": [
    "### 5.2) Modellevaluation mit Cross-Validation\n",
    "\n",
    "Die Kreuzvalidierungswerte bieten eine zuverlässige Schätzung der Modellleistung, indem sie das Modell in mehreren Durchläufen auf unterschiedlichen Teilmengen des Trainingsdatensatzes testen, was hilft, die Generalisierbarkeit des Modells auf neue, unbekannte Daten zu beurteilen. Sie ermöglichen es auch, die Modellstabilität zu überprüfen, da signifikante Schwankungen in den Scores auf potenzielle Probleme wie Über- oder Unteranpassung hinweisen können. (Quelle: ChatGPT: https://chatgpt.com/share/8fac80cf-2967-467d-92f2-04f7c1b0efcb)\n",
    "\n",
    "\n",
    "Quellen Code: \n",
    "- https://scikit-learn.org/stable/modules/generated/sklearn.model_selection.cross_val_score.html\n",
    "- https://stackoverflow.com/questions/60761775/should-cross-validation-score-be-performed-on-original-or-split-data\n",
    "- https://chatgpt.com/share/8fac80cf-2967-467d-92f2-04f7c1b0efcb"
   ]
  },
  {
   "cell_type": "code",
   "execution_count": 54,
   "id": "241af34c-00e9-4d75-b40b-4509c796e184",
   "metadata": {
    "tags": []
   },
   "outputs": [],
   "source": [
    "# Imports\n",
    "from sklearn.model_selection import KFold, cross_val_score\n",
    "\n",
    "# Anuahl Folds\n",
    "kf = KFold(n_splits=5, shuffle=True, random_state=42)"
   ]
  },
  {
   "cell_type": "code",
   "execution_count": 55,
   "id": "79448a65-26f5-4b3a-ad82-2ece96709064",
   "metadata": {
    "tags": []
   },
   "outputs": [
    {
     "name": "stdout",
     "output_type": "stream",
     "text": [
      "MSE Scores für jedes Fold: [3.14920867e+07 6.72356115e+14 2.88804814e+07 9.51051474e+19\n",
      " 3.31743805e+07]\n",
      "Durchschnittlicher MSE: 1.902116394748101e+19\n"
     ]
    }
   ],
   "source": [
    "# Scoring für Lineare Regression\n",
    "scores_linreg = cross_val_score(lin_reg, X_test, y_test, cv=kf, scoring=\"neg_mean_squared_error\")\n",
    "\n",
    "# Print Scores\n",
    "print(\"MSE Scores für jedes Fold:\", -scores_linreg)\n",
    "print(\"Durchschnittlicher MSE:\", -scores_linreg.mean())"
   ]
  },
  {
   "cell_type": "code",
   "execution_count": 56,
   "id": "1bac117f-7945-4f2c-a83c-2ab01d5dec3a",
   "metadata": {
    "tags": []
   },
   "outputs": [
    {
     "name": "stdout",
     "output_type": "stream",
     "text": [
      "Scores für jedes Fold: [0.87498009 0.87084851 0.8706902  0.8575702  0.87287157]\n",
      "Durchschnittliche Genauigkeit: 0.8693921160202519\n",
      "Standardabweichung Genauigkiet: 0.006113849465043129\n"
     ]
    }
   ],
   "source": [
    "# Scoring für Decision Tree Regressor\n",
    "scores_dtr = cross_val_score(tree_model, X_test, y_test, cv=kf)\n",
    "\n",
    "# Print Scores\n",
    "print(\"Scores für jedes Fold:\", scores_dtr)\n",
    "print(\"Durchschnittliche Genauigkeit:\", scores_dtr.mean())\n",
    "print(\"Standardabweichung Genauigkiet:\", scores_dtr.std())"
   ]
  },
  {
   "cell_type": "code",
   "execution_count": 57,
   "id": "bfc02298-cb18-4b66-9f75-7c735e44bc3f",
   "metadata": {
    "tags": []
   },
   "outputs": [
    {
     "name": "stdout",
     "output_type": "stream",
     "text": [
      "Scores für jedes Fold: [0.90755192 0.91093104 0.91382217 0.90082554 0.9103387 ]\n",
      "Durchschnittliche Genauigkeit: 0.9086938761722625\n",
      "Standardabweichung Genauigkiet: 0.0044096382431423956\n"
     ]
    }
   ],
   "source": [
    "# Scoring für Random Forest Regressor\n",
    "scores_rfr = cross_val_score(forest_model, X_test, y_test, cv=kf)\n",
    "\n",
    "# Print Scores\n",
    "print(\"Scores für jedes Fold:\", scores_rfr)\n",
    "print(\"Durchschnittliche Genauigkeit:\", scores_rfr.mean())\n",
    "print(\"Standardabweichung Genauigkiet:\", scores_rfr.std())"
   ]
  },
  {
   "cell_type": "code",
   "execution_count": 58,
   "id": "807e92ec-0b3e-472f-a236-77460266fd4f",
   "metadata": {
    "tags": []
   },
   "outputs": [
    {
     "name": "stdout",
     "output_type": "stream",
     "text": [
      "Scores für jedes Fold: [0.87757894 0.88081707 0.88645172 0.86379119 0.87920133]\n",
      "Durchschnittliche Genauigkeit: 0.8775680509497021\n",
      "Standardabweichung Genauigkiet: 0.0075092649741962956\n"
     ]
    }
   ],
   "source": [
    "# Scoring für Gradient Boosting Regressor\n",
    "scores_gbr = cross_val_score(gb_model, X_test, y_test, cv=kf)\n",
    "\n",
    "# Print Scores\n",
    "print(\"Scores für jedes Fold:\", scores_gbr)\n",
    "print(\"Durchschnittliche Genauigkeit:\", scores_gbr.mean())\n",
    "print(\"Standardabweichung Genauigkiet:\", scores_gbr.std())"
   ]
  },
  {
   "cell_type": "markdown",
   "id": "4bc21c2f-f081-4c50-beda-62592754d9f5",
   "metadata": {},
   "source": [
    "### 5.3) Crossvalidation und Hyperparametertuning\n",
    "In diesem Schritt werden mittels GridSearch für die Regressor-Modelle (Decision Tree Regressor, Random Forest Regressor, Gradient Boosting Regressor) die besten Parameter auf einem kleinen Sample-Dataset gesucht und diese dann für das Trainig des ganzen Modells verwendet."
   ]
  },
  {
   "cell_type": "markdown",
   "id": "1bbf74d2-3e39-4337-8549-ed12204f0acb",
   "metadata": {
    "jp-MarkdownHeadingCollapsed": true,
    "tags": []
   },
   "source": [
    "#### 5.3.1) Kleinere Datensets erstellen für Hyperparametertuning aufgrund der Laufzeit\n",
    "Da die Modelle mit Crossvalidation und Hyperaparametertuning sehr lange gebraucht haben, um durchzulaufen oder gar nicht durchgelaufen sind/gecrashed sind, haben wir das Dataset in einem ersten Schritt verringert, um die besten Hyperparameter zu finden und die Modelle mit allen Daten anschliessend mit diesen Parametern zu trainieren. Je nach Modell wurden unterschiedliche Sample-Grössen verwendet, da insb. der Random Forest Regressor sehr lange braucht zum durchlaufen. Für künftige Projekte müsste man die Sample-Grösser ehöhen und dazu bessere/mehr CPU zur Verfügung haben."
   ]
  },
  {
   "cell_type": "code",
   "execution_count": 183,
   "id": "4f04ba01-5b4c-4a13-a626-0b696b9b2fd9",
   "metadata": {
    "tags": []
   },
   "outputs": [],
   "source": [
    "# Sample-Dataset 10k erstellen (Quelle: https://pandas.pydata.org/pandas-docs/stable/reference/api/pandas.DataFrame.sample.html)\n",
    "df_sample_10k = df_dummies.sample(n=10000, random_state=1) "
   ]
  },
  {
   "cell_type": "code",
   "execution_count": 185,
   "id": "40c695d5-0176-4394-a70b-4bd3fc8a8a84",
   "metadata": {
    "tags": []
   },
   "outputs": [],
   "source": [
    "# X und y definieren\n",
    "X_sample_10k = df_sample_10k.drop([\"price\"], axis=1)\n",
    "y_sample_10k = df_sample_10k[\"price\"]"
   ]
  },
  {
   "cell_type": "code",
   "execution_count": 187,
   "id": "9c3736e7-06a7-4e3a-ae9a-eb780ef8fbd9",
   "metadata": {
    "tags": []
   },
   "outputs": [],
   "source": [
    "# Train-Test-Split (70%-30%)\n",
    "X_train_sample_10k, X_test_sample_10k, y_train_sample_10k, y_test_sample_10k = train_test_split(X_sample_10k, y_sample_10k, test_size=0.3, random_state=42)\n"
   ]
  },
  {
   "cell_type": "code",
   "execution_count": 189,
   "id": "12849c0e-e2fc-45b1-8888-9028dffee3dc",
   "metadata": {
    "tags": []
   },
   "outputs": [],
   "source": [
    "# Sample-Dataset 5k erstellen\n",
    "df_sample_5k = df_dummies.sample(n=5000, random_state=1) "
   ]
  },
  {
   "cell_type": "code",
   "execution_count": 191,
   "id": "bb49a542-0408-4f09-88a9-97344234ae82",
   "metadata": {
    "tags": []
   },
   "outputs": [],
   "source": [
    "# X und y definieren\n",
    "X_sample_5k = df_sample_10k.drop([\"price\"], axis=1)\n",
    "y_sample_5k = df_sample_10k[\"price\"]"
   ]
  },
  {
   "cell_type": "code",
   "execution_count": 193,
   "id": "eb58c882-b9f2-4cad-ab8a-c4dbc17d411b",
   "metadata": {
    "tags": []
   },
   "outputs": [],
   "source": [
    "# Train-Test-Split (70%-30%)\n",
    "X_train_sample_5k, X_test_sample_5k, y_train_sample_5k, y_test_sample_5k = train_test_split(X_sample_5k, y_sample_5k, test_size=0.3, random_state=42)\n"
   ]
  },
  {
   "cell_type": "code",
   "execution_count": 197,
   "id": "276454cb-c093-4291-85cb-1332853f6f16",
   "metadata": {
    "tags": []
   },
   "outputs": [],
   "source": [
    "# Sample-Dataset 2k erstellen\n",
    "df_sample_2k = df_dummies.sample(n=2000, random_state=1) "
   ]
  },
  {
   "cell_type": "code",
   "execution_count": 199,
   "id": "a5199807-602f-422d-864f-586ee3960a87",
   "metadata": {
    "tags": []
   },
   "outputs": [],
   "source": [
    "# X und y definieren\n",
    "X_sample_2k = df_sample_2k.drop([\"price\"], axis=1)\n",
    "y_sample_2k = df_sample_2k[\"price\"]"
   ]
  },
  {
   "cell_type": "code",
   "execution_count": 201,
   "id": "f133fc58-d051-4f7a-a8ec-0e2becfbcc56",
   "metadata": {
    "tags": []
   },
   "outputs": [],
   "source": [
    "# Train-Test-Split (70%-30%)\n",
    "X_train_sample_2k, X_test_sample_2k, y_train_sample_2k, y_test_sample_2k = train_test_split(X_sample_2k, y_sample_2k, test_size=0.3, random_state=42)\n"
   ]
  },
  {
   "cell_type": "markdown",
   "id": "41370a67-f66e-4952-8f3d-4c6d5db65fa6",
   "metadata": {
    "jp-MarkdownHeadingCollapsed": true,
    "tags": []
   },
   "source": [
    "#### 5.3.2) Modell 5 - Decision Tree Regressor"
   ]
  },
  {
   "cell_type": "markdown",
   "id": "13aa4ceb-6de9-4ebd-a4d6-9433b308e1df",
   "metadata": {
    "jp-MarkdownHeadingCollapsed": true,
    "tags": []
   },
   "source": [
    "##### Parameter suchen"
   ]
  },
  {
   "cell_type": "code",
   "execution_count": 205,
   "id": "940b3c50-b9a8-4c35-bb53-e76912fad3d5",
   "metadata": {
    "tags": []
   },
   "outputs": [],
   "source": [
    "# Imports\n",
    "from sklearn.model_selection import GridSearchCV\n",
    "from sklearn.tree import DecisionTreeRegressor\n",
    "from sklearn.metrics import mean_squared_error, mean_absolute_error, r2_score"
   ]
  },
  {
   "cell_type": "code",
   "execution_count": 207,
   "id": "55c2c87c-10ec-4178-ac14-2053080ad354",
   "metadata": {
    "tags": []
   },
   "outputs": [],
   "source": [
    "# Parameter-Grid (Quelle: ChatGPT: https://chatgpt.com/share/8fac80cf-2967-467d-92f2-04f7c1b0efcb)\n",
    "param_grid_decision_tree = {\n",
    "    'max_depth': [None, 10, 20, 30, 40, 50],\n",
    "    'min_samples_split': [2, 10, 20],\n",
    "    'min_samples_leaf': [1, 2, 4],\n",
    "}"
   ]
  },
  {
   "cell_type": "code",
   "execution_count": 209,
   "id": "82bff72f-d64b-4853-ac02-cc37045dccf9",
   "metadata": {
    "tags": []
   },
   "outputs": [],
   "source": [
    "# DecisionTreeRegressor-Modell mit CV erstellen\n",
    "tree_model_cv_sample = GridSearchCV(DecisionTreeRegressor(random_state=1),param_grid_decision_tree, cv=5)"
   ]
  },
  {
   "cell_type": "code",
   "execution_count": 211,
   "id": "6bd6e7ae-e9a6-4eec-a6b0-fb111f9d800e",
   "metadata": {
    "tags": []
   },
   "outputs": [
    {
     "data": {
      "text/plain": [
       "{'max_depth': 30, 'min_samples_leaf': 1, 'min_samples_split': 20}"
      ]
     },
     "execution_count": 211,
     "metadata": {},
     "output_type": "execute_result"
    }
   ],
   "source": [
    "# Training\n",
    "tree_model_cv_sample = tree_model_cv_sample.fit(X_train_sample_10k, y_train_sample_10k)\n",
    "\n",
    "best_params_decision_tree = tree_model_cv_sample.best_params_\n",
    "best_params_decision_tree"
   ]
  },
  {
   "cell_type": "code",
   "execution_count": 219,
   "id": "25d66b7f-9708-44ad-ad92-ff537c8e72a4",
   "metadata": {
    "tags": []
   },
   "outputs": [],
   "source": [
    "# 2. Iteration mit anderem param_grid basierend auf den vorherigen best_params\n",
    "param_grid_decision_tree_2 = {\n",
    "    'max_depth': range(25, 35),\n",
    "    'min_samples_leaf': [1],\n",
    "    'min_samples_split': range(20, 30),\n",
    "}"
   ]
  },
  {
   "cell_type": "code",
   "execution_count": 221,
   "id": "eab77a92-8ab4-42c3-8633-385e898bbba0",
   "metadata": {
    "tags": []
   },
   "outputs": [],
   "source": [
    "# DecisionTreeRegressor-Modell mit CV erstellen\n",
    "tree_model_cv_sample_2 = GridSearchCV(DecisionTreeRegressor(random_state=1),param_grid_decision_tree_2, cv=5)\n"
   ]
  },
  {
   "cell_type": "code",
   "execution_count": 223,
   "id": "1ce1ba1a-8d8e-4367-9760-3332c75baf06",
   "metadata": {
    "tags": []
   },
   "outputs": [
    {
     "data": {
      "text/plain": [
       "{'max_depth': 26, 'min_samples_leaf': 1, 'min_samples_split': 23}"
      ]
     },
     "execution_count": 223,
     "metadata": {},
     "output_type": "execute_result"
    }
   ],
   "source": [
    "# Training\n",
    "tree_model_cv_sample_2 = tree_model_cv_sample_2.fit(X_train_sample_10k, y_train_sample_10k)\n",
    "\n",
    "best_params_decision_tree_2 = tree_model_cv_sample_2.best_params_\n",
    "best_params_decision_tree_2"
   ]
  },
  {
   "cell_type": "markdown",
   "id": "ba4c784e-dd8c-4785-b786-1d9bdf80dd55",
   "metadata": {
    "jp-MarkdownHeadingCollapsed": true,
    "tags": []
   },
   "source": [
    "##### Beste Parameter auf das Modell mit ganzem Datensatz anwenden"
   ]
  },
  {
   "cell_type": "code",
   "execution_count": 225,
   "id": "8419319a-4db3-415e-ba29-9027d9bb914e",
   "metadata": {
    "tags": []
   },
   "outputs": [
    {
     "data": {
      "text/html": [
       "<style>#sk-container-id-9 {color: black;background-color: white;}#sk-container-id-9 pre{padding: 0;}#sk-container-id-9 div.sk-toggleable {background-color: white;}#sk-container-id-9 label.sk-toggleable__label {cursor: pointer;display: block;width: 100%;margin-bottom: 0;padding: 0.3em;box-sizing: border-box;text-align: center;}#sk-container-id-9 label.sk-toggleable__label-arrow:before {content: \"▸\";float: left;margin-right: 0.25em;color: #696969;}#sk-container-id-9 label.sk-toggleable__label-arrow:hover:before {color: black;}#sk-container-id-9 div.sk-estimator:hover label.sk-toggleable__label-arrow:before {color: black;}#sk-container-id-9 div.sk-toggleable__content {max-height: 0;max-width: 0;overflow: hidden;text-align: left;background-color: #f0f8ff;}#sk-container-id-9 div.sk-toggleable__content pre {margin: 0.2em;color: black;border-radius: 0.25em;background-color: #f0f8ff;}#sk-container-id-9 input.sk-toggleable__control:checked~div.sk-toggleable__content {max-height: 200px;max-width: 100%;overflow: auto;}#sk-container-id-9 input.sk-toggleable__control:checked~label.sk-toggleable__label-arrow:before {content: \"▾\";}#sk-container-id-9 div.sk-estimator input.sk-toggleable__control:checked~label.sk-toggleable__label {background-color: #d4ebff;}#sk-container-id-9 div.sk-label input.sk-toggleable__control:checked~label.sk-toggleable__label {background-color: #d4ebff;}#sk-container-id-9 input.sk-hidden--visually {border: 0;clip: rect(1px 1px 1px 1px);clip: rect(1px, 1px, 1px, 1px);height: 1px;margin: -1px;overflow: hidden;padding: 0;position: absolute;width: 1px;}#sk-container-id-9 div.sk-estimator {font-family: monospace;background-color: #f0f8ff;border: 1px dotted black;border-radius: 0.25em;box-sizing: border-box;margin-bottom: 0.5em;}#sk-container-id-9 div.sk-estimator:hover {background-color: #d4ebff;}#sk-container-id-9 div.sk-parallel-item::after {content: \"\";width: 100%;border-bottom: 1px solid gray;flex-grow: 1;}#sk-container-id-9 div.sk-label:hover label.sk-toggleable__label {background-color: #d4ebff;}#sk-container-id-9 div.sk-serial::before {content: \"\";position: absolute;border-left: 1px solid gray;box-sizing: border-box;top: 0;bottom: 0;left: 50%;z-index: 0;}#sk-container-id-9 div.sk-serial {display: flex;flex-direction: column;align-items: center;background-color: white;padding-right: 0.2em;padding-left: 0.2em;position: relative;}#sk-container-id-9 div.sk-item {position: relative;z-index: 1;}#sk-container-id-9 div.sk-parallel {display: flex;align-items: stretch;justify-content: center;background-color: white;position: relative;}#sk-container-id-9 div.sk-item::before, #sk-container-id-9 div.sk-parallel-item::before {content: \"\";position: absolute;border-left: 1px solid gray;box-sizing: border-box;top: 0;bottom: 0;left: 50%;z-index: -1;}#sk-container-id-9 div.sk-parallel-item {display: flex;flex-direction: column;z-index: 1;position: relative;background-color: white;}#sk-container-id-9 div.sk-parallel-item:first-child::after {align-self: flex-end;width: 50%;}#sk-container-id-9 div.sk-parallel-item:last-child::after {align-self: flex-start;width: 50%;}#sk-container-id-9 div.sk-parallel-item:only-child::after {width: 0;}#sk-container-id-9 div.sk-dashed-wrapped {border: 1px dashed gray;margin: 0 0.4em 0.5em 0.4em;box-sizing: border-box;padding-bottom: 0.4em;background-color: white;}#sk-container-id-9 div.sk-label label {font-family: monospace;font-weight: bold;display: inline-block;line-height: 1.2em;}#sk-container-id-9 div.sk-label-container {text-align: center;}#sk-container-id-9 div.sk-container {/* jupyter's `normalize.less` sets `[hidden] { display: none; }` but bootstrap.min.css set `[hidden] { display: none !important; }` so we also need the `!important` here to be able to override the default hidden behavior on the sphinx rendered scikit-learn.org. See: https://github.com/scikit-learn/scikit-learn/issues/21755 */display: inline-block !important;position: relative;}#sk-container-id-9 div.sk-text-repr-fallback {display: none;}</style><div id=\"sk-container-id-9\" class=\"sk-top-container\"><div class=\"sk-text-repr-fallback\"><pre>DecisionTreeRegressor(max_depth=26, min_samples_split=23, random_state=42)</pre><b>In a Jupyter environment, please rerun this cell to show the HTML representation or trust the notebook. <br />On GitHub, the HTML representation is unable to render, please try loading this page with nbviewer.org.</b></div><div class=\"sk-container\" hidden><div class=\"sk-item\"><div class=\"sk-estimator sk-toggleable\"><input class=\"sk-toggleable__control sk-hidden--visually\" id=\"sk-estimator-id-9\" type=\"checkbox\" checked><label for=\"sk-estimator-id-9\" class=\"sk-toggleable__label sk-toggleable__label-arrow\">DecisionTreeRegressor</label><div class=\"sk-toggleable__content\"><pre>DecisionTreeRegressor(max_depth=26, min_samples_split=23, random_state=42)</pre></div></div></div></div></div>"
      ],
      "text/plain": [
       "DecisionTreeRegressor(max_depth=26, min_samples_split=23, random_state=42)"
      ]
     },
     "execution_count": 225,
     "metadata": {},
     "output_type": "execute_result"
    }
   ],
   "source": [
    "# Decision Tree Regressor erstellen und trainieren\n",
    "tree_model_best = DecisionTreeRegressor(random_state=42, **best_params_decision_tree_2)\n",
    "tree_model_best.fit(X_train, y_train)"
   ]
  },
  {
   "cell_type": "code",
   "execution_count": 227,
   "id": "a53e4816-f8e5-4a07-97dc-36be4aab9d2f",
   "metadata": {
    "tags": []
   },
   "outputs": [
    {
     "name": "stdout",
     "output_type": "stream",
     "text": [
      "Evaluation auf Trainingsdaten\n",
      "R²-Wert Train: 0.9461134113225258\n",
      "RMSE Train: 3253.9633516513845\n",
      "MAE Train: 2214.1090220500005\n",
      "MAPE Train: 0.08647642317567772\n"
     ]
    }
   ],
   "source": [
    "# Modellevaluation auf Trainingsdaten\n",
    "\n",
    "# Vorhersagen auf dem Trainingsset machen\n",
    "y_pred_train = tree_model_best.predict(X_train)\n",
    "\n",
    "# Evaluationsmetrics berechnen\n",
    "r2_train = r2_score(y_train, y_pred_train)\n",
    "mse_train = mean_squared_error(y_train, y_pred_train)\n",
    "mae_train = mean_absolute_error(y_train, y_pred_train)\n",
    "mape_train = mean_absolute_percentage_error(y_train, y_pred_train)\n",
    "\n",
    "# Prints\n",
    "print(\"Evaluation auf Trainingsdaten\")\n",
    "print(\"R²-Wert Train:\", r2_train)\n",
    "print(\"RMSE Train:\", np.sqrt(mse_train))\n",
    "print(\"MAE Train:\", mae_train)\n",
    "print(\"MAPE Train:\", mape_train)"
   ]
  },
  {
   "cell_type": "code",
   "execution_count": 229,
   "id": "62a1f776-544d-44cf-9b73-83721bf49efa",
   "metadata": {
    "tags": []
   },
   "outputs": [
    {
     "name": "stdout",
     "output_type": "stream",
     "text": [
      "Evaluation auf Testdaten\n",
      "R²-Wert: 0.9077829134509773\n",
      "RMSE: 4252.980550599169\n",
      "MAE: 2887.530413048975\n",
      "MAPE: 0.11706203843547798\n"
     ]
    }
   ],
   "source": [
    "# Modellevaluation auf Testdaten\n",
    "\n",
    "# Vorhersagen auf dem Testset machen\n",
    "y_pred = tree_model_best.predict(X_test)\n",
    "\n",
    "# Evaluationsmetrics berechnen\n",
    "r2 = r2_score(y_test, y_pred)\n",
    "mse = mean_squared_error(y_test, y_pred)\n",
    "mae = mean_absolute_error(y_test, y_pred)\n",
    "mape = mean_absolute_percentage_error(y_test, y_pred)\n",
    "\n",
    "# Prints\n",
    "print(\"Evaluation auf Testdaten\")\n",
    "print(\"R²-Wert:\", r2)\n",
    "print(\"RMSE:\", np.sqrt(mse))\n",
    "print(\"MAE:\", mae)\n",
    "print(\"MAPE:\", mape)"
   ]
  },
  {
   "cell_type": "markdown",
   "id": "57eef52f-a3c8-486b-b023-29d6f6ffe840",
   "metadata": {
    "tags": []
   },
   "source": [
    "Zusammenfassung Evaluation (Testdaten)\n",
    "\n",
    "|Model|R²-Wert|RMSE|MAE|MAPE|\n",
    "|--|--|--|--|--|\n",
    "|Linear Regression (ohne CV und HT)|-317471031|249539758|7431265|492|\n",
    "|Decision Tree Regressor (ohne CV und HT)|0.8917|4609|3136|0.1285|\n",
    "|Random Forest Regressor (ohne CV und HT)|0.9225|3898|2667|0.1069|\n",
    "|Gradient Boosting Regressor (ohne CV und HT)|0.8810|4831|3422|0.1412|\n",
    "|Decision Tree Regressor (best_params)|0.9078|4253|2888|0.1171|"
   ]
  },
  {
   "cell_type": "markdown",
   "id": "49c6b0b9-3aef-4541-adf1-6dc4f83114b0",
   "metadata": {
    "tags": []
   },
   "source": [
    "#### 5.3.3) Modell 6 - Random Forest Regressor (best_params)"
   ]
  },
  {
   "cell_type": "markdown",
   "id": "4e77a326-2717-41ce-9594-02dae8bcd598",
   "metadata": {
    "tags": []
   },
   "source": [
    "##### Parameter suchen"
   ]
  },
  {
   "cell_type": "code",
   "execution_count": 233,
   "id": "5c10dc36-6965-449f-875c-2da421c2db41",
   "metadata": {
    "tags": []
   },
   "outputs": [],
   "source": [
    "# Imports\n",
    "from sklearn.model_selection import GridSearchCV\n",
    "from sklearn.ensemble import RandomForestRegressor\n",
    "from sklearn.metrics import mean_squared_error, mean_absolute_error, r2_score"
   ]
  },
  {
   "cell_type": "code",
   "execution_count": 244,
   "id": "a8afb9e1-d211-4703-b7c5-629aefa06597",
   "metadata": {
    "tags": []
   },
   "outputs": [],
   "source": [
    "# Initiales Parameter-Grid (Quelle: ChatGPT: https://chatgpt.com/share/8fac80cf-2967-467d-92f2-04f7c1b0efcb)\n",
    "param_grid_random_forest = {\n",
    "    'n_estimators': [50, 100],\n",
    "    'max_depth': [None, 10],\n",
    "    'min_samples_split': [2, 10],\n",
    "    'min_samples_leaf': [1, 2]\n",
    "}"
   ]
  },
  {
   "cell_type": "code",
   "execution_count": 321,
   "id": "1982d340-4895-46b7-b7d4-186213b20a9d",
   "metadata": {
    "tags": []
   },
   "outputs": [],
   "source": [
    "# Random Forest Modell mit CV erstellen\n",
    "random_forest_cv_sample = GridSearchCV(RandomForestRegressor(random_state=1),param_grid_random_forest, cv=5)"
   ]
  },
  {
   "cell_type": "code",
   "execution_count": 248,
   "id": "93f2d268-6526-46f3-8861-884654a833c9",
   "metadata": {
    "tags": []
   },
   "outputs": [
    {
     "data": {
      "text/plain": [
       "{'max_depth': None,\n",
       " 'min_samples_leaf': 1,\n",
       " 'min_samples_split': 2,\n",
       " 'n_estimators': 100}"
      ]
     },
     "execution_count": 248,
     "metadata": {},
     "output_type": "execute_result"
    }
   ],
   "source": [
    "# Training\n",
    "random_forest_cv_sample = random_forest_cv_sample.fit(X_train_sample_2k, y_train_sample_2k)\n",
    "\n",
    "best_params_random_forest = random_forest_cv_sample.best_params_\n",
    "best_params_random_forest"
   ]
  },
  {
   "cell_type": "code",
   "execution_count": 297,
   "id": "f382c527-26ce-495b-b7be-58a229e1bc67",
   "metadata": {
    "tags": []
   },
   "outputs": [],
   "source": [
    "# Iteration mit anderem param_grid basierend auf den vorherigen best_params\n",
    "param_grid_random_forest_2 = {\n",
    "    'n_estimators': [100, 200],\n",
    "    'max_depth': [None, 1],\n",
    "    'min_samples_split': [3, 4],\n",
    "    'min_samples_leaf': [1, 2]\n",
    "}"
   ]
  },
  {
   "cell_type": "code",
   "execution_count": 299,
   "id": "2fc31064-b6e1-4f0e-9920-ff49aaaf693e",
   "metadata": {
    "tags": []
   },
   "outputs": [],
   "source": [
    "# DecisionTreeRegressor-Modell mit CV erstellen\n",
    "random_forest_cv_sample_2 = GridSearchCV(RandomForestRegressor(random_state=1),param_grid_random_forest_2, cv=5)\n"
   ]
  },
  {
   "cell_type": "code",
   "execution_count": 301,
   "id": "64aca80e-eca7-4319-a4af-fb9d7089b7f1",
   "metadata": {
    "tags": []
   },
   "outputs": [
    {
     "data": {
      "text/plain": [
       "{'max_depth': None,\n",
       " 'min_samples_leaf': 1,\n",
       " 'min_samples_split': 4,\n",
       " 'n_estimators': 100}"
      ]
     },
     "execution_count": 301,
     "metadata": {},
     "output_type": "execute_result"
    }
   ],
   "source": [
    "# Training\n",
    "random_forest_cv_sample_2 = random_forest_cv_sample_2.fit(X_train_sample_2k, y_train_sample_2k)\n",
    "\n",
    "best_params_random_forest_2 = random_forest_cv_sample_2.best_params_\n",
    "best_params_random_forest_2"
   ]
  },
  {
   "cell_type": "markdown",
   "id": "bc523d4d-b1a8-4b35-b140-9b788ab7c96a",
   "metadata": {
    "tags": []
   },
   "source": [
    "##### Beste Parameter auf das Modell mit ganzem Datensatz anwenden"
   ]
  },
  {
   "cell_type": "code",
   "execution_count": 304,
   "id": "b218eb95-50e3-48e3-ab5b-961909a0fb97",
   "metadata": {
    "tags": []
   },
   "outputs": [
    {
     "data": {
      "text/html": [
       "<style>#sk-container-id-10 {color: black;background-color: white;}#sk-container-id-10 pre{padding: 0;}#sk-container-id-10 div.sk-toggleable {background-color: white;}#sk-container-id-10 label.sk-toggleable__label {cursor: pointer;display: block;width: 100%;margin-bottom: 0;padding: 0.3em;box-sizing: border-box;text-align: center;}#sk-container-id-10 label.sk-toggleable__label-arrow:before {content: \"▸\";float: left;margin-right: 0.25em;color: #696969;}#sk-container-id-10 label.sk-toggleable__label-arrow:hover:before {color: black;}#sk-container-id-10 div.sk-estimator:hover label.sk-toggleable__label-arrow:before {color: black;}#sk-container-id-10 div.sk-toggleable__content {max-height: 0;max-width: 0;overflow: hidden;text-align: left;background-color: #f0f8ff;}#sk-container-id-10 div.sk-toggleable__content pre {margin: 0.2em;color: black;border-radius: 0.25em;background-color: #f0f8ff;}#sk-container-id-10 input.sk-toggleable__control:checked~div.sk-toggleable__content {max-height: 200px;max-width: 100%;overflow: auto;}#sk-container-id-10 input.sk-toggleable__control:checked~label.sk-toggleable__label-arrow:before {content: \"▾\";}#sk-container-id-10 div.sk-estimator input.sk-toggleable__control:checked~label.sk-toggleable__label {background-color: #d4ebff;}#sk-container-id-10 div.sk-label input.sk-toggleable__control:checked~label.sk-toggleable__label {background-color: #d4ebff;}#sk-container-id-10 input.sk-hidden--visually {border: 0;clip: rect(1px 1px 1px 1px);clip: rect(1px, 1px, 1px, 1px);height: 1px;margin: -1px;overflow: hidden;padding: 0;position: absolute;width: 1px;}#sk-container-id-10 div.sk-estimator {font-family: monospace;background-color: #f0f8ff;border: 1px dotted black;border-radius: 0.25em;box-sizing: border-box;margin-bottom: 0.5em;}#sk-container-id-10 div.sk-estimator:hover {background-color: #d4ebff;}#sk-container-id-10 div.sk-parallel-item::after {content: \"\";width: 100%;border-bottom: 1px solid gray;flex-grow: 1;}#sk-container-id-10 div.sk-label:hover label.sk-toggleable__label {background-color: #d4ebff;}#sk-container-id-10 div.sk-serial::before {content: \"\";position: absolute;border-left: 1px solid gray;box-sizing: border-box;top: 0;bottom: 0;left: 50%;z-index: 0;}#sk-container-id-10 div.sk-serial {display: flex;flex-direction: column;align-items: center;background-color: white;padding-right: 0.2em;padding-left: 0.2em;position: relative;}#sk-container-id-10 div.sk-item {position: relative;z-index: 1;}#sk-container-id-10 div.sk-parallel {display: flex;align-items: stretch;justify-content: center;background-color: white;position: relative;}#sk-container-id-10 div.sk-item::before, #sk-container-id-10 div.sk-parallel-item::before {content: \"\";position: absolute;border-left: 1px solid gray;box-sizing: border-box;top: 0;bottom: 0;left: 50%;z-index: -1;}#sk-container-id-10 div.sk-parallel-item {display: flex;flex-direction: column;z-index: 1;position: relative;background-color: white;}#sk-container-id-10 div.sk-parallel-item:first-child::after {align-self: flex-end;width: 50%;}#sk-container-id-10 div.sk-parallel-item:last-child::after {align-self: flex-start;width: 50%;}#sk-container-id-10 div.sk-parallel-item:only-child::after {width: 0;}#sk-container-id-10 div.sk-dashed-wrapped {border: 1px dashed gray;margin: 0 0.4em 0.5em 0.4em;box-sizing: border-box;padding-bottom: 0.4em;background-color: white;}#sk-container-id-10 div.sk-label label {font-family: monospace;font-weight: bold;display: inline-block;line-height: 1.2em;}#sk-container-id-10 div.sk-label-container {text-align: center;}#sk-container-id-10 div.sk-container {/* jupyter's `normalize.less` sets `[hidden] { display: none; }` but bootstrap.min.css set `[hidden] { display: none !important; }` so we also need the `!important` here to be able to override the default hidden behavior on the sphinx rendered scikit-learn.org. See: https://github.com/scikit-learn/scikit-learn/issues/21755 */display: inline-block !important;position: relative;}#sk-container-id-10 div.sk-text-repr-fallback {display: none;}</style><div id=\"sk-container-id-10\" class=\"sk-top-container\"><div class=\"sk-text-repr-fallback\"><pre>RandomForestRegressor(min_samples_split=4, random_state=42)</pre><b>In a Jupyter environment, please rerun this cell to show the HTML representation or trust the notebook. <br />On GitHub, the HTML representation is unable to render, please try loading this page with nbviewer.org.</b></div><div class=\"sk-container\" hidden><div class=\"sk-item\"><div class=\"sk-estimator sk-toggleable\"><input class=\"sk-toggleable__control sk-hidden--visually\" id=\"sk-estimator-id-10\" type=\"checkbox\" checked><label for=\"sk-estimator-id-10\" class=\"sk-toggleable__label sk-toggleable__label-arrow\">RandomForestRegressor</label><div class=\"sk-toggleable__content\"><pre>RandomForestRegressor(min_samples_split=4, random_state=42)</pre></div></div></div></div></div>"
      ],
      "text/plain": [
       "RandomForestRegressor(min_samples_split=4, random_state=42)"
      ]
     },
     "execution_count": 304,
     "metadata": {},
     "output_type": "execute_result"
    }
   ],
   "source": [
    "# Random Forest Regressor erstellen und trainieren\n",
    "forest_model_best = RandomForestRegressor(random_state=42, **best_params_random_forest_2)\n",
    "forest_model_best.fit(X_train, y_train)"
   ]
  },
  {
   "cell_type": "code",
   "execution_count": 312,
   "id": "4a8436ed-7258-41e0-b8f3-3d510b06ea66",
   "metadata": {
    "tags": []
   },
   "outputs": [
    {
     "name": "stdout",
     "output_type": "stream",
     "text": [
      "Evaluation auf Trainingsdaten\n",
      "R²-Wert Train: 0.9678647588169659\n",
      "RMSE Train: 2512.829914588019\n",
      "MAE Train: 1618.9789637901015\n",
      "MAPE Train: 0.06060915605893863\n"
     ]
    }
   ],
   "source": [
    "# Modellevaluation auf Trainingsdaten\n",
    "\n",
    "# Vorhersagen auf dem Trainingsset machen\n",
    "y_pred_train = forest_model_best.predict(X_train)\n",
    "\n",
    "# Evaluationsmetrics berechnen\n",
    "r2_train = r2_score(y_train, y_pred_train)\n",
    "mse_train = mean_squared_error(y_train, y_pred_train)\n",
    "mae_train = mean_absolute_error(y_train, y_pred_train)\n",
    "mape_train = mean_absolute_percentage_error(y_train, y_pred_train)\n",
    "\n",
    "# Prints\n",
    "print(\"Evaluation auf Trainingsdaten\")\n",
    "print(\"R²-Wert Train:\", r2_train)\n",
    "print(\"RMSE Train:\", np.sqrt(mse_train))\n",
    "print(\"MAE Train:\", mae_train)\n",
    "print(\"MAPE Train:\", mape_train)"
   ]
  },
  {
   "cell_type": "code",
   "execution_count": 314,
   "id": "c02cdc7e-dd7e-4202-94bd-0f8427e6f38c",
   "metadata": {
    "tags": []
   },
   "outputs": [
    {
     "name": "stdout",
     "output_type": "stream",
     "text": [
      "Evaluation auf Testdaten\n",
      "R²-Wert: 0.923908761452693\n",
      "RMSE: 3863.26967100382\n",
      "MAE: 2642.067042954418\n",
      "MAPE: 0.10589846512020083\n"
     ]
    }
   ],
   "source": [
    "# Modellevaluation auf Testdaten\n",
    "\n",
    "# Vorhersagen auf dem Testset machen\n",
    "y_pred = forest_model_best.predict(X_test)\n",
    "\n",
    "# Evaluationsmetrics berechnen\n",
    "r2 = r2_score(y_test, y_pred)\n",
    "mse = mean_squared_error(y_test, y_pred)\n",
    "mae = mean_absolute_error(y_test, y_pred)\n",
    "mape = mean_absolute_percentage_error(y_test, y_pred)\n",
    "\n",
    "# Prints\n",
    "print(\"Evaluation auf Testdaten\")\n",
    "print(\"R²-Wert:\", r2)\n",
    "print(\"RMSE:\", np.sqrt(mse))\n",
    "print(\"MAE:\", mae)\n",
    "print(\"MAPE:\", mape)"
   ]
  },
  {
   "cell_type": "markdown",
   "id": "a54692b2-a011-49dd-b699-a477f7f9f593",
   "metadata": {
    "tags": []
   },
   "source": [
    "Zusammenfassung Evaluation (Testdaten)\n",
    "\n",
    "|Model|R²-Wert|RMSE|MAE|MAPE|\n",
    "|--|--|--|--|--|\n",
    "|Linear Regression (ohne CV und HT)|-317471031|249539758|7431265|492|\n",
    "|Decision Tree Regressor (ohne CV und HT)|0.8917|4609|3136|0.1285|\n",
    "|Random Forest Regressor (ohne CV und HT)|0.9225|3898|2667|0.1069|\n",
    "|Gradient Boosting Regressor (ohne CV und HT)|0.8810|4831|3422|0.1412|\n",
    "|Decision Tree Regressor (best_params)|0.9055|4306|2911|0.1180|\n",
    "|Random Forest Regressor (best_params)|0.9239|3863|2642|0.1059|"
   ]
  },
  {
   "cell_type": "markdown",
   "id": "49942bf4-f80c-484c-83ce-463393fd6a2e",
   "metadata": {
    "tags": []
   },
   "source": [
    "#### 5.3.4) Modell 7 - Gradient Boosting Regressor (best_params)"
   ]
  },
  {
   "cell_type": "markdown",
   "id": "a4657412-5af7-42a7-898d-857a454b2785",
   "metadata": {},
   "source": [
    "##### Parameter suchen"
   ]
  },
  {
   "cell_type": "code",
   "execution_count": 317,
   "id": "10fd322e-a570-41eb-8b24-f27d0dea1401",
   "metadata": {
    "tags": []
   },
   "outputs": [],
   "source": [
    "# Imports\n",
    "from sklearn.model_selection import GridSearchCV\n",
    "from sklearn.ensemble import GradientBoostingRegressor\n",
    "from sklearn.metrics import mean_squared_error, mean_absolute_error, r2_score"
   ]
  },
  {
   "cell_type": "code",
   "execution_count": 360,
   "id": "0907fae3-1cc2-4e3b-92f0-9198d3dd737e",
   "metadata": {
    "tags": []
   },
   "outputs": [],
   "source": [
    "# Parameter-Grid (Quelle: ChatGPT: https://chatgpt.com/share/8fac80cf-2967-467d-92f2-04f7c1b0efcb)\n",
    "param_grid_gbr = {\n",
    "    'n_estimators': [50, 100],\n",
    "    'learning_rate': [0.01, 0.1],\n",
    "    'max_depth': [3, 5]\n",
    "}"
   ]
  },
  {
   "cell_type": "code",
   "execution_count": 362,
   "id": "968f5081-d9d6-431a-acb0-6a1722ce349b",
   "metadata": {
    "tags": []
   },
   "outputs": [],
   "source": [
    "# Gradient Boosting Regressor Modell mit CV erstellen\n",
    "gbr_model_cv_sample = GridSearchCV(GradientBoostingRegressor(random_state=1),param_grid_gbr, cv=5)\n"
   ]
  },
  {
   "cell_type": "code",
   "execution_count": 364,
   "id": "51569be0-5350-4811-9590-4de0a56536b7",
   "metadata": {
    "tags": []
   },
   "outputs": [
    {
     "data": {
      "text/plain": [
       "{'learning_rate': 0.1, 'max_depth': 5, 'n_estimators': 100}"
      ]
     },
     "execution_count": 364,
     "metadata": {},
     "output_type": "execute_result"
    }
   ],
   "source": [
    "# Training\n",
    "gbr_model_cv_sample = gbr_model_cv_sample.fit(X_train_sample_5k, y_train_sample_5k)\n",
    "\n",
    "best_params_gbr = gbr_model_cv_sample.best_params_\n",
    "best_params_gbr"
   ]
  },
  {
   "cell_type": "code",
   "execution_count": 373,
   "id": "2d4f3b7a-b655-48da-a146-114df809d61d",
   "metadata": {
    "tags": []
   },
   "outputs": [],
   "source": [
    "# 2. Iteration mit anderem param_grid basierend auf den vorherigen best_params\n",
    "param_grid_gbr_2 = {\n",
    "    'n_estimators': [200, 300],\n",
    "    'learning_rate': [0.1],\n",
    "    'max_depth': [5]\n",
    "}"
   ]
  },
  {
   "cell_type": "code",
   "execution_count": 375,
   "id": "cae0c041-fd88-4fa8-8cee-5290a20fe673",
   "metadata": {
    "tags": []
   },
   "outputs": [],
   "source": [
    "# Gradient Boosting Regressor Modell mit CV erstellen\n",
    "gbr_model_cv_sample_2 = GridSearchCV(GradientBoostingRegressor(random_state=1),param_grid_gbr_2, cv=5)\n"
   ]
  },
  {
   "cell_type": "code",
   "execution_count": 377,
   "id": "d94a94e3-0836-4455-b367-9f67be6694ca",
   "metadata": {
    "tags": []
   },
   "outputs": [
    {
     "data": {
      "text/plain": [
       "{'learning_rate': 0.1, 'max_depth': 5, 'n_estimators': 300}"
      ]
     },
     "execution_count": 377,
     "metadata": {},
     "output_type": "execute_result"
    }
   ],
   "source": [
    "# Training\n",
    "gbr_model_cv_sample_2 = gbr_model_cv_sample_2.fit(X_train_sample_5k, y_train_sample_5k)\n",
    "\n",
    "best_params_gbr_2 = gbr_model_cv_sample_2.best_params_\n",
    "best_params_gbr_2"
   ]
  },
  {
   "cell_type": "markdown",
   "id": "c6e9b0e4-5261-43cc-93d2-9821065f76c8",
   "metadata": {
    "tags": []
   },
   "source": [
    "##### Beste Parameter auf das Modell mit ganzem Datensatz anwenden"
   ]
  },
  {
   "cell_type": "code",
   "execution_count": 383,
   "id": "c569b691-0c13-421d-a5bb-1faf19b71ae7",
   "metadata": {
    "tags": []
   },
   "outputs": [
    {
     "data": {
      "text/html": [
       "<style>#sk-container-id-11 {color: black;background-color: white;}#sk-container-id-11 pre{padding: 0;}#sk-container-id-11 div.sk-toggleable {background-color: white;}#sk-container-id-11 label.sk-toggleable__label {cursor: pointer;display: block;width: 100%;margin-bottom: 0;padding: 0.3em;box-sizing: border-box;text-align: center;}#sk-container-id-11 label.sk-toggleable__label-arrow:before {content: \"▸\";float: left;margin-right: 0.25em;color: #696969;}#sk-container-id-11 label.sk-toggleable__label-arrow:hover:before {color: black;}#sk-container-id-11 div.sk-estimator:hover label.sk-toggleable__label-arrow:before {color: black;}#sk-container-id-11 div.sk-toggleable__content {max-height: 0;max-width: 0;overflow: hidden;text-align: left;background-color: #f0f8ff;}#sk-container-id-11 div.sk-toggleable__content pre {margin: 0.2em;color: black;border-radius: 0.25em;background-color: #f0f8ff;}#sk-container-id-11 input.sk-toggleable__control:checked~div.sk-toggleable__content {max-height: 200px;max-width: 100%;overflow: auto;}#sk-container-id-11 input.sk-toggleable__control:checked~label.sk-toggleable__label-arrow:before {content: \"▾\";}#sk-container-id-11 div.sk-estimator input.sk-toggleable__control:checked~label.sk-toggleable__label {background-color: #d4ebff;}#sk-container-id-11 div.sk-label input.sk-toggleable__control:checked~label.sk-toggleable__label {background-color: #d4ebff;}#sk-container-id-11 input.sk-hidden--visually {border: 0;clip: rect(1px 1px 1px 1px);clip: rect(1px, 1px, 1px, 1px);height: 1px;margin: -1px;overflow: hidden;padding: 0;position: absolute;width: 1px;}#sk-container-id-11 div.sk-estimator {font-family: monospace;background-color: #f0f8ff;border: 1px dotted black;border-radius: 0.25em;box-sizing: border-box;margin-bottom: 0.5em;}#sk-container-id-11 div.sk-estimator:hover {background-color: #d4ebff;}#sk-container-id-11 div.sk-parallel-item::after {content: \"\";width: 100%;border-bottom: 1px solid gray;flex-grow: 1;}#sk-container-id-11 div.sk-label:hover label.sk-toggleable__label {background-color: #d4ebff;}#sk-container-id-11 div.sk-serial::before {content: \"\";position: absolute;border-left: 1px solid gray;box-sizing: border-box;top: 0;bottom: 0;left: 50%;z-index: 0;}#sk-container-id-11 div.sk-serial {display: flex;flex-direction: column;align-items: center;background-color: white;padding-right: 0.2em;padding-left: 0.2em;position: relative;}#sk-container-id-11 div.sk-item {position: relative;z-index: 1;}#sk-container-id-11 div.sk-parallel {display: flex;align-items: stretch;justify-content: center;background-color: white;position: relative;}#sk-container-id-11 div.sk-item::before, #sk-container-id-11 div.sk-parallel-item::before {content: \"\";position: absolute;border-left: 1px solid gray;box-sizing: border-box;top: 0;bottom: 0;left: 50%;z-index: -1;}#sk-container-id-11 div.sk-parallel-item {display: flex;flex-direction: column;z-index: 1;position: relative;background-color: white;}#sk-container-id-11 div.sk-parallel-item:first-child::after {align-self: flex-end;width: 50%;}#sk-container-id-11 div.sk-parallel-item:last-child::after {align-self: flex-start;width: 50%;}#sk-container-id-11 div.sk-parallel-item:only-child::after {width: 0;}#sk-container-id-11 div.sk-dashed-wrapped {border: 1px dashed gray;margin: 0 0.4em 0.5em 0.4em;box-sizing: border-box;padding-bottom: 0.4em;background-color: white;}#sk-container-id-11 div.sk-label label {font-family: monospace;font-weight: bold;display: inline-block;line-height: 1.2em;}#sk-container-id-11 div.sk-label-container {text-align: center;}#sk-container-id-11 div.sk-container {/* jupyter's `normalize.less` sets `[hidden] { display: none; }` but bootstrap.min.css set `[hidden] { display: none !important; }` so we also need the `!important` here to be able to override the default hidden behavior on the sphinx rendered scikit-learn.org. See: https://github.com/scikit-learn/scikit-learn/issues/21755 */display: inline-block !important;position: relative;}#sk-container-id-11 div.sk-text-repr-fallback {display: none;}</style><div id=\"sk-container-id-11\" class=\"sk-top-container\"><div class=\"sk-text-repr-fallback\"><pre>GradientBoostingRegressor(max_depth=5, n_estimators=300, random_state=42)</pre><b>In a Jupyter environment, please rerun this cell to show the HTML representation or trust the notebook. <br />On GitHub, the HTML representation is unable to render, please try loading this page with nbviewer.org.</b></div><div class=\"sk-container\" hidden><div class=\"sk-item\"><div class=\"sk-estimator sk-toggleable\"><input class=\"sk-toggleable__control sk-hidden--visually\" id=\"sk-estimator-id-11\" type=\"checkbox\" checked><label for=\"sk-estimator-id-11\" class=\"sk-toggleable__label sk-toggleable__label-arrow\">GradientBoostingRegressor</label><div class=\"sk-toggleable__content\"><pre>GradientBoostingRegressor(max_depth=5, n_estimators=300, random_state=42)</pre></div></div></div></div></div>"
      ],
      "text/plain": [
       "GradientBoostingRegressor(max_depth=5, n_estimators=300, random_state=42)"
      ]
     },
     "execution_count": 383,
     "metadata": {},
     "output_type": "execute_result"
    }
   ],
   "source": [
    "# Gradient Boosting Regressor erstellen mit best_params\n",
    "gb_model_best = GradientBoostingRegressor(random_state=42, **best_params_gbr_2)\n",
    "gb_model_best.fit(X_train, y_train)"
   ]
  },
  {
   "cell_type": "code",
   "execution_count": 391,
   "id": "fd876276-fcc8-4cd7-b699-83d63ce6c317",
   "metadata": {
    "tags": []
   },
   "outputs": [
    {
     "name": "stdout",
     "output_type": "stream",
     "text": [
      "Evaluation auf Trainingsdaten\n",
      "R²-Wert Train: 0.9346713023348763\n",
      "RMSE Train: 3582.814407735\n",
      "MAE Train: 2582.9466887070084\n",
      "MAPE Train: 0.10588524791096482\n"
     ]
    }
   ],
   "source": [
    "# Modellevaluation auf Trainingsdaten\n",
    "\n",
    "# Vorhersagen auf dem Trainingsset machen\n",
    "y_pred_train = gb_model_best.predict(X_train)\n",
    "\n",
    "# Evaluationsmetrics berechnen\n",
    "r2_train = r2_score(y_train, y_pred_train)\n",
    "mse_train = mean_squared_error(y_train, y_pred_train)\n",
    "mae_train = mean_absolute_error(y_train, y_pred_train)\n",
    "mape_train = mean_absolute_percentage_error(y_train, y_pred_train)\n",
    "\n",
    "# Prints\n",
    "print(\"Evaluation auf Trainingsdaten\")\n",
    "print(\"R²-Wert Train:\", r2_train)\n",
    "print(\"RMSE Train:\", np.sqrt(mse_train))\n",
    "print(\"MAE Train:\", mae_train)\n",
    "print(\"MAPE Train:\", mape_train)"
   ]
  },
  {
   "cell_type": "code",
   "execution_count": 393,
   "id": "180c5c23-10c9-40c0-a374-b69d79cf501d",
   "metadata": {
    "tags": []
   },
   "outputs": [
    {
     "name": "stdout",
     "output_type": "stream",
     "text": [
      "Evaluation auf Testdaten\n",
      "R²-Wert: 0.9260145017579415\n",
      "RMSE: 3809.438787300474\n",
      "MAE: 2703.272174226086\n",
      "MAPE: 0.10978867561910431\n"
     ]
    }
   ],
   "source": [
    "# Modellevaluation auf Testdaten\n",
    "\n",
    "# Vorhersagen auf dem Testset machen\n",
    "y_pred = gb_model_best.predict(X_test)\n",
    "\n",
    "# Evaluationsmetrics berechnen\n",
    "r2 = r2_score(y_test, y_pred)\n",
    "mse = mean_squared_error(y_test, y_pred)\n",
    "mae = mean_absolute_error(y_test, y_pred)\n",
    "mape = mean_absolute_percentage_error(y_test, y_pred)\n",
    "\n",
    "# Prints\n",
    "print(\"Evaluation auf Testdaten\")\n",
    "print(\"R²-Wert:\", r2)\n",
    "print(\"RMSE:\", np.sqrt(mse))\n",
    "print(\"MAE:\", mae)\n",
    "print(\"MAPE:\", mape)"
   ]
  },
  {
   "cell_type": "markdown",
   "id": "82e9d97b-a0e1-44ba-a7ca-940e00c04879",
   "metadata": {
    "tags": []
   },
   "source": [
    "**Zusammenfassung Evaluation (Testdaten)**\n",
    "\n",
    "|Model|R²-Wert|RMSE|MAE|MAPE|\n",
    "|--|--|--|--|--|\n",
    "|Linear Regression (ohne CV und HT)|-317471031|249539758|7431265|492|\n",
    "|Decision Tree Regressor (ohne CV und HT)|0.8917|4609|3136|0.1285|\n",
    "|Random Forest Regressor (ohne CV und HT)|0.9225|3898|2667|0.1069|\n",
    "|Gradient Boosting Regressor (ohne CV und HT)|0.8810|4831|3422|0.1412|\n",
    "|Decision Tree Regressor (best_params)|0.9055|4306|2911|0.1180|\n",
    "|Random Forest Regressor (best_params)|0.9239|3863|2642|0.1059|\n",
    "|Gradient Boosting Regressor (best_params)|0.9260|3809|2703|0.1098|"
   ]
  },
  {
   "cell_type": "markdown",
   "id": "2b62b86f-d1fa-46ed-b5ea-51e193908b70",
   "metadata": {},
   "source": [
    "Der Random Forest Regressor und Gradient Boosting Regressor performen ähnlich gut. Da R2 und RMSE besser sind, entscheiden wir uns für unser finales Modell für die App für den Gradient Boosting Regressor. Diesen werden wir in Notebook 05 finalisieren und exportieren"
   ]
  },
  {
   "cell_type": "code",
   "execution_count": null,
   "id": "0e08aa2f-da5e-4d59-8d1c-fdf302e25469",
   "metadata": {},
   "outputs": [],
   "source": []
  }
 ],
 "metadata": {
  "kernelspec": {
   "display_name": "Python 3 (ipykernel)",
   "language": "python",
   "name": "python3"
  },
  "language_info": {
   "codemirror_mode": {
    "name": "ipython",
    "version": 3
   },
   "file_extension": ".py",
   "mimetype": "text/x-python",
   "name": "python",
   "nbconvert_exporter": "python",
   "pygments_lexer": "ipython3",
   "version": "3.11.7"
  }
 },
 "nbformat": 4,
 "nbformat_minor": 5
}
