{
 "cells": [
  {
   "cell_type": "markdown",
   "id": "62896e5b-18ab-440d-84e2-05d52b4ae332",
   "metadata": {
    "tags": []
   },
   "source": [
    "Graveyard"
   ]
  },
  {
   "cell_type": "code",
   "execution_count": 5,
   "id": "04a89393-f9e3-4ec3-b313-6fcf7cc85e36",
   "metadata": {
    "tags": []
   },
   "outputs": [
    {
     "ename": "NameError",
     "evalue": "name 'df_clean' is not defined",
     "output_type": "error",
     "traceback": [
      "\u001b[0;31m---------------------------------------------------------------------------\u001b[0m",
      "\u001b[0;31mNameError\u001b[0m                                 Traceback (most recent call last)",
      "Cell \u001b[0;32mIn[5], line 2\u001b[0m\n\u001b[1;32m      1\u001b[0m \u001b[38;5;66;03m# Kategorie \"wagon\" ausschliessen\u001b[39;00m\n\u001b[0;32m----> 2\u001b[0m df_clean \u001b[38;5;241m=\u001b[39m df_clean[df_clean[\u001b[38;5;124m\"\u001b[39m\u001b[38;5;124mbody_type\u001b[39m\u001b[38;5;124m\"\u001b[39m]\u001b[38;5;241m!=\u001b[39m\u001b[38;5;124m\"\u001b[39m\u001b[38;5;124mWagon\u001b[39m\u001b[38;5;124m\"\u001b[39m]\n\u001b[1;32m      3\u001b[0m df_clean[\u001b[38;5;124m\"\u001b[39m\u001b[38;5;124mbody_type\u001b[39m\u001b[38;5;124m\"\u001b[39m]\u001b[38;5;241m.\u001b[39mvalue_counts()\n",
      "\u001b[0;31mNameError\u001b[0m: name 'df_clean' is not defined"
     ]
    }
   ],
   "source": [
    "# Kategorie \"wagon\" ausschliessen\n",
    "df_clean = df_clean[df_clean[\"body_type\"]!=\"Wagon\"]\n",
    "df_clean[\"body_type\"].value_counts()"
   ]
  },
  {
   "cell_type": "code",
   "execution_count": null,
   "id": "cba8cc2d-c5da-413e-b044-b0f5ab33d644",
   "metadata": {},
   "outputs": [],
   "source": []
  }
 ],
 "metadata": {
  "kernelspec": {
   "display_name": "Python 3 (ipykernel)",
   "language": "python",
   "name": "python3"
  },
  "language_info": {
   "codemirror_mode": {
    "name": "ipython",
    "version": 3
   },
   "file_extension": ".py",
   "mimetype": "text/x-python",
   "name": "python",
   "nbconvert_exporter": "python",
   "pygments_lexer": "ipython3",
   "version": "3.11.7"
  }
 },
 "nbformat": 4,
 "nbformat_minor": 5
}
