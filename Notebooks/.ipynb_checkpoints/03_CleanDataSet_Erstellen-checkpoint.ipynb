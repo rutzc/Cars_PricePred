{
 "cells": [
  {
   "cell_type": "markdown",
   "metadata": {
    "id": "OC6qprhqjSL0"
   },
   "source": [
    "# 1) Libraries importieren"
   ]
  },
  {
   "cell_type": "code",
   "execution_count": 1,
   "metadata": {
    "executionInfo": {
     "elapsed": 2,
     "status": "ok",
     "timestamp": 1715945623091,
     "user": {
      "displayName": "Allegra Trepte",
      "userId": "01866021477617883858"
     },
     "user_tz": -120
    },
    "id": "UR744RKNjQUe"
   },
   "outputs": [],
   "source": [
    "# Libraries importieren\n",
    "import pandas as pd\n",
    "import numpy as np\n",
    "import matplotlib.pyplot as plt\n",
    "import seaborn as sns"
   ]
  },
  {
   "cell_type": "markdown",
   "metadata": {
    "id": "MO4PcpUwi4wi"
   },
   "source": [
    "# 2) Daten einlesen"
   ]
  },
  {
   "cell_type": "code",
   "execution_count": 2,
   "metadata": {
    "colab": {
     "base_uri": "https://localhost:8080/"
    },
    "executionInfo": {
     "elapsed": 6685,
     "status": "ok",
     "timestamp": 1715945629775,
     "user": {
      "displayName": "Allegra Trepte",
      "userId": "01866021477617883858"
     },
     "user_tz": -120
    },
    "id": "nVAN6A_ljk2f",
    "outputId": "217318a8-a409-4580-d99c-44a5d5609fa8"
   },
   "outputs": [
    {
     "name": "stderr",
     "output_type": "stream",
     "text": [
      "/var/folders/t0/c2fxt23510b0pbbwwvprk99c0000gn/T/ipykernel_4670/3611078263.py:1: DtypeWarning: Columns (12) have mixed types. Specify dtype option on import or set low_memory=False.\n",
      "  df = pd.read_csv(\"/Users/allegratrepte/Desktop/sample_data_100k.csv\")\n"
     ]
    }
   ],
   "source": [
    "df = pd.read_csv(\"/Users/allegratrepte/Desktop/sample_data_100k.csv\")"
   ]
  },
  {
   "cell_type": "code",
   "execution_count": 3,
   "metadata": {
    "colab": {
     "base_uri": "https://localhost:8080/"
    },
    "executionInfo": {
     "elapsed": 377,
     "status": "ok",
     "timestamp": 1715945630135,
     "user": {
      "displayName": "Allegra Trepte",
      "userId": "01866021477617883858"
     },
     "user_tz": -120
    },
    "id": "ylJNO-VnLDbQ",
    "outputId": "991e0151-b24a-432f-d524-becdcf88e800"
   },
   "outputs": [
    {
     "name": "stdout",
     "output_type": "stream",
     "text": [
      "<class 'pandas.core.frame.DataFrame'>\n",
      "RangeIndex: 100040 entries, 0 to 100039\n",
      "Data columns (total 67 columns):\n",
      " #   Column                   Non-Null Count   Dtype  \n",
      "---  ------                   --------------   -----  \n",
      " 0   Unnamed: 0               100040 non-null  int64  \n",
      " 1   vin                      100040 non-null  object \n",
      " 2   back_legroom             94722 non-null   object \n",
      " 3   bed                      659 non-null     object \n",
      " 4   bed_height               14110 non-null   object \n",
      " 5   bed_length               14110 non-null   object \n",
      " 6   body_type                99607 non-null   object \n",
      " 7   cabin                    2058 non-null    object \n",
      " 8   city                     100040 non-null  object \n",
      " 9   city_fuel_economy        83760 non-null   float64\n",
      " 10  combine_fuel_economy     0 non-null       float64\n",
      " 11  daysonmarket             100040 non-null  int64  \n",
      " 12  dealer_zip               100040 non-null  object \n",
      " 13  description              97428 non-null   object \n",
      " 14  engine_cylinders         96726 non-null   object \n",
      " 15  engine_displacement      94274 non-null   float64\n",
      " 16  engine_type              96726 non-null   object \n",
      " 17  exterior_color           98260 non-null   object \n",
      " 18  fleet                    52414 non-null   object \n",
      " 19  frame_damaged            52414 non-null   object \n",
      " 20  franchise_dealer         100040 non-null  bool   \n",
      " 21  franchise_make           80849 non-null   object \n",
      " 22  front_legroom            94722 non-null   object \n",
      " 23  fuel_tank_volume         94722 non-null   object \n",
      " 24  fuel_type                97324 non-null   object \n",
      " 25  has_accidents            52414 non-null   object \n",
      " 26  height                   94722 non-null   object \n",
      " 27  highway_fuel_economy     83760 non-null   float64\n",
      " 28  horsepower               94274 non-null   float64\n",
      " 29  interior_color           87150 non-null   object \n",
      " 30  isCab                    52414 non-null   object \n",
      " 31  is_certified             0 non-null       float64\n",
      " 32  is_cpo                   6117 non-null    object \n",
      " 33  is_new                   100040 non-null  bool   \n",
      " 34  is_oemcpo                4556 non-null    object \n",
      " 35  latitude                 100040 non-null  float64\n",
      " 36  length                   94722 non-null   object \n",
      " 37  listed_date              100040 non-null  object \n",
      " 38  listing_color            100040 non-null  object \n",
      " 39  listing_id               100040 non-null  int64  \n",
      " 40  longitude                100040 non-null  float64\n",
      " 41  main_picture_url         87579 non-null   object \n",
      " 42  major_options            93381 non-null   object \n",
      " 43  make_name                100040 non-null  object \n",
      " 44  maximum_seating          94722 non-null   object \n",
      " 45  mileage                  95199 non-null   float64\n",
      " 46  model_name               100040 non-null  object \n",
      " 47  owner_count              49316 non-null   float64\n",
      " 48  power                    83915 non-null   object \n",
      " 49  price                    100040 non-null  float64\n",
      " 50  salvage                  52414 non-null   object \n",
      " 51  savings_amount           100040 non-null  int64  \n",
      " 52  seller_rating            98636 non-null   float64\n",
      " 53  sp_id                    100035 non-null  float64\n",
      " 54  sp_name                  100040 non-null  object \n",
      " 55  theft_title              52414 non-null   object \n",
      " 56  torque                   82663 non-null   object \n",
      " 57  transmission             97824 non-null   object \n",
      " 58  transmission_display     97824 non-null   object \n",
      " 59  trimId                   96164 non-null   object \n",
      " 60  trim_name                96155 non-null   object \n",
      " 61  vehicle_damage_category  0 non-null       float64\n",
      " 62  wheel_system             95121 non-null   object \n",
      " 63  wheel_system_display     95121 non-null   object \n",
      " 64  wheelbase                94722 non-null   object \n",
      " 65  width                    94722 non-null   object \n",
      " 66  year                     100040 non-null  int64  \n",
      "dtypes: bool(2), float64(14), int64(5), object(46)\n",
      "memory usage: 49.8+ MB\n"
     ]
    }
   ],
   "source": [
    "df.info()"
   ]
  },
  {
   "cell_type": "markdown",
   "metadata": {
    "id": "8-iX4lWEjrpS"
   },
   "source": [
    "# 4) Daten bereinigen"
   ]
  },
  {
   "cell_type": "markdown",
   "metadata": {
    "id": "ZhXeiKvvkXbO"
   },
   "source": [
    "Outliers entfernen"
   ]
  },
  {
   "cell_type": "code",
   "execution_count": 4,
   "metadata": {
    "colab": {
     "base_uri": "https://localhost:8080/",
     "height": 0
    },
    "executionInfo": {
     "elapsed": 332,
     "status": "ok",
     "timestamp": 1715945630464,
     "user": {
      "displayName": "Allegra Trepte",
      "userId": "01866021477617883858"
     },
     "user_tz": -120
    },
    "id": "KwLiKGE7kbgd",
    "outputId": "4fd81714-bde0-4fee-b92e-f347118c46b3"
   },
   "outputs": [
    {
     "data": {
      "text/html": [
       "<div>\n",
       "<style scoped>\n",
       "    .dataframe tbody tr th:only-of-type {\n",
       "        vertical-align: middle;\n",
       "    }\n",
       "\n",
       "    .dataframe tbody tr th {\n",
       "        vertical-align: top;\n",
       "    }\n",
       "\n",
       "    .dataframe thead th {\n",
       "        text-align: right;\n",
       "    }\n",
       "</style>\n",
       "<table border=\"1\" class=\"dataframe\">\n",
       "  <thead>\n",
       "    <tr style=\"text-align: right;\">\n",
       "      <th></th>\n",
       "      <th>price</th>\n",
       "      <th>make_name</th>\n",
       "      <th>model_name</th>\n",
       "    </tr>\n",
       "  </thead>\n",
       "  <tbody>\n",
       "    <tr>\n",
       "      <th>13568</th>\n",
       "      <td>89385.0</td>\n",
       "      <td>Lexus</td>\n",
       "      <td>LS</td>\n",
       "    </tr>\n",
       "    <tr>\n",
       "      <th>15225</th>\n",
       "      <td>89340.0</td>\n",
       "      <td>Cadillac</td>\n",
       "      <td>Escalade</td>\n",
       "    </tr>\n",
       "    <tr>\n",
       "      <th>93849</th>\n",
       "      <td>89335.0</td>\n",
       "      <td>BMW</td>\n",
       "      <td>8 Series</td>\n",
       "    </tr>\n",
       "    <tr>\n",
       "      <th>58467</th>\n",
       "      <td>89330.0</td>\n",
       "      <td>Lincoln</td>\n",
       "      <td>Navigator</td>\n",
       "    </tr>\n",
       "    <tr>\n",
       "      <th>86995</th>\n",
       "      <td>89260.0</td>\n",
       "      <td>Audi</td>\n",
       "      <td>A7</td>\n",
       "    </tr>\n",
       "    <tr>\n",
       "      <th>...</th>\n",
       "      <td>...</td>\n",
       "      <td>...</td>\n",
       "      <td>...</td>\n",
       "    </tr>\n",
       "    <tr>\n",
       "      <th>26436</th>\n",
       "      <td>495.0</td>\n",
       "      <td>Suzuki</td>\n",
       "      <td>Aerio</td>\n",
       "    </tr>\n",
       "    <tr>\n",
       "      <th>65933</th>\n",
       "      <td>389.0</td>\n",
       "      <td>Dodge</td>\n",
       "      <td>Grand Caravan</td>\n",
       "    </tr>\n",
       "    <tr>\n",
       "      <th>65061</th>\n",
       "      <td>300.0</td>\n",
       "      <td>Honda</td>\n",
       "      <td>Accord</td>\n",
       "    </tr>\n",
       "    <tr>\n",
       "      <th>65057</th>\n",
       "      <td>300.0</td>\n",
       "      <td>Chrysler</td>\n",
       "      <td>PT Cruiser</td>\n",
       "    </tr>\n",
       "    <tr>\n",
       "      <th>58762</th>\n",
       "      <td>299.0</td>\n",
       "      <td>Pontiac</td>\n",
       "      <td>Vibe</td>\n",
       "    </tr>\n",
       "  </tbody>\n",
       "</table>\n",
       "<p>99251 rows × 3 columns</p>\n",
       "</div>"
      ],
      "text/plain": [
       "         price make_name     model_name\n",
       "13568  89385.0     Lexus             LS\n",
       "15225  89340.0  Cadillac       Escalade\n",
       "93849  89335.0       BMW       8 Series\n",
       "58467  89330.0   Lincoln      Navigator\n",
       "86995  89260.0      Audi             A7\n",
       "...        ...       ...            ...\n",
       "26436    495.0    Suzuki          Aerio\n",
       "65933    389.0     Dodge  Grand Caravan\n",
       "65061    300.0     Honda         Accord\n",
       "65057    300.0  Chrysler     PT Cruiser\n",
       "58762    299.0   Pontiac           Vibe\n",
       "\n",
       "[99251 rows x 3 columns]"
      ]
     },
     "execution_count": 4,
     "metadata": {},
     "output_type": "execute_result"
    }
   ],
   "source": [
    "# Outlier entfernen mittels Z-Score\n",
    "z_scores = np.abs((df['price'] - df['price'].mean()) / df['price'].std())\n",
    "df_no_outliers = df[z_scores < 3]\n",
    "df_no_outliers[[\"price\", \"make_name\", \"model_name\"]].sort_values(by='price', ascending=False)"
   ]
  },
  {
   "cell_type": "code",
   "execution_count": 5,
   "metadata": {
    "colab": {
     "base_uri": "https://localhost:8080/",
     "height": 0
    },
    "executionInfo": {
     "elapsed": 1206,
     "status": "ok",
     "timestamp": 1715945631666,
     "user": {
      "displayName": "Allegra Trepte",
      "userId": "01866021477617883858"
     },
     "user_tz": -120
    },
    "id": "3C4PLkcrkjH2",
    "outputId": "b55ec6e5-d103-4c5b-a0f5-43b34e923975"
   },
   "outputs": [
    {
     "name": "stderr",
     "output_type": "stream",
     "text": [
      "/Users/allegratrepte/anaconda3/lib/python3.11/site-packages/seaborn/_oldcore.py:1119: FutureWarning: use_inf_as_na option is deprecated and will be removed in a future version. Convert inf values to NaN before operating instead.\n",
      "  with pd.option_context('mode.use_inf_as_na', True):\n"
     ]
    },
    {
     "data": {
      "image/png": "[encoded data removed]",
      "text/plain": [
       "<Figure size 1000x600 with 1 Axes>"
      ]
     },
     "metadata": {},
     "output_type": "display_data"
    }
   ],
   "source": [
    "# Histogramm der Preise\n",
    "plt.figure(figsize=(10, 6))\n",
    "sns.histplot(df_no_outliers['price'], kde=True, bins=30, color='blue')\n",
    "plt.title('Histogramm der Preisverteilung')\n",
    "plt.xlabel('Preis')\n",
    "plt.ylabel('Häufigkeit')\n",
    "plt.grid(True)\n",
    "plt.show()"
   ]
  },
  {
   "cell_type": "markdown",
   "metadata": {
    "id": "OxHnVLpSmT8u"
   },
   "source": [
    "# Relevante Variable extrahieren und Daten umwandeln"
   ]
  },
  {
   "cell_type": "code",
   "execution_count": 6,
   "metadata": {
    "executionInfo": {
     "elapsed": 8,
     "status": "ok",
     "timestamp": 1715945631666,
     "user": {
      "displayName": "Allegra Trepte",
      "userId": "01866021477617883858"
     },
     "user_tz": -120
    },
    "id": "fgQWEgeRmR-z"
   },
   "outputs": [],
   "source": [
    "df_reduced = df_no_outliers[[\"body_type\", \"city_fuel_economy\", \"fuel_type\", \"highway_fuel_economy\", \"horsepower\",\n",
    "                \"make_name\", \"mileage\", \"model_name\", \"price\", \"transmission\", \"wheel_system_display\", \"year\",\"listed_date\"]]"
   ]
  },
  {
   "cell_type": "markdown",
   "metadata": {
    "id": "PcGuyCZPnVDm"
   },
   "source": [
    "Null Werte Droppen"
   ]
  },
  {
   "cell_type": "code",
   "execution_count": 7,
   "metadata": {
    "executionInfo": {
     "elapsed": 7,
     "status": "ok",
     "timestamp": 1715945631666,
     "user": {
      "displayName": "Allegra Trepte",
      "userId": "01866021477617883858"
     },
     "user_tz": -120
    },
    "id": "QUAiCTuYnXrU"
   },
   "outputs": [],
   "source": [
    "df_dropna = df_reduced.dropna()\n",
    "# Zeilen entfernen, in denen irgendwo '--' vorkommt\n",
    "df_dropna = df_dropna[~df_dropna.isin(['--']).any(axis=1)]"
   ]
  },
  {
   "cell_type": "code",
   "execution_count": 8,
   "metadata": {
    "executionInfo": {
     "elapsed": 7,
     "status": "ok",
     "timestamp": 1715945631666,
     "user": {
      "displayName": "Allegra Trepte",
      "userId": "01866021477617883858"
     },
     "user_tz": -120
    },
    "id": "ehQiF1zvnht7"
   },
   "outputs": [],
   "source": [
    "# Neues Dataframe für nächste Cleaning Schritte\n",
    "df_clean = df_dropna"
   ]
  },
  {
   "cell_type": "markdown",
   "metadata": {
    "id": "jxGjyUtKnf2C"
   },
   "source": [
    "Body_Type"
   ]
  },
  {
   "cell_type": "code",
   "execution_count": 9,
   "metadata": {
    "colab": {
     "base_uri": "https://localhost:8080/"
    },
    "executionInfo": {
     "elapsed": 6,
     "status": "ok",
     "timestamp": 1715945631666,
     "user": {
      "displayName": "Allegra Trepte",
      "userId": "01866021477617883858"
     },
     "user_tz": -120
    },
    "id": "dLo-bhbWnnat",
    "outputId": "fcac43c2-3cb2-441e-8b92-6cc097289d67"
   },
   "outputs": [
    {
     "data": {
      "text/plain": [
       "body_type\n",
       "SUV / Crossover    38562\n",
       "Sedan              20807\n",
       "Pickup Truck        9770\n",
       "Minivan             2309\n",
       "Hatchback           2216\n",
       "Coupe               1675\n",
       "Convertible          586\n",
       "Van                  558\n",
       "Name: count, dtype: int64"
      ]
     },
     "execution_count": 9,
     "metadata": {},
     "output_type": "execute_result"
    }
   ],
   "source": [
    "# Kategorie \"wagon\" ausschliessen\n",
    "df_clean = df_clean[df_clean[\"body_type\"]!=\"Wagon\"]\n",
    "df_clean[\"body_type\"].value_counts()"
   ]
  },
  {
   "cell_type": "markdown",
   "metadata": {
    "id": "f_00asiRnsB3"
   },
   "source": [
    "Fluel_Economy"
   ]
  },
  {
   "cell_type": "code",
   "execution_count": 10,
   "metadata": {
    "colab": {
     "base_uri": "https://localhost:8080/"
    },
    "executionInfo": {
     "elapsed": 6,
     "status": "ok",
     "timestamp": 1715945631667,
     "user": {
      "displayName": "Allegra Trepte",
      "userId": "01866021477617883858"
     },
     "user_tz": -120
    },
    "id": "HX_xkeYfnrmX",
    "outputId": "6f14baa1-09eb-4ffb-edfc-9ebbfff46018"
   },
   "outputs": [
    {
     "name": "stderr",
     "output_type": "stream",
     "text": [
      "/var/folders/t0/c2fxt23510b0pbbwwvprk99c0000gn/T/ipykernel_4670/2809891329.py:2: SettingWithCopyWarning: \n",
      "A value is trying to be set on a copy of a slice from a DataFrame.\n",
      "Try using .loc[row_indexer,col_indexer] = value instead\n",
      "\n",
      "See the caveats in the documentation: https://pandas.pydata.org/pandas-docs/stable/user_guide/indexing.html#returning-a-view-versus-a-copy\n",
      "  df_clean[\"average_fuel_economy\"] = (df[\"city_fuel_economy\"] + df[\"highway_fuel_economy\"]) / 2\n"
     ]
    }
   ],
   "source": [
    "# Neue Spalte mit durchschnittlichem Verbrauch aus city_fuel_economy und highway_fuel_economy\n",
    "df_clean[\"average_fuel_economy\"] = (df[\"city_fuel_economy\"] + df[\"highway_fuel_economy\"]) / 2\n",
    "df_clean = df_clean.drop([\"city_fuel_economy\", \"highway_fuel_economy\"], axis = 1)"
   ]
  },
  {
   "cell_type": "code",
   "execution_count": 11,
   "metadata": {
    "colab": {
     "base_uri": "https://localhost:8080/",
     "height": 486
    },
    "executionInfo": {
     "elapsed": 941,
     "status": "ok",
     "timestamp": 1715945632604,
     "user": {
      "displayName": "Allegra Trepte",
      "userId": "01866021477617883858"
     },
     "user_tz": -120
    },
    "id": "fOQJ_u-Pn6ff",
    "outputId": "7c17d0d4-4210-497c-c879-7aa392bd4698"
   },
   "outputs": [
    {
     "name": "stderr",
     "output_type": "stream",
     "text": [
      "/Users/allegratrepte/anaconda3/lib/python3.11/site-packages/seaborn/_oldcore.py:1119: FutureWarning: use_inf_as_na option is deprecated and will be removed in a future version. Convert inf values to NaN before operating instead.\n",
      "  with pd.option_context('mode.use_inf_as_na', True):\n"
     ]
    },
    {
     "data": {
      "image/png": "[encoded data removed]",
      "text/plain": [
       "<Figure size 1000x600 with 1 Axes>"
      ]
     },
     "metadata": {},
     "output_type": "display_data"
    }
   ],
   "source": [
    "# Histogramm des durchschnittlichen Verbrauchs\n",
    "plt.figure(figsize=(10, 6))\n",
    "sns.histplot(df_clean['average_fuel_economy'], kde=True, bins=30, color='blue')\n",
    "plt.title('Histogramm des durchschnittlichen Verbrauchs')\n",
    "plt.xlabel('durchschnittlicher Verbrauch')\n",
    "plt.ylabel('Häufigkeit')\n",
    "plt.grid(True)\n",
    "plt.show()"
   ]
  },
  {
   "cell_type": "markdown",
   "metadata": {
    "id": "79EZk-Xmn-KF"
   },
   "source": [
    "Fluel_Type"
   ]
  },
  {
   "cell_type": "code",
   "execution_count": 12,
   "metadata": {
    "colab": {
     "base_uri": "https://localhost:8080/"
    },
    "executionInfo": {
     "elapsed": 11,
     "status": "ok",
     "timestamp": 1715945632604,
     "user": {
      "displayName": "Allegra Trepte",
      "userId": "01866021477617883858"
     },
     "user_tz": -120
    },
    "id": "QB893lQZoA-8",
    "outputId": "12b43fff-2af1-407a-cbc3-4c5fb7878788"
   },
   "outputs": [
    {
     "data": {
      "text/plain": [
       "fuel_type\n",
       "Gasoline             70354\n",
       "Flex Fuel Vehicle     3482\n",
       "Hybrid                2127\n",
       "Diesel                 401\n",
       "Biodiesel              117\n",
       "Name: count, dtype: int64"
      ]
     },
     "execution_count": 12,
     "metadata": {},
     "output_type": "execute_result"
    }
   ],
   "source": [
    "# Kategorie \"Compressed Natural Gas\" ausschliessen\n",
    "df_clean = df_clean[df_clean[\"fuel_type\"]!=\"Compressed Natural Gas\"]\n",
    "df_clean[\"fuel_type\"].value_counts()"
   ]
  },
  {
   "cell_type": "markdown",
   "metadata": {
    "id": "HG7pHze-oUN2"
   },
   "source": [
    "Transmission"
   ]
  },
  {
   "cell_type": "code",
   "execution_count": 13,
   "metadata": {
    "executionInfo": {
     "elapsed": 6,
     "status": "ok",
     "timestamp": 1715945632604,
     "user": {
      "displayName": "Allegra Trepte",
      "userId": "01866021477617883858"
     },
     "user_tz": -120
    },
    "id": "jwPqLnRDohse"
   },
   "outputs": [],
   "source": [
    "# Umwandeln in eine neue Spalte \"Manual\": 1=Manuell oder 0=nicht manuell (automatisch)\n",
    "df_clean[\"manual\"] = df_clean[\"transmission\"].apply(lambda x: 1 if x == \"M\" else 0)\n",
    "df_clean[[\"manual\", \"transmission\"]].loc[df_clean[\"transmission\"]==\"A\"]\n",
    "# Spalte \"Transmission\" löschen\n",
    "df_clean = df_clean.drop([\"transmission\"], axis = 1)"
   ]
  },
  {
   "cell_type": "markdown",
   "metadata": {
    "id": "6U89k3sVoqv5"
   },
   "source": [
    "Übersicht nochmals anschauen"
   ]
  },
  {
   "cell_type": "code",
   "execution_count": 14,
   "metadata": {
    "colab": {
     "base_uri": "https://localhost:8080/"
    },
    "executionInfo": {
     "elapsed": 6,
     "status": "ok",
     "timestamp": 1715945632604,
     "user": {
      "displayName": "Allegra Trepte",
      "userId": "01866021477617883858"
     },
     "user_tz": -120
    },
    "id": "L4DaC5SsoqgE",
    "outputId": "ee4f9a11-b997-4b80-e0af-32a1f486fe20"
   },
   "outputs": [
    {
     "name": "stdout",
     "output_type": "stream",
     "text": [
      "<class 'pandas.core.frame.DataFrame'>\n",
      "Index: 76481 entries, 1 to 100039\n",
      "Data columns (total 12 columns):\n",
      " #   Column                Non-Null Count  Dtype  \n",
      "---  ------                --------------  -----  \n",
      " 0   body_type             76481 non-null  object \n",
      " 1   fuel_type             76481 non-null  object \n",
      " 2   horsepower            76481 non-null  float64\n",
      " 3   make_name             76481 non-null  object \n",
      " 4   mileage               76481 non-null  float64\n",
      " 5   model_name            76481 non-null  object \n",
      " 6   price                 76481 non-null  float64\n",
      " 7   wheel_system_display  76481 non-null  object \n",
      " 8   year                  76481 non-null  int64  \n",
      " 9   listed_date           76481 non-null  object \n",
      " 10  average_fuel_economy  76481 non-null  float64\n",
      " 11  manual                76481 non-null  int64  \n",
      "dtypes: float64(4), int64(2), object(6)\n",
      "memory usage: 7.6+ MB\n"
     ]
    }
   ],
   "source": [
    "df_clean.info()"
   ]
  },
  {
   "cell_type": "markdown",
   "metadata": {
    "id": "FF0usq6xMF2U"
   },
   "source": [
    "Aus der Variable Year und Listed Date eine neue Variable Age erstellen"
   ]
  },
  {
   "cell_type": "markdown",
   "metadata": {
    "id": "Ph4zbwOGMUg9"
   },
   "source": [
    "1. Year auf des Jahr reduzieren"
   ]
  },
  {
   "cell_type": "code",
   "execution_count": 15,
   "metadata": {
    "colab": {
     "base_uri": "https://localhost:8080/"
    },
    "executionInfo": {
     "elapsed": 5,
     "status": "ok",
     "timestamp": 1715945632604,
     "user": {
      "displayName": "Allegra Trepte",
      "userId": "01866021477617883858"
     },
     "user_tz": -120
    },
    "id": "5XrM9Q8zMUCD",
    "outputId": "759f8f6f-50d7-40bb-90cd-2469cfe5a0f9"
   },
   "outputs": [
    {
     "data": {
      "text/plain": [
       "array(['2020-08-20', '2020-07-29', '2020-06-25', '2020-07-30',\n",
       "       '2020-08-26', '2020-07-28', '2020-08-13', '2020-09-06',\n",
       "       '2019-07-10', '2020-08-27', '2020-09-02', '2020-08-16',\n",
       "       '2020-09-03', '2020-05-31', '2020-07-11', '2020-08-03',\n",
       "       '2020-09-01', '2020-04-16', '2020-07-31', '2020-07-14',\n",
       "       '2020-08-09', '2020-08-12', '2020-07-18', '2020-08-23',\n",
       "       '2020-09-05', '2019-08-07', '2020-02-07', '2020-07-23',\n",
       "       '2020-09-04', '2020-01-01', '2019-07-27', '2019-11-09',\n",
       "       '2020-08-29', '2020-08-15', '2020-09-08', '2020-08-02',\n",
       "       '2020-02-13', '2020-07-04', '2020-07-24', '2020-08-06',\n",
       "       '2020-06-27', '2020-08-31', '2020-08-08', '2020-09-07',\n",
       "       '2020-03-18', '2020-07-26', '2020-08-11', '2020-08-14',\n",
       "       '2020-08-28', '2020-06-20', '2020-06-30', '2020-07-21',\n",
       "       '2020-08-30', '2020-07-07', '2020-02-08', '2019-09-14',\n",
       "       '2020-03-11', '2020-07-19', '2020-05-23', '2020-09-09',\n",
       "       '2020-08-04', '2019-09-28', '2019-08-11', '2019-10-26',\n",
       "       '2020-08-07', '2020-03-03', '2020-06-22', '2020-07-08',\n",
       "       '2019-09-03', '2020-08-05', '2020-07-03', '2020-08-18',\n",
       "       '2019-04-02', '2020-06-26', '2020-07-17', '2020-06-18',\n",
       "       '2020-06-04', '2020-02-27', '2020-01-03', '2020-08-25',\n",
       "       '2020-05-28', '2020-08-22', '2020-07-10', '2020-08-24',\n",
       "       '2019-12-24', '2020-06-21', '2020-02-29', '2020-08-01',\n",
       "       '2020-07-25', '2020-03-13', '2019-10-01', '2019-09-27',\n",
       "       '2020-07-16', '2020-08-19', '2020-01-15', '2020-04-25',\n",
       "       '2019-11-08', '2020-04-02', '2020-07-02', '2020-02-21',\n",
       "       '2020-06-07', '2020-01-11', '2020-03-23', '2019-03-22',\n",
       "       '2020-02-28', '2020-08-21', '2020-08-10', '2020-03-04',\n",
       "       '2020-02-22', '2020-04-28', '2020-06-16', '2020-07-09',\n",
       "       '2020-07-22', '2020-03-15', '2020-03-20', '2019-09-12',\n",
       "       '2020-06-12', '2020-05-06', '2019-12-23', '2020-03-07',\n",
       "       '2020-06-19', '2020-04-24', '2020-02-23', '2020-02-12',\n",
       "       '2020-01-08', '2019-10-27', '2019-11-23', '2020-06-05',\n",
       "       '2019-12-22', '2020-01-18', '2019-11-27', '2020-05-20',\n",
       "       '2020-04-23', '2020-01-19', '2020-06-14', '2020-01-09',\n",
       "       '2019-10-17', '2020-07-01', '2020-01-24', '2019-09-05',\n",
       "       '2020-06-03', '2020-02-14', '2020-02-24', '2020-06-24',\n",
       "       '2020-05-29', '2020-05-22', '2020-03-06', '2020-02-04',\n",
       "       '2019-10-30', '2020-03-16', '2019-08-23', '2020-01-05',\n",
       "       '2020-05-15', '2019-12-19', '2020-05-09', '2020-05-02',\n",
       "       '2017-12-20', '2019-09-11', '2020-03-14', '2019-09-29',\n",
       "       '2019-12-10', '2020-08-17', '2020-01-22', '2019-10-10',\n",
       "       '2019-03-01', '2020-05-07', '2020-07-15', '2020-02-26',\n",
       "       '2020-03-19', '2019-07-11', '2020-02-05', '2019-12-20',\n",
       "       '2020-01-21', '2020-01-07', '2020-07-27', '2020-01-10',\n",
       "       '2020-03-10', '2019-12-04', '2020-01-14', '2020-02-19',\n",
       "       '2020-01-29', '2019-09-06', '2020-04-15', '2019-07-31',\n",
       "       '2018-04-11', '2020-06-17', '2020-05-30', '2020-07-12',\n",
       "       '2019-12-08', '2019-11-20', '2020-06-02', '2019-06-29',\n",
       "       '2020-01-17', '2020-06-09', '2020-04-29', '2020-06-28',\n",
       "       '2020-03-05', '2020-05-27', '2019-01-15', '2020-07-05',\n",
       "       '2020-02-20', '2017-10-12', '2020-06-01', '2020-07-20',\n",
       "       '2019-12-18', '2020-06-10', '2020-04-10', '2020-06-11',\n",
       "       '2019-12-11', '2020-06-08', '2020-04-05', '2020-01-25',\n",
       "       '2019-10-15', '2019-12-14', '2020-01-04', '2019-10-03',\n",
       "       '2019-12-25', '2020-05-01', '2020-06-06', '2019-11-13',\n",
       "       '2020-03-24', '2020-04-06', '2019-08-31', '2019-09-25',\n",
       "       '2019-04-07', '2020-06-23', '2019-08-22', '2020-01-16',\n",
       "       '2020-06-29', '2020-01-30', '2020-03-28', '2019-07-12',\n",
       "       '2018-01-10', '2019-10-31', '2019-11-15', '2018-10-14',\n",
       "       '2020-05-18', '2019-09-26', '2020-02-06', '2019-11-19',\n",
       "       '2020-04-11', '2019-07-02', '2019-10-09', '2019-12-07',\n",
       "       '2020-01-31', '2020-02-25', '2020-02-15', '2020-03-27',\n",
       "       '2020-02-03', '2019-09-21', '2020-03-21', '2019-09-22',\n",
       "       '2019-07-13', '2019-05-15', '2020-06-13', '2020-04-17',\n",
       "       '2020-02-01', '2020-05-14', '2019-12-29', '2019-12-16',\n",
       "       '2019-08-17', '2020-05-19', '2020-02-09', '2019-12-06',\n",
       "       '2019-11-28', '2019-12-27', '2020-03-31', '2018-09-07',\n",
       "       '2019-07-19', '2020-01-02', '2019-12-01', '2019-07-14',\n",
       "       '2019-10-05', '2019-02-07', '2020-05-24', '2019-08-02',\n",
       "       '2020-03-26', '2019-09-20', '2019-08-30', '2019-06-22',\n",
       "       '2020-03-30', '2020-05-13', '2019-04-28', '2020-03-08',\n",
       "       '2020-09-10', '2020-02-11', '2019-10-12', '2020-04-01',\n",
       "       '2019-12-13', '2019-12-17', '2018-10-25', '2019-12-28',\n",
       "       '2019-09-18', '2019-10-11', '2020-01-12', '2020-05-21',\n",
       "       '2019-08-21', '2019-12-26', '2019-08-16', '2019-04-17',\n",
       "       '2020-04-03', '2020-03-12', '2019-11-21', '2019-05-03',\n",
       "       '2019-11-24', '2020-05-08', '2019-05-14', '2020-06-15',\n",
       "       '2019-10-07', '2019-03-16', '2019-04-11', '2020-05-03',\n",
       "       '2020-05-25', '2020-05-10', '2020-02-18', '2019-11-03',\n",
       "       '2019-08-10', '2020-01-23', '2019-12-21', '2020-07-13',\n",
       "       '2019-10-04', '2019-11-06', '2019-08-14', '2020-05-12',\n",
       "       '2020-02-10', '2019-11-16', '2020-04-04', '2019-12-03',\n",
       "       '2019-08-27', '2019-10-19', '2019-04-03', '2019-09-08',\n",
       "       '2019-09-13', '2019-03-06', '2020-01-06', '2020-03-17',\n",
       "       '2019-07-05', '2019-01-02', '2019-11-10', '2018-07-26',\n",
       "       '2019-08-15', '2019-11-30', '2020-02-02', '2016-09-20',\n",
       "       '2019-10-29', '2020-05-16', '2020-03-25', '2019-03-12',\n",
       "       '2019-12-15', '2019-04-12', '2019-09-07', '2019-04-10',\n",
       "       '2019-09-19', '2019-10-16', '2020-02-16', '2019-10-25',\n",
       "       '2020-05-04', '2020-01-27', '2019-05-02', '2019-10-02',\n",
       "       '2019-02-21', '2019-05-09', '2019-09-04', '2020-04-09',\n",
       "       '2018-01-25', '2018-11-24', '2019-06-04', '2018-03-30',\n",
       "       '2020-04-22', '2019-07-20', '2019-04-16', '2019-10-23',\n",
       "       '2020-03-29', '2019-11-29', '2019-11-26', '2020-04-26',\n",
       "       '2020-03-01', '2020-03-02', '2019-12-05', '2018-12-23',\n",
       "       '2019-11-07', '2019-12-31', '2019-05-25', '2020-04-07',\n",
       "       '2019-11-12', '2019-08-09', '2019-08-26', '2019-10-20',\n",
       "       '2019-05-29', '2020-05-05', '2019-06-19', '2020-04-30',\n",
       "       '2018-07-27', '2018-12-07', '2019-03-30', '2019-06-07',\n",
       "       '2020-04-21', '2019-04-24', '2019-11-14', '2019-08-28',\n",
       "       '2019-11-01', '2020-05-11', '2019-12-12', '2019-11-22',\n",
       "       '2019-08-24', '2019-10-18', '2019-11-02', '2019-08-06',\n",
       "       '2020-01-26', '2020-04-19', '2019-04-04', '2019-07-04',\n",
       "       '2019-08-29', '2019-10-24', '2018-08-09', '2020-04-08',\n",
       "       '2019-07-09', '2019-09-24', '2019-11-05', '2019-04-26',\n",
       "       '2019-10-08', '2019-10-06', '2019-07-23', '2015-04-28',\n",
       "       '2019-10-13', '2019-06-26', '2018-07-31', '2020-03-09',\n",
       "       '2020-05-17', '2019-04-13', '2018-08-21', '2019-09-30',\n",
       "       '2019-04-06', '2019-05-10', '2019-04-22', '2019-07-18',\n",
       "       '2018-10-27', '2019-06-20', '2019-08-04', '2020-04-12',\n",
       "       '2019-09-09', '2019-05-01', '2019-10-22', '2020-01-28',\n",
       "       '2018-12-13', '2019-06-11', '2019-02-14', '2019-04-05',\n",
       "       '2019-03-28', '2019-07-17', '2019-07-24', '2020-07-06',\n",
       "       '2019-02-01', '2019-02-08', '2019-02-06', '2019-01-26',\n",
       "       '2019-05-08', '2019-04-23', '2019-06-01', '2020-04-27',\n",
       "       '2020-03-22', '2019-02-22', '2019-10-28', '2019-08-13',\n",
       "       '2019-07-26', '2019-09-16', '2020-01-20', '2019-07-03',\n",
       "       '2019-04-29', '2020-04-18', '2019-07-15', '2019-09-15',\n",
       "       '2019-11-18', '2019-07-22', '2019-01-09', '2019-10-14',\n",
       "       '2019-11-11', '2019-07-25', '2018-11-10', '2019-05-30',\n",
       "       '2019-03-09', '2019-01-22', '2019-01-27', '2018-10-11',\n",
       "       '2017-10-23', '2019-05-05', '2019-07-06', '2019-03-27',\n",
       "       '2019-01-18', '2020-01-13', '2019-03-31', '2017-04-08',\n",
       "       '2019-08-01', '2019-01-04', '2019-12-30', '2019-03-10',\n",
       "       '2019-07-29', '2019-11-17', '2019-09-01', '2018-06-03',\n",
       "       '2019-05-31', '2018-11-18', '2019-09-23', '2019-08-25',\n",
       "       '2019-01-25', '2020-02-17', '2019-08-03', '2018-01-31',\n",
       "       '2019-06-25', '2018-11-09', '2017-09-29', '2019-08-12',\n",
       "       '2019-06-24', '2019-05-24', '2019-08-18', '2018-09-25',\n",
       "       '2019-12-02', '2019-03-20', '2019-11-25', '2019-08-08',\n",
       "       '2018-11-17', '2019-06-21', '2017-02-01', '2019-07-07',\n",
       "       '2019-06-03', '2019-08-05', '2019-09-02', '2017-12-06',\n",
       "       '2020-04-20', '2019-05-16', '2019-04-15', '2019-06-08',\n",
       "       '2018-10-06', '2019-01-11', '2019-03-02', '2018-09-08',\n",
       "       '2019-03-03', '2019-12-09', '2019-06-14', '2019-05-04',\n",
       "       '2017-04-21', '2018-09-12', '2018-09-14', '2019-06-05',\n",
       "       '2019-01-10', '2017-09-21', '2018-05-09', '2018-11-21',\n",
       "       '2018-12-21', '2019-01-30', '2018-07-18', '2018-10-03',\n",
       "       '2019-02-28', '2017-08-27', '2018-04-29', '2019-02-09',\n",
       "       '2020-05-26', '2019-01-13', '2018-06-24', '2020-09-11',\n",
       "       '2019-07-28', '2018-08-31', '2017-05-02', '2019-04-25',\n",
       "       '2019-05-18', '2018-11-29', '2019-02-17', '2018-07-07',\n",
       "       '2018-10-07', '2018-09-15', '2018-08-06', '2018-09-22',\n",
       "       '2019-05-27', '2017-07-26', '2020-04-14', '2019-01-28',\n",
       "       '2019-10-21', '2019-05-17', '2019-03-05', '2018-12-01',\n",
       "       '2019-02-13', '2017-11-01', '2017-02-16', '2018-11-22',\n",
       "       '2018-12-22', '2018-07-29', '2016-03-01', '2016-08-14',\n",
       "       '2017-06-08', '2019-06-06', '2019-03-04', '2019-08-20',\n",
       "       '2019-06-27', '2018-07-21', '2018-07-08', '2018-06-20',\n",
       "       '2019-05-23', '2018-09-18', '2019-06-02', '2018-12-20',\n",
       "       '2018-09-19', '2018-03-10', '2019-06-09', '2018-11-28',\n",
       "       '2019-02-16', '2019-06-13', '2019-09-10', '2019-06-23',\n",
       "       '2019-01-17', '2019-04-21', '2018-12-05', '2018-03-04',\n",
       "       '2018-03-22', '2019-05-11', '2018-12-11', '2018-09-21',\n",
       "       '2019-11-04', '2016-05-19', '2018-08-26', '2018-12-19',\n",
       "       '2019-07-16', '2019-02-20', '2019-06-30', '2018-08-12',\n",
       "       '2019-01-12', '2018-11-08', '2018-10-28', '2019-03-29',\n",
       "       '2019-06-12', '2018-02-22', '2016-01-29', '2019-02-27',\n",
       "       '2019-02-15', '2018-12-26', '2019-04-14', '2019-07-30',\n",
       "       '2019-05-22', '2018-04-12', '2018-12-06', '2018-08-30',\n",
       "       '2018-11-14', '2018-03-28', '2018-02-08', '2017-04-20',\n",
       "       '2018-03-23', '2018-07-14', '2019-09-17', '2018-02-05',\n",
       "       '2018-10-23', '2019-01-23', '2018-01-17', '2019-02-23',\n",
       "       '2019-07-21', '2019-06-28', '2018-08-15', '2019-06-15',\n",
       "       '2018-04-06', '2018-01-05', '2018-12-12', '2017-04-30',\n",
       "       '2018-12-16', '2019-03-23', '2019-06-10', '2018-10-21',\n",
       "       '2018-06-08', '2018-04-27', '2018-08-01', '2016-12-16',\n",
       "       '2017-10-15', '2018-11-16', '2017-07-10', '2019-01-19',\n",
       "       '2018-10-12', '2019-04-19', '2019-02-02', '2018-11-15',\n",
       "       '2018-05-25', '2016-11-19', '2017-04-06', '2018-05-10',\n",
       "       '2017-03-29', '2019-03-13', '2018-03-07', '2018-12-15',\n",
       "       '2018-05-06', '2016-08-11', '2017-10-03', '2020-04-13',\n",
       "       '2017-09-16', '2018-06-22', '2019-08-19', '2017-03-05',\n",
       "       '2019-01-16', '2019-03-24', '2018-09-01', '2018-03-11',\n",
       "       '2019-01-31', '2017-10-06', '2015-01-14', '2018-11-12',\n",
       "       '2018-01-12', '2016-09-28', '2016-10-07', '2014-12-21',\n",
       "       '2018-04-18', '2018-10-10', '2017-11-05', '2018-02-28',\n",
       "       '2018-11-30', '2017-06-01', '2019-01-06', '2019-04-01',\n",
       "       '2018-12-08', '2018-01-26', '2017-05-06', '2016-07-07',\n",
       "       '2018-05-27', '2019-04-27', '2018-10-18', '2018-06-19',\n",
       "       '2019-03-18', '2019-05-19', '2018-09-28', '2018-09-30',\n",
       "       '2018-05-04', '2015-08-16', '2019-01-03', '2017-12-02',\n",
       "       '2018-07-03', '2019-02-18', '2018-11-03', '2018-02-21',\n",
       "       '2018-09-26', '2018-09-29', '2018-08-14', '2019-06-17',\n",
       "       '2017-06-06', '2019-04-30', '2018-07-13', '2019-03-19',\n",
       "       '2019-04-18', '2017-08-05', '2018-03-01', '2017-03-01',\n",
       "       '2019-07-08', '2018-03-18', '2019-04-20', '2017-07-29',\n",
       "       '2018-03-21', '2018-12-30', '2018-12-29', '2019-03-14',\n",
       "       '2018-10-09', '2017-12-17', '2018-05-17', '2018-03-31',\n",
       "       '2018-09-11', '2018-03-29', '2017-02-02', '2017-09-27',\n",
       "       '2018-05-05', '2018-11-06', '2018-05-13', '2020-09-12',\n",
       "       '2018-04-13', '2018-10-24', '2018-05-12', '2018-12-04',\n",
       "       '2017-09-11', '2017-09-19', '2019-05-28', '2019-02-26',\n",
       "       '2018-07-06', '2019-02-03', '2016-02-13', '2018-06-21',\n",
       "       '2018-11-04', '2018-10-26', '2018-11-02', '2018-12-03',\n",
       "       '2019-03-08', '2019-05-06', '2019-03-17', '2018-11-01',\n",
       "       '2018-09-27', '2017-12-11', '2018-05-11', '2019-02-10',\n",
       "       '2018-10-17', '2018-11-23', '2017-10-31', '2017-06-30',\n",
       "       '2018-06-27', '2018-10-15', '2020-09-13', '2018-01-22',\n",
       "       '2018-05-31', '2016-11-13', '2019-03-15'], dtype=object)"
      ]
     },
     "execution_count": 15,
     "metadata": {},
     "output_type": "execute_result"
    }
   ],
   "source": [
    "df_clean[\"listed_date\"].unique()"
   ]
  },
  {
   "cell_type": "code",
   "execution_count": 16,
   "metadata": {
    "executionInfo": {
     "elapsed": 472,
     "status": "ok",
     "timestamp": 1715945633073,
     "user": {
      "displayName": "Allegra Trepte",
      "userId": "01866021477617883858"
     },
     "user_tz": -120
    },
    "id": "NJWh9MygNo-T"
   },
   "outputs": [],
   "source": [
    "\n",
    "# Datumswerte in ein Datumsformat konvertieren\n",
    "df_clean[\"listed_date\"] = pd.to_datetime(df_clean[\"listed_date\"])\n",
    "\n",
    "# Jahr extrahieren und als Integer speichern\n",
    "df_clean[\"listed_date\"] = df_clean[\"listed_date\"].dt.year.astype(int)\n"
   ]
  },
  {
   "cell_type": "markdown",
   "metadata": {
    "id": "zfzkXy8JPmkC"
   },
   "source": [
    "variable alter erstellen"
   ]
  },
  {
   "cell_type": "code",
   "execution_count": 17,
   "metadata": {
    "executionInfo": {
     "elapsed": 472,
     "status": "ok",
     "timestamp": 1715945633073,
     "user": {
      "displayName": "Allegra Trepte",
      "userId": "01866021477617883858"
     },
     "user_tz": -120
    },
    "id": "aF0-Hh3VP2eF"
   },
   "outputs": [],
   "source": [
    "df_clean[\"age\"]= df_clean[\"listed_date\"]- df_clean[\"year\"]\n",
    "del(df_clean[\"listed_date\"])\n",
    "del(df_clean[\"year\"])"
   ]
  },
  {
   "cell_type": "code",
   "execution_count": 18,
   "metadata": {
    "colab": {
     "base_uri": "https://localhost:8080/",
     "height": 296
    },
    "executionInfo": {
     "elapsed": 9,
     "status": "ok",
     "timestamp": 1715945633074,
     "user": {
      "displayName": "Allegra Trepte",
      "userId": "01866021477617883858"
     },
     "user_tz": -120
    },
    "id": "B9j0eyiFQVFL",
    "outputId": "6ccb7e9c-30c3-4d3c-93d2-90e431a16b34"
   },
   "outputs": [
    {
     "data": {
      "text/html": [
       "<div>\n",
       "<style scoped>\n",
       "    .dataframe tbody tr th:only-of-type {\n",
       "        vertical-align: middle;\n",
       "    }\n",
       "\n",
       "    .dataframe tbody tr th {\n",
       "        vertical-align: top;\n",
       "    }\n",
       "\n",
       "    .dataframe thead th {\n",
       "        text-align: right;\n",
       "    }\n",
       "</style>\n",
       "<table border=\"1\" class=\"dataframe\">\n",
       "  <thead>\n",
       "    <tr style=\"text-align: right;\">\n",
       "      <th></th>\n",
       "      <th>body_type</th>\n",
       "      <th>fuel_type</th>\n",
       "      <th>horsepower</th>\n",
       "      <th>make_name</th>\n",
       "      <th>mileage</th>\n",
       "      <th>model_name</th>\n",
       "      <th>price</th>\n",
       "      <th>wheel_system_display</th>\n",
       "      <th>average_fuel_economy</th>\n",
       "      <th>manual</th>\n",
       "      <th>age</th>\n",
       "    </tr>\n",
       "  </thead>\n",
       "  <tbody>\n",
       "    <tr>\n",
       "      <th>1</th>\n",
       "      <td>Sedan</td>\n",
       "      <td>Gasoline</td>\n",
       "      <td>184.0</td>\n",
       "      <td>Chrysler</td>\n",
       "      <td>25794.0</td>\n",
       "      <td>200</td>\n",
       "      <td>13000.0</td>\n",
       "      <td>Front-Wheel Drive</td>\n",
       "      <td>29.5</td>\n",
       "      <td>0</td>\n",
       "      <td>4</td>\n",
       "    </tr>\n",
       "    <tr>\n",
       "      <th>3</th>\n",
       "      <td>SUV / Crossover</td>\n",
       "      <td>Gasoline</td>\n",
       "      <td>295.0</td>\n",
       "      <td>Dodge</td>\n",
       "      <td>15732.0</td>\n",
       "      <td>Durango</td>\n",
       "      <td>27300.0</td>\n",
       "      <td>All-Wheel Drive</td>\n",
       "      <td>21.5</td>\n",
       "      <td>0</td>\n",
       "      <td>2</td>\n",
       "    </tr>\n",
       "    <tr>\n",
       "      <th>7</th>\n",
       "      <td>SUV / Crossover</td>\n",
       "      <td>Gasoline</td>\n",
       "      <td>138.0</td>\n",
       "      <td>Chevrolet</td>\n",
       "      <td>4580.0</td>\n",
       "      <td>Trax</td>\n",
       "      <td>15724.0</td>\n",
       "      <td>Front-Wheel Drive</td>\n",
       "      <td>29.0</td>\n",
       "      <td>0</td>\n",
       "      <td>2</td>\n",
       "    </tr>\n",
       "    <tr>\n",
       "      <th>8</th>\n",
       "      <td>SUV / Crossover</td>\n",
       "      <td>Gasoline</td>\n",
       "      <td>180.0</td>\n",
       "      <td>Jeep</td>\n",
       "      <td>25122.0</td>\n",
       "      <td>Cherokee</td>\n",
       "      <td>21000.0</td>\n",
       "      <td>Four-Wheel Drive</td>\n",
       "      <td>24.0</td>\n",
       "      <td>0</td>\n",
       "      <td>2</td>\n",
       "    </tr>\n",
       "    <tr>\n",
       "      <th>11</th>\n",
       "      <td>SUV / Crossover</td>\n",
       "      <td>Gasoline</td>\n",
       "      <td>241.0</td>\n",
       "      <td>Jeep</td>\n",
       "      <td>61161.0</td>\n",
       "      <td>Grand Cherokee</td>\n",
       "      <td>17300.0</td>\n",
       "      <td>Four-Wheel Drive</td>\n",
       "      <td>20.5</td>\n",
       "      <td>0</td>\n",
       "      <td>6</td>\n",
       "    </tr>\n",
       "  </tbody>\n",
       "</table>\n",
       "</div>"
      ],
      "text/plain": [
       "          body_type fuel_type  horsepower  make_name  mileage      model_name  \\\n",
       "1             Sedan  Gasoline       184.0   Chrysler  25794.0             200   \n",
       "3   SUV / Crossover  Gasoline       295.0      Dodge  15732.0         Durango   \n",
       "7   SUV / Crossover  Gasoline       138.0  Chevrolet   4580.0            Trax   \n",
       "8   SUV / Crossover  Gasoline       180.0       Jeep  25122.0        Cherokee   \n",
       "11  SUV / Crossover  Gasoline       241.0       Jeep  61161.0  Grand Cherokee   \n",
       "\n",
       "      price wheel_system_display  average_fuel_economy  manual  age  \n",
       "1   13000.0    Front-Wheel Drive                  29.5       0    4  \n",
       "3   27300.0      All-Wheel Drive                  21.5       0    2  \n",
       "7   15724.0    Front-Wheel Drive                  29.0       0    2  \n",
       "8   21000.0     Four-Wheel Drive                  24.0       0    2  \n",
       "11  17300.0     Four-Wheel Drive                  20.5       0    6  "
      ]
     },
     "execution_count": 18,
     "metadata": {},
     "output_type": "execute_result"
    }
   ],
   "source": [
    "df_clean.head()"
   ]
  },
  {
   "cell_type": "markdown",
   "metadata": {
    "id": "C4NwnLq9UHrm"
   },
   "source": [
    "wir löschen variablen raus die bei age -1 haben"
   ]
  },
  {
   "cell_type": "code",
   "execution_count": 19,
   "metadata": {
    "colab": {
     "base_uri": "https://localhost:8080/"
    },
    "executionInfo": {
     "elapsed": 6,
     "status": "ok",
     "timestamp": 1715945633074,
     "user": {
      "displayName": "Allegra Trepte",
      "userId": "01866021477617883858"
     },
     "user_tz": -120
    },
    "id": "P_--0lsWUMgH",
    "outputId": "19ddc4ed-dbe2-4476-90fa-23b4c92c4d62"
   },
   "outputs": [
    {
     "data": {
      "text/plain": [
       "array([ 4,  2,  6,  3,  7,  5,  0,  8,  1, 17, 15, 14, 10,  9, 13, 11, 12,\n",
       "       16, 18, 23, 22, 19, 28, 21, 36, 27, 29, 20, 30, 31, 26, 24, 33, 25,\n",
       "       35, 34, 32])"
      ]
     },
     "execution_count": 19,
     "metadata": {},
     "output_type": "execute_result"
    }
   ],
   "source": [
    "df_clean = df_clean.drop(df_clean[df_clean['age'] == -1].index)\n",
    "df_clean[\"age\"].unique()"
   ]
  },
  {
   "cell_type": "markdown",
   "metadata": {
    "id": "n65sI8p6pkJK"
   },
   "source": [
    "# df_clean Exportieren"
   ]
  },
  {
   "cell_type": "code",
   "execution_count": 20,
   "metadata": {
    "executionInfo": {
     "elapsed": 329,
     "status": "ok",
     "timestamp": 1715945633399,
     "user": {
      "displayName": "Allegra Trepte",
      "userId": "01866021477617883858"
     },
     "user_tz": -120
    },
    "id": "80v1xxbZppI7"
   },
   "outputs": [],
   "source": [
    "\n",
    "# Pfad in deinem Google Drive\n",
    "file_path = '/Users/allegratrepte/Desktop/clean_data.csv'\n",
    "\n",
    "# DataFrame als CSV speichern\n",
    "df_clean.to_csv(file_path, index=False)"
   ]
  },
  {
   "cell_type": "code",
   "execution_count": null,
   "metadata": {},
   "outputs": [],
   "source": []
  }
 ],
 "metadata": {
  "colab": {
   "authorship_tag": "ABX9TyNzcGMm5n8v/ziMuC3PrB7v",
   "provenance": []
  },
  "kernelspec": {
   "display_name": "Python 3 (ipykernel)",
   "language": "python",
   "name": "python3"
  },
  "language_info": {
   "codemirror_mode": {
    "name": "ipython",
    "version": 3
   },
   "file_extension": ".py",
   "mimetype": "text/x-python",
   "name": "python",
   "nbconvert_exporter": "python",
   "pygments_lexer": "ipython3",
   "version": "3.11.5"
  }
 },
 "nbformat": 4,
 "nbformat_minor": 1
}
