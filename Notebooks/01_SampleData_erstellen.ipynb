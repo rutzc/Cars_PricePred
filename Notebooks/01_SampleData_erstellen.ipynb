{
 "cells": [
  {
   "cell_type": "markdown",
   "id": "36f16c3e-dbd0-467d-a8f0-d8af4b81a636",
   "metadata": {},
   "source": [
    "# 01_SampleData_erstellen"
   ]
  },
  {
   "cell_type": "markdown",
   "id": "6c53e0a7-7b57-4105-9db0-cd7d26bed562",
   "metadata": {},
   "source": [
    "Das Dataset haben wir von kaggle heruntergeladen: https://www.kaggle.com/datasets/ananaymital/us-used-cars-dataset.\n",
    "Weil das Dataset mit 3 Mio. Instanzen sehr gross ist, haben wir ein zufälliges Sample des Datasets erstellt mit 100k Instanzen."
   ]
  },
  {
   "cell_type": "markdown",
   "id": "b563035b-6a0b-4f34-aa7f-9a68c96da34f",
   "metadata": {},
   "source": [
    "## 1) Sample-Dataset einlesen (100k)"
   ]
  },
  {
   "cell_type": "code",
   "execution_count": 17,
   "id": "99f4548b-2774-4670-af33-cc19e42f615f",
   "metadata": {
    "tags": []
   },
   "outputs": [],
   "source": [
    "# Imports\n",
    "import pandas as pd\n",
    "import numpy as np"
   ]
  },
  {
   "cell_type": "code",
   "execution_count": null,
   "id": "bb339428-bbe9-451b-a52f-47bdfff1072a",
   "metadata": {
    "tags": []
   },
   "outputs": [],
   "source": [
    "# Pfad zu Dataset\n",
    "path = \"../Data/used_cars_data.csv\"\n",
    "\n",
    "# Gesamtanzahl der Datensätze in der Datei\n",
    "total_rows = 3000000\n",
    "\n",
    "# Anzahl der Datensätze, die du lesen möchtest\n",
    "sample_size = 100000\n",
    "\n",
    "# Erzeuge ein zufälliges Array von Zeilen, die gelesen werden sollen\n",
    "np.random.seed(42)  # Für reproduzierbare Ergebnisse\n",
    "skip = sorted(np.random.choice(np.arange(1, total_rows+1), size=(total_rows-sample_size), replace=False))\n",
    "\n",
    "# Lese die Datei, überspringe die nicht benötigten Zeilen\n",
    "df = pd.read_csv(path, skiprows=skip)"
   ]
  },
  {
   "cell_type": "markdown",
   "id": "49879e52-cfd3-41ba-910a-4c7f540392fe",
   "metadata": {},
   "source": [
    "## 2) Sample-Dataset abspeichern"
   ]
  },
  {
   "cell_type": "code",
   "execution_count": null,
   "id": "044e8bd1-5d1a-4c5e-99e3-28d6dc9cb824",
   "metadata": {},
   "outputs": [],
   "source": [
    "# Sample-Dataset abspeichern\n",
    "df.to_csv(\"../Data/used_cars_data.csv\")"
   ]
  }
 ],
 "metadata": {
  "kernelspec": {
   "display_name": "Python 3 (ipykernel)",
   "language": "python",
   "name": "python3"
  },
  "language_info": {
   "codemirror_mode": {
    "name": "ipython",
    "version": 3
   },
   "file_extension": ".py",
   "mimetype": "text/x-python",
   "name": "python",
   "nbconvert_exporter": "python",
   "pygments_lexer": "ipython3",
   "version": "3.11.7"
  }
 },
 "nbformat": 4,
 "nbformat_minor": 5
}
