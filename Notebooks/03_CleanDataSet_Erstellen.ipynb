{
 "cells": [
  {
   "cell_type": "markdown",
   "metadata": {},
   "source": [
    "# 03_Datenbereinigung\n",
    "Das Ziel der Datenbereinigung ist es, ein Dataset df_clean zu erstellen, welches alle relevanten Variablen enthält, keine Outliers, keine Null-Values und die bereingten neu berechneten Spalten enthält. Dieses bereinigte Dataset soll anschliessend exportiert und in einem nächsten Schritt für das Training des Modells genutzt werden können. \n",
    "\n",
    "Die Datenbereinigung enthält:\n",
    "- Entfernung Outliers\n",
    "- Entfernung Null-Werte\n",
    "- Einzelne Values auschliessen (bei Variable \"fuel_type\")\n",
    "- Neue Spalten erstellen/berechnen (\"average_fuel_economy\", \"age\")\n",
    "- Werte zusammenfassen und neue Spalte erstellen (\"transmission\" -> \"manual\")"
   ]
  },
  {
   "cell_type": "markdown",
   "metadata": {
    "id": "OC6qprhqjSL0",
    "tags": []
   },
   "source": [
    "## 1) Libraries importieren"
   ]
  },
  {
   "cell_type": "code",
   "execution_count": 389,
   "metadata": {
    "executionInfo": {
     "elapsed": 2,
     "status": "ok",
     "timestamp": 1715945623091,
     "user": {
      "displayName": "Allegra Trepte",
      "userId": "01866021477617883858"
     },
     "user_tz": -120
    },
    "id": "UR744RKNjQUe",
    "tags": []
   },
   "outputs": [],
   "source": [
    "# Libraries importieren\n",
    "import pandas as pd\n",
    "import numpy as np\n",
    "import matplotlib.pyplot as plt\n",
    "import seaborn as sns"
   ]
  },
  {
   "cell_type": "markdown",
   "metadata": {
    "id": "MO4PcpUwi4wi",
    "tags": []
   },
   "source": [
    "## 2) Daten einlesen"
   ]
  },
  {
   "cell_type": "code",
   "execution_count": 392,
   "metadata": {
    "colab": {
     "base_uri": "https://localhost:8080/"
    },
    "executionInfo": {
     "elapsed": 6685,
     "status": "ok",
     "timestamp": 1715945629775,
     "user": {
      "displayName": "Allegra Trepte",
      "userId": "01866021477617883858"
     },
     "user_tz": -120
    },
    "id": "nVAN6A_ljk2f",
    "outputId": "217318a8-a409-4580-d99c-44a5d5609fa8",
    "tags": []
   },
   "outputs": [
    {
     "name": "stderr",
     "output_type": "stream",
     "text": [
      "/var/folders/kp/zxdhgy711jnb_bngbg987tt80000gn/T/ipykernel_80200/2147306835.py:3: DtypeWarning: Columns (12) have mixed types. Specify dtype option on import or set low_memory=False.\n",
      "  df = pd.read_csv(relative_path + \"sample_data_100k.csv\")\n"
     ]
    }
   ],
   "source": [
    "# Sample Dataset 100k einlesen\n",
    "relative_path = \"../Data/\"\n",
    "df = pd.read_csv(relative_path + \"sample_data_100k.csv\")"
   ]
  },
  {
   "cell_type": "code",
   "execution_count": 393,
   "metadata": {
    "colab": {
     "base_uri": "https://localhost:8080/"
    },
    "executionInfo": {
     "elapsed": 377,
     "status": "ok",
     "timestamp": 1715945630135,
     "user": {
      "displayName": "Allegra Trepte",
      "userId": "01866021477617883858"
     },
     "user_tz": -120
    },
    "id": "ylJNO-VnLDbQ",
    "outputId": "991e0151-b24a-432f-d524-becdcf88e800",
    "tags": []
   },
   "outputs": [
    {
     "name": "stdout",
     "output_type": "stream",
     "text": [
      "<class 'pandas.core.frame.DataFrame'>\n",
      "RangeIndex: 100040 entries, 0 to 100039\n",
      "Data columns (total 67 columns):\n",
      " #   Column                   Non-Null Count   Dtype  \n",
      "---  ------                   --------------   -----  \n",
      " 0   Unnamed: 0               100040 non-null  int64  \n",
      " 1   vin                      100040 non-null  object \n",
      " 2   back_legroom             94722 non-null   object \n",
      " 3   bed                      659 non-null     object \n",
      " 4   bed_height               14110 non-null   object \n",
      " 5   bed_length               14110 non-null   object \n",
      " 6   body_type                99607 non-null   object \n",
      " 7   cabin                    2058 non-null    object \n",
      " 8   city                     100040 non-null  object \n",
      " 9   city_fuel_economy        83760 non-null   float64\n",
      " 10  combine_fuel_economy     0 non-null       float64\n",
      " 11  daysonmarket             100040 non-null  int64  \n",
      " 12  dealer_zip               100040 non-null  object \n",
      " 13  description              97428 non-null   object \n",
      " 14  engine_cylinders         96726 non-null   object \n",
      " 15  engine_displacement      94274 non-null   float64\n",
      " 16  engine_type              96726 non-null   object \n",
      " 17  exterior_color           98260 non-null   object \n",
      " 18  fleet                    52414 non-null   object \n",
      " 19  frame_damaged            52414 non-null   object \n",
      " 20  franchise_dealer         100040 non-null  bool   \n",
      " 21  franchise_make           80849 non-null   object \n",
      " 22  front_legroom            94722 non-null   object \n",
      " 23  fuel_tank_volume         94722 non-null   object \n",
      " 24  fuel_type                97324 non-null   object \n",
      " 25  has_accidents            52414 non-null   object \n",
      " 26  height                   94722 non-null   object \n",
      " 27  highway_fuel_economy     83760 non-null   float64\n",
      " 28  horsepower               94274 non-null   float64\n",
      " 29  interior_color           87150 non-null   object \n",
      " 30  isCab                    52414 non-null   object \n",
      " 31  is_certified             0 non-null       float64\n",
      " 32  is_cpo                   6117 non-null    object \n",
      " 33  is_new                   100040 non-null  bool   \n",
      " 34  is_oemcpo                4556 non-null    object \n",
      " 35  latitude                 100040 non-null  float64\n",
      " 36  length                   94722 non-null   object \n",
      " 37  listed_date              100040 non-null  object \n",
      " 38  listing_color            100040 non-null  object \n",
      " 39  listing_id               100040 non-null  int64  \n",
      " 40  longitude                100040 non-null  float64\n",
      " 41  main_picture_url         87579 non-null   object \n",
      " 42  major_options            93381 non-null   object \n",
      " 43  make_name                100040 non-null  object \n",
      " 44  maximum_seating          94722 non-null   object \n",
      " 45  mileage                  95199 non-null   float64\n",
      " 46  model_name               100040 non-null  object \n",
      " 47  owner_count              49316 non-null   float64\n",
      " 48  power                    83915 non-null   object \n",
      " 49  price                    100040 non-null  float64\n",
      " 50  salvage                  52414 non-null   object \n",
      " 51  savings_amount           100040 non-null  int64  \n",
      " 52  seller_rating            98636 non-null   float64\n",
      " 53  sp_id                    100035 non-null  float64\n",
      " 54  sp_name                  100040 non-null  object \n",
      " 55  theft_title              52414 non-null   object \n",
      " 56  torque                   82663 non-null   object \n",
      " 57  transmission             97824 non-null   object \n",
      " 58  transmission_display     97824 non-null   object \n",
      " 59  trimId                   96164 non-null   object \n",
      " 60  trim_name                96155 non-null   object \n",
      " 61  vehicle_damage_category  0 non-null       float64\n",
      " 62  wheel_system             95121 non-null   object \n",
      " 63  wheel_system_display     95121 non-null   object \n",
      " 64  wheelbase                94722 non-null   object \n",
      " 65  width                    94722 non-null   object \n",
      " 66  year                     100040 non-null  int64  \n",
      "dtypes: bool(2), float64(14), int64(5), object(46)\n",
      "memory usage: 49.8+ MB\n"
     ]
    }
   ],
   "source": [
    "# Info anzeigen \n",
    "df.info()"
   ]
  },
  {
   "cell_type": "markdown",
   "metadata": {
    "id": "8-iX4lWEjrpS",
    "tags": []
   },
   "source": [
    "## 3) Dataset mit relevanten Variablen erstellen"
   ]
  },
  {
   "cell_type": "markdown",
   "metadata": {},
   "source": [
    "Gemäss den Überlegungen zu den 66 Features (vgl. schrifltiche Dokumentation, Tableau-File und Notebook 2) wird hier ein Dataset erstellt, welches nur noch die relevanten Features beinhaltet"
   ]
  },
  {
   "cell_type": "code",
   "execution_count": 396,
   "metadata": {
    "executionInfo": {
     "elapsed": 8,
     "status": "ok",
     "timestamp": 1715945631666,
     "user": {
      "displayName": "Allegra Trepte",
      "userId": "01866021477617883858"
     },
     "user_tz": -120
    },
    "id": "fgQWEgeRmR-z",
    "tags": []
   },
   "outputs": [],
   "source": [
    "# DataFrame df_reduced mit relevanten Features aus df erstellen\n",
    "df_reduced = df[[\"body_type\", \"city_fuel_economy\", \"fuel_type\", \"highway_fuel_economy\", \"horsepower\",\n",
    "                \"make_name\", \"mileage\", \"model_name\", \"price\", \"transmission\", \"wheel_system_display\", \"year\",\"listed_date\"]]"
   ]
  },
  {
   "cell_type": "code",
   "execution_count": 397,
   "metadata": {
    "tags": []
   },
   "outputs": [
    {
     "name": "stdout",
     "output_type": "stream",
     "text": [
      "<class 'pandas.core.frame.DataFrame'>\n",
      "RangeIndex: 100040 entries, 0 to 100039\n",
      "Data columns (total 13 columns):\n",
      " #   Column                Non-Null Count   Dtype  \n",
      "---  ------                --------------   -----  \n",
      " 0   body_type             99607 non-null   object \n",
      " 1   city_fuel_economy     83760 non-null   float64\n",
      " 2   fuel_type             97324 non-null   object \n",
      " 3   highway_fuel_economy  83760 non-null   float64\n",
      " 4   horsepower            94274 non-null   float64\n",
      " 5   make_name             100040 non-null  object \n",
      " 6   mileage               95199 non-null   float64\n",
      " 7   model_name            100040 non-null  object \n",
      " 8   price                 100040 non-null  float64\n",
      " 9   transmission          97824 non-null   object \n",
      " 10  wheel_system_display  95121 non-null   object \n",
      " 11  year                  100040 non-null  int64  \n",
      " 12  listed_date           100040 non-null  object \n",
      "dtypes: float64(5), int64(1), object(7)\n",
      "memory usage: 9.9+ MB\n"
     ]
    }
   ],
   "source": [
    "df_reduced.info()"
   ]
  },
  {
   "cell_type": "markdown",
   "metadata": {
    "tags": []
   },
   "source": [
    "## 4) Daten bereinigen"
   ]
  },
  {
   "cell_type": "markdown",
   "metadata": {
    "id": "ZhXeiKvvkXbO",
    "tags": []
   },
   "source": [
    "### 4.1) Outliers entfernen"
   ]
  },
  {
   "cell_type": "markdown",
   "metadata": {},
   "source": [
    "Wie in Notebook 2_DataAnalysis ersichtlich, sind die Preise sehr breit gestreut und insbesondere gegen oben gibt es grosse Ausreisser. Wir haben die Outlier in der Variable \"Preis\" dehsalb bereinigt. Damit wollen wir die spätere Vorhersage des Modells verbessern.\n",
    "\n",
    "Für die Methode der Outlier-Bereinigung haben wir den Z-Score verwendet. Dabei haben wir alle Werte ausgeschlossen, die ausserhalb von 3 Standardabweichungen liegen. (Quellen: https://www.analyticsvidhya.com/blog/2021/05/detecting-and-treating-outliers-treating-the-odd-one-out/; ChatGPT: https://chatgpt.com/share/3850c586-fa1d-4d85-9839-85ddb082797f)"
   ]
  },
  {
   "cell_type": "code",
   "execution_count": 401,
   "metadata": {
    "colab": {
     "base_uri": "https://localhost:8080/",
     "height": 0
    },
    "executionInfo": {
     "elapsed": 332,
     "status": "ok",
     "timestamp": 1715945630464,
     "user": {
      "displayName": "Allegra Trepte",
      "userId": "01866021477617883858"
     },
     "user_tz": -120
    },
    "id": "KwLiKGE7kbgd",
    "outputId": "4fd81714-bde0-4fee-b92e-f347118c46b3",
    "tags": []
   },
   "outputs": [],
   "source": [
    "# Outliers entfernen mittels Z-Score und neues DataFrame erstellen\n",
    "z_scores = np.abs((df_reduced[\"price\"] - df_reduced[\"price\"].mean()) / df_reduced[\"price\"].std()) #Z-Scores berechnen\n",
    "df_no_outliers = df_reduced[z_scores < 3] #neues Dataf^Frame erstellen, in denen Scores kleiner als 3 ist"
   ]
  },
  {
   "cell_type": "code",
   "execution_count": 402,
   "metadata": {
    "tags": []
   },
   "outputs": [
    {
     "data": {
      "text/html": [
       "<div>\n",
       "<style scoped>\n",
       "    .dataframe tbody tr th:only-of-type {\n",
       "        vertical-align: middle;\n",
       "    }\n",
       "\n",
       "    .dataframe tbody tr th {\n",
       "        vertical-align: top;\n",
       "    }\n",
       "\n",
       "    .dataframe thead th {\n",
       "        text-align: right;\n",
       "    }\n",
       "</style>\n",
       "<table border=\"1\" class=\"dataframe\">\n",
       "  <thead>\n",
       "    <tr style=\"text-align: right;\">\n",
       "      <th></th>\n",
       "      <th>body_type</th>\n",
       "      <th>city_fuel_economy</th>\n",
       "      <th>fuel_type</th>\n",
       "      <th>highway_fuel_economy</th>\n",
       "      <th>horsepower</th>\n",
       "      <th>make_name</th>\n",
       "      <th>mileage</th>\n",
       "      <th>model_name</th>\n",
       "      <th>price</th>\n",
       "      <th>transmission</th>\n",
       "      <th>wheel_system_display</th>\n",
       "      <th>year</th>\n",
       "      <th>listed_date</th>\n",
       "    </tr>\n",
       "  </thead>\n",
       "  <tbody>\n",
       "    <tr>\n",
       "      <th>0</th>\n",
       "      <td>SUV / Crossover</td>\n",
       "      <td>NaN</td>\n",
       "      <td>Gasoline</td>\n",
       "      <td>NaN</td>\n",
       "      <td>340.0</td>\n",
       "      <td>Land Rover</td>\n",
       "      <td>88.0</td>\n",
       "      <td>Range Rover Velar</td>\n",
       "      <td>70742.0</td>\n",
       "      <td>A</td>\n",
       "      <td>All-Wheel Drive</td>\n",
       "      <td>2020</td>\n",
       "      <td>2019-10-21</td>\n",
       "    </tr>\n",
       "    <tr>\n",
       "      <th>1</th>\n",
       "      <td>Sedan</td>\n",
       "      <td>23.0</td>\n",
       "      <td>Gasoline</td>\n",
       "      <td>36.0</td>\n",
       "      <td>184.0</td>\n",
       "      <td>Chrysler</td>\n",
       "      <td>25794.0</td>\n",
       "      <td>200</td>\n",
       "      <td>13000.0</td>\n",
       "      <td>A</td>\n",
       "      <td>Front-Wheel Drive</td>\n",
       "      <td>2016</td>\n",
       "      <td>2020-08-20</td>\n",
       "    </tr>\n",
       "    <tr>\n",
       "      <th>2</th>\n",
       "      <td>SUV / Crossover</td>\n",
       "      <td>NaN</td>\n",
       "      <td>Gasoline</td>\n",
       "      <td>NaN</td>\n",
       "      <td>177.0</td>\n",
       "      <td>Jeep</td>\n",
       "      <td>20.0</td>\n",
       "      <td>Renegade</td>\n",
       "      <td>31221.0</td>\n",
       "      <td>A</td>\n",
       "      <td>Four-Wheel Drive</td>\n",
       "      <td>2019</td>\n",
       "      <td>2019-04-23</td>\n",
       "    </tr>\n",
       "    <tr>\n",
       "      <th>3</th>\n",
       "      <td>SUV / Crossover</td>\n",
       "      <td>18.0</td>\n",
       "      <td>Gasoline</td>\n",
       "      <td>25.0</td>\n",
       "      <td>295.0</td>\n",
       "      <td>Dodge</td>\n",
       "      <td>15732.0</td>\n",
       "      <td>Durango</td>\n",
       "      <td>27300.0</td>\n",
       "      <td>A</td>\n",
       "      <td>All-Wheel Drive</td>\n",
       "      <td>2018</td>\n",
       "      <td>2020-07-29</td>\n",
       "    </tr>\n",
       "    <tr>\n",
       "      <th>4</th>\n",
       "      <td>SUV / Crossover</td>\n",
       "      <td>NaN</td>\n",
       "      <td>Gasoline</td>\n",
       "      <td>NaN</td>\n",
       "      <td>182.0</td>\n",
       "      <td>Chevrolet</td>\n",
       "      <td>35363.0</td>\n",
       "      <td>Equinox</td>\n",
       "      <td>13823.0</td>\n",
       "      <td>A</td>\n",
       "      <td>Front-Wheel Drive</td>\n",
       "      <td>2016</td>\n",
       "      <td>2020-06-24</td>\n",
       "    </tr>\n",
       "  </tbody>\n",
       "</table>\n",
       "</div>"
      ],
      "text/plain": [
       "         body_type  city_fuel_economy fuel_type  highway_fuel_economy  \\\n",
       "0  SUV / Crossover                NaN  Gasoline                   NaN   \n",
       "1            Sedan               23.0  Gasoline                  36.0   \n",
       "2  SUV / Crossover                NaN  Gasoline                   NaN   \n",
       "3  SUV / Crossover               18.0  Gasoline                  25.0   \n",
       "4  SUV / Crossover                NaN  Gasoline                   NaN   \n",
       "\n",
       "   horsepower   make_name  mileage         model_name    price transmission  \\\n",
       "0       340.0  Land Rover     88.0  Range Rover Velar  70742.0            A   \n",
       "1       184.0    Chrysler  25794.0                200  13000.0            A   \n",
       "2       177.0        Jeep     20.0           Renegade  31221.0            A   \n",
       "3       295.0       Dodge  15732.0            Durango  27300.0            A   \n",
       "4       182.0   Chevrolet  35363.0            Equinox  13823.0            A   \n",
       "\n",
       "  wheel_system_display  year listed_date  \n",
       "0      All-Wheel Drive  2020  2019-10-21  \n",
       "1    Front-Wheel Drive  2016  2020-08-20  \n",
       "2     Four-Wheel Drive  2019  2019-04-23  \n",
       "3      All-Wheel Drive  2018  2020-07-29  \n",
       "4    Front-Wheel Drive  2016  2020-06-24  "
      ]
     },
     "execution_count": 402,
     "metadata": {},
     "output_type": "execute_result"
    }
   ],
   "source": [
    "# Head anzeigen\n",
    "df_no_outliers.head()"
   ]
  },
  {
   "cell_type": "code",
   "execution_count": 403,
   "metadata": {
    "tags": []
   },
   "outputs": [
    {
     "name": "stdout",
     "output_type": "stream",
     "text": [
      "<class 'pandas.core.frame.DataFrame'>\n",
      "Index: 99251 entries, 0 to 100039\n",
      "Data columns (total 13 columns):\n",
      " #   Column                Non-Null Count  Dtype  \n",
      "---  ------                --------------  -----  \n",
      " 0   body_type             98834 non-null  object \n",
      " 1   city_fuel_economy     83172 non-null  float64\n",
      " 2   fuel_type             96583 non-null  object \n",
      " 3   highway_fuel_economy  83172 non-null  float64\n",
      " 4   horsepower            93565 non-null  float64\n",
      " 5   make_name             99251 non-null  object \n",
      " 6   mileage               94460 non-null  float64\n",
      " 7   model_name            99251 non-null  object \n",
      " 8   price                 99251 non-null  float64\n",
      " 9   transmission          97053 non-null  object \n",
      " 10  wheel_system_display  94395 non-null  object \n",
      " 11  year                  99251 non-null  int64  \n",
      " 12  listed_date           99251 non-null  object \n",
      "dtypes: float64(5), int64(1), object(7)\n",
      "memory usage: 10.6+ MB\n"
     ]
    }
   ],
   "source": [
    "# Info anzeigen - 13 Variablen und 99'251 Instanzen\n",
    "df_no_outliers.info()"
   ]
  },
  {
   "cell_type": "code",
   "execution_count": 404,
   "metadata": {
    "colab": {
     "base_uri": "https://localhost:8080/",
     "height": 0
    },
    "executionInfo": {
     "elapsed": 1206,
     "status": "ok",
     "timestamp": 1715945631666,
     "user": {
      "displayName": "Allegra Trepte",
      "userId": "01866021477617883858"
     },
     "user_tz": -120
    },
    "id": "3C4PLkcrkjH2",
    "outputId": "b55ec6e5-d103-4c5b-a0f5-43b34e923975",
    "tags": []
   },
   "outputs": [
    {
     "name": "stderr",
     "output_type": "stream",
     "text": [
      "/opt/anaconda3/lib/python3.11/site-packages/seaborn/_oldcore.py:1119: FutureWarning: use_inf_as_na option is deprecated and will be removed in a future version. Convert inf values to NaN before operating instead.\n",
      "  with pd.option_context('mode.use_inf_as_na', True):\n"
     ]
    },
    {
     "data": {
      "image/png": "[encoded data removed]",
      "text/plain": [
       "<Figure size 600x300 with 1 Axes>"
      ]
     },
     "metadata": {},
     "output_type": "display_data"
    }
   ],
   "source": [
    "# Histogramm der Preise nach Outlier-Bereinigung\n",
    "plt.figure(figsize=(6, 3))\n",
    "sns.histplot(df_no_outliers[\"price\"], kde=True, bins=30, color=\"blue\")\n",
    "plt.title(\"Histogramm der Preisverteilung\")\n",
    "plt.xlabel(\"Preis (USD)\")\n",
    "plt.ylabel(\"Häufigkeit\")\n",
    "plt.show()"
   ]
  },
  {
   "cell_type": "markdown",
   "metadata": {
    "id": "PcGuyCZPnVDm",
    "tags": []
   },
   "source": [
    "### 4.2) Null Werte Droppen"
   ]
  },
  {
   "cell_type": "markdown",
   "metadata": {},
   "source": [
    "Das Dataset ohne Outlier hat bei verschiedenen Features noch Null-Values, die in diesem Schritt gedroppt werden. Dieses Vorgehen wird gewählt, da das DataSet auch nach dem Entfernen der Null-Values noch genügend gross ist.\n",
    "\n",
    "Zusätzlich werden alle Zeilen mit Werten == \"--\" entfernt, da diese Werte gleich wie Null-Values gewertet werden können."
   ]
  },
  {
   "cell_type": "code",
   "execution_count": 407,
   "metadata": {
    "executionInfo": {
     "elapsed": 7,
     "status": "ok",
     "timestamp": 1715945631666,
     "user": {
      "displayName": "Allegra Trepte",
      "userId": "01866021477617883858"
     },
     "user_tz": -120
    },
    "id": "QUAiCTuYnXrU",
    "tags": []
   },
   "outputs": [],
   "source": [
    "# Neues Dataframe ohne Null-Values erstellen\n",
    "df_dropna = df_reduced.dropna() \n",
    "\n",
    "# Zeilen entfernen, in denen irgendwo '--' vorkommt\n",
    "df_dropna = df_dropna[~df_dropna.isin([\"--\"]).any(axis=1)]"
   ]
  },
  {
   "cell_type": "code",
   "execution_count": 408,
   "metadata": {
    "executionInfo": {
     "elapsed": 7,
     "status": "ok",
     "timestamp": 1715945631666,
     "user": {
      "displayName": "Allegra Trepte",
      "userId": "01866021477617883858"
     },
     "user_tz": -120
    },
    "id": "ehQiF1zvnht7",
    "tags": []
   },
   "outputs": [],
   "source": [
    "# Neues Dataframe für nächste Cleaning Schritte\n",
    "df_clean = df_dropna"
   ]
  },
  {
   "cell_type": "markdown",
   "metadata": {
    "tags": []
   },
   "source": [
    "### 4.3) Einzelne Values eines Features ausschliessen"
   ]
  },
  {
   "cell_type": "markdown",
   "metadata": {
    "id": "79EZk-Xmn-KF",
    "tags": []
   },
   "source": [
    "#### Fluel_Type\n",
    "Kategorie ausschliessen aufgrund weniger Instanzen"
   ]
  },
  {
   "cell_type": "code",
   "execution_count": 412,
   "metadata": {
    "colab": {
     "base_uri": "https://localhost:8080/"
    },
    "executionInfo": {
     "elapsed": 11,
     "status": "ok",
     "timestamp": 1715945632604,
     "user": {
      "displayName": "Allegra Trepte",
      "userId": "01866021477617883858"
     },
     "user_tz": -120
    },
    "id": "QB893lQZoA-8",
    "outputId": "12b43fff-2af1-407a-cbc3-4c5fb7878788",
    "tags": []
   },
   "outputs": [
    {
     "data": {
      "text/plain": [
       "fuel_type\n",
       "Gasoline             71861\n",
       "Flex Fuel Vehicle     3493\n",
       "Hybrid                2212\n",
       "Diesel                 420\n",
       "Biodiesel              117\n",
       "Name: count, dtype: int64"
      ]
     },
     "execution_count": 412,
     "metadata": {},
     "output_type": "execute_result"
    }
   ],
   "source": [
    "# Kategorie \"Compressed Natural Gas\" ausschliessen\n",
    "df_clean = df_clean[df_clean[\"fuel_type\"]!=\"Compressed Natural Gas\"]\n",
    "df_clean[\"fuel_type\"].value_counts()"
   ]
  },
  {
   "cell_type": "markdown",
   "metadata": {
    "tags": []
   },
   "source": [
    "### 4.4) Neue Spalten erstellen/berechnen"
   ]
  },
  {
   "cell_type": "markdown",
   "metadata": {
    "id": "f_00asiRnsB3",
    "tags": []
   },
   "source": [
    "#### Fluel_Economy\n",
    "Aus city und highway fuel economy durchschnittlichen Verbrauch berechnen"
   ]
  },
  {
   "cell_type": "code",
   "execution_count": 421,
   "metadata": {
    "colab": {
     "base_uri": "https://localhost:8080/"
    },
    "executionInfo": {
     "elapsed": 6,
     "status": "ok",
     "timestamp": 1715945631667,
     "user": {
      "displayName": "Allegra Trepte",
      "userId": "01866021477617883858"
     },
     "user_tz": -120
    },
    "id": "HX_xkeYfnrmX",
    "outputId": "6f14baa1-09eb-4ffb-edfc-9ebbfff46018",
    "tags": []
   },
   "outputs": [
    {
     "name": "stderr",
     "output_type": "stream",
     "text": [
      "/var/folders/kp/zxdhgy711jnb_bngbg987tt80000gn/T/ipykernel_80200/2809891329.py:2: SettingWithCopyWarning: \n",
      "A value is trying to be set on a copy of a slice from a DataFrame.\n",
      "Try using .loc[row_indexer,col_indexer] = value instead\n",
      "\n",
      "See the caveats in the documentation: https://pandas.pydata.org/pandas-docs/stable/user_guide/indexing.html#returning-a-view-versus-a-copy\n",
      "  df_clean[\"average_fuel_economy\"] = (df[\"city_fuel_economy\"] + df[\"highway_fuel_economy\"]) / 2\n"
     ]
    }
   ],
   "source": [
    "# Neue Spalte mit durchschnittlichem Verbrauch aus city_fuel_economy und highway_fuel_economy\n",
    "df_clean[\"average_fuel_economy\"] = (df[\"city_fuel_economy\"] + df[\"highway_fuel_economy\"]) / 2\n",
    "df_clean = df_clean.drop([\"city_fuel_economy\", \"highway_fuel_economy\"], axis = 1)"
   ]
  },
  {
   "cell_type": "code",
   "execution_count": 422,
   "metadata": {
    "colab": {
     "base_uri": "https://localhost:8080/",
     "height": 486
    },
    "executionInfo": {
     "elapsed": 941,
     "status": "ok",
     "timestamp": 1715945632604,
     "user": {
      "displayName": "Allegra Trepte",
      "userId": "01866021477617883858"
     },
     "user_tz": -120
    },
    "id": "fOQJ_u-Pn6ff",
    "outputId": "7c17d0d4-4210-497c-c879-7aa392bd4698",
    "tags": []
   },
   "outputs": [
    {
     "name": "stderr",
     "output_type": "stream",
     "text": [
      "/opt/anaconda3/lib/python3.11/site-packages/seaborn/_oldcore.py:1119: FutureWarning: use_inf_as_na option is deprecated and will be removed in a future version. Convert inf values to NaN before operating instead.\n",
      "  with pd.option_context('mode.use_inf_as_na', True):\n"
     ]
    },
    {
     "data": {
      "image/png": "[encoded data removed]",
      "text/plain": [
       "<Figure size 600x300 with 1 Axes>"
      ]
     },
     "metadata": {},
     "output_type": "display_data"
    }
   ],
   "source": [
    "# Histogramm des durchschnittlichen Verbrauchs\n",
    "plt.figure(figsize=(6, 3))\n",
    "sns.histplot(df_clean['average_fuel_economy'], kde=True, bins=30, color='blue')\n",
    "plt.title('Histogramm des durchschnittlichen Verbrauchs')\n",
    "plt.xlabel('durchschnittlicher Verbrauch')\n",
    "plt.ylabel('Häufigkeit')\n",
    "plt.grid(True)\n",
    "plt.show()"
   ]
  },
  {
   "cell_type": "markdown",
   "metadata": {
    "tags": []
   },
   "source": [
    "#### Year und listed_date zu age\n",
    "Das Alter des Autos wird aus der Differenz zwischen listed date (wann wird Auto angeboten) und year berechnet."
   ]
  },
  {
   "cell_type": "code",
   "execution_count": 427,
   "metadata": {
    "tags": []
   },
   "outputs": [],
   "source": [
    "# Datumswerte in ein Datumsformat konvertieren\n",
    "df_clean[\"listed_date\"] = pd.to_datetime(df_clean[\"listed_date\"])\n",
    "\n",
    "# Jahr extrahieren und als Integer speichern\n",
    "df_clean[\"listed_date\"] = df_clean[\"listed_date\"].dt.year.astype(int)"
   ]
  },
  {
   "cell_type": "code",
   "execution_count": 429,
   "metadata": {
    "tags": []
   },
   "outputs": [],
   "source": [
    "#Variable Alter erstellen\n",
    "df_clean[\"age\"]= df_clean[\"listed_date\"]- df_clean[\"year\"]\n",
    "\n",
    "#Spalten listed_date und year löschen\n",
    "del(df_clean[\"listed_date\"])\n",
    "del(df_clean[\"year\"])"
   ]
  },
  {
   "cell_type": "code",
   "execution_count": 430,
   "metadata": {
    "tags": []
   },
   "outputs": [
    {
     "data": {
      "text/plain": [
       "count    78103.000000\n",
       "mean         2.131071\n",
       "std          3.509513\n",
       "min         -1.000000\n",
       "25%          0.000000\n",
       "50%          1.000000\n",
       "75%          3.000000\n",
       "max         36.000000\n",
       "Name: age, dtype: float64"
      ]
     },
     "execution_count": 430,
     "metadata": {},
     "output_type": "execute_result"
    }
   ],
   "source": [
    "#Variable age erkunden\n",
    "df_clean[\"age\"].describe()"
   ]
  },
  {
   "cell_type": "code",
   "execution_count": 432,
   "metadata": {
    "tags": []
   },
   "outputs": [
    {
     "data": {
      "text/html": [
       "<div>\n",
       "<style scoped>\n",
       "    .dataframe tbody tr th:only-of-type {\n",
       "        vertical-align: middle;\n",
       "    }\n",
       "\n",
       "    .dataframe tbody tr th {\n",
       "        vertical-align: top;\n",
       "    }\n",
       "\n",
       "    .dataframe thead th {\n",
       "        text-align: right;\n",
       "    }\n",
       "</style>\n",
       "<table border=\"1\" class=\"dataframe\">\n",
       "  <thead>\n",
       "    <tr style=\"text-align: right;\">\n",
       "      <th></th>\n",
       "      <th>body_type</th>\n",
       "      <th>fuel_type</th>\n",
       "      <th>horsepower</th>\n",
       "      <th>make_name</th>\n",
       "      <th>mileage</th>\n",
       "      <th>model_name</th>\n",
       "      <th>price</th>\n",
       "      <th>transmission</th>\n",
       "      <th>wheel_system_display</th>\n",
       "      <th>average_fuel_economy</th>\n",
       "      <th>age</th>\n",
       "    </tr>\n",
       "  </thead>\n",
       "  <tbody>\n",
       "    <tr>\n",
       "      <th>29</th>\n",
       "      <td>SUV / Crossover</td>\n",
       "      <td>Gasoline</td>\n",
       "      <td>180.0</td>\n",
       "      <td>Jeep</td>\n",
       "      <td>0.0</td>\n",
       "      <td>Compass</td>\n",
       "      <td>26111.0</td>\n",
       "      <td>A</td>\n",
       "      <td>Four-Wheel Drive</td>\n",
       "      <td>26.0</td>\n",
       "      <td>-1</td>\n",
       "    </tr>\n",
       "    <tr>\n",
       "      <th>32</th>\n",
       "      <td>Sedan</td>\n",
       "      <td>Gasoline</td>\n",
       "      <td>180.0</td>\n",
       "      <td>Kia</td>\n",
       "      <td>17.0</td>\n",
       "      <td>K5</td>\n",
       "      <td>24610.0</td>\n",
       "      <td>A</td>\n",
       "      <td>Front-Wheel Drive</td>\n",
       "      <td>32.0</td>\n",
       "      <td>-1</td>\n",
       "    </tr>\n",
       "    <tr>\n",
       "      <th>38</th>\n",
       "      <td>SUV / Crossover</td>\n",
       "      <td>Gasoline</td>\n",
       "      <td>147.0</td>\n",
       "      <td>Kia</td>\n",
       "      <td>3.0</td>\n",
       "      <td>Soul</td>\n",
       "      <td>22040.0</td>\n",
       "      <td>A</td>\n",
       "      <td>Front-Wheel Drive</td>\n",
       "      <td>30.5</td>\n",
       "      <td>-1</td>\n",
       "    </tr>\n",
       "    <tr>\n",
       "      <th>43</th>\n",
       "      <td>Minivan</td>\n",
       "      <td>Gasoline</td>\n",
       "      <td>276.0</td>\n",
       "      <td>Kia</td>\n",
       "      <td>14.0</td>\n",
       "      <td>Sedona</td>\n",
       "      <td>30220.0</td>\n",
       "      <td>A</td>\n",
       "      <td>Front-Wheel Drive</td>\n",
       "      <td>21.0</td>\n",
       "      <td>-1</td>\n",
       "    </tr>\n",
       "    <tr>\n",
       "      <th>52</th>\n",
       "      <td>Pickup Truck</td>\n",
       "      <td>Gasoline</td>\n",
       "      <td>395.0</td>\n",
       "      <td>RAM</td>\n",
       "      <td>21.0</td>\n",
       "      <td>1500</td>\n",
       "      <td>33125.0</td>\n",
       "      <td>A</td>\n",
       "      <td>Four-Wheel Drive</td>\n",
       "      <td>18.0</td>\n",
       "      <td>-1</td>\n",
       "    </tr>\n",
       "    <tr>\n",
       "      <th>...</th>\n",
       "      <td>...</td>\n",
       "      <td>...</td>\n",
       "      <td>...</td>\n",
       "      <td>...</td>\n",
       "      <td>...</td>\n",
       "      <td>...</td>\n",
       "      <td>...</td>\n",
       "      <td>...</td>\n",
       "      <td>...</td>\n",
       "      <td>...</td>\n",
       "      <td>...</td>\n",
       "    </tr>\n",
       "    <tr>\n",
       "      <th>99920</th>\n",
       "      <td>Sedan</td>\n",
       "      <td>Hybrid</td>\n",
       "      <td>121.0</td>\n",
       "      <td>Toyota</td>\n",
       "      <td>4.0</td>\n",
       "      <td>Corolla Hybrid</td>\n",
       "      <td>24644.0</td>\n",
       "      <td>CVT</td>\n",
       "      <td>Front-Wheel Drive</td>\n",
       "      <td>52.5</td>\n",
       "      <td>-1</td>\n",
       "    </tr>\n",
       "    <tr>\n",
       "      <th>99922</th>\n",
       "      <td>SUV / Crossover</td>\n",
       "      <td>Gasoline</td>\n",
       "      <td>138.0</td>\n",
       "      <td>Chevrolet</td>\n",
       "      <td>5.0</td>\n",
       "      <td>Trax</td>\n",
       "      <td>23510.0</td>\n",
       "      <td>A</td>\n",
       "      <td>All-Wheel Drive</td>\n",
       "      <td>26.5</td>\n",
       "      <td>-1</td>\n",
       "    </tr>\n",
       "    <tr>\n",
       "      <th>99937</th>\n",
       "      <td>Hatchback</td>\n",
       "      <td>Gasoline</td>\n",
       "      <td>98.0</td>\n",
       "      <td>Chevrolet</td>\n",
       "      <td>0.0</td>\n",
       "      <td>Spark</td>\n",
       "      <td>15495.0</td>\n",
       "      <td>A</td>\n",
       "      <td>Front-Wheel Drive</td>\n",
       "      <td>34.0</td>\n",
       "      <td>-1</td>\n",
       "    </tr>\n",
       "    <tr>\n",
       "      <th>99940</th>\n",
       "      <td>Hatchback</td>\n",
       "      <td>Gasoline</td>\n",
       "      <td>98.0</td>\n",
       "      <td>Chevrolet</td>\n",
       "      <td>0.0</td>\n",
       "      <td>Spark</td>\n",
       "      <td>15890.0</td>\n",
       "      <td>A</td>\n",
       "      <td>Front-Wheel Drive</td>\n",
       "      <td>34.0</td>\n",
       "      <td>-1</td>\n",
       "    </tr>\n",
       "    <tr>\n",
       "      <th>99957</th>\n",
       "      <td>SUV / Crossover</td>\n",
       "      <td>Gasoline</td>\n",
       "      <td>355.0</td>\n",
       "      <td>Chevrolet</td>\n",
       "      <td>3.0</td>\n",
       "      <td>Tahoe</td>\n",
       "      <td>63900.0</td>\n",
       "      <td>A</td>\n",
       "      <td>Four-Wheel Drive</td>\n",
       "      <td>18.0</td>\n",
       "      <td>-1</td>\n",
       "    </tr>\n",
       "  </tbody>\n",
       "</table>\n",
       "<p>6813 rows × 11 columns</p>\n",
       "</div>"
      ],
      "text/plain": [
       "             body_type fuel_type  horsepower  make_name  mileage  \\\n",
       "29     SUV / Crossover  Gasoline       180.0       Jeep      0.0   \n",
       "32               Sedan  Gasoline       180.0        Kia     17.0   \n",
       "38     SUV / Crossover  Gasoline       147.0        Kia      3.0   \n",
       "43             Minivan  Gasoline       276.0        Kia     14.0   \n",
       "52        Pickup Truck  Gasoline       395.0        RAM     21.0   \n",
       "...                ...       ...         ...        ...      ...   \n",
       "99920            Sedan    Hybrid       121.0     Toyota      4.0   \n",
       "99922  SUV / Crossover  Gasoline       138.0  Chevrolet      5.0   \n",
       "99937        Hatchback  Gasoline        98.0  Chevrolet      0.0   \n",
       "99940        Hatchback  Gasoline        98.0  Chevrolet      0.0   \n",
       "99957  SUV / Crossover  Gasoline       355.0  Chevrolet      3.0   \n",
       "\n",
       "           model_name    price transmission wheel_system_display  \\\n",
       "29            Compass  26111.0            A     Four-Wheel Drive   \n",
       "32                 K5  24610.0            A    Front-Wheel Drive   \n",
       "38               Soul  22040.0            A    Front-Wheel Drive   \n",
       "43             Sedona  30220.0            A    Front-Wheel Drive   \n",
       "52               1500  33125.0            A     Four-Wheel Drive   \n",
       "...               ...      ...          ...                  ...   \n",
       "99920  Corolla Hybrid  24644.0          CVT    Front-Wheel Drive   \n",
       "99922            Trax  23510.0            A      All-Wheel Drive   \n",
       "99937           Spark  15495.0            A    Front-Wheel Drive   \n",
       "99940           Spark  15890.0            A    Front-Wheel Drive   \n",
       "99957           Tahoe  63900.0            A     Four-Wheel Drive   \n",
       "\n",
       "       average_fuel_economy  age  \n",
       "29                     26.0   -1  \n",
       "32                     32.0   -1  \n",
       "38                     30.5   -1  \n",
       "43                     21.0   -1  \n",
       "52                     18.0   -1  \n",
       "...                     ...  ...  \n",
       "99920                  52.5   -1  \n",
       "99922                  26.5   -1  \n",
       "99937                  34.0   -1  \n",
       "99940                  34.0   -1  \n",
       "99957                  18.0   -1  \n",
       "\n",
       "[6813 rows x 11 columns]"
      ]
     },
     "execution_count": 432,
     "metadata": {},
     "output_type": "execute_result"
    }
   ],
   "source": [
    "#Einträge mit Wert -1 anschauen\n",
    "df_clean.loc[df_clean[\"age\"]==-1]"
   ]
  },
  {
   "cell_type": "code",
   "execution_count": 433,
   "metadata": {
    "tags": []
   },
   "outputs": [],
   "source": [
    "#Werte mit -1 entfernen\n",
    "df_clean = df_clean.drop(df_clean[df_clean['age'] == -1].index)"
   ]
  },
  {
   "cell_type": "markdown",
   "metadata": {
    "tags": []
   },
   "source": [
    "### 4.5) Werte eines Features zusammenfassen und neue Spalte erstellen"
   ]
  },
  {
   "cell_type": "markdown",
   "metadata": {
    "id": "HG7pHze-oUN2",
    "tags": []
   },
   "source": [
    "#### Transmission zu Manual\n",
    "Es wird eine neue Variable manual erstellt, welche je nach Getriebeart der Variable \"transmission\" 0 (Automatik-Getriebe) oder 1 (Schalt-Getriebe) ist."
   ]
  },
  {
   "cell_type": "code",
   "execution_count": 442,
   "metadata": {
    "executionInfo": {
     "elapsed": 6,
     "status": "ok",
     "timestamp": 1715945632604,
     "user": {
      "displayName": "Allegra Trepte",
      "userId": "01866021477617883858"
     },
     "user_tz": -120
    },
    "id": "jwPqLnRDohse",
    "tags": []
   },
   "outputs": [],
   "source": [
    "# Umwandeln in eine neue Spalte \"Manual\": 1=Manuell oder 0=nicht manuell (automatisch)\n",
    "df_clean[\"manual\"] = df_clean[\"transmission\"].apply(lambda x: 1 if x == \"M\" else 0)\n",
    "df_clean[[\"manual\", \"transmission\"]].loc[df_clean[\"transmission\"]==\"A\"]\n",
    "# Spalte \"Transmission\" löschen\n",
    "df_clean = df_clean.drop([\"transmission\"], axis = 1)"
   ]
  },
  {
   "cell_type": "markdown",
   "metadata": {
    "id": "FF0usq6xMF2U"
   },
   "source": [
    "Aus der Variable Year und Listed Date eine neue Variable Age erstellen"
   ]
  },
  {
   "cell_type": "markdown",
   "metadata": {
    "id": "n65sI8p6pkJK"
   },
   "source": [
    "## 5) df_clean exportieren"
   ]
  },
  {
   "cell_type": "code",
   "execution_count": 446,
   "metadata": {
    "executionInfo": {
     "elapsed": 329,
     "status": "ok",
     "timestamp": 1715945633399,
     "user": {
      "displayName": "Allegra Trepte",
      "userId": "01866021477617883858"
     },
     "user_tz": -120
    },
    "id": "80v1xxbZppI7",
    "tags": []
   },
   "outputs": [],
   "source": [
    "# Pfad in deinem Google Drive\n",
    "filename = \"clean_data.csv\"\n",
    "\n",
    "# DataFrame als CSV speichern\n",
    "df_clean.to_csv(relative_path + filename, index=False)"
   ]
  }
 ],
 "metadata": {
  "colab": {
   "authorship_tag": "ABX9TyNzcGMm5n8v/ziMuC3PrB7v",
   "provenance": []
  },
  "kernelspec": {
   "display_name": "Python 3 (ipykernel)",
   "language": "python",
   "name": "python3"
  },
  "language_info": {
   "codemirror_mode": {
    "name": "ipython",
    "version": 3
   },
   "file_extension": ".py",
   "mimetype": "text/x-python",
   "name": "python",
   "nbconvert_exporter": "python",
   "pygments_lexer": "ipython3",
   "version": "3.11.7"
  }
 },
 "nbformat": 4,
 "nbformat_minor": 4
}
