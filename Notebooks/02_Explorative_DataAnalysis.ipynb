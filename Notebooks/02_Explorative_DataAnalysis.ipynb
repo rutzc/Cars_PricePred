{
 "cells": [
  {
   "cell_type": "markdown",
   "metadata": {
    "tags": []
   },
   "source": [
    "### _Capstone Projekt - Wiederverkaufswert von Gebrauchtwagen vorhersagen_"
   ]
  },
  {
   "cell_type": "markdown",
   "metadata": {},
   "source": [
    "# **02_Erstes exploratives Analysieren der Daten**"
   ]
  },
  {
   "cell_type": "markdown",
   "metadata": {
    "id": "dgK6OlTFhcx9"
   },
   "source": [
    "## 1) Libraries importieren"
   ]
  },
  {
   "cell_type": "code",
   "execution_count": 7,
   "metadata": {
    "id": "nPXkIj8kcVXu",
    "tags": []
   },
   "outputs": [],
   "source": [
    "# Libraries importieren\n",
    "import pandas as pd\n",
    "import numpy as np\n",
    "import matplotlib.pyplot as plt\n",
    "import seaborn as sns"
   ]
  },
  {
   "cell_type": "markdown",
   "metadata": {
    "id": "H3NuIRqecf1x"
   },
   "source": [
    "## 2) Daten einlesen und einen ersten Überblick bekommen"
   ]
  },
  {
   "cell_type": "markdown",
   "metadata": {
    "tags": []
   },
   "source": [
    "Sample-Datensatz einlesen."
   ]
  },
  {
   "cell_type": "code",
   "execution_count": 16,
   "metadata": {
    "colab": {
     "base_uri": "https://localhost:8080/",
     "height": 414
    },
    "id": "ppUJB3ACckh4",
    "outputId": "41b5acf4-2be0-4543-a204-b4155a520db0",
    "tags": []
   },
   "outputs": [
    {
     "name": "stderr",
     "output_type": "stream",
     "text": [
      "/var/folders/kp/zxdhgy711jnb_bngbg987tt80000gn/T/ipykernel_13855/1999135753.py:2: DtypeWarning: Columns (12) have mixed types. Specify dtype option on import or set low_memory=False.\n",
      "  df = pd.read_csv(\"../Data/sample_data_100k.csv\")\n"
     ]
    },
    {
     "data": {
      "text/html": [
       "<div>\n",
       "<style scoped>\n",
       "    .dataframe tbody tr th:only-of-type {\n",
       "        vertical-align: middle;\n",
       "    }\n",
       "\n",
       "    .dataframe tbody tr th {\n",
       "        vertical-align: top;\n",
       "    }\n",
       "\n",
       "    .dataframe thead th {\n",
       "        text-align: right;\n",
       "    }\n",
       "</style>\n",
       "<table border=\"1\" class=\"dataframe\">\n",
       "  <thead>\n",
       "    <tr style=\"text-align: right;\">\n",
       "      <th></th>\n",
       "      <th>Unnamed: 0</th>\n",
       "      <th>vin</th>\n",
       "      <th>back_legroom</th>\n",
       "      <th>bed</th>\n",
       "      <th>bed_height</th>\n",
       "      <th>bed_length</th>\n",
       "      <th>body_type</th>\n",
       "      <th>cabin</th>\n",
       "      <th>city</th>\n",
       "      <th>city_fuel_economy</th>\n",
       "      <th>...</th>\n",
       "      <th>transmission</th>\n",
       "      <th>transmission_display</th>\n",
       "      <th>trimId</th>\n",
       "      <th>trim_name</th>\n",
       "      <th>vehicle_damage_category</th>\n",
       "      <th>wheel_system</th>\n",
       "      <th>wheel_system_display</th>\n",
       "      <th>wheelbase</th>\n",
       "      <th>width</th>\n",
       "      <th>year</th>\n",
       "    </tr>\n",
       "  </thead>\n",
       "  <tbody>\n",
       "    <tr>\n",
       "      <th>0</th>\n",
       "      <td>0</td>\n",
       "      <td>SALYK2FV7LA250497</td>\n",
       "      <td>37.1 in</td>\n",
       "      <td>NaN</td>\n",
       "      <td>NaN</td>\n",
       "      <td>NaN</td>\n",
       "      <td>SUV / Crossover</td>\n",
       "      <td>NaN</td>\n",
       "      <td>San Juan</td>\n",
       "      <td>NaN</td>\n",
       "      <td>...</td>\n",
       "      <td>A</td>\n",
       "      <td>8-Speed Automatic Overdrive</td>\n",
       "      <td>t85617</td>\n",
       "      <td>P340 R-Dynamic S AWD</td>\n",
       "      <td>NaN</td>\n",
       "      <td>AWD</td>\n",
       "      <td>All-Wheel Drive</td>\n",
       "      <td>113.1 in</td>\n",
       "      <td>84.4 in</td>\n",
       "      <td>2020</td>\n",
       "    </tr>\n",
       "    <tr>\n",
       "      <th>1</th>\n",
       "      <td>1</td>\n",
       "      <td>1C3CCCAB3GN124951</td>\n",
       "      <td>37.6 in</td>\n",
       "      <td>NaN</td>\n",
       "      <td>NaN</td>\n",
       "      <td>NaN</td>\n",
       "      <td>Sedan</td>\n",
       "      <td>NaN</td>\n",
       "      <td>Bronx</td>\n",
       "      <td>23.0</td>\n",
       "      <td>...</td>\n",
       "      <td>A</td>\n",
       "      <td>9-Speed Automatic</td>\n",
       "      <td>t58595</td>\n",
       "      <td>Limited Sedan FWD</td>\n",
       "      <td>NaN</td>\n",
       "      <td>FWD</td>\n",
       "      <td>Front-Wheel Drive</td>\n",
       "      <td>108 in</td>\n",
       "      <td>73.6 in</td>\n",
       "      <td>2016</td>\n",
       "    </tr>\n",
       "    <tr>\n",
       "      <th>2</th>\n",
       "      <td>2</td>\n",
       "      <td>ZACNJBC11KPK05419</td>\n",
       "      <td>35.1 in</td>\n",
       "      <td>NaN</td>\n",
       "      <td>NaN</td>\n",
       "      <td>NaN</td>\n",
       "      <td>SUV / Crossover</td>\n",
       "      <td>NaN</td>\n",
       "      <td>Bayamon</td>\n",
       "      <td>NaN</td>\n",
       "      <td>...</td>\n",
       "      <td>A</td>\n",
       "      <td>9-Speed Automatic Overdrive</td>\n",
       "      <td>t83346</td>\n",
       "      <td>Trailhawk 4WD</td>\n",
       "      <td>NaN</td>\n",
       "      <td>4WD</td>\n",
       "      <td>Four-Wheel Drive</td>\n",
       "      <td>101.2 in</td>\n",
       "      <td>79.6 in</td>\n",
       "      <td>2019</td>\n",
       "    </tr>\n",
       "    <tr>\n",
       "      <th>3</th>\n",
       "      <td>3</td>\n",
       "      <td>1C4RDJDG2JC150071</td>\n",
       "      <td>38.6 in</td>\n",
       "      <td>NaN</td>\n",
       "      <td>NaN</td>\n",
       "      <td>NaN</td>\n",
       "      <td>SUV / Crossover</td>\n",
       "      <td>NaN</td>\n",
       "      <td>Bronx</td>\n",
       "      <td>18.0</td>\n",
       "      <td>...</td>\n",
       "      <td>A</td>\n",
       "      <td>8-Speed Automatic</td>\n",
       "      <td>t75321</td>\n",
       "      <td>GT AWD</td>\n",
       "      <td>NaN</td>\n",
       "      <td>AWD</td>\n",
       "      <td>All-Wheel Drive</td>\n",
       "      <td>119.8 in</td>\n",
       "      <td>85.5 in</td>\n",
       "      <td>2018</td>\n",
       "    </tr>\n",
       "    <tr>\n",
       "      <th>4</th>\n",
       "      <td>4</td>\n",
       "      <td>2GNALBEK2G6249104</td>\n",
       "      <td>39.9 in</td>\n",
       "      <td>NaN</td>\n",
       "      <td>NaN</td>\n",
       "      <td>NaN</td>\n",
       "      <td>SUV / Crossover</td>\n",
       "      <td>NaN</td>\n",
       "      <td>Bay Shore</td>\n",
       "      <td>NaN</td>\n",
       "      <td>...</td>\n",
       "      <td>A</td>\n",
       "      <td>6-Speed Automatic Overdrive</td>\n",
       "      <td>t58666</td>\n",
       "      <td>LT FWD</td>\n",
       "      <td>NaN</td>\n",
       "      <td>FWD</td>\n",
       "      <td>Front-Wheel Drive</td>\n",
       "      <td>112.5 in</td>\n",
       "      <td>72.5 in</td>\n",
       "      <td>2016</td>\n",
       "    </tr>\n",
       "  </tbody>\n",
       "</table>\n",
       "<p>5 rows × 67 columns</p>\n",
       "</div>"
      ],
      "text/plain": [
       "   Unnamed: 0                vin back_legroom  bed bed_height bed_length  \\\n",
       "0           0  SALYK2FV7LA250497      37.1 in  NaN        NaN        NaN   \n",
       "1           1  1C3CCCAB3GN124951      37.6 in  NaN        NaN        NaN   \n",
       "2           2  ZACNJBC11KPK05419      35.1 in  NaN        NaN        NaN   \n",
       "3           3  1C4RDJDG2JC150071      38.6 in  NaN        NaN        NaN   \n",
       "4           4  2GNALBEK2G6249104      39.9 in  NaN        NaN        NaN   \n",
       "\n",
       "         body_type cabin       city  city_fuel_economy  ...  transmission  \\\n",
       "0  SUV / Crossover   NaN   San Juan                NaN  ...             A   \n",
       "1            Sedan   NaN      Bronx               23.0  ...             A   \n",
       "2  SUV / Crossover   NaN    Bayamon                NaN  ...             A   \n",
       "3  SUV / Crossover   NaN      Bronx               18.0  ...             A   \n",
       "4  SUV / Crossover   NaN  Bay Shore                NaN  ...             A   \n",
       "\n",
       "          transmission_display  trimId             trim_name  \\\n",
       "0  8-Speed Automatic Overdrive  t85617  P340 R-Dynamic S AWD   \n",
       "1            9-Speed Automatic  t58595     Limited Sedan FWD   \n",
       "2  9-Speed Automatic Overdrive  t83346         Trailhawk 4WD   \n",
       "3            8-Speed Automatic  t75321                GT AWD   \n",
       "4  6-Speed Automatic Overdrive  t58666                LT FWD   \n",
       "\n",
       "  vehicle_damage_category  wheel_system wheel_system_display wheelbase  \\\n",
       "0                     NaN           AWD      All-Wheel Drive  113.1 in   \n",
       "1                     NaN           FWD    Front-Wheel Drive    108 in   \n",
       "2                     NaN           4WD     Four-Wheel Drive  101.2 in   \n",
       "3                     NaN           AWD      All-Wheel Drive  119.8 in   \n",
       "4                     NaN           FWD    Front-Wheel Drive  112.5 in   \n",
       "\n",
       "     width  year  \n",
       "0  84.4 in  2020  \n",
       "1  73.6 in  2016  \n",
       "2  79.6 in  2019  \n",
       "3  85.5 in  2018  \n",
       "4  72.5 in  2016  \n",
       "\n",
       "[5 rows x 67 columns]"
      ]
     },
     "execution_count": 16,
     "metadata": {},
     "output_type": "execute_result"
    }
   ],
   "source": [
    "# Daten importieren\n",
    "df = pd.read_csv(\"../Data/sample_data_100k.csv\")\n",
    "\n",
    "# Daten inspizieren\n",
    "df.head()"
   ]
  },
  {
   "cell_type": "code",
   "execution_count": 19,
   "metadata": {
    "colab": {
     "base_uri": "https://localhost:8080/"
    },
    "id": "3Nw-VeSxh1es",
    "outputId": "f272d171-559e-4908-9c0c-65fed41c62ab",
    "tags": []
   },
   "outputs": [
    {
     "name": "stdout",
     "output_type": "stream",
     "text": [
      "<class 'pandas.core.frame.DataFrame'>\n",
      "RangeIndex: 100040 entries, 0 to 100039\n",
      "Data columns (total 67 columns):\n",
      " #   Column                   Non-Null Count   Dtype  \n",
      "---  ------                   --------------   -----  \n",
      " 0   Unnamed: 0               100040 non-null  int64  \n",
      " 1   vin                      100040 non-null  object \n",
      " 2   back_legroom             94722 non-null   object \n",
      " 3   bed                      659 non-null     object \n",
      " 4   bed_height               14110 non-null   object \n",
      " 5   bed_length               14110 non-null   object \n",
      " 6   body_type                99607 non-null   object \n",
      " 7   cabin                    2058 non-null    object \n",
      " 8   city                     100040 non-null  object \n",
      " 9   city_fuel_economy        83760 non-null   float64\n",
      " 10  combine_fuel_economy     0 non-null       float64\n",
      " 11  daysonmarket             100040 non-null  int64  \n",
      " 12  dealer_zip               100040 non-null  object \n",
      " 13  description              97428 non-null   object \n",
      " 14  engine_cylinders         96726 non-null   object \n",
      " 15  engine_displacement      94274 non-null   float64\n",
      " 16  engine_type              96726 non-null   object \n",
      " 17  exterior_color           98260 non-null   object \n",
      " 18  fleet                    52414 non-null   object \n",
      " 19  frame_damaged            52414 non-null   object \n",
      " 20  franchise_dealer         100040 non-null  bool   \n",
      " 21  franchise_make           80849 non-null   object \n",
      " 22  front_legroom            94722 non-null   object \n",
      " 23  fuel_tank_volume         94722 non-null   object \n",
      " 24  fuel_type                97324 non-null   object \n",
      " 25  has_accidents            52414 non-null   object \n",
      " 26  height                   94722 non-null   object \n",
      " 27  highway_fuel_economy     83760 non-null   float64\n",
      " 28  horsepower               94274 non-null   float64\n",
      " 29  interior_color           87150 non-null   object \n",
      " 30  isCab                    52414 non-null   object \n",
      " 31  is_certified             0 non-null       float64\n",
      " 32  is_cpo                   6117 non-null    object \n",
      " 33  is_new                   100040 non-null  bool   \n",
      " 34  is_oemcpo                4556 non-null    object \n",
      " 35  latitude                 100040 non-null  float64\n",
      " 36  length                   94722 non-null   object \n",
      " 37  listed_date              100040 non-null  object \n",
      " 38  listing_color            100040 non-null  object \n",
      " 39  listing_id               100040 non-null  int64  \n",
      " 40  longitude                100040 non-null  float64\n",
      " 41  main_picture_url         87579 non-null   object \n",
      " 42  major_options            93381 non-null   object \n",
      " 43  make_name                100040 non-null  object \n",
      " 44  maximum_seating          94722 non-null   object \n",
      " 45  mileage                  95199 non-null   float64\n",
      " 46  model_name               100040 non-null  object \n",
      " 47  owner_count              49316 non-null   float64\n",
      " 48  power                    83915 non-null   object \n",
      " 49  price                    100040 non-null  float64\n",
      " 50  salvage                  52414 non-null   object \n",
      " 51  savings_amount           100040 non-null  int64  \n",
      " 52  seller_rating            98636 non-null   float64\n",
      " 53  sp_id                    100035 non-null  float64\n",
      " 54  sp_name                  100040 non-null  object \n",
      " 55  theft_title              52414 non-null   object \n",
      " 56  torque                   82663 non-null   object \n",
      " 57  transmission             97824 non-null   object \n",
      " 58  transmission_display     97824 non-null   object \n",
      " 59  trimId                   96164 non-null   object \n",
      " 60  trim_name                96155 non-null   object \n",
      " 61  vehicle_damage_category  0 non-null       float64\n",
      " 62  wheel_system             95121 non-null   object \n",
      " 63  wheel_system_display     95121 non-null   object \n",
      " 64  wheelbase                94722 non-null   object \n",
      " 65  width                    94722 non-null   object \n",
      " 66  year                     100040 non-null  int64  \n",
      "dtypes: bool(2), float64(14), int64(5), object(46)\n",
      "memory usage: 49.8+ MB\n"
     ]
    }
   ],
   "source": [
    "# Informationen zu den Features erhalten\n",
    "df.info()"
   ]
  },
  {
   "cell_type": "markdown",
   "metadata": {
    "id": "qB1CSjoHinzj"
   },
   "source": [
    "## 3) Erste Analyse und Vertrautmachen mit einzelnen Variablen und Zusammenhängen (Ergänzend zu logischen Überlegungen zu Variablen (vgl. schriftliche Dokumentation) und unserem Tableau-File)"
   ]
  },
  {
   "cell_type": "markdown",
   "metadata": {},
   "source": [
    "Zusätzlich zu unserer Analyse in Tableau, schauen wir uns auch hier sinnvolle Features noch etwas genauer an und beginnen damit die Daten an manchen Stellen bereits zu bereinigen, sodass wir passende Analysen mit diesen Daten durchführen können."
   ]
  },
  {
   "cell_type": "markdown",
   "metadata": {
    "id": "NKPuVpJiFzWb",
    "tags": []
   },
   "source": [
    "#### Duplikate ausschliessen (falls vorhanden)"
   ]
  },
  {
   "cell_type": "code",
   "execution_count": 24,
   "metadata": {
    "colab": {
     "base_uri": "https://localhost:8080/"
    },
    "id": "HL2WrJ4oFywG",
    "outputId": "f6d8f755-96ed-4aec-9070-4615581e4b42",
    "tags": []
   },
   "outputs": [
    {
     "name": "stdout",
     "output_type": "stream",
     "text": [
      "Anzahl der Duplikate: 0\n"
     ]
    }
   ],
   "source": [
    "duplicate_rows = df.duplicated()\n",
    "print(\"Anzahl der Duplikate:\", duplicate_rows.sum())"
   ]
  },
  {
   "cell_type": "markdown",
   "metadata": {
    "tags": []
   },
   "source": [
    "**Erkenntnis:** Keine Duplikate"
   ]
  },
  {
   "cell_type": "markdown",
   "metadata": {
    "id": "_K8MRnPZzp8U",
    "tags": []
   },
   "source": [
    "#### Anzahl Null Values Analysieren"
   ]
  },
  {
   "cell_type": "code",
   "execution_count": 57,
   "metadata": {
    "colab": {
     "base_uri": "https://localhost:8080/"
    },
    "id": "fLIKI43LBdT8",
    "outputId": "40643ea4-a952-46a2-8d37-479642285d64",
    "tags": []
   },
   "outputs": [
    {
     "data": {
      "text/html": [
       "<div>\n",
       "<style scoped>\n",
       "    .dataframe tbody tr th:only-of-type {\n",
       "        vertical-align: middle;\n",
       "    }\n",
       "\n",
       "    .dataframe tbody tr th {\n",
       "        vertical-align: top;\n",
       "    }\n",
       "\n",
       "    .dataframe thead th {\n",
       "        text-align: right;\n",
       "    }\n",
       "</style>\n",
       "<table border=\"1\" class=\"dataframe\">\n",
       "  <thead>\n",
       "    <tr style=\"text-align: right;\">\n",
       "      <th></th>\n",
       "      <th>Missing Values</th>\n",
       "      <th>Percentage</th>\n",
       "    </tr>\n",
       "  </thead>\n",
       "  <tbody>\n",
       "    <tr>\n",
       "      <th>Unnamed: 0</th>\n",
       "      <td>0</td>\n",
       "      <td>0.000000</td>\n",
       "    </tr>\n",
       "    <tr>\n",
       "      <th>vin</th>\n",
       "      <td>0</td>\n",
       "      <td>0.000000</td>\n",
       "    </tr>\n",
       "    <tr>\n",
       "      <th>back_legroom</th>\n",
       "      <td>5318</td>\n",
       "      <td>5.315874</td>\n",
       "    </tr>\n",
       "    <tr>\n",
       "      <th>bed</th>\n",
       "      <td>99381</td>\n",
       "      <td>99.341263</td>\n",
       "    </tr>\n",
       "    <tr>\n",
       "      <th>bed_height</th>\n",
       "      <td>85930</td>\n",
       "      <td>85.895642</td>\n",
       "    </tr>\n",
       "    <tr>\n",
       "      <th>...</th>\n",
       "      <td>...</td>\n",
       "      <td>...</td>\n",
       "    </tr>\n",
       "    <tr>\n",
       "      <th>wheel_system</th>\n",
       "      <td>4919</td>\n",
       "      <td>4.917033</td>\n",
       "    </tr>\n",
       "    <tr>\n",
       "      <th>wheel_system_display</th>\n",
       "      <td>4919</td>\n",
       "      <td>4.917033</td>\n",
       "    </tr>\n",
       "    <tr>\n",
       "      <th>wheelbase</th>\n",
       "      <td>5318</td>\n",
       "      <td>5.315874</td>\n",
       "    </tr>\n",
       "    <tr>\n",
       "      <th>width</th>\n",
       "      <td>5318</td>\n",
       "      <td>5.315874</td>\n",
       "    </tr>\n",
       "    <tr>\n",
       "      <th>year</th>\n",
       "      <td>0</td>\n",
       "      <td>0.000000</td>\n",
       "    </tr>\n",
       "  </tbody>\n",
       "</table>\n",
       "<p>67 rows × 2 columns</p>\n",
       "</div>"
      ],
      "text/plain": [
       "                      Missing Values  Percentage\n",
       "Unnamed: 0                         0    0.000000\n",
       "vin                                0    0.000000\n",
       "back_legroom                    5318    5.315874\n",
       "bed                            99381   99.341263\n",
       "bed_height                     85930   85.895642\n",
       "...                              ...         ...\n",
       "wheel_system                    4919    4.917033\n",
       "wheel_system_display            4919    4.917033\n",
       "wheelbase                       5318    5.315874\n",
       "width                           5318    5.315874\n",
       "year                               0    0.000000\n",
       "\n",
       "[67 rows x 2 columns]"
      ]
     },
     "execution_count": 57,
     "metadata": {},
     "output_type": "execute_result"
    }
   ],
   "source": [
    "# Missing values per column\n",
    "missing_values = df.isnull().sum()\n",
    "\n",
    "# Percentage of missing values per column\n",
    "missing_percentage = (missing_values / len(df)) * 100\n",
    "\n",
    "# Display missing values and percentages\n",
    "missing_info = pd.DataFrame({'Missing Values': missing_values, 'Percentage': missing_percentage})\n",
    "missing_info"
   ]
  },
  {
   "cell_type": "markdown",
   "metadata": {
    "id": "GPYLQcbmyTKl",
    "tags": []
   },
   "source": [
    "#### Preis"
   ]
  },
  {
   "cell_type": "code",
   "execution_count": 60,
   "metadata": {
    "colab": {
     "base_uri": "https://localhost:8080/"
    },
    "id": "PvGmLRkTylrn",
    "outputId": "5b283822-b389-4147-b4fc-0aa7ad80830d",
    "tags": []
   },
   "outputs": [
    {
     "data": {
      "text/plain": [
       "count    1.000400e+05\n",
       "mean     2.990942e+04\n",
       "std      1.982676e+04\n",
       "min      2.990000e+02\n",
       "25%      1.841075e+04\n",
       "50%      2.639000e+04\n",
       "75%      3.815900e+04\n",
       "max      1.599500e+06\n",
       "Name: price, dtype: float64"
      ]
     },
     "execution_count": 60,
     "metadata": {},
     "output_type": "execute_result"
    }
   ],
   "source": [
    "# Statistische Zusammenfassung\n",
    "df['price'].describe()"
   ]
  },
  {
   "cell_type": "code",
   "execution_count": 62,
   "metadata": {
    "colab": {
     "base_uri": "https://localhost:8080/",
     "height": 563
    },
    "id": "WflgXr1Jxrzm",
    "outputId": "84ab3c27-6bf9-4ab2-fad2-0ac36123d3df",
    "scrolled": true,
    "tags": []
   },
   "outputs": [
    {
     "name": "stderr",
     "output_type": "stream",
     "text": [
      "/opt/anaconda3/lib/python3.11/site-packages/seaborn/_oldcore.py:1119: FutureWarning: use_inf_as_na option is deprecated and will be removed in a future version. Convert inf values to NaN before operating instead.\n",
      "  with pd.option_context('mode.use_inf_as_na', True):\n"
     ]
    },
    {
     "data": {
      "image/png": "[encoded data removed]",
      "text/plain": [
       "<Figure size 1000x600 with 1 Axes>"
      ]
     },
     "metadata": {},
     "output_type": "display_data"
    }
   ],
   "source": [
    "# Histogramm der Preise\n",
    "plt.figure(figsize=(10, 6))\n",
    "sns.histplot(df['price'], kde=True, bins=30, color='blue')\n",
    "plt.title('Histogramm der Preisverteilung')\n",
    "plt.xlabel('Preis')\n",
    "plt.ylabel('Häufigkeit')\n",
    "plt.grid(True)\n",
    "plt.show()"
   ]
  },
  {
   "cell_type": "markdown",
   "metadata": {},
   "source": [
    "**Erkenntnis:** Wir müssen beim Preis Outliers entfernen, um Verzerrungen zu vermeiden (Analog Tableau) "
   ]
  },
  {
   "cell_type": "markdown",
   "metadata": {
    "tags": []
   },
   "source": [
    "#### Analyse Zusammenhang Preis und Mileage "
   ]
  },
  {
   "cell_type": "code",
   "execution_count": 66,
   "metadata": {
    "colab": {
     "base_uri": "https://localhost:8080/"
    },
    "id": "RtDTexlfCZH3",
    "outputId": "c69b1d9b-1673-429b-9a02-09602bff332e",
    "tags": []
   },
   "outputs": [
    {
     "data": {
      "text/plain": [
       "count     95199.000000\n",
       "mean      31014.318806\n",
       "std       45345.965747\n",
       "min           0.000000\n",
       "25%           6.000000\n",
       "50%        7904.000000\n",
       "75%       43514.500000\n",
       "max      399578.000000\n",
       "Name: mileage, dtype: float64"
      ]
     },
     "execution_count": 66,
     "metadata": {},
     "output_type": "execute_result"
    }
   ],
   "source": [
    "df[\"mileage\"].describe()"
   ]
  },
  {
   "cell_type": "code",
   "execution_count": 90,
   "metadata": {
    "colab": {
     "base_uri": "https://localhost:8080/",
     "height": 717
    },
    "id": "2B66MXFhyujp",
    "outputId": "8b596c1e-de96-40eb-9066-8cee1336c217",
    "tags": []
   },
   "outputs": [
    {
     "data": {
      "image/png": "[encoded data removed]",
      "text/plain": [
       "<Figure size 1200x800 with 1 Axes>"
      ]
     },
     "metadata": {},
     "output_type": "display_data"
    }
   ],
   "source": [
    "# Scatterplot erstellen\n",
    "plt.figure(figsize=(12, 8))\n",
    "sns.scatterplot(x='mileage', y='price', data=df, alpha=0.6, edgecolor=None, color='darkblue')\n",
    "plt.title('Scatterplot von Preis vs. Mileage')\n",
    "plt.xlabel('Mileage')\n",
    "plt.ylabel('Price')\n",
    "plt.show()"
   ]
  },
  {
   "cell_type": "code",
   "execution_count": 70,
   "metadata": {
    "colab": {
     "base_uri": "https://localhost:8080/",
     "height": 563
    },
    "id": "PC-coL1aCOGG",
    "outputId": "93d2e179-87a6-4baa-8819-c980350a35fa",
    "tags": []
   },
   "outputs": [
    {
     "name": "stderr",
     "output_type": "stream",
     "text": [
      "/opt/anaconda3/lib/python3.11/site-packages/seaborn/_oldcore.py:1119: FutureWarning: use_inf_as_na option is deprecated and will be removed in a future version. Convert inf values to NaN before operating instead.\n",
      "  with pd.option_context('mode.use_inf_as_na', True):\n"
     ]
    },
    {
     "data": {
      "image/png": "[encoded data removed]",
      "text/plain": [
       "<Figure size 1000x600 with 1 Axes>"
      ]
     },
     "metadata": {},
     "output_type": "display_data"
    }
   ],
   "source": [
    "# Histogramm von Mileage (gefahrene km)\n",
    "plt.figure(figsize=(10, 6))\n",
    "sns.histplot(df['mileage'], kde=True, bins=30, color='blue')\n",
    "plt.title('Histogramm der Mileage')\n",
    "plt.xlabel('Mileage')\n",
    "plt.ylabel('Häufigkeit')\n",
    "plt.grid(True)\n",
    "plt.show()"
   ]
  },
  {
   "cell_type": "markdown",
   "metadata": {},
   "source": [
    "**Erkenntnis:** Wie erwartet nimmt Preis bei steigender Mileage ab. Viele Autos mit tiefer Mileage."
   ]
  },
  {
   "cell_type": "markdown",
   "metadata": {
    "tags": []
   },
   "source": [
    "#### Analyse Engine Type und Engine Cylinders"
   ]
  },
  {
   "cell_type": "code",
   "execution_count": 75,
   "metadata": {
    "colab": {
     "base_uri": "https://localhost:8080/"
    },
    "id": "QJVW3rCxBz-S",
    "outputId": "85db4a27-baab-4b47-d0df-0ba4ce5ffef0",
    "tags": []
   },
   "outputs": [
    {
     "name": "stdout",
     "output_type": "stream",
     "text": [
      "<class 'pandas.core.series.Series'>\n",
      "RangeIndex: 100040 entries, 0 to 100039\n",
      "Series name: engine_cylinders\n",
      "Non-Null Count  Dtype \n",
      "--------------  ----- \n",
      "96726 non-null  object\n",
      "dtypes: object(1)\n",
      "memory usage: 781.7+ KB\n",
      "\n",
      "Anzahl gleicher Werte in Spalten engine_cylinders und engine_type: \n"
     ]
    },
    {
     "data": {
      "text/plain": [
       "96726"
      ]
     },
     "execution_count": 75,
     "metadata": {},
     "output_type": "execute_result"
    }
   ],
   "source": [
    "# Analysieren, ob in den Variablen gleiche Werte vorhanden sind (Redundanzen erkennen)\n",
    "df[\"engine_cylinders\"].info()\n",
    "print(\"\\n\" + \"Anzahl gleicher Werte in Spalten engine_cylinders und engine_type: \")\n",
    "(df[\"engine_cylinders\"] ==  df[\"engine_type\"]).sum()"
   ]
  },
  {
   "cell_type": "markdown",
   "metadata": {},
   "source": [
    "**Erkenntnis:** Spalten haben gleichen Inhalt"
   ]
  },
  {
   "cell_type": "markdown",
   "metadata": {},
   "source": [
    "#### Analyse Frame Damaged"
   ]
  },
  {
   "cell_type": "code",
   "execution_count": 55,
   "metadata": {
    "colab": {
     "base_uri": "https://localhost:8080/"
    },
    "id": "E9NEM4zOJTVE",
    "outputId": "0dcca07f-f1fe-4f6d-e418-42c70516cec1"
   },
   "outputs": [
    {
     "name": "stdout",
     "output_type": "stream",
     "text": [
      "Nullwerte: 47626\n"
     ]
    },
    {
     "data": {
      "text/plain": [
       "frame_damaged\n",
       "False    51903\n",
       "True       511\n",
       "Name: count, dtype: int64"
      ]
     },
     "execution_count": 55,
     "metadata": {},
     "output_type": "execute_result"
    }
   ],
   "source": [
    "print(\"Nullwerte: \" + str(df[\"frame_damaged\"].isnull().sum()))\n",
    "df[\"frame_damaged\"].value_counts()"
   ]
  },
  {
   "cell_type": "markdown",
   "metadata": {},
   "source": [
    "**Erkenntnis:** Viele Null-Werte"
   ]
  },
  {
   "cell_type": "markdown",
   "metadata": {},
   "source": [
    "#### Analyse is_new"
   ]
  },
  {
   "cell_type": "code",
   "execution_count": 82,
   "metadata": {
    "colab": {
     "base_uri": "https://localhost:8080/"
    },
    "id": "EYw8HZjBLvfz",
    "outputId": "65a47153-4e82-45ba-8d02-69dd0fcaa7d7",
    "tags": []
   },
   "outputs": [
    {
     "data": {
      "text/plain": [
       "is_new\n",
       "False    50887\n",
       "True     49153\n",
       "Name: count, dtype: int64"
      ]
     },
     "execution_count": 82,
     "metadata": {},
     "output_type": "execute_result"
    }
   ],
   "source": [
    "df[\"is_new\"].value_counts()"
   ]
  },
  {
   "cell_type": "markdown",
   "metadata": {},
   "source": [
    "#### Analyse Torque"
   ]
  },
  {
   "cell_type": "code",
   "execution_count": null,
   "metadata": {
    "colab": {
     "base_uri": "https://localhost:8080/"
    },
    "id": "oPuI6VQnNQCC",
    "outputId": "caf1a04c-e181-40e4-de6a-7774b542ff7f"
   },
   "outputs": [
    {
     "data": {
      "text/plain": [
       "0         332 lb-ft @ 3,500 RPM\n",
       "1         262 lb-ft @ 4,250 RPM\n",
       "2         200 lb-ft @ 1,750 RPM\n",
       "3         260 lb-ft @ 4,000 RPM\n",
       "4         172 lb-ft @ 4,900 RPM\n",
       "                  ...          \n",
       "100035                      NaN\n",
       "100036    266 lb-ft @ 2,800 RPM\n",
       "100037    270 lb-ft @ 1,750 RPM\n",
       "100038    318 lb-ft @ 1,750 RPM\n",
       "100039    175 lb-ft @ 4,400 RPM\n",
       "Name: torque, Length: 99251, dtype: object"
      ]
     },
     "execution_count": 219,
     "metadata": {},
     "output_type": "execute_result"
    }
   ],
   "source": [
    "df[\"torque\"]"
   ]
  },
  {
   "cell_type": "markdown",
   "metadata": {},
   "source": [
    "**Erkenntnis:** Werte nichtssagend."
   ]
  },
  {
   "cell_type": "markdown",
   "metadata": {},
   "source": [
    "#### Analyse transmission_display"
   ]
  },
  {
   "cell_type": "code",
   "execution_count": 98,
   "metadata": {
    "colab": {
     "base_uri": "https://localhost:8080/"
    },
    "id": "ANZ9R-LmVLIh",
    "outputId": "a7c5d551-03ab-4417-b832-07da6e97e2ef",
    "tags": []
   },
   "outputs": [
    {
     "data": {
      "text/plain": [
       "array(['8-Speed Automatic Overdrive', '9-Speed Automatic',\n",
       "       '9-Speed Automatic Overdrive', '8-Speed Automatic',\n",
       "       '6-Speed Automatic Overdrive', '6-Speed Automatic', 'Automatic',\n",
       "       'Continuously Variable Transmission', '6-Speed Manual',\n",
       "       '7-Speed Automatic', '4-Speed Automatic', nan, '5-Speed Automatic',\n",
       "       'Manual', '4-Speed Automatic Overdrive',\n",
       "       '5-Speed Automatic Overdrive', '5-Speed Manual Overdrive',\n",
       "       '1-Speed Automatic', '7-Speed CVT', '5-Speed Manual',\n",
       "       '6-Speed Dual Clutch', '7-Speed Dual Clutch',\n",
       "       '8-Speed Dual Clutch', '7-Speed Automatic Overdrive',\n",
       "       '1-Speed CVT', '6-Speed CVT', '3-Speed Automatic',\n",
       "       '7-Speed Manual', '6-Speed Manual Overdrive', '4-Speed Manual',\n",
       "       '3-Speed Manual', '4-Speed CVT', '10-Speed Automatic',\n",
       "       '8-Speed CVT', '2-Speed Automatic', '8-Speed Manual',\n",
       "       '1-Speed Dual Clutch', '9-Speed Dual Clutch'], dtype=object)"
      ]
     },
     "execution_count": 98,
     "metadata": {},
     "output_type": "execute_result"
    }
   ],
   "source": [
    "df[\"transmission_display\"].unique()"
   ]
  },
  {
   "cell_type": "markdown",
   "metadata": {},
   "source": [
    "**Erkenntnis:** Die verschiedenen Getriebearten müssten zusammengefasst werden zu Manual und Automatik -> neue Variable erstellen mit 0 und 1 (manuell: nein - ja)"
   ]
  },
  {
   "cell_type": "markdown",
   "metadata": {},
   "source": [
    "#### Analyse trim_name"
   ]
  },
  {
   "cell_type": "code",
   "execution_count": 102,
   "metadata": {
    "colab": {
     "base_uri": "https://localhost:8080/"
    },
    "id": "l4KBsLuDHwaJ",
    "outputId": "b6fda20e-c23c-4276-f7b0-7f5d56d01177",
    "tags": []
   },
   "outputs": [
    {
     "data": {
      "text/plain": [
       "0         P340 R-Dynamic S AWD\n",
       "1            Limited Sedan FWD\n",
       "2                Trailhawk 4WD\n",
       "3                       GT AWD\n",
       "4                       LT FWD\n",
       "                  ...         \n",
       "100035             1.5T LT FWD\n",
       "100036                  LS FWD\n",
       "100037                      SE\n",
       "100038         20d Premium AWD\n",
       "100039           2017.5 SV FWD\n",
       "Name: trim_name, Length: 100040, dtype: object"
      ]
     },
     "execution_count": 102,
     "metadata": {},
     "output_type": "execute_result"
    }
   ],
   "source": [
    "df[\"trim_name\"]"
   ]
  },
  {
   "cell_type": "code",
   "execution_count": 104,
   "metadata": {
    "colab": {
     "base_uri": "https://localhost:8080/"
    },
    "id": "pNTr0ygsHymQ",
    "outputId": "01ebe243-6f7f-48d2-ba93-c1c232c58087",
    "tags": []
   },
   "outputs": [
    {
     "data": {
      "text/plain": [
       "trim_name\n",
       "SE FWD                          2988\n",
       "S FWD                           1625\n",
       "XLT SuperCrew 4WD               1389\n",
       "LX FWD                          1283\n",
       "LT FWD                          1260\n",
       "                                ... \n",
       "E 400 4MATIC Sedan AWD             1\n",
       "Platinum Crew Cab LB DRW RWD       1\n",
       "S Special Edition                  1\n",
       "Type 10 Convertible FWD            1\n",
       "Tradesman Crew Cab                 1\n",
       "Name: count, Length: 4147, dtype: int64"
      ]
     },
     "execution_count": 104,
     "metadata": {},
     "output_type": "execute_result"
    }
   ],
   "source": [
    "df[\"trim_name\"].value_counts()"
   ]
  },
  {
   "cell_type": "markdown",
   "metadata": {},
   "source": [
    "**Erkenntnis:** Variable nicht brauchbar."
   ]
  },
  {
   "cell_type": "markdown",
   "metadata": {},
   "source": [
    "#### Analyse wheelbase"
   ]
  },
  {
   "cell_type": "code",
   "execution_count": 108,
   "metadata": {
    "colab": {
     "base_uri": "https://localhost:8080/"
    },
    "id": "Bwow7buCIrUC",
    "outputId": "240e1e77-b4e9-4df0-84d5-5d83956e715e",
    "tags": []
   },
   "outputs": [
    {
     "data": {
      "text/plain": [
       "0         113.1 in\n",
       "1           108 in\n",
       "2         101.2 in\n",
       "3         119.8 in\n",
       "4         112.5 in\n",
       "            ...   \n",
       "100035    107.3 in\n",
       "100036    120.9 in\n",
       "100037    112.2 in\n",
       "100038    111.6 in\n",
       "100039    106.5 in\n",
       "Name: wheelbase, Length: 100040, dtype: object"
      ]
     },
     "execution_count": 108,
     "metadata": {},
     "output_type": "execute_result"
    }
   ],
   "source": [
    "df[\"wheelbase\"]"
   ]
  },
  {
   "cell_type": "markdown",
   "metadata": {},
   "source": [
    "**Erkenntnis:** Falls für Analyse verwendet, müssten Masseinheiten entfernt werden."
   ]
  }
 ],
 "metadata": {
  "colab": {
   "collapsed_sections": [
    "tS93cGjM7vvh"
   ],
   "provenance": []
  },
  "kernelspec": {
   "display_name": "Python 3 (ipykernel)",
   "language": "python",
   "name": "python3"
  },
  "language_info": {
   "codemirror_mode": {
    "name": "ipython",
    "version": 3
   },
   "file_extension": ".py",
   "mimetype": "text/x-python",
   "name": "python",
   "nbconvert_exporter": "python",
   "pygments_lexer": "ipython3",
   "version": "3.11.7"
  }
 },
 "nbformat": 4,
 "nbformat_minor": 4
}
